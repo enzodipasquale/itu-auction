{
 "cells": [
  {
   "cell_type": "code",
   "execution_count": 139,
   "metadata": {},
   "outputs": [],
   "source": [
    "import gurobipy as grb\n",
    "from gurobipy import GRB\n",
    "import scipy.sparse as spr\n",
    "import numpy as np\n",
    "import random\n",
    "import matplotlib.pyplot as plt\n",
    "#from sympy import symbols, Rational\n",
    "from IPython.display import display, Math, Markdown\n",
    "import numpy.ma as ma\n",
    "import scipy as sp\n",
    "from scipy import optimize"
   ]
  },
  {
   "cell_type": "code",
   "execution_count": 140,
   "metadata": {},
   "outputs": [],
   "source": [
    "class OneToOneITU():\n",
    "    def __init__(self, n_i, m_j, parameters = (None,None) , Temp = 1,  lbs=(0, 0)):\n",
    "        self.n_i = n_i\n",
    "        self.m_j = m_j\n",
    "        self.lb_U, self.lb_V = lbs\n",
    "        self.T = Temp\n",
    "        self.α_ij , self.B_ij = parameters\n",
    "\n",
    "    def D_ij(self, u_i, v_j,i =None, j=None):\n",
    "        if j == None:\n",
    "            return self.α_ij[i,:]  * u_i + (1-self.α_ij[i,:] ) * v_j- self.B_ij[i,:]\n",
    "        if i == None:\n",
    "            return self.α_ij[:,j]  * u_i + (1-self.α_ij[:,j] ) * v_j- self.B_ij[:,j]\n",
    "    \n",
    "\n",
    "    \n",
    "    def M_i(self,u_i,v_j,i):\n",
    "        return np.exp(-u_i/self.T) + np.exp(-self.D_ij(u_i, v_j, i = i)/self.T).sum()\n",
    "\n",
    "    def M_j(self,u_i,v_j,j):\n",
    "        return np.exp(-v_j/self.T) + np.exp(-self.D_ij(u_i, v_j, j = j)/self.T).sum()\n",
    "\n",
    "\n"
   ]
  },
  {
   "cell_type": "code",
   "execution_count": 159,
   "metadata": {},
   "outputs": [],
   "source": [
    "def generilized_IPFP(self,  tol,initial_price= 30, braket = 100):\n",
    "    v_j = np.ones(self.m_j)* 10\n",
    "    u_i = np.zeros(self.n_i)\n",
    "    tol = 1e-9\n",
    "\n",
    "    epsilon = np.inf\n",
    "\n",
    "    while epsilon > tol:\n",
    "        # print(tol)\n",
    "        v_j_t= np.zeros(self.m_j)\n",
    "        u_i_t= np.zeros(self.n_i)\n",
    "        for i in range(self.n_i):\n",
    "            u_i_t[i]  += optimize.root_scalar(lambda u:  self.M_i(u ,v_j,i) - 1, bracket=[0, 100], method='brentq').root\n",
    "\n",
    "        for j in range(self.m_j):\n",
    "            v_j_t[j]  += optimize.root_scalar(lambda v:  self.M_j(u_i ,v,j) - 1, bracket=[0, 100], method='brentq').root\n",
    "    \n",
    "        epsilon = np.maximum(np.max(np.abs(u_i - u_i_t)) ,np.max(np.abs(v_j - v_j_t)))\n",
    "        u_i = u_i_t\n",
    "        v_j = v_j_t\n",
    "\n",
    "    mu_ij = np.zeros((self.n_i+1,self.m_j+1))\n",
    "\n",
    "    for i in range(self.n_i):\n",
    "        mu_ij[i,:-1] = np.exp( - self.D_ij(u_i[i],v_j,i=i) / self.T)\n",
    "\n",
    "    mu_ij[:-1,-1] = np.exp( - u_i / self.T)\n",
    "    mu_ij[-1,:-1] = np.exp( - v_j / self.T)\n",
    "\n",
    "    return mu_ij, u_i, v_j\n",
    "\n",
    "OneToOneITU.generilized_IPFP = generilized_IPFP\n"
   ]
  },
  {
   "cell_type": "markdown",
   "metadata": {},
   "source": [
    "## Example 1"
   ]
  },
  {
   "cell_type": "code",
   "execution_count": 202,
   "metadata": {},
   "outputs": [],
   "source": [
    "n = 2\n",
    "m = 2\n",
    "A = np.array([[.6,.5],[.5,.6]])\n",
    "B = A.copy() #np.ones((n,m)\n",
    "example_mkt = OneToOneITU(n,m,(A,B), Temp= .1)"
   ]
  },
  {
   "cell_type": "code",
   "execution_count": 203,
   "metadata": {},
   "outputs": [],
   "source": [
    "mu_ij, u_i, v_j = example_mkt.generilized_IPFP(.5)"
   ]
  },
  {
   "cell_type": "code",
   "execution_count": 204,
   "metadata": {},
   "outputs": [
    {
     "data": {
      "text/plain": [
       "-6.106226635438361e-15"
      ]
     },
     "execution_count": 204,
     "metadata": {},
     "output_type": "execute_result"
    }
   ],
   "source": [
    "example_mkt.M_i(u_i[1] ,v_j,1) - 1"
   ]
  },
  {
   "cell_type": "code",
   "execution_count": 205,
   "metadata": {},
   "outputs": [
    {
     "data": {
      "text/plain": [
       "-5.697557203809822e-09"
      ]
     },
     "execution_count": 205,
     "metadata": {},
     "output_type": "execute_result"
    }
   ],
   "source": [
    "example_mkt.M_j(u_i ,v_j[1],1) - 1"
   ]
  },
  {
   "cell_type": "code",
   "execution_count": 206,
   "metadata": {},
   "outputs": [
    {
     "name": "stdout",
     "output_type": "stream",
     "text": [
      "0.6315072160665252\n",
      "-4.440892098500626e-16\n",
      "-4.440892098500626e-16\n"
     ]
    }
   ],
   "source": [
    "\n",
    "x = example_mkt.T * (np.log(np.exp((example_mkt.B_ij[0,0]-example_mkt.B_ij[0,0])/ example_mkt.T ) + np.exp((example_mkt.B_ij[0,1]-example_mkt.B_ij[0,0])/ example_mkt.T ) + np.exp(-example_mkt.B_ij[0,0]/ example_mkt.T)))+ example_mkt.B_ij[0,0]\n",
    "print(x)\n",
    "print(example_mkt.M_i(x ,np.array([x,x]),1) - 1)\n",
    "print(example_mkt.M_j(np.array([x,x]),x, 1) - 1)"
   ]
  },
  {
   "cell_type": "code",
   "execution_count": 207,
   "metadata": {},
   "outputs": [
    {
     "name": "stdout",
     "output_type": "stream",
     "text": [
      "[0.63150708 0.63150708]\n",
      "[0.6315074 0.6315074]\n",
      "[[0.72973627 0.26845489 0.00180884]\n",
      " [0.26845489 0.72973627 0.00180884]\n",
      " [0.00180883 0.00180883 0.        ]]\n"
     ]
    }
   ],
   "source": [
    "print(u_i)\n",
    "print(v_j)\n",
    "print(mu_ij)"
   ]
  },
  {
   "cell_type": "code",
   "execution_count": 116,
   "metadata": {},
   "outputs": [
    {
     "data": {
      "text/plain": [
       "array([0.99999999, 0.99999999, 0.00361768])"
      ]
     },
     "execution_count": 116,
     "metadata": {},
     "output_type": "execute_result"
    }
   ],
   "source": [
    "mu_ij.sum(0)"
   ]
  },
  {
   "cell_type": "markdown",
   "metadata": {},
   "source": [
    "### Nevertheless"
   ]
  },
  {
   "cell_type": "code",
   "execution_count": 11,
   "metadata": {},
   "outputs": [],
   "source": [
    "v_j_eq = np.zeros(2)\n",
    "u_i_eq = np.ones(2) \n"
   ]
  },
  {
   "cell_type": "code",
   "execution_count": 12,
   "metadata": {},
   "outputs": [
    {
     "name": "stdout",
     "output_type": "stream",
     "text": [
      "[0. 0.]\n",
      "[0. 0.]\n"
     ]
    }
   ],
   "source": [
    "print(example_mkt.D_ij(u_i_eq[0],v_j_eq,0))\n",
    "print(example_mkt.D_ij(u_i_eq[1],v_j_eq,1))\n"
   ]
  },
  {
   "cell_type": "markdown",
   "metadata": {},
   "source": [
    "## Example 2"
   ]
  },
  {
   "cell_type": "markdown",
   "metadata": {},
   "source": [
    "The solution here does not depend on sigma"
   ]
  },
  {
   "cell_type": "code",
   "execution_count": 135,
   "metadata": {},
   "outputs": [],
   "source": [
    "n = 2\n",
    "m = 1\n",
    "A = np.array([[.6],\n",
    "              [.5]])\n",
    "B = np.zeros_like(A) #A.copy() #np.ones((n,m)\n",
    "example_mkt_2 = OneToOneITU(n,m,(A,B), Temp= .04)"
   ]
  },
  {
   "cell_type": "code",
   "execution_count": 136,
   "metadata": {},
   "outputs": [],
   "source": [
    "mu_ij, u_i, v_j = example_mkt_2.generilized_IPFP(1e-12)"
   ]
  },
  {
   "cell_type": "code",
   "execution_count": 137,
   "metadata": {},
   "outputs": [
    {
     "name": "stdout",
     "output_type": "stream",
     "text": [
      "[0.02062466 0.01872839]\n",
      "[0.05997771]\n",
      "[[0.40286769 0.59713231]\n",
      " [0.3738778  0.62612221]\n",
      " [0.22325451 0.        ]]\n"
     ]
    }
   ],
   "source": [
    "print(u_i)\n",
    "print(v_j)\n",
    "print(mu_ij)"
   ]
  },
  {
   "cell_type": "code",
   "execution_count": 138,
   "metadata": {},
   "outputs": [
    {
     "data": {
      "text/plain": [
       "array([1.        , 1.22325452])"
      ]
     },
     "execution_count": 138,
     "metadata": {},
     "output_type": "execute_result"
    }
   ],
   "source": [
    "mu_ij.sum(0)"
   ]
  },
  {
   "cell_type": "code",
   "execution_count": 29,
   "metadata": {},
   "outputs": [
    {
     "data": {
      "text/plain": [
       "array([11.23532094, 11.23532094])"
      ]
     },
     "execution_count": 29,
     "metadata": {},
     "output_type": "execute_result"
    }
   ],
   "source": [
    "example_mkt.D_ij( u_i[0], v_j,i = 0 )"
   ]
  },
  {
   "cell_type": "code",
   "execution_count": 30,
   "metadata": {},
   "outputs": [
    {
     "data": {
      "text/plain": [
       "10"
      ]
     },
     "execution_count": 30,
     "metadata": {},
     "output_type": "execute_result"
    }
   ],
   "source": [
    "example_mkt_2.T"
   ]
  },
  {
   "cell_type": "code",
   "execution_count": 31,
   "metadata": {},
   "outputs": [],
   "source": [
    "mu_ij = np.zeros((example_mkt_2.n_i+1,example_mkt_2.m_j+1))\n",
    "\n",
    "for i in range(example_mkt_2.n_i):\n",
    "    mu_ij[i,:-1] = np.exp( - example_mkt_2.D_ij(u_i[i],v_j,i=i) / example_mkt_2.T)\n",
    "\n",
    "mu_ij[:-1,-1] = np.exp( - u_i / example_mkt_2.T)\n",
    "mu_ij[-1,:-1] = np.exp( - v_j / example_mkt_2.T)"
   ]
  },
  {
   "cell_type": "markdown",
   "metadata": {},
   "source": [
    "## Example 3"
   ]
  },
  {
   "cell_type": "code",
   "execution_count": 597,
   "metadata": {},
   "outputs": [],
   "source": [
    "alpha = 4\n",
    "n = 3\n",
    "m = 3\n",
    "# A = np.ones((3,3))\n",
    "A = np.array([[1,alpha,alpha],\n",
    "              [alpha,alpha,1],\n",
    "              [alpha,1,alpha]]) \n",
    "\n",
    "B = np.array([[1,1,0],\n",
    "              [1,1,1],\n",
    "              [0,1,2]])\n",
    "\n",
    "example_mkt = OneToOneITU(n,m,(1/(1+A),B/(1+A)), Temp= .05)"
   ]
  },
  {
   "cell_type": "code",
   "execution_count": 598,
   "metadata": {},
   "outputs": [],
   "source": [
    "mu_ij, u_i, v_j = example_mkt.generilized_IPFP(1e-13)"
   ]
  },
  {
   "cell_type": "code",
   "execution_count": 599,
   "metadata": {},
   "outputs": [
    {
     "data": {
      "text/plain": [
       "-1.1102230246251565e-16"
      ]
     },
     "execution_count": 599,
     "metadata": {},
     "output_type": "execute_result"
    }
   ],
   "source": [
    "example_mkt.M_j(u_i ,v_j[1],1) - 1"
   ]
  },
  {
   "cell_type": "code",
   "execution_count": 600,
   "metadata": {},
   "outputs": [
    {
     "data": {
      "text/plain": [
       "9.828219349472533e-09"
      ]
     },
     "execution_count": 600,
     "metadata": {},
     "output_type": "execute_result"
    }
   ],
   "source": [
    "example_mkt.M_i(u_i[1] ,v_j,1) - 1"
   ]
  },
  {
   "cell_type": "code",
   "execution_count": 601,
   "metadata": {},
   "outputs": [
    {
     "data": {
      "text/plain": [
       "array([0.5438654 , 0.40431213, 0.58133103])"
      ]
     },
     "execution_count": 601,
     "metadata": {},
     "output_type": "execute_result"
    }
   ],
   "source": [
    "u_i"
   ]
  },
  {
   "cell_type": "code",
   "execution_count": 602,
   "metadata": {},
   "outputs": [
    {
     "data": {
      "text/plain": [
       "array([0.45687925, 0.42074348, 0.59775626])"
      ]
     },
     "execution_count": 602,
     "metadata": {},
     "output_type": "execute_result"
    }
   ],
   "source": [
    "v_j"
   ]
  },
  {
   "cell_type": "code",
   "execution_count": 603,
   "metadata": {},
   "outputs": [
    {
     "data": {
      "text/plain": [
       "array([[0.99, 0.01, 0.  , 0.  ],\n",
       "       [0.01, 0.01, 0.98, 0.  ],\n",
       "       [0.  , 0.98, 0.02, 0.  ],\n",
       "       [0.  , 0.  , 0.  , 0.  ]])"
      ]
     },
     "execution_count": 603,
     "metadata": {},
     "output_type": "execute_result"
    }
   ],
   "source": [
    "mu_ij.round(2)"
   ]
  },
  {
   "cell_type": "code",
   "execution_count": 604,
   "metadata": {},
   "outputs": [
    {
     "data": {
      "text/plain": [
       "array([1.0000000e+00, 1.0000000e+00, 1.0000000e+00, 3.3555107e-04])"
      ]
     },
     "execution_count": 604,
     "metadata": {},
     "output_type": "execute_result"
    }
   ],
   "source": [
    "mu_ij.sum(0)"
   ]
  },
  {
   "cell_type": "code",
   "execution_count": 605,
   "metadata": {},
   "outputs": [
    {
     "data": {
      "text/plain": [
       "array([0.48176961, 0.00103726, 0.19447122])"
      ]
     },
     "execution_count": 605,
     "metadata": {},
     "output_type": "execute_result"
    }
   ],
   "source": [
    "example_mkt.D_ij(u_i[2],v_j,2)"
   ]
  },
  {
   "cell_type": "code",
   "execution_count": 606,
   "metadata": {},
   "outputs": [
    {
     "data": {
      "text/plain": [
       "array([0.5, 0. , 0.1])"
      ]
     },
     "execution_count": 606,
     "metadata": {},
     "output_type": "execute_result"
    }
   ],
   "source": [
    "example_mkt.D_ij(.5,np.ones(3)*.5,i = 2)"
   ]
  },
  {
   "cell_type": "code",
   "execution_count": 607,
   "metadata": {},
   "outputs": [
    {
     "data": {
      "text/plain": [
       "array([[0.5, 0.2, 0. ],\n",
       "       [0.2, 0.2, 0.5],\n",
       "       [0. , 0.5, 0.4]])"
      ]
     },
     "execution_count": 607,
     "metadata": {},
     "output_type": "execute_result"
    }
   ],
   "source": [
    "example_mkt.B_ij"
   ]
  },
  {
   "cell_type": "code",
   "execution_count": 608,
   "metadata": {},
   "outputs": [
    {
     "data": {
      "text/plain": [
       "array([[2.40884804e+00, 2.07451075e-03, 9.72356085e-01]])"
      ]
     },
     "execution_count": 608,
     "metadata": {},
     "output_type": "execute_result"
    }
   ],
   "source": [
    "A[2,:]* v_j [None,:] + u_i[2] - B[2,:] "
   ]
  },
  {
   "cell_type": "code",
   "execution_count": 609,
   "metadata": {},
   "outputs": [
    {
     "data": {
      "text/plain": [
       "array([4, 1, 4])"
      ]
     },
     "execution_count": 609,
     "metadata": {},
     "output_type": "execute_result"
    }
   ],
   "source": [
    "A[2,:]"
   ]
  },
  {
   "cell_type": "code",
   "execution_count": 610,
   "metadata": {},
   "outputs": [
    {
     "data": {
      "text/plain": [
       "array([0.45687925, 0.42074348, 0.59775626])"
      ]
     },
     "execution_count": 610,
     "metadata": {},
     "output_type": "execute_result"
    }
   ],
   "source": [
    "v_j"
   ]
  },
  {
   "cell_type": "code",
   "execution_count": 611,
   "metadata": {},
   "outputs": [
    {
     "data": {
      "text/plain": [
       "array([[-1.82751702,  0.57925652, -0.39102506]])"
      ]
     },
     "execution_count": 611,
     "metadata": {},
     "output_type": "execute_result"
    }
   ],
   "source": [
    "B[2,:] - A[2,:]* v_j [None,:] "
   ]
  },
  {
   "cell_type": "code",
   "execution_count": null,
   "metadata": {},
   "outputs": [],
   "source": []
  },
  {
   "cell_type": "code",
   "execution_count": null,
   "metadata": {},
   "outputs": [],
   "source": []
  }
 ],
 "metadata": {
  "kernelspec": {
   "display_name": "Python 3",
   "language": "python",
   "name": "python3"
  },
  "language_info": {
   "codemirror_mode": {
    "name": "ipython",
    "version": 3
   },
   "file_extension": ".py",
   "mimetype": "text/x-python",
   "name": "python",
   "nbconvert_exporter": "python",
   "pygments_lexer": "ipython3",
   "version": "3.12.0"
  }
 },
 "nbformat": 4,
 "nbformat_minor": 2
}
