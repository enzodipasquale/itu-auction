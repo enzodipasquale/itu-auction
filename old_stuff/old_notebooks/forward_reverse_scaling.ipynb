{
 "cells": [
  {
   "cell_type": "code",
   "execution_count": 115,
   "metadata": {},
   "outputs": [],
   "source": [
    "import gurobipy as grb\n",
    "from gurobipy import GRB\n",
    "import scipy.sparse as spr\n",
    "import numpy as np\n",
    "import random\n",
    "import matplotlib.pyplot as plt\n",
    "#from sympy import symbols, Rational\n",
    "from IPython.display import display, Math, Markdown\n",
    "import numpy.ma as ma\n",
    "import scipy as sp"
   ]
  },
  {
   "cell_type": "code",
   "execution_count": 116,
   "metadata": {},
   "outputs": [],
   "source": [
    "class OneToOneITU():\n",
    "    def __init__(self, n, m, parameters = (None,None) , lbs=(0, 0)):\n",
    "        self.n = n\n",
    "        self.m = m\n",
    "        self.lb_U, self.lb_V = lbs\n",
    "     \n",
    "       \n",
    "        self.A_ij = parameters[0]\n",
    "        self.B_ij = parameters[1]\n",
    "        \n",
    "        self.max_A_j = np.max(parameters[0],0)\n",
    "\n",
    "    def D_ij(self, U_i, V_j):\n",
    "        return (U_i[:, None] + self.A_ij * V_j[None, :] - self.B_ij)/(1+ self.A_ij)\n",
    "\n",
    "    def get_U_ij(self, V_j, i_idx ,j_idx = None):\n",
    "        if j_idx is None:\n",
    "            return self.B_ij[i_idx] - self.A_ij[i_idx] * V_j[None, :]\n",
    "        else:\n",
    "            return self.B_ij[i_idx,j_idx] - self.A_ij[i_idx,j_idx] * V_j[None, :]\n",
    "\n",
    "    def get_V_ij(self, U_i, j_idx ,i_idx = None):\n",
    "        if i_idx is None:\n",
    "            return (self.B_ij[:,j_idx] -  U_i[:,None])/ self.A_ij[:,j_idx]\n",
    "        else:\n",
    "            return (self.B_ij[i_idx,j_idx] -  U_i[:,None])/ self.A_ij[i_idx,j_idx]"
   ]
  },
  {
   "cell_type": "code",
   "execution_count": 117,
   "metadata": {},
   "outputs": [],
   "source": [
    "def generate_example(self, var_i, var_j, random_seed):\n",
    "    np.random.seed(random_seed)\n",
    "    k = 2\n",
    "\n",
    "    θ_true = np.array([-0.1,0.1, 1,2])\n",
    "\n",
    "    X_i = np.random.normal([5,var_i],[5,var_i], size = [self.n, k]).round(0)\n",
    "    Y_j = np.random.normal([5,var_j],[5,var_j], size = [self.m, k]).round(0)\n",
    "    #X_ijk = np.random.choice(10, size = (self.n_i,m_j, k))\n",
    "\n",
    "    A = np.exp( np.abs((X_i[:,None,:]- Y_j[None,:,:]))@  θ_true[:k]).round(1)+.001\n",
    "    B = np.abs((X_i[:,None,:]*Y_j[None,:,:])) @ θ_true[k:2*k] \n",
    "    print(len(np.unique(X_i)))\n",
    "    self.A_ij = A\n",
    "    self.B_ij = B\n",
    "    self.max_A_j = np.max(A, axis= 0)\n",
    "\n",
    "OneToOneITU.generate_example = generate_example"
   ]
  },
  {
   "cell_type": "code",
   "execution_count": 118,
   "metadata": {},
   "outputs": [],
   "source": [
    "# def transpose_mkt(self):\n",
    "#     n, m = self.n, self.m\n",
    "#     self.m = n\n",
    "#     self.n = m\n",
    "\n",
    "#     self.A_ij = 1 / self.A_ij.T\n",
    "#     self.B_ij = self.B_ij.T/ self.A_ij\n",
    "\n",
    "# OneToOneITU.transpose_mkt = transpose_mkt"
   ]
  },
  {
   "cell_type": "code",
   "execution_count": 119,
   "metadata": {},
   "outputs": [],
   "source": [
    "def check_primal_feas(self, mu_ij):\n",
    "    print(f\"i: { np.all(np.sum(mu_ij,axis=1) <= 1)}, j:  {np.all(np.sum(mu_ij,axis=0) <= 1) }\")\n",
    "    print(f\"#matched: {int(np.sum(mu_ij))} over {np.minimum(self.n,self.m)}\")\n",
    "\n",
    "OneToOneITU.check_primal_feas = check_primal_feas\n",
    "\n",
    "def check_IR(self,mu_ij,U_i,V_j, output = False):\n",
    "    IR_i = np.sum((U_i - self.lb_U)* (1- np.sum(mu_ij,axis=1)))\n",
    "    IR_j = np.sum((V_j - self.lb_V) * (1 - np.sum(mu_ij,axis=0))) \n",
    "    print(f\"i: { IR_i}, j:  {IR_j }\")\n",
    "    if output is True:\n",
    "        IR_i = (U_i - self.lb_U)* (np.sum(mu_ij,axis=1) - 1) >= 0 \n",
    "        IR_j = (V_j - self.lb_V) * (np.sum(mu_ij,axis=0) - 1) >= 0\n",
    "        return IR_i, IR_j\n",
    "    \n",
    "OneToOneITU.check_IR = check_IR\n",
    "\n",
    "def check_CS(self,U_i,V_j, output = None):\n",
    "    CS = np.minimum(self.D_ij(U_i,V_j),0)\n",
    "    if output:\n",
    "        return CS, np.where(CS < 0 )\n",
    "    print(f\"min_ij D_ij : {(self.D_ij(U_i,V_j)).min()} \")\n",
    "    \n",
    "OneToOneITU.check_CS = check_CS \n",
    "\n",
    "def check_all(self,eq):\n",
    "    mu_ij, U_i, V_j = eq \n",
    "    print(\"FEAS\")\n",
    "    self.check_primal_feas(mu_ij)\n",
    "    print(\"________________\")\n",
    "    print(\"ε-CS\")\n",
    "    self.check_CS(U_i, V_j )\n",
    "    print(\"________________\")\n",
    "    print(\"IR\")\n",
    "    self.check_IR(mu_ij, U_i, V_j )\n",
    "\n",
    "OneToOneITU.check_all = check_all\n",
    "\n",
    "def check_CS_i_or_j(self,u_i, v_j, side = 0):\n",
    "    if side == 0:\n",
    "        return u_i[:,None] - self.get_U_ij(v_j, np.arange(self.n))\n",
    "    else:\n",
    "        return v_j[None,:] - self.get_V_ij(u_i, np.arange(self.m))\n",
    "    \n",
    "OneToOneITU.check_CS_i_or_j = check_CS_i_or_j"
   ]
  },
  {
   "cell_type": "markdown",
   "metadata": {},
   "source": [
    "# Auction algorithms"
   ]
  },
  {
   "cell_type": "markdown",
   "metadata": {},
   "source": [
    "### Forward Auction"
   ]
  },
  {
   "cell_type": "code",
   "execution_count": 120,
   "metadata": {
    "slideshow": {
     "slide_type": "notes"
    }
   },
   "outputs": [],
   "source": [
    "def forward_auction(self, data = None, tol_ε = None):\n",
    "    if data is None:\n",
    "        V_j = np.ones(self.m) * self.lb_V\n",
    "        mu_i = np.ones( self.n, dtype= int) * (self.m +1)\n",
    "    else:\n",
    "        mu_ij_01 = data[0]\n",
    "        V_j = data[1]\n",
    "        id_i, id_j = np.where(mu_ij_01 > 0)\n",
    "        mu_i = np.ones(self.n, dtype= int) * (self.m+1)\n",
    "        mu_i[id_i] = id_j\n",
    "\n",
    "    unassigned_i = np.where(mu_i == self.m + 1)[0] \n",
    "    n_unassigned_i = len(unassigned_i)\n",
    "    iter = 0\n",
    "\n",
    "    while n_unassigned_i > 0:\n",
    "        iter += 1\n",
    "        U_ij = self.get_U_ij( V_j, unassigned_i)\n",
    "        perm_unmatched = np.all(U_ij <= self.lb_U+tol_ε, axis = 1)#np.all(U_ij <= self.lb_U, axis = 1)\n",
    "        \n",
    "        if np.any(perm_unmatched):\n",
    "            mu_i[unassigned_i] += (self.m - mu_i[unassigned_i]) * perm_unmatched\n",
    "        else:\n",
    "            ### bidding phase\n",
    "            U_ij = np.concatenate((U_ij, self.lb_U * np.ones((n_unassigned_i,1))), axis = 1)\n",
    "            j_i = np.argmax(U_ij, axis= 1)\n",
    "            masked_U_ij = np.where(j_i[:,None] == np.arange(self.m+1)[None, :], -np.inf,U_ij)\n",
    "            w_i = np.max(masked_U_ij, axis=1)\n",
    "            j_i_unique = np.unique(j_i)\n",
    "            offers = np.where(j_i[:,None] == j_i_unique[None,:], \n",
    "                              self.get_V_ij(w_i- tol_ε,j_i_unique[None,:],unassigned_i[:,None]), \n",
    "                              np.nan)\n",
    "       \n",
    "            ### assignment phase\n",
    "            i_j_among_unass = np.nanargmax(offers, axis = 0)\n",
    "            i_j = unassigned_i[ i_j_among_unass]\n",
    "            best_offer_j = offers[i_j_among_unass, np.arange(len(j_i_unique))]\n",
    "\n",
    "            # modify solution\n",
    "            mu_i[  np.any( mu_i[:,None] == j_i_unique , axis = 1) ] = self.m +1\n",
    "            mu_i[i_j] = j_i_unique\n",
    "            \n",
    "            V_j[j_i_unique] = best_offer_j #- V_j[j_i_unique] + tol_ε / self.A_ij[i_j,j_i_unique] #np.maximum(best_offer_j - V_j[j_i_unique], tol_ε/self.A_ij[i_j,j_i_unique])\n",
    "            # print(V_j)\n",
    "        unassigned_i = np.where(mu_i == self.m + 1)[0]\n",
    "        n_unassigned_i = len(unassigned_i)\n",
    "        \n",
    "    print(f\"for: {iter}\")\n",
    "    matched_i =  mu_i < self.m\n",
    "    U_i = np.ones(self.n) * self.lb_U\n",
    "    U_i[matched_i] = self.get_U_ij(V_j, matched_i)[np.arange(matched_i.sum()), mu_i[matched_i]]\n",
    "    mu_ij_01 = mu_i[:,None] == np.arange(self.m +1)\n",
    "\n",
    "    return mu_ij_01[:,:-1], U_i, V_j\n",
    "    \n",
    "\n",
    "OneToOneITU.forward_auction = forward_auction"
   ]
  },
  {
   "cell_type": "markdown",
   "metadata": {},
   "source": [
    "#### TU"
   ]
  },
  {
   "cell_type": "code",
   "execution_count": 121,
   "metadata": {},
   "outputs": [],
   "source": [
    "# n_TU = 25\n",
    "# m_TU = 26\n",
    "# A_TU = np.ones([n_TU,m_TU])\n",
    "# B_TU = np.random.normal(40,5,[n_TU,m_TU]).round(0)\n",
    "\n",
    "# example_TU = OneToOneITU( n_TU,m_TU, (A_TU,B_TU))\n",
    "# mu_TU, u_TU, v_TU = example_TU.reverse_auction(tol_ε= 0.001)"
   ]
  },
  {
   "cell_type": "code",
   "execution_count": 122,
   "metadata": {},
   "outputs": [],
   "source": [
    "# def solve_1to1(Φ_i_j):\n",
    "#     n, m = np.shape(Φ_i_j)\n",
    "#     M_z_a = spr.bmat([[spr.kron(spr.eye(n), np.ones((1, m)))],\n",
    "#                       [spr.kron(np.ones((1, n)), spr.eye(m))]])\n",
    "  \n",
    "#     q = np.concatenate((np.ones(n), np.ones(m)))\n",
    "\n",
    "#     model = grb.Model()\n",
    "#     mu_a = model.addMVar(n * m, vtype=grb.GRB.INTEGER)\n",
    "#     model.setObjective(Φ_i_j.flatten() @ mu_a, GRB.MAXIMIZE)\n",
    "#     model.addConstr(M_z_a @ mu_a <= q)\n",
    "    \n",
    "#     model.Params.OutputFlag = 0\n",
    "#     model.optimize()\n",
    "\n",
    "#     return np.array(model.x, dtype= bool).reshape([n,m])*1\n",
    "\n",
    "# mu_gurobi = solve_1to1(B_TU)\n",
    "# print((mu_gurobi * B_TU).sum())\n",
    "# print(u_TU.sum() +v_TU.sum())\n",
    "# example_TU.check_all( (mu_TU, u_TU, v_TU ))"
   ]
  },
  {
   "cell_type": "markdown",
   "metadata": {},
   "source": [
    "### Reverse Auction"
   ]
  },
  {
   "cell_type": "code",
   "execution_count": 123,
   "metadata": {},
   "outputs": [],
   "source": [
    "def reverse_auction(self, data = None, tol_ε = None):\n",
    "    if data is None:\n",
    "        U_i = np.ones(self.n) * self.lb_U\n",
    "        mu_j = np.ones(self.m, dtype= int) * (self.n +1)\n",
    "    else:\n",
    "        mu_j_01 = data[0]\n",
    "        U_i = data[1]\n",
    "        id_i, id_j = np.where(mu_j_01 >0)\n",
    "        mu_j = np.ones(self.m, dtype= int) * (self.n+1)\n",
    "        mu_j[id_j] = id_i\n",
    "\n",
    "    unassigned_j = np.where(mu_j == self.n + 1)[0] \n",
    "    n_unassigned_j = len(unassigned_j)\n",
    "    iter = 0\n",
    "\n",
    "    while n_unassigned_j > 0:\n",
    "        iter += 1\n",
    "        V_ij = self.get_V_ij( U_i , unassigned_j)\n",
    "        perm_unmatched = np.all(V_ij <= self.lb_V+ tol_ε, axis = 0) #np.all(V_ij <= self.lb_V, axis = 0)\n",
    "        \n",
    "        if np.any(perm_unmatched):\n",
    "            mu_j[unassigned_j] += (self.n - mu_j[unassigned_j]) * perm_unmatched\n",
    "        \n",
    "        else:\n",
    "            ### bidding phase\n",
    "            V_ij = np.concatenate((V_ij, self.lb_V * np.ones((1,n_unassigned_j))), axis = 0)\n",
    "            i_j = np.argmax(V_ij, axis= 0)\n",
    "            masked_V_ij = np.where( np.arange(self.n+1)[:, None] == i_j[None,:] , -np.inf,V_ij)\n",
    "            β_j = np.max(masked_V_ij, axis=0)\n",
    "            i_j_unique = np.unique(i_j)\n",
    "            offers = np.where(i_j_unique[:,None] == i_j[None,:], \n",
    "                              self.get_U_ij(β_j - tol_ε,i_j_unique[:,None] ,unassigned_j[None,:]), \n",
    "                              np.nan)\n",
    "\n",
    "            ### assignment phase\n",
    "            j_i_among_unass = np.nanargmax(offers, axis = 1)\n",
    "            j_i = unassigned_j[j_i_among_unass]\n",
    "            best_offer_i = offers[np.arange(len(i_j_unique)),j_i_among_unass]\n",
    "            # modify solution\n",
    "            mu_j[ np.any( mu_j[:,None] == i_j_unique , axis = 1) ] = self.n +1\n",
    "            mu_j[j_i] = i_j_unique\n",
    "            U_i[i_j_unique] = best_offer_i #- U_i[i_j_unique] + tol_ε * self.A_ij[i_j_unique,j_i]#np.maximum(best_offer_i - U_i[i_j_unique], tol_ε * self.A_ij[i_j_unique,j_i] )#/ self.max_A_j[j_i] )\n",
    "                                        \n",
    "        unassigned_j = np.where(mu_j == self.n + 1)[0]\n",
    "        n_unassigned_j = len(unassigned_j)\n",
    "        \n",
    "    print(f\"rev: {iter}\") \n",
    "    matched_j =  mu_j < self.n\n",
    "    V_j = np.ones(self.m) * self.lb_V\n",
    "    V_j[mu_j < self.n] = self.get_V_ij(U_i, matched_j )[mu_j[matched_j],np.arange(matched_j.sum()) ]\n",
    "    mu_j_01 = np.arange(self.n +1)[:,None] == mu_j[None,:]\n",
    "\n",
    "    return mu_j_01[:-1,:], U_i, V_j\n",
    "    \n",
    "\n",
    "OneToOneITU.reverse_auction = reverse_auction"
   ]
  },
  {
   "cell_type": "markdown",
   "metadata": {},
   "source": [
    "### Forward-backward auction"
   ]
  },
  {
   "cell_type": "code",
   "execution_count": 124,
   "metadata": {},
   "outputs": [],
   "source": [
    "def drop_for_scaling(self, mu_ij_01, U_i,V_j, tol_ε, side = 1):\n",
    "    if side == 1:\n",
    "        violations_j = np.any( V_j[None,:] + tol_ε <  self.get_V_ij(U_i  ,np.arange(self.m)), axis=  0)\n",
    "        #violations_j = np.any( V_j[None,:] <  self.get_V_ij(U_i + tol_ε ,np.arange(self.m)), axis=  0)\n",
    "        # print(violations_j.sum())\n",
    "        mu_ij_01[:,violations_j] = 0\n",
    "\n",
    "        print(f\"dropped: {violations_j.sum()}\")\n",
    "        # violations_i = np.any( U_i[:,None]+ tol_ε <  self.get_U_ij(V_j,np.arange(self.n)), axis=  1)\n",
    "        # print(violations_i.sum())\n",
    "        # mu_ij_01[violations_i,:] = 0\n",
    "\n",
    "      \n",
    "    else:\n",
    "        violations_i = np.any( U_i[:,None] + tol_ε <  self.get_U_ij(V_j  ,np.arange(self.n)), axis=  1)\n",
    "   \n",
    "        mu_ij_01[violations_i,:] = 0\n",
    "\n",
    "        print(f\"dropped: {violations_i.sum()}\")\n",
    "        # violations_i = np.any( U_i[:,None]+ tol_ε <  self.get_U_ij(V_j,np.arange(self.n)), axis=  1)\n",
    "        # print(violations_i.sum())\n",
    "        # mu_ij_01[violations_i,:] = 0\n",
    "\n",
    "    return mu_ij_01, U_i,V_j\n",
    "OneToOneITU.drop_for_scaling = drop_for_scaling"
   ]
  },
  {
   "cell_type": "code",
   "execution_count": null,
   "metadata": {},
   "outputs": [],
   "source": [
    "def forward_backward_scaling(self, tol_ε ,tol_ε_obj, scaling_factor):\n",
    "    mu_ij_01, u_i, v_j = self.forward_auction((np.zeros([self.n ,self.m]), np.ones(self.m) * self.lb_V),tol_ε = tol_ε)\n",
    "\n",
    "    print(\"_________\")\n",
    "    while tol_ε > tol_ε_obj:\n",
    "        # tol_ε *=  scaling_factor\n",
    "        # print(\"####\")\n",
    "        # print( tol_ε)\n",
    "        # mu_ij_01, u_i, v_j = self.drop_for_scaling(mu_ij_01, u_i, v_j , tol_ε)\n",
    "        mu_ij_01 = np.zeros([self.n ,self.m])\n",
    "        mu_ij_01, u_i, v_j = self.reverse_auction((mu_ij_01, u_i), tol_ε= tol_ε)\n",
    "        #self.check_IR(mu_ij_01, u_i,v_j)\n",
    "        tol_ε *=  scaling_factor\n",
    "        # mu_ij_01, u_i, v_j = self.drop_for_scaling(mu_ij_01, u_i, v_j , tol_ε, side = 0)\n",
    "        mu_ij_01 = np.zeros([self.n ,self.m])\n",
    "        mu_ij_01, u_i, v_j = self.forward_auction((mu_ij_01, v_j ), tol_ε = tol_ε)\n",
    "        #self.check_CS(u_i,v_j)\n",
    "        #self.check_IR(mu_ij_01, u_i,v_j)\n",
    "        print(\"_________\")   \n",
    "        # if np.all(self.check_CS(u_i,v_j,True)[0]>= - tol_ε_obj):\n",
    "        #     return mu_ij_01, u_i, v_j\n",
    "    #tol_ε *=  scaling_factor\n",
    "    # mu_ij_01, u_i, v_j = self.drop_for_scaling(mu_ij_01, u_i, v_j , tol_ε)\n",
    "    mu_ij_01 = np.zeros([self.n ,self.m])\n",
    "    mu_ij_01, u_i, v_j = self.reverse_auction((mu_ij_01, u_i), tol_ε= tol_ε)\n",
    "    mu_ij_01, u_i, v_j = self.forward_auction((mu_ij_01, v_j ), tol_ε = tol_ε)\n",
    "    return mu_ij_01, u_i, v_j\n",
    "OneToOneITU.forward_backward_scaling =forward_backward_scaling  "
   ]
  },
  {
   "cell_type": "code",
   "execution_count": 126,
   "metadata": {},
   "outputs": [],
   "source": [
    "tol_ε = 5"
   ]
  },
  {
   "cell_type": "code",
   "execution_count": 127,
   "metadata": {},
   "outputs": [],
   "source": [
    "# mu_ij_01, u_i, v_j = example_mkt_2.forward_auction((np.zeros([example_mkt_2.n ,example_mkt_2.m]), np.ones(example_mkt_2.m) * example_mkt_2.lb_V),tol_ε = tol_ε)\n",
    "# example_mkt_2.check_CS_i_or_j(u_i, v_j, side = 0).min()"
   ]
  },
  {
   "cell_type": "code",
   "execution_count": 128,
   "metadata": {},
   "outputs": [],
   "source": [
    "# mu_ij_01.sum()"
   ]
  },
  {
   "cell_type": "code",
   "execution_count": 129,
   "metadata": {},
   "outputs": [],
   "source": [
    "# mu_ij_01 = np.zeros([example_mkt_2.n ,example_mkt_2.m])\n",
    "# mu_ij_01, u_i, v_j = example_mkt_2.reverse_auction((mu_ij_01, u_i), tol_ε= .1)\n",
    "# example_mkt_2.check_CS_i_or_j(u_i, v_j, side = 0).min()"
   ]
  },
  {
   "cell_type": "code",
   "execution_count": 130,
   "metadata": {},
   "outputs": [],
   "source": [
    "# u_i[mu_ij_01.sum(1) == 0]"
   ]
  },
  {
   "cell_type": "code",
   "execution_count": null,
   "metadata": {},
   "outputs": [],
   "source": []
  },
  {
   "cell_type": "code",
   "execution_count": null,
   "metadata": {},
   "outputs": [],
   "source": []
  },
  {
   "cell_type": "markdown",
   "metadata": {},
   "source": [
    "# Examples"
   ]
  },
  {
   "cell_type": "code",
   "execution_count": 131,
   "metadata": {},
   "outputs": [],
   "source": [
    "# n_i =  500\n",
    "# m_j  = 530\n",
    "# example_mkt = OneToOneITU( n_i,m_j, lbs=(0,0))\n",
    "# example_mkt.generate_example(2,2, random_seed = 1309887)"
   ]
  },
  {
   "cell_type": "code",
   "execution_count": 132,
   "metadata": {},
   "outputs": [],
   "source": [
    "# example_mkt.A_ij = np.random.choice([.25,.5,1,2,4],size=[ n_i,m_j])"
   ]
  },
  {
   "cell_type": "code",
   "execution_count": 133,
   "metadata": {},
   "outputs": [],
   "source": [
    "# example_mkt.A_ij.min()"
   ]
  },
  {
   "cell_type": "code",
   "execution_count": 134,
   "metadata": {},
   "outputs": [],
   "source": [
    "# tol_ε_i = 10\n",
    "# mu_ij_01, u_i, v_j = example_mkt.forward_auction((np.zeros([example_mkt.n ,example_mkt.m]), np.ones(example_mkt.m) *0),tol_ε = tol_ε_i)"
   ]
  },
  {
   "cell_type": "code",
   "execution_count": 135,
   "metadata": {},
   "outputs": [],
   "source": [
    "# mu_ij_01_scaling, u_i_scaling, v_j_scaling = example_mkt.forward_backward_scaling(10,1e-12, 1/3)"
   ]
  },
  {
   "cell_type": "code",
   "execution_count": 136,
   "metadata": {},
   "outputs": [],
   "source": [
    "# example_mkt.check_all((mu_ij_01_scaling, u_i_scaling, v_j_scaling))"
   ]
  },
  {
   "cell_type": "code",
   "execution_count": 137,
   "metadata": {},
   "outputs": [],
   "source": [
    "# (u_i_scaling - example_mkt.lb_U ) [ np.where(mu_ij_01_scaling.sum(1)  == 0)]"
   ]
  },
  {
   "cell_type": "code",
   "execution_count": 138,
   "metadata": {},
   "outputs": [],
   "source": [
    "# u_i_scaling.sum()+ v_j_scaling.sum()"
   ]
  },
  {
   "cell_type": "code",
   "execution_count": 139,
   "metadata": {},
   "outputs": [],
   "source": [
    "n_i =  500\n",
    "m_j  = 600\n",
    "np.random.seed(123)\n",
    "A_ =  np.ones([n_i,m_j])#np.random.choice([.25,.5,1,2,4], size= [n_i,1] ) * np.random.choice([.25,.5,1,2,4], size= [1, m_j] ) #  #np.random.choice([.25,.5,1,2,4], size= [n_i,m_j])\n",
    "B_ = (np.random.randint(1,3, size= [ n_i,1]) * np.random.randint(1,3, size= [ 1,m_j]))**2 +1 #np.random.choice([200, 300], size=(n_i, m_j), p=[.9,.1 ]) * 100#np.random.randint(n_i/2,n_i,size = [n_i,m_j]) # np.random.choice([0,1], size= [n_i,m_j])*10000\n",
    "example_mkt_2 = OneToOneITU(  n_i,m_j,parameters=(A_,B_))"
   ]
  },
  {
   "cell_type": "code",
   "execution_count": null,
   "metadata": {},
   "outputs": [],
   "source": []
  },
  {
   "cell_type": "code",
   "execution_count": 140,
   "metadata": {},
   "outputs": [],
   "source": [
    "# mu_ij_01_noscaling2, u_i_noscaling2, v_j_noscaling2 = example_mkt_2.forward_auction(tol_ε= .001)\n",
    "# example_mkt_2.check_all((mu_ij_01_noscaling2, u_i_noscaling2, v_j_noscaling2))"
   ]
  },
  {
   "cell_type": "code",
   "execution_count": 141,
   "metadata": {},
   "outputs": [
    {
     "name": "stdout",
     "output_type": "stream",
     "text": [
      "for: 1170\n",
      "_________\n",
      "rev: 323\n",
      "for: 270\n",
      "_________\n",
      "rev: 323\n",
      "for: 270\n",
      "_________\n",
      "rev: 323\n",
      "for: 270\n",
      "_________\n",
      "rev: 323\n",
      "for: 270\n",
      "_________\n",
      "rev: 323\n",
      "for: 270\n",
      "_________\n",
      "rev: 323\n",
      "for: 270\n",
      "_________\n",
      "rev: 323\n",
      "for: 270\n",
      "_________\n",
      "rev: 323\n",
      "for: 270\n",
      "_________\n",
      "rev: 323\n",
      "for: 270\n",
      "_________\n",
      "rev: 323\n",
      "for: 270\n",
      "_________\n",
      "rev: 323\n",
      "for: 270\n",
      "_________\n",
      "rev: 323\n",
      "for: 270\n",
      "_________\n",
      "rev: 323\n",
      "for: 270\n",
      "_________\n",
      "rev: 323\n",
      "for: 270\n",
      "_________\n"
     ]
    }
   ],
   "source": [
    "mu_ij_01_scaling, u_i_scaling, v_j_scaling = example_mkt_2.forward_backward_scaling(1,1e-8, 1/4)"
   ]
  },
  {
   "cell_type": "code",
   "execution_count": 142,
   "metadata": {},
   "outputs": [
    {
     "name": "stdout",
     "output_type": "stream",
     "text": [
      "FEAS\n",
      "i: True, j:  True\n",
      "#matched: 500 over 500\n",
      "________________\n",
      "ε-CS\n",
      "min_ij D_ij : -1.862645149230957e-09 \n",
      "________________\n",
      "IR\n",
      "i: 0.0, j:  156.0\n"
     ]
    }
   ],
   "source": [
    "example_mkt_2.check_all((mu_ij_01_scaling, u_i_scaling, v_j_scaling))"
   ]
  },
  {
   "cell_type": "markdown",
   "metadata": {},
   "source": [
    "To do:\n",
    "* try nasty example with B binary times a constant\n",
    "* try to scale also i forward auction\n",
    "* try convex taxes"
   ]
  },
  {
   "cell_type": "markdown",
   "metadata": {},
   "source": [
    "Next steps:\n",
    "* $ij$-specific scaling\n",
    "* max iter in the backward iteration\n",
    "* (IMPORTANT) now all you are computing V_ij for all i and j in backward"
   ]
  },
  {
   "cell_type": "markdown",
   "metadata": {},
   "source": [
    "### Standard scaling"
   ]
  },
  {
   "cell_type": "code",
   "execution_count": 143,
   "metadata": {},
   "outputs": [],
   "source": [
    "n_i =  m_j  = 1000\n",
    "\n",
    "np.random.seed(12993)\n",
    "A_ =  np.ones([n_i,m_j]) #np.random.choice([.25,.5,1,2,4], size= [n_i,1] ) * np.random.choice([.25,.5,1,2,4], size= [1, m_j] ) #  #np.random.choice([.25,.5,1,2,4], size= [n_i,m_j])\n",
    "B_ = (np.random.randint(1,20, size= [ n_i,1]) * np.random.randint(1,20, size= [ 1,m_j]))  #np.random.choice([200, 300], size=(n_i, m_j), p=[.9,.1 ]) * 100#np.random.randint(n_i/2,n_i,size = [n_i,m_j]) # np.random.choice([0,1], size= [n_i,m_j])*10000\n",
    "example_mkt_n_by_n = OneToOneITU(  n_i,m_j,parameters=(A_,B_), lbs=( - np.inf, 0))"
   ]
  },
  {
   "cell_type": "code",
   "execution_count": 144,
   "metadata": {},
   "outputs": [
    {
     "data": {
      "text/plain": [
       "361"
      ]
     },
     "execution_count": 144,
     "metadata": {},
     "output_type": "execute_result"
    }
   ],
   "source": [
    "B_.max()"
   ]
  },
  {
   "cell_type": "code",
   "execution_count": 145,
   "metadata": {},
   "outputs": [
    {
     "ename": "KeyboardInterrupt",
     "evalue": "",
     "output_type": "error",
     "traceback": [
      "\u001b[0;31m---------------------------------------------------------------------------\u001b[0m",
      "\u001b[0;31mKeyboardInterrupt\u001b[0m                         Traceback (most recent call last)",
      "Cell \u001b[0;32mIn[145], line 2\u001b[0m\n\u001b[1;32m      1\u001b[0m tol_ε \u001b[38;5;241m=\u001b[39m \u001b[38;5;241m1000\u001b[39m\n\u001b[0;32m----> 2\u001b[0m mu, u, v \u001b[38;5;241m=\u001b[39m \u001b[43mexample_mkt_n_by_n\u001b[49m\u001b[38;5;241;43m.\u001b[39;49m\u001b[43mforward_auction\u001b[49m\u001b[43m(\u001b[49m\u001b[43mtol_ε\u001b[49m\u001b[43m \u001b[49m\u001b[38;5;241;43m=\u001b[39;49m\u001b[43m \u001b[49m\u001b[43mtol_ε\u001b[49m\u001b[43m)\u001b[49m\n\u001b[1;32m      4\u001b[0m \u001b[38;5;66;03m# example_mkt_n_by_n.check_all((mu,u,v))\u001b[39;00m\n",
      "Cell \u001b[0;32mIn[120], line 19\u001b[0m, in \u001b[0;36mforward_auction\u001b[0;34m(self, data, tol_ε)\u001b[0m\n\u001b[1;32m     17\u001b[0m \u001b[38;5;28miter\u001b[39m \u001b[38;5;241m+\u001b[39m\u001b[38;5;241m=\u001b[39m \u001b[38;5;241m1\u001b[39m\n\u001b[1;32m     18\u001b[0m U_ij \u001b[38;5;241m=\u001b[39m \u001b[38;5;28mself\u001b[39m\u001b[38;5;241m.\u001b[39mget_U_ij( V_j, unassigned_i)\n\u001b[0;32m---> 19\u001b[0m perm_unmatched \u001b[38;5;241m=\u001b[39m \u001b[43mnp\u001b[49m\u001b[38;5;241;43m.\u001b[39;49m\u001b[43mall\u001b[49m\u001b[43m(\u001b[49m\u001b[43mU_ij\u001b[49m\u001b[43m \u001b[49m\u001b[38;5;241;43m<\u001b[39;49m\u001b[38;5;241;43m=\u001b[39;49m\u001b[43m \u001b[49m\u001b[38;5;28;43mself\u001b[39;49m\u001b[38;5;241;43m.\u001b[39;49m\u001b[43mlb_U\u001b[49m\u001b[38;5;241;43m+\u001b[39;49m\u001b[43mtol_ε\u001b[49m\u001b[43m,\u001b[49m\u001b[43m \u001b[49m\u001b[43maxis\u001b[49m\u001b[43m \u001b[49m\u001b[38;5;241;43m=\u001b[39;49m\u001b[43m \u001b[49m\u001b[38;5;241;43m1\u001b[39;49m\u001b[43m)\u001b[49m\u001b[38;5;66;03m#np.all(U_ij <= self.lb_U, axis = 1)\u001b[39;00m\n\u001b[1;32m     21\u001b[0m \u001b[38;5;28;01mif\u001b[39;00m np\u001b[38;5;241m.\u001b[39many(perm_unmatched):\n\u001b[1;32m     22\u001b[0m     mu_i[unassigned_i] \u001b[38;5;241m+\u001b[39m\u001b[38;5;241m=\u001b[39m (\u001b[38;5;28mself\u001b[39m\u001b[38;5;241m.\u001b[39mm \u001b[38;5;241m-\u001b[39m mu_i[unassigned_i]) \u001b[38;5;241m*\u001b[39m perm_unmatched\n",
      "File \u001b[0;32m/Library/Frameworks/Python.framework/Versions/3.10/lib/python3.10/site-packages/numpy/core/fromnumeric.py:2504\u001b[0m, in \u001b[0;36mall\u001b[0;34m(a, axis, out, keepdims, where)\u001b[0m\n\u001b[1;32m   2421\u001b[0m \u001b[38;5;129m@array_function_dispatch\u001b[39m(_all_dispatcher)\n\u001b[1;32m   2422\u001b[0m \u001b[38;5;28;01mdef\u001b[39;00m \u001b[38;5;21mall\u001b[39m(a, axis\u001b[38;5;241m=\u001b[39m\u001b[38;5;28;01mNone\u001b[39;00m, out\u001b[38;5;241m=\u001b[39m\u001b[38;5;28;01mNone\u001b[39;00m, keepdims\u001b[38;5;241m=\u001b[39mnp\u001b[38;5;241m.\u001b[39m_NoValue, \u001b[38;5;241m*\u001b[39m, where\u001b[38;5;241m=\u001b[39mnp\u001b[38;5;241m.\u001b[39m_NoValue):\n\u001b[1;32m   2423\u001b[0m \u001b[38;5;250m    \u001b[39m\u001b[38;5;124;03m\"\"\"\u001b[39;00m\n\u001b[1;32m   2424\u001b[0m \u001b[38;5;124;03m    Test whether all array elements along a given axis evaluate to True.\u001b[39;00m\n\u001b[1;32m   2425\u001b[0m \n\u001b[0;32m   (...)\u001b[0m\n\u001b[1;32m   2502\u001b[0m \n\u001b[1;32m   2503\u001b[0m \u001b[38;5;124;03m    \"\"\"\u001b[39;00m\n\u001b[0;32m-> 2504\u001b[0m     \u001b[38;5;28;01mreturn\u001b[39;00m \u001b[43m_wrapreduction\u001b[49m\u001b[43m(\u001b[49m\u001b[43ma\u001b[49m\u001b[43m,\u001b[49m\u001b[43m \u001b[49m\u001b[43mnp\u001b[49m\u001b[38;5;241;43m.\u001b[39;49m\u001b[43mlogical_and\u001b[49m\u001b[43m,\u001b[49m\u001b[43m \u001b[49m\u001b[38;5;124;43m'\u001b[39;49m\u001b[38;5;124;43mall\u001b[39;49m\u001b[38;5;124;43m'\u001b[39;49m\u001b[43m,\u001b[49m\u001b[43m \u001b[49m\u001b[43maxis\u001b[49m\u001b[43m,\u001b[49m\u001b[43m \u001b[49m\u001b[38;5;28;43;01mNone\u001b[39;49;00m\u001b[43m,\u001b[49m\u001b[43m \u001b[49m\u001b[43mout\u001b[49m\u001b[43m,\u001b[49m\n\u001b[1;32m   2505\u001b[0m \u001b[43m                          \u001b[49m\u001b[43mkeepdims\u001b[49m\u001b[38;5;241;43m=\u001b[39;49m\u001b[43mkeepdims\u001b[49m\u001b[43m,\u001b[49m\u001b[43m \u001b[49m\u001b[43mwhere\u001b[49m\u001b[38;5;241;43m=\u001b[39;49m\u001b[43mwhere\u001b[49m\u001b[43m)\u001b[49m\n",
      "File \u001b[0;32m/Library/Frameworks/Python.framework/Versions/3.10/lib/python3.10/site-packages/numpy/core/fromnumeric.py:72\u001b[0m, in \u001b[0;36m_wrapreduction\u001b[0;34m(obj, ufunc, method, axis, dtype, out, **kwargs)\u001b[0m\n\u001b[1;32m     71\u001b[0m \u001b[38;5;28;01mdef\u001b[39;00m \u001b[38;5;21m_wrapreduction\u001b[39m(obj, ufunc, method, axis, dtype, out, \u001b[38;5;241m*\u001b[39m\u001b[38;5;241m*\u001b[39mkwargs):\n\u001b[0;32m---> 72\u001b[0m     passkwargs \u001b[38;5;241m=\u001b[39m {k: v \u001b[38;5;28;01mfor\u001b[39;00m k, v \u001b[38;5;129;01min\u001b[39;00m \u001b[43mkwargs\u001b[49m\u001b[38;5;241;43m.\u001b[39;49m\u001b[43mitems\u001b[49m\u001b[43m(\u001b[49m\u001b[43m)\u001b[49m\n\u001b[1;32m     73\u001b[0m                   \u001b[38;5;28;01mif\u001b[39;00m v \u001b[38;5;129;01mis\u001b[39;00m \u001b[38;5;129;01mnot\u001b[39;00m np\u001b[38;5;241m.\u001b[39m_NoValue}\n\u001b[1;32m     75\u001b[0m     \u001b[38;5;28;01mif\u001b[39;00m \u001b[38;5;28mtype\u001b[39m(obj) \u001b[38;5;129;01mis\u001b[39;00m \u001b[38;5;129;01mnot\u001b[39;00m mu\u001b[38;5;241m.\u001b[39mndarray:\n\u001b[1;32m     76\u001b[0m         \u001b[38;5;28;01mtry\u001b[39;00m:\n",
      "\u001b[0;31mKeyboardInterrupt\u001b[0m: "
     ]
    }
   ],
   "source": [
    "tol_ε = 1000\n",
    "mu, u, v = example_mkt_n_by_n.forward_auction(tol_ε = tol_ε)\n",
    "\n",
    "# example_mkt_n_by_n.check_all((mu,u,v))\n"
   ]
  },
  {
   "cell_type": "code",
   "execution_count": null,
   "metadata": {},
   "outputs": [],
   "source": [
    "# mu, u, v = example_mkt_n_by_n.forward_auction((np.zeros([n_i,n_i]), v),tol_ε = 200)\n"
   ]
  },
  {
   "cell_type": "code",
   "execution_count": null,
   "metadata": {},
   "outputs": [],
   "source": [
    "def Bertsekas_scaling(self,tol_ε_initial,tol_ε_obj, scaling_factor):\n",
    "    tol_ε = tol_ε_initial\n",
    "    mu_ij, u_i, v_j = self.forward_auction(tol_ε = tol_ε)\n",
    "    while tol_ε > tol_ε_obj:\n",
    "        tol_ε /= scaling_factor\n",
    "        mu_ij, u_i, v_j = self.forward_auction((np.zeros([self.n,self.m]), v_j),tol_ε = tol_ε)\n",
    "\n",
    "    return mu_ij, u_i, v_j\n",
    "\n",
    "OneToOneITU.Bertsekas_scaling =Bertsekas_scaling"
   ]
  },
  {
   "cell_type": "code",
   "execution_count": null,
   "metadata": {},
   "outputs": [],
   "source": [
    "# mu_B_scaling, u_B_scaling, v_B_scaling = example_mkt_n_by_n.Bertsekas_scaling(100,1e-10,2)"
   ]
  },
  {
   "cell_type": "code",
   "execution_count": null,
   "metadata": {},
   "outputs": [],
   "source": [
    "# example_mkt_n_by_n.check_all((mu_B_scaling, u_B_scaling, v_B_scaling))"
   ]
  },
  {
   "cell_type": "code",
   "execution_count": null,
   "metadata": {},
   "outputs": [],
   "source": [
    "# u_B_scaling.min()"
   ]
  },
  {
   "cell_type": "code",
   "execution_count": null,
   "metadata": {},
   "outputs": [
    {
     "name": "stdout",
     "output_type": "stream",
     "text": [
      "for: 614\n",
      "_________\n",
      "rev: 190\n",
      "for: 333\n",
      "_________\n",
      "rev: 152\n",
      "for: 219\n",
      "_________\n",
      "rev: 128\n",
      "for: 256\n",
      "_________\n",
      "rev: 214\n",
      "for: 330\n",
      "_________\n",
      "rev: 266\n",
      "for: 396\n",
      "_________\n",
      "rev: 308\n",
      "for: 530\n",
      "_________\n",
      "rev: 462\n",
      "for: 668\n",
      "_________\n",
      "rev: 757\n",
      "for: 985\n",
      "_________\n",
      "rev: 838\n",
      "for: 1437\n",
      "_________\n",
      "rev: 1479\n",
      "for: 1386\n",
      "_________\n",
      "rev: 852\n",
      "for: 539\n",
      "_________\n",
      "rev: 438\n",
      "for: 467\n",
      "_________\n",
      "rev: 507\n",
      "for: 350\n",
      "_________\n",
      "rev: 521\n",
      "for: 610\n",
      "_________\n",
      "rev: 527\n",
      "for: 929\n",
      "_________\n",
      "rev: 485\n",
      "for: 470\n",
      "_________\n",
      "rev: 399\n",
      "for: 757\n",
      "_________\n",
      "rev: 500\n",
      "for: 310\n",
      "_________\n",
      "rev: 327\n",
      "for: 455\n",
      "_________\n",
      "rev: 267\n",
      "for: 633\n",
      "_________\n",
      "rev: 526\n",
      "for: 873\n",
      "_________\n",
      "rev: 548\n",
      "for: 658\n",
      "_________\n",
      "rev: 943\n",
      "for: 641\n",
      "_________\n",
      "rev: 586\n",
      "for: 857\n",
      "_________\n",
      "rev: 678\n",
      "for: 449\n",
      "_________\n",
      "rev: 294\n",
      "for: 589\n",
      "_________\n",
      "rev: 490\n",
      "for: 658\n",
      "_________\n",
      "rev: 665\n",
      "for: 415\n",
      "_________\n",
      "rev: 454\n",
      "for: 564\n",
      "_________\n",
      "rev: 687\n",
      "for: 745\n",
      "_________\n",
      "rev: 1046\n",
      "for: 1037\n",
      "_________\n",
      "rev: 591\n",
      "for: 867\n",
      "_________\n",
      "rev: 428\n",
      "for: 770\n",
      "_________\n",
      "rev: 458\n",
      "for: 431\n",
      "_________\n",
      "rev: 391\n",
      "for: 368\n",
      "_________\n",
      "rev: 741\n",
      "for: 1190\n",
      "_________\n",
      "rev: 398\n",
      "for: 332\n",
      "_________\n",
      "rev: 492\n",
      "for: 497\n",
      "_________\n",
      "rev: 446\n",
      "for: 776\n",
      "_________\n",
      "rev: 904\n",
      "for: 695\n",
      "_________\n",
      "rev: 261\n",
      "for: 0\n"
     ]
    }
   ],
   "source": [
    "example_mkt_n_by_n.lb_U = 0\n",
    "mu_scaling_2, u_scaling_2, v_scaling_2 = example_mkt_n_by_n.forward_backward_scaling(100,1e-10,1/2)\n",
    "example_mkt_n_by_n.lb_U = -np.inf"
   ]
  },
  {
   "cell_type": "code",
   "execution_count": null,
   "metadata": {},
   "outputs": [
    {
     "name": "stdout",
     "output_type": "stream",
     "text": [
      "FEAS\n",
      "i: True, j:  True\n",
      "#matched: 1000 over 1000\n",
      "________________\n",
      "ε-CS\n",
      "min_ij D_ij : -4.547473508864641e-11 \n",
      "________________\n",
      "IR\n",
      "i: nan, j:  0.0\n"
     ]
    },
    {
     "name": "stderr",
     "output_type": "stream",
     "text": [
      "/var/folders/9x/rx50bd3s64g0kvsl05kqvl000000gn/T/ipykernel_57201/2722923942.py:8: RuntimeWarning: invalid value encountered in multiply\n",
      "  IR_i = np.sum((U_i - self.lb_U)* (1- np.sum(mu_ij,axis=1)))\n"
     ]
    }
   ],
   "source": [
    "example_mkt_n_by_n.check_all((mu_scaling_2, u_scaling_2, v_scaling_2 ))"
   ]
  },
  {
   "cell_type": "code",
   "execution_count": null,
   "metadata": {},
   "outputs": [
    {
     "name": "stdout",
     "output_type": "stream",
     "text": [
      "for: 47\n",
      "_________\n",
      "rev: 10\n",
      "for: 86\n",
      "_________\n",
      "rev: 19\n",
      "for: 95\n",
      "_________\n",
      "rev: 13\n",
      "for: 258\n",
      "_________\n",
      "rev: 24\n",
      "for: 117\n",
      "_________\n",
      "rev: 40\n",
      "for: 92\n",
      "_________\n",
      "rev: 29\n",
      "for: 115\n",
      "_________\n",
      "rev: 14\n",
      "for: 47\n",
      "_________\n",
      "rev: 12\n",
      "for: 30\n",
      "_________\n",
      "rev: 20\n",
      "for: 51\n",
      "_________\n",
      "rev: 11\n",
      "for: 10\n",
      "_________\n",
      "rev: 11\n",
      "for: 10\n",
      "_________\n",
      "rev: 11\n",
      "for: 10\n",
      "_________\n",
      "rev: 11\n",
      "for: 10\n",
      "_________\n",
      "rev: 11\n",
      "for: 10\n",
      "_________\n",
      "rev: 11\n",
      "for: 10\n",
      "_________\n",
      "rev: 11\n",
      "for: 10\n",
      "_________\n",
      "rev: 11\n",
      "for: 10\n",
      "_________\n",
      "rev: 11\n",
      "for: 0\n"
     ]
    }
   ],
   "source": [
    "np.random.seed(10870)\n",
    "n_i = 100\n",
    "m_j = 110\n",
    "k = 2\n",
    "\n",
    "θ_true = np.array([.2,-.2, 1,2])\n",
    "\n",
    "X_i = np.random.normal([5,5],[5,2], size = [n_i, k]).round(16)\n",
    "Y_j = np.random.normal([5,5],[5,2], size = [m_j, k]).round(16)\n",
    "#X_ijk = np.random.choice(10, size = (n_i,m_j, k))\n",
    "\n",
    "A = np.exp( np.abs((X_i[:,None,:]- Y_j[None,:,:]))@  θ_true[:k])\n",
    "B = np.abs((X_i[:,None,:]- Y_j[None,:,:])) @ θ_true[k:2*k]\n",
    "\n",
    "obs_mrk = OneToOneITU( n_i,m_j, (A,B))\n",
    "eq = mu_obs, u_true, v_obs = obs_mrk.forward_backward_scaling(1,1e-10,1/4)"
   ]
  },
  {
   "cell_type": "code",
   "execution_count": null,
   "metadata": {},
   "outputs": [
    {
     "name": "stdout",
     "output_type": "stream",
     "text": [
      "FEAS\n",
      "i: True, j:  True\n",
      "#matched: 100 over 100\n",
      "________________\n",
      "ε-CS\n",
      "min_ij D_ij : -5.426751414261054e-11 \n",
      "________________\n",
      "IR\n",
      "i: 0.0, j:  0.0\n"
     ]
    }
   ],
   "source": [
    "obs_mrk.check_all(eq)"
   ]
  },
  {
   "cell_type": "code",
   "execution_count": null,
   "metadata": {},
   "outputs": [],
   "source": []
  }
 ],
 "metadata": {
  "kernelspec": {
   "display_name": "Python 3",
   "language": "python",
   "name": "python3"
  },
  "language_info": {
   "codemirror_mode": {
    "name": "ipython",
    "version": 3
   },
   "file_extension": ".py",
   "mimetype": "text/x-python",
   "name": "python",
   "nbconvert_exporter": "python",
   "pygments_lexer": "ipython3",
   "version": "3.10.10"
  }
 },
 "nbformat": 4,
 "nbformat_minor": 2
}
