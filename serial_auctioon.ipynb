{
 "cells": [
  {
   "cell_type": "code",
   "execution_count": 1,
   "metadata": {},
   "outputs": [],
   "source": [
    "import gurobipy as grb\n",
    "from gurobipy import GRB\n",
    "import scipy.sparse as spr\n",
    "import numpy as np\n",
    "import random\n",
    "import matplotlib.pyplot as plt\n",
    "#from sympy import symbols, Rational\n",
    "from IPython.display import display, Math, Markdown\n",
    "import numpy.ma as ma\n",
    "import scipy as sp\n"
   ]
  },
  {
   "cell_type": "code",
   "execution_count": 2,
   "metadata": {},
   "outputs": [],
   "source": [
    "class OneToOneITU():\n",
    "    def __init__(self, n, m, parameters = (None,None) , lbs=(0, 0)):\n",
    "        self.n = n\n",
    "        self.m = m\n",
    "        self.lb_U, self.lb_V = lbs\n",
    "     \n",
    "       \n",
    "        self.A_ij = parameters[0]\n",
    "        self.B_ij = parameters[1]\n",
    "        \n",
    "        self.max_A_j = np.max(parameters[0],0)\n",
    "\n",
    "    def D_ij(self, U_i, V_j):\n",
    "            return (U_i[:, None] + self.A_ij * V_j[None, :] - self.B_ij)/(1+ self.A_ij)\n",
    "\n",
    "    def get_U_ij(self, V_j, i_idx ,j_idx = None):\n",
    "        if j_idx is None:\n",
    "            return self.B_ij[i_idx] - self.A_ij[i_idx] * V_j[None, :]\n",
    "        else:\n",
    "            return self.B_ij[i_idx,j_idx] - self.A_ij[i_idx,j_idx] * V_j[None, :]\n",
    "\n",
    "    def get_V_ij(self, U_i, j_idx ,i_idx = None):\n",
    "        if i_idx is None:\n",
    "            return (self.B_ij[:,j_idx] -  U_i[:,None])/ self.A_ij[:,j_idx]\n",
    "        else:\n",
    "            return (self.B_ij[i_idx,j_idx] -  U_i[:,None])/ self.A_ij[i_idx,j_idx]\n",
    "\n",
    "    def U_ij(self, i,j, V_j):\n",
    "            return self.B_ij[i,j] - self.A_ij[i,j] * V_j\n",
    "\n",
    "    def V_ij(self,i,j,U_i):\n",
    "            return (self.B_ij[i,j] -  U_i)/ self.A_ij[i,j]"
   ]
  },
  {
   "cell_type": "code",
   "execution_count": 3,
   "metadata": {},
   "outputs": [],
   "source": [
    "def generate_example(self, var_i, var_j, random_seed):\n",
    "    np.random.seed(random_seed)\n",
    "    k = 2\n",
    "\n",
    "    θ_true = np.array([-0.1,0.1, 1,2])\n",
    "\n",
    "    X_i = np.random.normal([5,var_i],[5,var_i], size = [self.n, k]).round(0)\n",
    "    Y_j = np.random.normal([5,var_j],[5,var_j], size = [self.m, k]).round(0)\n",
    "    #X_ijk = np.random.choice(10, size = (self.n_i,m_j, k))\n",
    "\n",
    "    A = np.exp( np.abs((X_i[:,None,:]- Y_j[None,:,:]))@  θ_true[:k]).round(1)+.001\n",
    "    B = np.abs((X_i[:,None,:]*Y_j[None,:,:])) @ θ_true[k:2*k] \n",
    "    print(len(np.unique(X_i)))\n",
    "    self.A_ij = A\n",
    "    self.B_ij = B\n",
    "    self.max_A_j = np.max(A, axis= 0)\n",
    "\n",
    "OneToOneITU.generate_example = generate_example"
   ]
  },
  {
   "cell_type": "code",
   "execution_count": 4,
   "metadata": {},
   "outputs": [],
   "source": [
    "def check_primal_feas(self, mu_ij):\n",
    "    print(f\"i: { np.all(np.sum(mu_ij,axis=1) <= 1)}, j:  {np.all(np.sum(mu_ij,axis=0) <= 1) }\")\n",
    "    print(f\"#matched: {int(np.sum(mu_ij))} over {np.minimum(self.n,self.m)}\")\n",
    "\n",
    "OneToOneITU.check_primal_feas = check_primal_feas\n",
    "\n",
    "def check_IR(self,mu_ij,U_i,V_j, output = False):\n",
    "    IR_i = np.sum((U_i - self.lb_U)* (1- np.sum(mu_ij,axis=1)))\n",
    "    IR_j = np.sum((V_j - self.lb_V) * (1 - np.sum(mu_ij,axis=0))) \n",
    "    print(f\"i: { IR_i}, j:  {IR_j }\")\n",
    "    if output is True:\n",
    "        IR_i = (U_i - self.lb_U)* (np.sum(mu_ij,axis=1) - 1) >= 0 \n",
    "        IR_j = (V_j - self.lb_V) * (np.sum(mu_ij,axis=0) - 1) >= 0\n",
    "        return IR_i, IR_j\n",
    "    \n",
    "OneToOneITU.check_IR = check_IR\n",
    "\n",
    "def check_CS(self,U_i,V_j, output = None):\n",
    "    CS = np.minimum(self.D_ij(U_i,V_j),0)\n",
    "    if output:\n",
    "        return CS, np.where(CS < 0 )\n",
    "    print(f\"min_ij D_ij : {(self.D_ij(U_i,V_j)).min()} \")\n",
    "    \n",
    "OneToOneITU.check_CS = check_CS \n",
    "\n",
    "def check_all(self,eq):\n",
    "    mu_ij, U_i, V_j = eq \n",
    "    print(\"FEAS\")\n",
    "    self.check_primal_feas(mu_ij)\n",
    "    print(\"________________\")\n",
    "    print(\"ε-CS\")\n",
    "    self.check_CS(U_i, V_j )\n",
    "    print(\"________________\")\n",
    "    print(\"IR\")\n",
    "    self.check_IR(mu_ij, U_i, V_j )\n",
    "\n",
    "OneToOneITU.check_all = check_all\n",
    "\n",
    "def check_CS_i_or_j(self,u_i, v_j, side = 0):\n",
    "    if side == 0:\n",
    "        return u_i[:,None] - self.get_U_ij(v_j, np.arange(self.n))\n",
    "    else:\n",
    "        return v_j[None,:] - self.get_V_ij(u_i, np.arange(self.m))\n",
    "    \n",
    "OneToOneITU.check_CS_i_or_j = check_CS_i_or_j"
   ]
  },
  {
   "cell_type": "markdown",
   "metadata": {},
   "source": [
    "# Auction Algorithm"
   ]
  },
  {
   "cell_type": "code",
   "execution_count": 5,
   "metadata": {},
   "outputs": [],
   "source": [
    "def forward_auction_serial(self, data, tol_ε = None):\n",
    "    mu_i , V_j = data.copy()\n",
    "    while np.any(mu_i == self.m +1):\n",
    "        for i in np.where(mu_i== self.m +1)[0]:\n",
    "            U_ij = self.U_ij(i,np.arange(self.m),V_j)\n",
    "            j_star = np.argmax(U_ij)\n",
    "            if U_ij[j_star] <= self.lb_U:\n",
    "                mu_i[i] = self.m\n",
    "            else:\n",
    "                w_i = np.maximum(np.max(np.where( np.arange(self.m) == j_star, -np.inf, U_ij)), self.lb_U)\n",
    "                V_j[j_star] = self.V_ij(i,j_star, w_i - tol_ε)\n",
    "                mu_i[mu_i == j_star] = self.m+1\n",
    "                mu_i[i] = j_star\n",
    "                \n",
    "    U_i = np.ones(self.n) * self.lb_U\n",
    "    matched_i = mu_i < self.m\n",
    "    U_i[matched_i] = self.get_U_ij(V_j, matched_i)[np.arange(matched_i.sum()), mu_i[matched_i]]\n",
    "    return mu_i, U_i, V_j\n",
    "    \n",
    "\n",
    "OneToOneITU.forward_auction_serial = forward_auction_serial   "
   ]
  },
  {
   "cell_type": "markdown",
   "metadata": {},
   "source": [
    "### Backward\n"
   ]
  },
  {
   "cell_type": "code",
   "execution_count": 6,
   "metadata": {},
   "outputs": [],
   "source": [
    "def reverse_auction_serial(self, data = None, tol_ε = None):\n",
    "    mu_j , U_i = data.copy()\n",
    "    iter= 0 \n",
    "    while np.any(mu_j == self.n +1) and iter < 1000000:\n",
    "        iter += 1\n",
    "        for j in np.where(mu_j== self.n +1)[0]:\n",
    "            V_ij = self.V_ij(np.arange(self.n),j,U_i)\n",
    "            i_star = np.argmax(V_ij)\n",
    "            if V_ij[i_star] <= self.lb_V:\n",
    "                mu_j[j] = self.n\n",
    "            else:\n",
    "                β_j = np.maximum(np.max(np.where( np.arange(self.n) == i_star, -np.inf, V_ij)), self.lb_V)\n",
    "                U_i[i_star] = self.U_ij(i_star,j, β_j - tol_ε)\n",
    "                mu_j[mu_j == i_star] = self.n+1\n",
    "                mu_j[j] = i_star\n",
    "                \n",
    "                \n",
    "    V_j = np.ones(self.m) * self.lb_V\n",
    "    matched_j = mu_j < self.n \n",
    "    V_j[matched_j] = self.get_V_ij(U_i, matched_j )[mu_j[matched_j],np.arange(matched_j.sum()) ]\n",
    "\n",
    "    return mu_j, U_i, V_j\n",
    "    \n",
    "\n",
    "OneToOneITU.reverse_auction_serial = reverse_auction_serial\n"
   ]
  },
  {
   "cell_type": "code",
   "execution_count": 7,
   "metadata": {},
   "outputs": [],
   "source": [
    "def forward_backward_scaling_serial(self, tol_ε ,tol_ε_obj, scaling_factor):\n",
    "    v_j = np.ones(self.m) * self.lb_V\n",
    "    mu_i = np.ones(self.n, dtype= int) * (self.m+1)\n",
    "    \n",
    "    print(\"_________\")\n",
    "    while tol_ε > tol_ε_obj:\n",
    "\n",
    "\n",
    "        mu_i_iter, u_i,v_j = self.forward_auction_serial([mu_i, v_j], tol_ε= tol_ε)\n",
    "\n",
    "        tol_ε *=  scaling_factor\n",
    "        mu_j = np.ones(self.m, dtype= int) * (self.n+1)\n",
    "        mu_j_iter , u_i,v_j = self.reverse_auction_serial([mu_j, u_i], tol_ε= tol_ε)\n",
    "        #self.check_IR(mu_ij_01, u_i,v_j)\n",
    "        \n",
    "        #self.check_CS(u_i,v_j)\n",
    "        #self.check_IR(mu_ij_01, u_i,v_j)\n",
    "        print(\"_________\")   \n",
    "        # if np.all(self.check_CS(u_i,v_j,True)[0]>= - tol_ε_obj):\n",
    "        #     return mu_ij_01, u_i, v_j\n",
    "    \n",
    "    # mu_ij_01, u_i, v_j = self.drop_for_scaling(mu_ij_01, u_i, v_j , tol_ε)\n",
    "    \n",
    "    mu_ij_01 = mu_i_iter[:,None] == np.arange(self.m)[None,:]\n",
    "    return mu_ij_01, u_i, v_j\n",
    "OneToOneITU.forward_backward_scaling_serial =forward_backward_scaling_serial  "
   ]
  },
  {
   "cell_type": "code",
   "execution_count": 15,
   "metadata": {},
   "outputs": [],
   "source": [
    "n_i =  500\n",
    "m_j  = 600\n",
    "np.random.seed(123)\n",
    "A_ =  np.ones([n_i,m_j])#np.random.choice([.25,.5,1,2,4], size= [n_i,1] ) * np.random.choice([.25,.5,1,2,4], size= [1, m_j] ) #  #np.random.choice([.25,.5,1,2,4], size= [n_i,m_j])\n",
    "B_ = (np.random.randint(1,3, size= [ n_i,1]) * np.random.randint(1,3, size= [ 1,m_j]))**2 +1 #np.random.choice([200, 300], size=(n_i, m_j), p=[.9,.1 ]) * 100#np.random.randint(n_i/2,n_i,size = [n_i,m_j]) # np.random.choice([0,1], size= [n_i,m_j])*10000\n",
    "example_mkt_2 = OneToOneITU(  n_i,m_j,parameters=(A_,B_))"
   ]
  },
  {
   "cell_type": "code",
   "execution_count": 17,
   "metadata": {},
   "outputs": [
    {
     "name": "stdout",
     "output_type": "stream",
     "text": [
      "_________\n",
      "_________\n",
      "_________\n",
      "_________\n",
      "_________\n",
      "_________\n",
      "_________\n",
      "_________\n"
     ]
    }
   ],
   "source": [
    "mu_ij_01, u_i,v_j = example_mkt_2.forward_backward_scaling_serial(1,.0001, 1/4)"
   ]
  },
  {
   "cell_type": "code",
   "execution_count": 11,
   "metadata": {},
   "outputs": [
    {
     "name": "stdout",
     "output_type": "stream",
     "text": [
      "FEAS\n",
      "i: True, j:  True\n",
      "#matched: 50 over 50\n",
      "________________\n",
      "ε-CS\n",
      "min_ij D_ij : -4.999999999810711e-06 \n",
      "________________\n",
      "IR\n",
      "i: 0.0, j:  0.0\n"
     ]
    }
   ],
   "source": [
    "example_mkt_2.check_all((mu_ij_01, u_i,v_j))"
   ]
  },
  {
   "cell_type": "code",
   "execution_count": null,
   "metadata": {},
   "outputs": [],
   "source": []
  }
 ],
 "metadata": {
  "kernelspec": {
   "display_name": "Python 3",
   "language": "python",
   "name": "python3"
  },
  "language_info": {
   "codemirror_mode": {
    "name": "ipython",
    "version": 3
   },
   "file_extension": ".py",
   "mimetype": "text/x-python",
   "name": "python",
   "nbconvert_exporter": "python",
   "pygments_lexer": "ipython3",
   "version": "3.12.0"
  }
 },
 "nbformat": 4,
 "nbformat_minor": 2
}
