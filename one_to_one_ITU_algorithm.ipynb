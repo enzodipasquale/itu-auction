{
 "cells": [
  {
   "cell_type": "code",
   "execution_count": 130,
   "metadata": {},
   "outputs": [],
   "source": [
    "import gurobipy as grb\n",
    "from gurobipy import GRB\n",
    "import scipy.sparse as spr\n",
    "import numpy as np\n",
    "import random\n",
    "import matplotlib.pyplot as plt\n",
    "#from sympy import symbols, Rational\n",
    "from IPython.display import display, Math, Markdown"
   ]
  },
  {
   "attachments": {},
   "cell_type": "markdown",
   "metadata": {},
   "source": [
    "## Set up"
   ]
  },
  {
   "attachments": {},
   "cell_type": "markdown",
   "metadata": {},
   "source": [
    "1. (*Feasibility*) $\\mu_{ij} \\in \\{0,1\\}$ and $\\sum_{i} \\mu_{ij} \\leq 1$ and $\\sum_{j} \\mu_{ij} \\leq 1 $ for each $ij \\in \\mathcal{I}\\times\\mathcal{J},$\n",
    "2. (*Generalized Complementary Slackness*) $D_{ij}(u_i,v_j) \\geq 0$ with equality if $\\mu_{ij}  = 1$  $(\\forall ij)$, \n",
    "3. (*Individual Rationality*) $u_i \\geq u_{i0},$ $ v_j \\geq v_{0j}$ for each $ij \\in \\mathcal{I}\\times\\mathcal{J},$ with equality if $\\sum_{j} \\mu_{ij} = 0 \\ (\\text{ resp. } \\sum_{i} \\mu_{ij} = 0)$\n",
    "\n"
   ]
  },
  {
   "attachments": {},
   "cell_type": "markdown",
   "metadata": {},
   "source": [
    "We try to solve the case with\n",
    "$$D_{ij}(U_i, V_j) = A_{ij} U_i + G_{ij} V_j - B_{ij}$$\n",
    "First we define our problem (setting $U_{i0} = V_{0j} = 1$ by default):"
   ]
  },
  {
   "cell_type": "code",
   "execution_count": 171,
   "metadata": {},
   "outputs": [],
   "source": [
    "class OneToOneITU():\n",
    "  def __init__(self, n, m, size_params , random_seed, lbs = (1,1), tol = 1e-9):\n",
    "    \n",
    "    self.n = n\n",
    "    self.m = m\n",
    "    self.lb_U , self.lb_V = lbs\n",
    "    self.tol = tol \n",
    "\n",
    "    #generate problem\n",
    "    np.random.seed(random_seed)\n",
    "\n",
    "    self.A_ij = np.random.randint(1,size_params[0] ,size = [n,m])\n",
    "    self.B_ij = np.random.randint(0,size_params[1] ,size = [n,m])\n",
    "\n",
    "  def D_ij(self, U_i, V_j):\n",
    "    return U_i[:,None]  +  self.A_ij * V_j[None,:] - self.B_ij\n",
    "\n",
    "    \n",
    "    \n",
    "    "
   ]
  },
  {
   "attachments": {},
   "cell_type": "markdown",
   "metadata": {},
   "source": [
    "#### Checking modules"
   ]
  },
  {
   "attachments": {},
   "cell_type": "markdown",
   "metadata": {},
   "source": [
    "The following functions check equilibrium conditions for a candidate $(\\mu, U, V).$. Below I will refer to the equilibrium conditions as follows:\n",
    "* (*Primal Feasibility*) $\\sum_{i} \\mu_{ij} \\leq 1$ and $\\sum_{j} \\mu_{ij} \\leq 1 $ (and $\\mu_{ij} \\in \\{0,1\\}$),\n",
    "* (*Primal Complementary Slackness*) $D_{ij}(U_i,V_j) = 0$ if $ \\mu_{ij}  = 1$, \n",
    "* (*Dual Feasibility*) $D_{ij}(U_i,V_j) \\geq 0$,\n",
    "* (*Dual Complementary Slackness*) $U_i =  U_0 $ if $\\sum_j \\mu_{ij} = 0$ and $V_i =  V_0 $ if $\\sum_i \\mu_{ij} = 0,$ \n",
    "* (*Individual Rationality*) $U_i \\geq  U_0 ,$ $V_i \\geq  V_0 .$ "
   ]
  },
  {
   "attachments": {},
   "cell_type": "markdown",
   "metadata": {},
   "source": [
    "**Dual Complementary Slackness**: $\\forall i,j, \\ U_i > U_{0} \\implies \\sum_j \\mu_{ij} = 0, \\ V_j > V_{0} \\implies \\sum_i \\mu_{ij} = 0$"
   ]
  },
  {
   "cell_type": "code",
   "execution_count": 172,
   "metadata": {},
   "outputs": [],
   "source": [
    "def check_dual_CS(self,U_i,V_j,mu_ij, output = False):\n",
    "\n",
    "    D_CS_i = np.mean((U_i - self.lb_U)* (np.sum(mu_ij,axis=1) - 1))\n",
    "    D_CS_j = np.mean((V_j - self.lb_V) * (np.sum(mu_ij,axis=0) - 1)) \n",
    "    display(Math(fr'\\frac{1}{{n}} \\sum_{{i}} (U_{{i}} - U_{{lb}} ) * (\\sum_{{j}} \\mu_{{ij}} -1) = {D_CS_i}'))\n",
    "    display(Math(fr'\\frac{1}{{m}}\\sum_{{j}} (V_{{j}} - V_{{lb}} ) * (\\sum_{{i}} \\mu_{{ij}} -1) = {D_CS_j}'))\n",
    "    \n",
    "    if output is True:\n",
    "        D_CS_i_bool = (U_i - self.lb_U)* (np.sum(mu_ij,axis=1) - 1) >= 0 \n",
    "        D_CS_j_bool = (V_j - self.lb_V) * (np.sum(mu_ij,axis=0) - 1) >= 0\n",
    "        return D_CS_i_bool, D_CS_j_bool\n",
    "    \n",
    "OneToOneITU.check_dual_CS = check_dual_CS"
   ]
  },
  {
   "attachments": {},
   "cell_type": "markdown",
   "metadata": {},
   "source": [
    "**Dual Feasibility**:  $\\forall i,j,  \\ A_{ij} U_i + G_{ij} V_j \\geq B_{ij},$"
   ]
  },
  {
   "cell_type": "code",
   "execution_count": 173,
   "metadata": {},
   "outputs": [],
   "source": [
    "def check_dual_feas(self,U_i,V_j, output = None):\n",
    "\n",
    "    D_feas = np.minimum(self.D_ij(U_i,V_j),0)\n",
    "    display(Math(fr'\\frac{1}{{nm}} \\sum_{{ij}} \\min( A_{{ij}} U_i + G_{{ij}} V_j -  B_{{ij}} , 0)  = {D_feas.mean()}'))\n",
    "    if output:\n",
    "        return D_feas, np.where(D_feas<0 )\n",
    "   \n",
    "OneToOneITU.check_dual_feas = check_dual_feas "
   ]
  },
  {
   "attachments": {},
   "cell_type": "markdown",
   "metadata": {},
   "source": [
    "**Primal Complementary Slackness**:  $\\forall i,j, \\  \\mu_{ij} * (A_{ij} U_i + G_{ij} V_j - B_{ij}) = 0 $"
   ]
  },
  {
   "cell_type": "code",
   "execution_count": 174,
   "metadata": {},
   "outputs": [],
   "source": [
    "def check_primal_CS(self, U_i,V_j,mu_ij, output = None):\n",
    "\n",
    "    P_CS_ij = self.D_ij(U_i,V_j) * mu_ij\n",
    "    display(Math(fr'\\frac{1}{{nm}} \\sum_{{ij}} \\mu_{{ij}} * (A_{{ij}} U_i + G_{{ij}} V_j - B_{{ij}}) = {P_CS_ij.mean()}'))\n",
    "    if output:\n",
    "        return P_CS_ij\n",
    "\n",
    "OneToOneITU.check_primal_CS = check_primal_CS"
   ]
  },
  {
   "attachments": {},
   "cell_type": "markdown",
   "metadata": {},
   "source": [
    "**Primal Feasibility**:  $\\forall i,j, \\  \\sum_j  \\mu_{ij} \\leq 1, \\ \\sum_i  \\mu_{ij} \\leq 1$"
   ]
  },
  {
   "cell_type": "code",
   "execution_count": 175,
   "metadata": {},
   "outputs": [],
   "source": [
    "def check_primal_feas(self, mu_ij):\n",
    "\n",
    "    display(Math(fr'\\forall i, \\ \\sum_{{j}}  \\mu_{{ij}} \\leq 1: \\ { np.all(np.sum(mu_ij,axis=1) <= np.ones(self.n))}'))\n",
    "    display(Math(fr'\\forall j, \\ \\sum_{{i}}  \\mu_{{ij}} \\leq 1: \\ {np.all(np.sum(mu_ij,axis=0) <= np.ones(self.m)) }'))\n",
    "    display(Markdown(f\"#matched: {int(np.sum(mu_ij))} over {np.minimum(self.n,self.m)}\"))\n",
    "\n",
    "OneToOneITU.check_primal_feas = check_primal_feas"
   ]
  },
  {
   "cell_type": "code",
   "execution_count": 176,
   "metadata": {},
   "outputs": [],
   "source": [
    "def check_IR(self, U_i,V_j):\n",
    "    display(Math(fr'\\min_{{i}} U_{{i}} = {np.min(U_i).round(3)} \\geq {self.lb_U} = U_{{lb}}'))\n",
    "    display(Math(fr'\\min_{{j}} V_{{j}} = {np.min(V_j).round(3)} \\geq  {self.lb_V} = V_{{lb}}'))\n",
    "\n",
    "OneToOneITU.check_IR = check_IR"
   ]
  },
  {
   "attachments": {},
   "cell_type": "markdown",
   "metadata": {},
   "source": [
    "The following checks all conditions and prints the results"
   ]
  },
  {
   "cell_type": "code",
   "execution_count": 177,
   "metadata": {},
   "outputs": [],
   "source": [
    "def check_all(self,eq):\n",
    "    mu_ij, U_i, V_j = eq \n",
    "    header_size = 1\n",
    "\n",
    "    display(Markdown(f\"{'_' * 4}\\n<h{header_size}>Feasibility</h{header_size}>\"))\n",
    "    self.check_primal_feas(mu_ij)\n",
    "\n",
    "    display(Markdown(f\"{'_' * 4}\\n<h{header_size}>Generalized Complementary Slackness</h{header_size}>\"))\n",
    "    self.check_dual_feas(U_i, V_j )\n",
    "    self.check_primal_CS(U_i, V_j , mu_ij)\n",
    "    \n",
    "    display(Markdown(f\"{'_' * 4}\\n<h{header_size}>Individual Rationality</h{header_size}>\"))\n",
    "    self.check_IR(U_i, V_j )\n",
    "    self.check_dual_CS(U_i, V_j , mu_ij)\n",
    "\n",
    "OneToOneITU.check_all = check_all"
   ]
  },
  {
   "attachments": {},
   "cell_type": "markdown",
   "metadata": {},
   "source": [
    "## Algorithm"
   ]
  },
  {
   "cell_type": "code",
   "execution_count": 178,
   "metadata": {},
   "outputs": [],
   "source": [
    "def find_new_entering(self, i_ent, mu_ij, U_i,V_j, print_output = False):\n",
    "\n",
    "    U_i_ent =  (np.maximum((self.B_ij[i_ent] -  (self.A_ij[i_ent] * V_j)), self.lb_U))\n",
    "    sorted_U_ent_id = np.argsort(U_i_ent)[::-1]\n",
    "    sorted_U_ent = U_i_ent[sorted_U_ent_id]\n",
    " \n",
    "    if sorted_U_ent[0] <= self.lb_U: \n",
    "        if print_output:\n",
    "            display(Math(fr\"i_{{ent}} = {i_ent} \\text{{ is unmatched}}\"))\n",
    "        U_i[i_ent] = self.lb_U\n",
    "        return (mu_ij, U_i,V_j), None\n",
    "    \n",
    "    else:\n",
    "        j_pivot = sorted_U_ent_id[0]\n",
    "        i_dep = mu_ij[j_pivot]\n",
    "        if i_dep == (self.n + 1): #j_pivot unmatched\n",
    "            mu_ij[j_pivot] = i_ent\n",
    "            \n",
    "            V_j[j_pivot] = (self.B_ij[i_ent,j_pivot] -  sorted_U_ent[1]) / self.A_ij[i_ent,j_pivot] + self.tol\n",
    "            U_i[i_ent] = self.B_ij[i_ent,j_pivot] -  self.A_ij[i_ent,j_pivot] * V_j[j_pivot]\n",
    "        \n",
    "            if print_output:\n",
    "                display(Math(fr\"i_{{ent}} = {i_ent} \\text{{ matches (unmatched) }} j_{{pivot}} = {j_pivot} \\text{{ with }}\"\n",
    "                             fr\"U_{i_ent} = {U_i[i_ent]:.4f}, \\ V_{j_pivot} = {V_j[j_pivot]:.4f}\"))\n",
    "            new_vars = None\n",
    "            return (mu_ij, U_i, V_j) , new_vars\n",
    "\n",
    "        # second best option for i_ent\n",
    "        out_ent = sorted_U_ent[1] \n",
    "        \n",
    "        # find second best option for i_dep\n",
    "        U_i_dep =  (np.maximum(self.B_ij[i_dep] -  (self.A_ij[i_dep] * V_j), self.lb_U))\n",
    "        sorted_U_dep_id = np.argsort(U_i_dep)[::-1]\n",
    "        sorted_U_dep = U_i_dep[sorted_U_dep_id]\n",
    "        out_dep = sorted_U_dep[1]\n",
    "\n",
    "        ### compute new entering\n",
    "        V_tilde =  ((self.B_ij[[i_ent,i_dep],j_pivot].flatten() -  np.array([[out_ent,out_dep]])) \n",
    "                        / self.A_ij[[i_ent,i_dep],j_pivot].flatten())[0]\n",
    "        V_tilde_sort_id = np.argsort(V_tilde)\n",
    "    \n",
    "        #if V_tilde_sort_id[0] == 0: # i_new_ent = i_ent\n",
    "        if V_tilde[0] < V_tilde[1]: #i_dep has best offer\n",
    "            i_ent_new = i_ent\n",
    "            i_matched = i_dep\n",
    "            V_j[j_pivot] = V_tilde[1] + self.tol\n",
    "            if print_output:\n",
    "                display(Math(fr\"i_{{dep}} = {i_dep} \\text{{ still matches }} j_{{pivot}} = {j_pivot} \\text{{ with}}\"))\n",
    "\n",
    "        #elif V_tilde_sort_id[0] == 1: # i_new_ent = i_dep\n",
    "        else:\n",
    "            i_ent_new = i_dep\n",
    "            i_matched = i_ent\n",
    "            mu_ij[j_pivot] = i_ent\n",
    "\n",
    "            V_j[j_pivot] =  V_tilde[0] + self.tol #np.maximum( V_tilde[0] - V_j[j_pivot] ,  self.tol)\n",
    "            \n",
    "            if print_output:\n",
    "                display(Math(fr\"i_{{ent}} = {i_ent} \\text{{ matches }} j_{{pivot}} = {j_pivot} \" \n",
    "                             fr\"\\text{{ (replacing }} i_{{dep}} = {i_dep}\\text{{) with}}\"))\n",
    "        # else:\n",
    "        #     print(\"something's off\")\n",
    "\n",
    "        # INCREASE the value of j_pivot to v_tilde_j (the maximum of the two)\n",
    "        #V_j[j_pivot] += np.maximum( V_tilde[V_tilde_sort_id[1]] - V_j[j_pivot] ,  self.tol)\n",
    "        \n",
    "        # update the value of new matched agent in order to give j value v_tilde_j, by construction U_imatched > 0\n",
    "        U_i[i_matched] = self.B_ij[i_matched,j_pivot] - (self.A_ij[i_matched,j_pivot] * V_j[j_pivot])\n",
    "        if print_output:\n",
    "            display(Math(fr\"U_{i_matched} = {U_i[i_matched].round(4)}, \\  V_{j_pivot} = {V_j[j_pivot].round(4)}, \" \n",
    "                         fr\"\\ \\ i_{{entnew}} = {i_ent_new}\"))\n",
    "            print(\"___________\")\n",
    "        \n",
    "        return (mu_ij, U_i,V_j) , i_ent_new\n",
    "\n",
    "OneToOneITU.find_new_entering =find_new_entering"
   ]
  },
  {
   "cell_type": "code",
   "execution_count": 179,
   "metadata": {},
   "outputs": [],
   "source": [
    "def find_eq_t(self,t,mu_ij, U_i, V_j,print_output):\n",
    "        i_ent = t\n",
    "        (mu_ij, U_i ,V_j ), i_ent = self.find_new_entering(i_ent, mu_ij, U_i, V_j,print_output)\n",
    "        \n",
    "        while i_ent is not None:\n",
    "            i_ent = i_ent\n",
    "            (mu_ij, U_i ,V_j ), i_ent = self.find_new_entering(i_ent, mu_ij, U_i, V_j,print_output)\n",
    "\n",
    "        return (mu_ij, U_i ,V_j )\n",
    "\n",
    "OneToOneITU.find_eq_t = find_eq_t"
   ]
  },
  {
   "cell_type": "code",
   "execution_count": 180,
   "metadata": {},
   "outputs": [],
   "source": [
    "def find_eq(self, print_output = False):\n",
    "\n",
    "    mu_ij = np.ones(self.m, dtype= int) * (self.n + 1)\n",
    "    U_i = np.ones(self.n)\n",
    "    V_j = np.ones(self.m) * self.lb_V\n",
    "    U_i *= np.inf\n",
    "\n",
    "    for t in range(self.n):\n",
    "        if print_output:\n",
    "            print(\"__________________________________________________________________\")\n",
    "            print(f\"PROBLEM t = {t}\")\n",
    "           \n",
    "        mu_ij, U_i, V_j = self.find_eq_t(t, mu_ij , U_i, V_j, print_output)\n",
    "\n",
    "    mu_matrix = np.zeros([self.n, self.m], dtype= bool)\n",
    "    for j in range(self.m):\n",
    "        if mu_ij[j]< (self.n+1): \n",
    "            mu_matrix[mu_ij[j],j] = 1 \n",
    "\n",
    "\n",
    "\n",
    "    return mu_matrix, U_i, V_j\n",
    "\n",
    "OneToOneITU.find_eq = find_eq"
   ]
  },
  {
   "attachments": {},
   "cell_type": "markdown",
   "metadata": {},
   "source": [
    "## Examples"
   ]
  },
  {
   "attachments": {},
   "cell_type": "markdown",
   "metadata": {},
   "source": [
    "### Small example"
   ]
  },
  {
   "cell_type": "code",
   "execution_count": 181,
   "metadata": {},
   "outputs": [],
   "source": [
    "n_small = 6\n",
    "m_small = 10\n",
    "example_small = OneToOneITU( n = n_small,m = m_small, size_params= (10,10) , random_seed= 88988, lbs =(2,1))"
   ]
  },
  {
   "cell_type": "code",
   "execution_count": 182,
   "metadata": {},
   "outputs": [
    {
     "name": "stdout",
     "output_type": "stream",
     "text": [
      "__________________________________________________________________\n",
      "PROBLEM t = 0\n"
     ]
    },
    {
     "data": {
      "text/latex": [
       "$\\displaystyle i_{ent} = 0 \\text{ matches (unmatched) } j_{pivot} = 4 \\text{ with }U_0 = 4.0000, \\ V_4 = 2.0000$"
      ],
      "text/plain": [
       "<IPython.core.display.Math object>"
      ]
     },
     "metadata": {},
     "output_type": "display_data"
    },
    {
     "name": "stdout",
     "output_type": "stream",
     "text": [
      "__________________________________________________________________\n",
      "PROBLEM t = 1\n"
     ]
    },
    {
     "data": {
      "text/latex": [
       "$\\displaystyle i_{ent} = 1 \\text{ matches (unmatched) } j_{pivot} = 8 \\text{ with }U_1 = 5.0000, \\ V_8 = 1.0000$"
      ],
      "text/plain": [
       "<IPython.core.display.Math object>"
      ]
     },
     "metadata": {},
     "output_type": "display_data"
    },
    {
     "name": "stdout",
     "output_type": "stream",
     "text": [
      "__________________________________________________________________\n",
      "PROBLEM t = 2\n"
     ]
    },
    {
     "data": {
      "text/latex": [
       "$\\displaystyle i_{ent} = 2 \\text{ matches (unmatched) } j_{pivot} = 5 \\text{ with }U_2 = 2.0000, \\ V_5 = 1.4000$"
      ],
      "text/plain": [
       "<IPython.core.display.Math object>"
      ]
     },
     "metadata": {},
     "output_type": "display_data"
    },
    {
     "name": "stdout",
     "output_type": "stream",
     "text": [
      "__________________________________________________________________\n",
      "PROBLEM t = 3\n"
     ]
    },
    {
     "data": {
      "text/latex": [
       "$\\displaystyle i_{ent} = 3 \\text{ matches (unmatched) } j_{pivot} = 3 \\text{ with }U_3 = 2.0000, \\ V_3 = 3.0000$"
      ],
      "text/plain": [
       "<IPython.core.display.Math object>"
      ]
     },
     "metadata": {},
     "output_type": "display_data"
    },
    {
     "name": "stdout",
     "output_type": "stream",
     "text": [
      "__________________________________________________________________\n",
      "PROBLEM t = 4\n"
     ]
    },
    {
     "data": {
      "text/latex": [
       "$\\displaystyle i_{ent} = 4 \\text{ is unmatched}$"
      ],
      "text/plain": [
       "<IPython.core.display.Math object>"
      ]
     },
     "metadata": {},
     "output_type": "display_data"
    },
    {
     "name": "stdout",
     "output_type": "stream",
     "text": [
      "__________________________________________________________________\n",
      "PROBLEM t = 5\n"
     ]
    },
    {
     "data": {
      "text/latex": [
       "$\\displaystyle i_{ent} = 5 \\text{ matches } j_{pivot} = 8 \\text{ (replacing } i_{dep} = 1\\text{) with}$"
      ],
      "text/plain": [
       "<IPython.core.display.Math object>"
      ]
     },
     "metadata": {},
     "output_type": "display_data"
    },
    {
     "data": {
      "text/latex": [
       "$\\displaystyle U_5 = 5.0, \\  V_8 = 1.3333, \\ \\ i_{entnew} = 1$"
      ],
      "text/plain": [
       "<IPython.core.display.Math object>"
      ]
     },
     "metadata": {},
     "output_type": "display_data"
    },
    {
     "name": "stdout",
     "output_type": "stream",
     "text": [
      "___________\n"
     ]
    },
    {
     "data": {
      "text/latex": [
       "$\\displaystyle i_{ent} = 1 \\text{ matches (unmatched) } j_{pivot} = 6 \\text{ with }U_1 = 3.6667, \\ V_6 = 1.3333$"
      ],
      "text/plain": [
       "<IPython.core.display.Math object>"
      ]
     },
     "metadata": {},
     "output_type": "display_data"
    }
   ],
   "source": [
    "mu_small , U_small, V_small = example_small.find_eq( print_output= True)"
   ]
  },
  {
   "cell_type": "code",
   "execution_count": 183,
   "metadata": {},
   "outputs": [
    {
     "data": {
      "text/markdown": [
       "____\n",
       "<h1>Feasibility</h1>"
      ],
      "text/plain": [
       "<IPython.core.display.Markdown object>"
      ]
     },
     "metadata": {},
     "output_type": "display_data"
    },
    {
     "data": {
      "text/latex": [
       "$\\displaystyle \\forall i, \\ \\sum_{j}  \\mu_{ij} \\leq 1: \\ True$"
      ],
      "text/plain": [
       "<IPython.core.display.Math object>"
      ]
     },
     "metadata": {},
     "output_type": "display_data"
    },
    {
     "data": {
      "text/latex": [
       "$\\displaystyle \\forall j, \\ \\sum_{i}  \\mu_{ij} \\leq 1: \\ True$"
      ],
      "text/plain": [
       "<IPython.core.display.Math object>"
      ]
     },
     "metadata": {},
     "output_type": "display_data"
    },
    {
     "data": {
      "text/markdown": [
       "#matched: 5 over 6"
      ],
      "text/plain": [
       "<IPython.core.display.Markdown object>"
      ]
     },
     "metadata": {},
     "output_type": "display_data"
    },
    {
     "data": {
      "text/markdown": [
       "____\n",
       "<h1>Generalized Complementary Slackness</h1>"
      ],
      "text/plain": [
       "<IPython.core.display.Markdown object>"
      ]
     },
     "metadata": {},
     "output_type": "display_data"
    },
    {
     "data": {
      "text/latex": [
       "$\\displaystyle \\frac1{nm} \\sum_{ij} \\min( A_{ij} U_i + G_{ij} V_j -  B_{ij} , 0)  = -6.66666721826914e-11$"
      ],
      "text/plain": [
       "<IPython.core.display.Math object>"
      ]
     },
     "metadata": {},
     "output_type": "display_data"
    },
    {
     "data": {
      "text/latex": [
       "$\\displaystyle \\frac1{nm} \\sum_{ij} \\mu_{ij} * (A_{ij} U_i + G_{ij} V_j - B_{ij}) = 0.0$"
      ],
      "text/plain": [
       "<IPython.core.display.Math object>"
      ]
     },
     "metadata": {},
     "output_type": "display_data"
    },
    {
     "data": {
      "text/markdown": [
       "____\n",
       "<h1>Individual Rationality</h1>"
      ],
      "text/plain": [
       "<IPython.core.display.Markdown object>"
      ]
     },
     "metadata": {},
     "output_type": "display_data"
    },
    {
     "data": {
      "text/latex": [
       "$\\displaystyle \\min_{i} U_{i} = 2.0 \\geq 2 = U_{lb}$"
      ],
      "text/plain": [
       "<IPython.core.display.Math object>"
      ]
     },
     "metadata": {},
     "output_type": "display_data"
    },
    {
     "data": {
      "text/latex": [
       "$\\displaystyle \\min_{j} V_{j} = 1.0 \\geq  1 = V_{lb}$"
      ],
      "text/plain": [
       "<IPython.core.display.Math object>"
      ]
     },
     "metadata": {},
     "output_type": "display_data"
    },
    {
     "data": {
      "text/latex": [
       "$\\displaystyle \\frac1{n} \\sum_{i} (U_{i} - U_{lb} ) * (\\sum_{j} \\mu_{ij} -1) = 0.0$"
      ],
      "text/plain": [
       "<IPython.core.display.Math object>"
      ]
     },
     "metadata": {},
     "output_type": "display_data"
    },
    {
     "data": {
      "text/latex": [
       "$\\displaystyle \\frac1{m}\\sum_{j} (V_{j} - V_{lb} ) * (\\sum_{i} \\mu_{ij} -1) = 0.0$"
      ],
      "text/plain": [
       "<IPython.core.display.Math object>"
      ]
     },
     "metadata": {},
     "output_type": "display_data"
    }
   ],
   "source": [
    "example_small.check_all( (mu_small, U_small,V_small))"
   ]
  },
  {
   "attachments": {},
   "cell_type": "markdown",
   "metadata": {},
   "source": [
    "### Big examples"
   ]
  },
  {
   "cell_type": "code",
   "execution_count": 184,
   "metadata": {},
   "outputs": [],
   "source": [
    "n_big = 5000\n",
    "m_big = 6000\n",
    "example_big = OneToOneITU( n = n_big ,m = m_big , size_params= (100,2) , random_seed= 10)"
   ]
  },
  {
   "cell_type": "code",
   "execution_count": 185,
   "metadata": {},
   "outputs": [],
   "source": [
    "mu_big , U_big,V_big = example_big.find_eq()"
   ]
  },
  {
   "cell_type": "code",
   "execution_count": 186,
   "metadata": {},
   "outputs": [
    {
     "data": {
      "text/markdown": [
       "____\n",
       "<h1>Feasibility</h1>"
      ],
      "text/plain": [
       "<IPython.core.display.Markdown object>"
      ]
     },
     "metadata": {},
     "output_type": "display_data"
    },
    {
     "data": {
      "text/latex": [
       "$\\displaystyle \\forall i, \\ \\sum_{j}  \\mu_{ij} \\leq 1: \\ True$"
      ],
      "text/plain": [
       "<IPython.core.display.Math object>"
      ]
     },
     "metadata": {},
     "output_type": "display_data"
    },
    {
     "data": {
      "text/latex": [
       "$\\displaystyle \\forall j, \\ \\sum_{i}  \\mu_{ij} \\leq 1: \\ True$"
      ],
      "text/plain": [
       "<IPython.core.display.Math object>"
      ]
     },
     "metadata": {},
     "output_type": "display_data"
    },
    {
     "data": {
      "text/markdown": [
       "#matched: 0 over 5000"
      ],
      "text/plain": [
       "<IPython.core.display.Markdown object>"
      ]
     },
     "metadata": {},
     "output_type": "display_data"
    },
    {
     "data": {
      "text/markdown": [
       "____\n",
       "<h1>Generalized Complementary Slackness</h1>"
      ],
      "text/plain": [
       "<IPython.core.display.Markdown object>"
      ]
     },
     "metadata": {},
     "output_type": "display_data"
    },
    {
     "data": {
      "text/latex": [
       "$\\displaystyle \\frac1{nm} \\sum_{ij} \\min( A_{ij} U_i + G_{ij} V_j -  B_{ij} , 0)  = 0.0$"
      ],
      "text/plain": [
       "<IPython.core.display.Math object>"
      ]
     },
     "metadata": {},
     "output_type": "display_data"
    },
    {
     "data": {
      "text/latex": [
       "$\\displaystyle \\frac1{nm} \\sum_{ij} \\mu_{ij} * (A_{ij} U_i + G_{ij} V_j - B_{ij}) = 0.0$"
      ],
      "text/plain": [
       "<IPython.core.display.Math object>"
      ]
     },
     "metadata": {},
     "output_type": "display_data"
    },
    {
     "data": {
      "text/markdown": [
       "____\n",
       "<h1>Individual Rationality</h1>"
      ],
      "text/plain": [
       "<IPython.core.display.Markdown object>"
      ]
     },
     "metadata": {},
     "output_type": "display_data"
    },
    {
     "data": {
      "text/latex": [
       "$\\displaystyle \\min_{i} U_{i} = 1.0 \\geq 1 = U_{lb}$"
      ],
      "text/plain": [
       "<IPython.core.display.Math object>"
      ]
     },
     "metadata": {},
     "output_type": "display_data"
    },
    {
     "data": {
      "text/latex": [
       "$\\displaystyle \\min_{j} V_{j} = 1.0 \\geq  1 = V_{lb}$"
      ],
      "text/plain": [
       "<IPython.core.display.Math object>"
      ]
     },
     "metadata": {},
     "output_type": "display_data"
    },
    {
     "data": {
      "text/latex": [
       "$\\displaystyle \\frac1{n} \\sum_{i} (U_{i} - U_{lb} ) * (\\sum_{j} \\mu_{ij} -1) = 0.0$"
      ],
      "text/plain": [
       "<IPython.core.display.Math object>"
      ]
     },
     "metadata": {},
     "output_type": "display_data"
    },
    {
     "data": {
      "text/latex": [
       "$\\displaystyle \\frac1{m}\\sum_{j} (V_{j} - V_{lb} ) * (\\sum_{i} \\mu_{ij} -1) = 0.0$"
      ],
      "text/plain": [
       "<IPython.core.display.Math object>"
      ]
     },
     "metadata": {},
     "output_type": "display_data"
    }
   ],
   "source": [
    "example_big.check_all((mu_big,U_big,V_big))"
   ]
  },
  {
   "attachments": {},
   "cell_type": "markdown",
   "metadata": {},
   "source": [
    "Let's try many examples"
   ]
  },
  {
   "cell_type": "code",
   "execution_count": 202,
   "metadata": {},
   "outputs": [
    {
     "name": "stdout",
     "output_type": "stream",
     "text": [
      "0\n",
      "1\n",
      "2\n",
      "3\n",
      "4\n",
      "5\n",
      "6\n",
      "7\n",
      "8\n",
      "9\n",
      "10\n",
      "11\n",
      "12\n",
      "13\n",
      "14\n",
      "15\n",
      "16\n",
      "17\n",
      "18\n",
      "19\n",
      "20\n",
      "21\n",
      "22\n",
      "23\n",
      "24\n",
      "25\n",
      "26\n",
      "27\n",
      "28\n",
      "29\n",
      "30\n",
      "31\n",
      "32\n",
      "33\n",
      "34\n",
      "35\n",
      "36\n",
      "37\n",
      "38\n",
      "39\n",
      "40\n",
      "41\n",
      "42\n",
      "43\n",
      "44\n",
      "45\n",
      "46\n",
      "47\n",
      "48\n",
      "49\n",
      "50\n",
      "51\n",
      "52\n",
      "53\n",
      "54\n",
      "55\n",
      "56\n",
      "57\n",
      "58\n",
      "59\n",
      "60\n",
      "61\n",
      "62\n",
      "63\n",
      "64\n",
      "65\n",
      "66\n",
      "67\n",
      "68\n",
      "69\n",
      "70\n",
      "71\n",
      "72\n",
      "73\n",
      "74\n",
      "75\n",
      "76\n",
      "77\n",
      "78\n",
      "79\n",
      "80\n",
      "81\n",
      "82\n",
      "83\n",
      "84\n",
      "85\n",
      "86\n",
      "87\n",
      "88\n",
      "89\n",
      "90\n",
      "91\n",
      "92\n",
      "93\n",
      "94\n",
      "95\n",
      "96\n",
      "97\n",
      "98\n",
      "99\n",
      "##################################\n",
      "##################################\n",
      "number of violations: 0\n",
      "##################################\n",
      "##################################\n"
     ]
    }
   ],
   "source": [
    "iters = 100\n",
    "error_tollerance = 1e-14\n",
    "\n",
    "n_r = 300\n",
    "m_r = 300\n",
    "\n",
    "violations = []\n",
    "for iter in range(iters):\n",
    "    print(iter)\n",
    "    \n",
    "    example = OneToOneITU( n = n_r,m = m_r, size_params= (2,1) , random_seed= iter**2, tol = .1)\n",
    "\n",
    "    \n",
    "    mu_r , U_r, V_r = example.find_eq()\n",
    "    viol_dual_feas = np.abs(np.mean(np.minimum(U_r[:,None] + example.A_ij * V_r - example.B_ij ,0)))\n",
    "    viol_dual_CS =  np.mean((U_r - example.lb_U) * ( 1 - np.sum(mu_r, axis = 1))) + np.mean((V_r - example.lb_V) * ( 1 - np.sum(mu_r, axis = 0)))\n",
    "    viol_prim_CS = np.abs(np.sum((U_r[:,None] + example.A_ij * V_r - example.B_ij) * mu_r))\n",
    "    viol_prim_feas = np.any(np.sum(mu_r, axis = 1) > 1) * np.any(np.sum(mu_r, axis = 0) > 1)\n",
    "\n",
    "    # check mu is a binary matrix\n",
    "    valid_i = np.all(np.logical_or(np.sum(mu_r, axis=0) == 1, np.sum(mu_r, axis=0) == 0))\n",
    "    valid_j = np.all(np.logical_or(np.sum(mu_r, axis=1) == 1, np.sum(mu_r, axis=1) == 0))\n",
    "    valid = valid_i * valid_j\n",
    "\n",
    "    if (-viol_dual_feas + viol_dual_CS + viol_prim_CS)/3 > error_tollerance or viol_prim_feas or not valid:\n",
    "        print(\"########\")\n",
    "        print(f\"violation in iter #{iter} (if numbers are negligible, it's numerical error)\")\n",
    "        print(f\"dual feas: {viol_dual_feas}\")\n",
    "        print(f\"dual CS: {viol_dual_CS}\")\n",
    "        print(f\"primal CS: {viol_prim_CS}\")\n",
    "        print(f\"primal feas : {not viol_prim_feas}\")\n",
    "        violations.append([iter, np.max([viol_dual_feas, viol_prim_CS]) ])\n",
    "        \n",
    "    \n",
    "print(\"##################################\")\n",
    "print(\"##################################\")\n",
    "print(f\"number of violations: {np.shape(violations)[0]}\")\n",
    "if np.size(violations) > 0:\n",
    "    print(f\"maximum violation: {np.max(np.array(violations)[:,1])}\")\n",
    "print(\"##################################\")\n",
    "print(\"##################################\")"
   ]
  },
  {
   "attachments": {},
   "cell_type": "markdown",
   "metadata": {},
   "source": [
    "### Compare with Gurobi in TU case"
   ]
  },
  {
   "attachments": {},
   "cell_type": "markdown",
   "metadata": {},
   "source": [
    "In the sut up above, standard TU corresponds to the case with $A \\equiv G \\equiv 1$ and $U_0 =V_0 = 0.$ $B$ represents the surplus matrix."
   ]
  },
  {
   "cell_type": "code",
   "execution_count": 191,
   "metadata": {},
   "outputs": [],
   "source": [
    "n_TU = 30\n",
    "m_TU = 30\n",
    "example_TU = OneToOneITU( n = n_TU,m = m_TU, size_params= (100,2) , random_seed= 8, lbs = (0,0), tol = 1e-6 )\n",
    "\n",
    "example_TU.A_ij = np.ones([n_TU,m_TU])\n",
    "# example_TU.B_ij = np.random.randint(0,10, size = [n_TU,m_TU])\n"
   ]
  },
  {
   "cell_type": "code",
   "execution_count": 192,
   "metadata": {},
   "outputs": [],
   "source": [
    "mu_TU ,U_TU, V_TU = example_TU.find_eq(print_output= False)"
   ]
  },
  {
   "cell_type": "code",
   "execution_count": 193,
   "metadata": {},
   "outputs": [
    {
     "data": {
      "text/markdown": [
       "____\n",
       "<h1>Feasibility</h1>"
      ],
      "text/plain": [
       "<IPython.core.display.Markdown object>"
      ]
     },
     "metadata": {},
     "output_type": "display_data"
    },
    {
     "data": {
      "text/latex": [
       "$\\displaystyle \\forall i, \\ \\sum_{j}  \\mu_{ij} \\leq 1: \\ True$"
      ],
      "text/plain": [
       "<IPython.core.display.Math object>"
      ]
     },
     "metadata": {},
     "output_type": "display_data"
    },
    {
     "data": {
      "text/latex": [
       "$\\displaystyle \\forall j, \\ \\sum_{i}  \\mu_{ij} \\leq 1: \\ True$"
      ],
      "text/plain": [
       "<IPython.core.display.Math object>"
      ]
     },
     "metadata": {},
     "output_type": "display_data"
    },
    {
     "data": {
      "text/markdown": [
       "#matched: 30 over 30"
      ],
      "text/plain": [
       "<IPython.core.display.Markdown object>"
      ]
     },
     "metadata": {},
     "output_type": "display_data"
    },
    {
     "data": {
      "text/markdown": [
       "____\n",
       "<h1>Generalized Complementary Slackness</h1>"
      ],
      "text/plain": [
       "<IPython.core.display.Markdown object>"
      ]
     },
     "metadata": {},
     "output_type": "display_data"
    },
    {
     "data": {
      "text/latex": [
       "$\\displaystyle \\frac1{nm} \\sum_{ij} \\min( A_{ij} U_i + G_{ij} V_j -  B_{ij} , 0)  = -2.0000000000575113e-08$"
      ],
      "text/plain": [
       "<IPython.core.display.Math object>"
      ]
     },
     "metadata": {},
     "output_type": "display_data"
    },
    {
     "data": {
      "text/latex": [
       "$\\displaystyle \\frac1{nm} \\sum_{ij} \\mu_{ij} * (A_{ij} U_i + G_{ij} V_j - B_{ij}) = 0.0$"
      ],
      "text/plain": [
       "<IPython.core.display.Math object>"
      ]
     },
     "metadata": {},
     "output_type": "display_data"
    },
    {
     "data": {
      "text/markdown": [
       "____\n",
       "<h1>Individual Rationality</h1>"
      ],
      "text/plain": [
       "<IPython.core.display.Markdown object>"
      ]
     },
     "metadata": {},
     "output_type": "display_data"
    },
    {
     "data": {
      "text/latex": [
       "$\\displaystyle \\min_{i} U_{i} = 1.0 \\geq 0 = U_{lb}$"
      ],
      "text/plain": [
       "<IPython.core.display.Math object>"
      ]
     },
     "metadata": {},
     "output_type": "display_data"
    },
    {
     "data": {
      "text/latex": [
       "$\\displaystyle \\min_{j} V_{j} = 0.0 \\geq  0 = V_{lb}$"
      ],
      "text/plain": [
       "<IPython.core.display.Math object>"
      ]
     },
     "metadata": {},
     "output_type": "display_data"
    },
    {
     "data": {
      "text/latex": [
       "$\\displaystyle \\frac1{n} \\sum_{i} (U_{i} - U_{lb} ) * (\\sum_{j} \\mu_{ij} -1) = 0.0$"
      ],
      "text/plain": [
       "<IPython.core.display.Math object>"
      ]
     },
     "metadata": {},
     "output_type": "display_data"
    },
    {
     "data": {
      "text/latex": [
       "$\\displaystyle \\frac1{m}\\sum_{j} (V_{j} - V_{lb} ) * (\\sum_{i} \\mu_{ij} -1) = 0.0$"
      ],
      "text/plain": [
       "<IPython.core.display.Math object>"
      ]
     },
     "metadata": {},
     "output_type": "display_data"
    }
   ],
   "source": [
    "example_TU.check_all((mu_TU ,U_TU, V_TU))"
   ]
  },
  {
   "attachments": {},
   "cell_type": "markdown",
   "metadata": {},
   "source": [
    "The following function finds the optimal matching solving the assignment problem:"
   ]
  },
  {
   "cell_type": "code",
   "execution_count": 194,
   "metadata": {},
   "outputs": [],
   "source": [
    "def solve_1to1(Φ_i_j):\n",
    "    n, m = np.shape(Φ_i_j)\n",
    "    M_z_a = spr.bmat([[spr.kron(spr.eye(n), np.ones((1, m)))],\n",
    "                      [spr.kron(np.ones((1, n)), spr.eye(m))]])\n",
    "  \n",
    "    q = np.concatenate((np.ones(n), np.ones(m)))\n",
    "\n",
    "    model = grb.Model()\n",
    "    mu_a = model.addMVar(n * m, vtype=grb.GRB.INTEGER)\n",
    "    model.setObjective(Φ_i_j.flatten() @ mu_a, GRB.MAXIMIZE)\n",
    "    model.addConstr(M_z_a @ mu_a <= q)\n",
    "    \n",
    "    model.Params.OutputFlag = 0\n",
    "    model.optimize()\n",
    "\n",
    "    return np.array(model.x, dtype= bool).reshape([n,m])*1"
   ]
  },
  {
   "cell_type": "code",
   "execution_count": 195,
   "metadata": {},
   "outputs": [
    {
     "data": {
      "text/plain": [
       "30"
      ]
     },
     "execution_count": 195,
     "metadata": {},
     "output_type": "execute_result"
    }
   ],
   "source": [
    "mu_gurobi  = solve_1to1(example_TU.B_ij)\n",
    "(mu_gurobi * example_TU.B_ij).sum()"
   ]
  },
  {
   "cell_type": "code",
   "execution_count": 196,
   "metadata": {},
   "outputs": [
    {
     "data": {
      "text/plain": [
       "29.999999999999996"
      ]
     },
     "execution_count": 196,
     "metadata": {},
     "output_type": "execute_result"
    }
   ],
   "source": [
    "U_TU.sum() + V_TU.sum()"
   ]
  },
  {
   "cell_type": "code",
   "execution_count": 197,
   "metadata": {},
   "outputs": [
    {
     "data": {
      "text/plain": [
       "30"
      ]
     },
     "execution_count": 197,
     "metadata": {},
     "output_type": "execute_result"
    }
   ],
   "source": [
    "(mu_TU * example_TU.B_ij).sum()"
   ]
  },
  {
   "cell_type": "code",
   "execution_count": 198,
   "metadata": {},
   "outputs": [
    {
     "data": {
      "text/plain": [
       "False"
      ]
     },
     "execution_count": 198,
     "metadata": {},
     "output_type": "execute_result"
    }
   ],
   "source": [
    "np.all(mu_TU == mu_gurobi)"
   ]
  },
  {
   "cell_type": "code",
   "execution_count": null,
   "metadata": {},
   "outputs": [],
   "source": []
  },
  {
   "cell_type": "code",
   "execution_count": null,
   "metadata": {},
   "outputs": [],
   "source": []
  },
  {
   "cell_type": "code",
   "execution_count": null,
   "metadata": {},
   "outputs": [],
   "source": [
    "n_01 = 100\n",
    "m_01 = 100\n",
    "example_01 = OneToOneITU( n = n_01,m = m_01, params=(7,6,2,10), random_seed= 59**3, lbs = (0,0), tol =  0.1)\n",
    "np.random.seed(19)\n",
    "example_01.A_ij = np.ones([n_01,m_01])\n",
    "example_01.G_ij = np.ones([n_01,m_01])\n",
    "example_01.B_ij = np.random.randint(0,2, size = [n_01,m_01])"
   ]
  },
  {
   "cell_type": "code",
   "execution_count": null,
   "metadata": {},
   "outputs": [],
   "source": [
    "mu_01 ,U_01, V_01 = example_01.find_eq(print_output= False)"
   ]
  },
  {
   "cell_type": "code",
   "execution_count": null,
   "metadata": {},
   "outputs": [
    {
     "data": {
      "text/markdown": [
       "____\n",
       "<h1>Feasibility</h1>"
      ],
      "text/plain": [
       "<IPython.core.display.Markdown object>"
      ]
     },
     "metadata": {},
     "output_type": "display_data"
    },
    {
     "data": {
      "text/latex": [
       "$\\displaystyle \\forall i, \\ \\sum_{j}  \\mu_{ij} \\leq 1: \\ True$"
      ],
      "text/plain": [
       "<IPython.core.display.Math object>"
      ]
     },
     "metadata": {},
     "output_type": "display_data"
    },
    {
     "data": {
      "text/latex": [
       "$\\displaystyle \\forall j, \\ \\sum_{i}  \\mu_{ij} \\leq 1: \\ True$"
      ],
      "text/plain": [
       "<IPython.core.display.Math object>"
      ]
     },
     "metadata": {},
     "output_type": "display_data"
    },
    {
     "data": {
      "text/markdown": [
       "#matched: 100 over 100"
      ],
      "text/plain": [
       "<IPython.core.display.Markdown object>"
      ]
     },
     "metadata": {},
     "output_type": "display_data"
    },
    {
     "data": {
      "text/markdown": [
       "____\n",
       "<h1>Generalized Complementary Slackness</h1>"
      ],
      "text/plain": [
       "<IPython.core.display.Markdown object>"
      ]
     },
     "metadata": {},
     "output_type": "display_data"
    },
    {
     "data": {
      "text/latex": [
       "$\\displaystyle \\frac1{nm} \\sum_{ij} \\min( A_{ij} U_i + G_{ij} V_j -  B_{ij} , 0)  = -0.0009099999999999998$"
      ],
      "text/plain": [
       "<IPython.core.display.Math object>"
      ]
     },
     "metadata": {},
     "output_type": "display_data"
    },
    {
     "data": {
      "text/latex": [
       "$\\displaystyle \\frac1{nm} \\sum_{ij} \\mu_{ij} * (A_{ij} U_i + G_{ij} V_j - B_{ij}) = 0.0$"
      ],
      "text/plain": [
       "<IPython.core.display.Math object>"
      ]
     },
     "metadata": {},
     "output_type": "display_data"
    },
    {
     "data": {
      "text/markdown": [
       "____\n",
       "<h1>Individual Rationality</h1>"
      ],
      "text/plain": [
       "<IPython.core.display.Markdown object>"
      ]
     },
     "metadata": {},
     "output_type": "display_data"
    },
    {
     "data": {
      "text/latex": [
       "$\\displaystyle \\min_{i} U_{i} = 0.9 \\geq 0 = U_{lb}$"
      ],
      "text/plain": [
       "<IPython.core.display.Math object>"
      ]
     },
     "metadata": {},
     "output_type": "display_data"
    },
    {
     "data": {
      "text/latex": [
       "$\\displaystyle \\min_{j} V_{j} = 0.0 \\geq  0 = V_{lb}$"
      ],
      "text/plain": [
       "<IPython.core.display.Math object>"
      ]
     },
     "metadata": {},
     "output_type": "display_data"
    },
    {
     "data": {
      "text/latex": [
       "$\\displaystyle \\frac1{n} \\sum_{i} (U_{i} - U_{lb} ) * (\\sum_{j} \\mu_{ij} -1) = 0.0$"
      ],
      "text/plain": [
       "<IPython.core.display.Math object>"
      ]
     },
     "metadata": {},
     "output_type": "display_data"
    },
    {
     "data": {
      "text/latex": [
       "$\\displaystyle \\frac1{m}\\sum_{j} (V_{j} - V_{lb} ) * (\\sum_{i} \\mu_{ij} -1) = 0.0$"
      ],
      "text/plain": [
       "<IPython.core.display.Math object>"
      ]
     },
     "metadata": {},
     "output_type": "display_data"
    }
   ],
   "source": [
    "example_01.check_all((mu_01 ,U_01, V_01))"
   ]
  },
  {
   "cell_type": "code",
   "execution_count": null,
   "metadata": {},
   "outputs": [],
   "source": []
  }
 ],
 "metadata": {
  "kernelspec": {
   "display_name": "Python 3",
   "language": "python",
   "name": "python3"
  },
  "language_info": {
   "codemirror_mode": {
    "name": "ipython",
    "version": 3
   },
   "file_extension": ".py",
   "mimetype": "text/x-python",
   "name": "python",
   "nbconvert_exporter": "python",
   "pygments_lexer": "ipython3",
   "version": "3.12.0"
  }
 },
 "nbformat": 4,
 "nbformat_minor": 2
}
