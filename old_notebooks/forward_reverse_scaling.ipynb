{
 "cells": [
  {
   "cell_type": "code",
   "execution_count": 80,
   "metadata": {},
   "outputs": [],
   "source": [
    "import gurobipy as grb\n",
    "from gurobipy import GRB\n",
    "import scipy.sparse as spr\n",
    "import numpy as np\n",
    "import random\n",
    "import matplotlib.pyplot as plt\n",
    "#from sympy import symbols, Rational\n",
    "from IPython.display import display, Math, Markdown\n",
    "import numpy.ma as ma\n",
    "import scipy as sp"
   ]
  },
  {
   "cell_type": "code",
   "execution_count": 81,
   "metadata": {},
   "outputs": [],
   "source": [
    "class OneToOneITU():\n",
    "    def __init__(self, n, m, parameters = (None,None) , lbs=(0, 0)):\n",
    "        self.n = n\n",
    "        self.m = m\n",
    "        self.lb_U, self.lb_V = lbs\n",
    "     \n",
    "       \n",
    "        self.A_ij = parameters[0]\n",
    "        self.B_ij = parameters[1]\n",
    "        \n",
    "        self.max_A_j = np.max(parameters[0],0)\n",
    "\n",
    "    def D_ij(self, U_i, V_j):\n",
    "        return (U_i[:, None] + self.A_ij * V_j[None, :] - self.B_ij)/(1+ self.A_ij)\n",
    "\n",
    "    def get_U_ij(self, V_j, i_idx ,j_idx = None):\n",
    "        if j_idx is None:\n",
    "            return self.B_ij[i_idx] - self.A_ij[i_idx] * V_j[None, :]\n",
    "        else:\n",
    "            return self.B_ij[i_idx,j_idx] - self.A_ij[i_idx,j_idx] * V_j[None, :]\n",
    "\n",
    "    def get_V_ij(self, U_i, j_idx ,i_idx = None):\n",
    "        if i_idx is None:\n",
    "            return (self.B_ij[:,j_idx] -  U_i[:,None])/ self.A_ij[:,j_idx]\n",
    "        else:\n",
    "            return (self.B_ij[i_idx,j_idx] -  U_i[:,None])/ self.A_ij[i_idx,j_idx]"
   ]
  },
  {
   "cell_type": "code",
   "execution_count": 82,
   "metadata": {},
   "outputs": [],
   "source": [
    "def generate_example(self, var_i, var_j, random_seed):\n",
    "    np.random.seed(random_seed)\n",
    "    k = 2\n",
    "\n",
    "    θ_true = np.array([-0.1,0.1, 1,2])\n",
    "\n",
    "    X_i = np.random.normal([5,var_i],[5,var_i], size = [self.n, k]).round(0)\n",
    "    Y_j = np.random.normal([5,var_j],[5,var_j], size = [self.m, k]).round(0)\n",
    "    #X_ijk = np.random.choice(10, size = (self.n_i,m_j, k))\n",
    "\n",
    "    A = np.exp( np.abs((X_i[:,None,:]- Y_j[None,:,:]))@  θ_true[:k]).round(1)+.001\n",
    "    B = np.abs((X_i[:,None,:]*Y_j[None,:,:])) @ θ_true[k:2*k] \n",
    "    print(len(np.unique(X_i)))\n",
    "    self.A_ij = A\n",
    "    self.B_ij = B\n",
    "    self.max_A_j = np.max(A, axis= 0)\n",
    "\n",
    "OneToOneITU.generate_example = generate_example"
   ]
  },
  {
   "cell_type": "code",
   "execution_count": 83,
   "metadata": {},
   "outputs": [],
   "source": [
    "# def transpose_mkt(self):\n",
    "#     n, m = self.n, self.m\n",
    "#     self.m = n\n",
    "#     self.n = m\n",
    "\n",
    "#     self.A_ij = 1 / self.A_ij.T\n",
    "#     self.B_ij = self.B_ij.T/ self.A_ij\n",
    "\n",
    "# OneToOneITU.transpose_mkt = transpose_mkt"
   ]
  },
  {
   "cell_type": "code",
   "execution_count": 84,
   "metadata": {},
   "outputs": [],
   "source": [
    "def check_primal_feas(self, mu_ij):\n",
    "    print(f\"i: { np.all(np.sum(mu_ij,axis=1) <= 1)}, j:  {np.all(np.sum(mu_ij,axis=0) <= 1) }\")\n",
    "    print(f\"#matched: {int(np.sum(mu_ij))} over {np.minimum(self.n,self.m)}\")\n",
    "\n",
    "OneToOneITU.check_primal_feas = check_primal_feas\n",
    "\n",
    "def check_IR(self,mu_ij,U_i,V_j, output = False):\n",
    "    IR_i = np.sum((U_i - self.lb_U)* (1- np.sum(mu_ij,axis=1)))\n",
    "    IR_j = np.sum((V_j - self.lb_V) * (1 - np.sum(mu_ij,axis=0))) \n",
    "    print(f\"i: { IR_i}, j:  {IR_j }\")\n",
    "    if output is True:\n",
    "        IR_i = (U_i - self.lb_U)* (np.sum(mu_ij,axis=1) - 1) >= 0 \n",
    "        IR_j = (V_j - self.lb_V) * (np.sum(mu_ij,axis=0) - 1) >= 0\n",
    "        return IR_i, IR_j\n",
    "    \n",
    "OneToOneITU.check_IR = check_IR\n",
    "\n",
    "def check_CS(self,U_i,V_j, output = None):\n",
    "    CS = np.minimum(self.D_ij(U_i,V_j),0)\n",
    "    if output:\n",
    "        return CS, np.where(CS < 0 )\n",
    "    print(f\"min_ij D_ij : {(self.D_ij(U_i,V_j)).min()} \")\n",
    "    \n",
    "OneToOneITU.check_CS = check_CS \n",
    "\n",
    "def check_all(self,eq):\n",
    "    mu_ij, U_i, V_j = eq \n",
    "    print(\"FEAS\")\n",
    "    self.check_primal_feas(mu_ij)\n",
    "    print(\"________________\")\n",
    "    print(\"ε-CS\")\n",
    "    self.check_CS(U_i, V_j )\n",
    "    print(\"________________\")\n",
    "    print(\"IR\")\n",
    "    self.check_IR(mu_ij, U_i, V_j )\n",
    "\n",
    "OneToOneITU.check_all = check_all\n",
    "\n",
    "def check_CS_i_or_j(self,u_i, v_j, side = 0):\n",
    "    if side == 0:\n",
    "        return u_i[:,None] - self.get_U_ij(v_j, np.arange(self.n))\n",
    "    else:\n",
    "        return v_j[None,:] - self.get_V_ij(u_i, np.arange(self.m))\n",
    "    \n",
    "OneToOneITU.check_CS_i_or_j = check_CS_i_or_j"
   ]
  },
  {
   "cell_type": "markdown",
   "metadata": {},
   "source": [
    "# Auction algorithms"
   ]
  },
  {
   "cell_type": "markdown",
   "metadata": {},
   "source": [
    "### Forward Auction"
   ]
  },
  {
   "cell_type": "code",
   "execution_count": 85,
   "metadata": {
    "slideshow": {
     "slide_type": "notes"
    }
   },
   "outputs": [],
   "source": [
    "def forward_auction(self, data = None, tol_ε = None):\n",
    "    if data is None:\n",
    "        V_j = np.ones(self.m) * self.lb_V\n",
    "        mu_i = np.ones( self.n, dtype= int) * (self.m +1)\n",
    "    else:\n",
    "        mu_ij_01 = data[0]\n",
    "        V_j = data[1]\n",
    "        id_i, id_j = np.where(mu_ij_01 > 0)\n",
    "        mu_i = np.ones(self.n, dtype= int) * (self.m+1)\n",
    "        mu_i[id_i] = id_j\n",
    "\n",
    "    unassigned_i = np.where(mu_i == self.m + 1)[0] \n",
    "    n_unassigned_i = len(unassigned_i)\n",
    "    iter = 0\n",
    "\n",
    "    while n_unassigned_i > 0:\n",
    "        iter += 1\n",
    "        U_ij = self.get_U_ij( V_j, unassigned_i)\n",
    "        perm_unmatched = np.all(U_ij <= self.lb_U+tol_ε, axis = 1)#np.all(U_ij <= self.lb_U, axis = 1)\n",
    "        \n",
    "        if np.any(perm_unmatched):\n",
    "            mu_i[unassigned_i] += (self.m - mu_i[unassigned_i]) * perm_unmatched\n",
    "        else:\n",
    "            ### bidding phase\n",
    "            U_ij = np.concatenate((U_ij, self.lb_U * np.ones((n_unassigned_i,1))), axis = 1)\n",
    "            j_i = np.argmax(U_ij, axis= 1)\n",
    "            masked_U_ij = np.where(j_i[:,None] == np.arange(self.m+1)[None, :], -np.inf,U_ij)\n",
    "            w_i = np.max(masked_U_ij, axis=1)\n",
    "            j_i_unique = np.unique(j_i)\n",
    "            offers = np.where(j_i[:,None] == j_i_unique[None,:], \n",
    "                              self.get_V_ij(w_i- tol_ε,j_i_unique[None,:],unassigned_i[:,None]), \n",
    "                              np.nan)\n",
    "       \n",
    "            ### assignment phase\n",
    "            i_j_among_unass = np.nanargmax(offers, axis = 0)\n",
    "            i_j = unassigned_i[ i_j_among_unass]\n",
    "            best_offer_j = offers[i_j_among_unass, np.arange(len(j_i_unique))]\n",
    "\n",
    "            # modify solution\n",
    "            mu_i[  np.any( mu_i[:,None] == j_i_unique , axis = 1) ] = self.m +1\n",
    "            mu_i[i_j] = j_i_unique\n",
    "            \n",
    "            V_j[j_i_unique] = best_offer_j #- V_j[j_i_unique] + tol_ε / self.A_ij[i_j,j_i_unique] #np.maximum(best_offer_j - V_j[j_i_unique], tol_ε/self.A_ij[i_j,j_i_unique])\n",
    "            # print(V_j)\n",
    "        unassigned_i = np.where(mu_i == self.m + 1)[0]\n",
    "        n_unassigned_i = len(unassigned_i)\n",
    "        \n",
    "    print(f\"for: {iter}\")\n",
    "    matched_i =  mu_i < self.m\n",
    "    U_i = np.ones(self.n) * self.lb_U\n",
    "    U_i[matched_i] = self.get_U_ij(V_j, matched_i)[np.arange(matched_i.sum()), mu_i[matched_i]]\n",
    "    mu_ij_01 = mu_i[:,None] == np.arange(self.m +1)\n",
    "\n",
    "    return mu_ij_01[:,:-1], U_i, V_j\n",
    "    \n",
    "\n",
    "OneToOneITU.forward_auction = forward_auction"
   ]
  },
  {
   "cell_type": "markdown",
   "metadata": {},
   "source": [
    "#### TU"
   ]
  },
  {
   "cell_type": "code",
   "execution_count": 86,
   "metadata": {},
   "outputs": [],
   "source": [
    "# n_TU = 25\n",
    "# m_TU = 26\n",
    "# A_TU = np.ones([n_TU,m_TU])\n",
    "# B_TU = np.random.normal(40,5,[n_TU,m_TU]).round(0)\n",
    "\n",
    "# example_TU = OneToOneITU( n_TU,m_TU, (A_TU,B_TU))\n",
    "# mu_TU, u_TU, v_TU = example_TU.reverse_auction(tol_ε= 0.001)"
   ]
  },
  {
   "cell_type": "code",
   "execution_count": 87,
   "metadata": {},
   "outputs": [],
   "source": [
    "# def solve_1to1(Φ_i_j):\n",
    "#     n, m = np.shape(Φ_i_j)\n",
    "#     M_z_a = spr.bmat([[spr.kron(spr.eye(n), np.ones((1, m)))],\n",
    "#                       [spr.kron(np.ones((1, n)), spr.eye(m))]])\n",
    "  \n",
    "#     q = np.concatenate((np.ones(n), np.ones(m)))\n",
    "\n",
    "#     model = grb.Model()\n",
    "#     mu_a = model.addMVar(n * m, vtype=grb.GRB.INTEGER)\n",
    "#     model.setObjective(Φ_i_j.flatten() @ mu_a, GRB.MAXIMIZE)\n",
    "#     model.addConstr(M_z_a @ mu_a <= q)\n",
    "    \n",
    "#     model.Params.OutputFlag = 0\n",
    "#     model.optimize()\n",
    "\n",
    "#     return np.array(model.x, dtype= bool).reshape([n,m])*1\n",
    "\n",
    "# mu_gurobi = solve_1to1(B_TU)\n",
    "# print((mu_gurobi * B_TU).sum())\n",
    "# print(u_TU.sum() +v_TU.sum())\n",
    "# example_TU.check_all( (mu_TU, u_TU, v_TU ))"
   ]
  },
  {
   "cell_type": "markdown",
   "metadata": {},
   "source": [
    "### Reverse Auction"
   ]
  },
  {
   "cell_type": "code",
   "execution_count": 88,
   "metadata": {},
   "outputs": [],
   "source": [
    "def reverse_auction(self, data = None, tol_ε = None):\n",
    "    if data is None:\n",
    "        U_i = np.ones(self.n) * self.lb_U\n",
    "        mu_j = np.ones(self.m, dtype= int) * (self.n +1)\n",
    "    else:\n",
    "        mu_j_01 = data[0]\n",
    "        U_i = data[1]\n",
    "        id_i, id_j = np.where(mu_j_01 >0)\n",
    "        mu_j = np.ones(self.m, dtype= int) * (self.n+1)\n",
    "        mu_j[id_j] = id_i\n",
    "\n",
    "    unassigned_j = np.where(mu_j == self.n + 1)[0] \n",
    "    n_unassigned_j = len(unassigned_j)\n",
    "    iter = 0\n",
    "\n",
    "    while n_unassigned_j > 0:\n",
    "        iter += 1\n",
    "        V_ij = self.get_V_ij( U_i , unassigned_j)\n",
    "        perm_unmatched = np.all(V_ij <= self.lb_V+ tol_ε, axis = 0) #np.all(V_ij <= self.lb_V, axis = 0)\n",
    "        \n",
    "        if np.any(perm_unmatched):\n",
    "            mu_j[unassigned_j] += (self.n - mu_j[unassigned_j]) * perm_unmatched\n",
    "        \n",
    "        else:\n",
    "            ### bidding phase\n",
    "            V_ij = np.concatenate((V_ij, self.lb_V * np.ones((1,n_unassigned_j))), axis = 0)\n",
    "            i_j = np.argmax(V_ij, axis= 0)\n",
    "            masked_V_ij = np.where( np.arange(self.n+1)[:, None] == i_j[None,:] , -np.inf,V_ij)\n",
    "            β_j = np.max(masked_V_ij, axis=0)\n",
    "            i_j_unique = np.unique(i_j)\n",
    "            offers = np.where(i_j_unique[:,None] == i_j[None,:], \n",
    "                              self.get_U_ij(β_j - tol_ε,i_j_unique[:,None] ,unassigned_j[None,:]), \n",
    "                              np.nan)\n",
    "\n",
    "            ### assignment phase\n",
    "            j_i_among_unass = np.nanargmax(offers, axis = 1)\n",
    "            j_i = unassigned_j[j_i_among_unass]\n",
    "            best_offer_i = offers[np.arange(len(i_j_unique)),j_i_among_unass]\n",
    "            # modify solution\n",
    "            mu_j[ np.any( mu_j[:,None] == i_j_unique , axis = 1) ] = self.n +1\n",
    "            mu_j[j_i] = i_j_unique\n",
    "            U_i[i_j_unique] = best_offer_i #- U_i[i_j_unique] + tol_ε * self.A_ij[i_j_unique,j_i]#np.maximum(best_offer_i - U_i[i_j_unique], tol_ε * self.A_ij[i_j_unique,j_i] )#/ self.max_A_j[j_i] )\n",
    "                                        \n",
    "        unassigned_j = np.where(mu_j == self.n + 1)[0]\n",
    "        n_unassigned_j = len(unassigned_j)\n",
    "        \n",
    "    print(f\"rev: {iter}\") \n",
    "    matched_j =  mu_j < self.n\n",
    "    V_j = np.ones(self.m) * self.lb_V\n",
    "    V_j[mu_j < self.n] = self.get_V_ij(U_i, matched_j )[mu_j[matched_j],np.arange(matched_j.sum()) ]\n",
    "    mu_j_01 = np.arange(self.n +1)[:,None] == mu_j[None,:]\n",
    "\n",
    "    return mu_j_01[:-1,:], U_i, V_j\n",
    "    \n",
    "\n",
    "OneToOneITU.reverse_auction = reverse_auction"
   ]
  },
  {
   "cell_type": "markdown",
   "metadata": {},
   "source": [
    "### Forward-backward auction"
   ]
  },
  {
   "cell_type": "code",
   "execution_count": 89,
   "metadata": {},
   "outputs": [],
   "source": [
    "def drop_for_scaling(self, mu_ij_01, U_i,V_j, tol_ε, side = 1):\n",
    "    if side == 1:\n",
    "        violations_j = np.any( V_j[None,:] + tol_ε <  self.get_V_ij(U_i  ,np.arange(self.m)), axis=  0)\n",
    "        #violations_j = np.any( V_j[None,:] <  self.get_V_ij(U_i + tol_ε ,np.arange(self.m)), axis=  0)\n",
    "        # print(violations_j.sum())\n",
    "        mu_ij_01[:,violations_j] = 0\n",
    "\n",
    "        print(f\"dropped: {violations_j.sum()}\")\n",
    "        # violations_i = np.any( U_i[:,None]+ tol_ε <  self.get_U_ij(V_j,np.arange(self.n)), axis=  1)\n",
    "        # print(violations_i.sum())\n",
    "        # mu_ij_01[violations_i,:] = 0\n",
    "\n",
    "      \n",
    "    else:\n",
    "        violations_i = np.any( U_i[:,None] + tol_ε <  self.get_U_ij(V_j  ,np.arange(self.n)), axis=  1)\n",
    "   \n",
    "        mu_ij_01[violations_i,:] = 0\n",
    "\n",
    "        print(f\"dropped: {violations_i.sum()}\")\n",
    "        # violations_i = np.any( U_i[:,None]+ tol_ε <  self.get_U_ij(V_j,np.arange(self.n)), axis=  1)\n",
    "        # print(violations_i.sum())\n",
    "        # mu_ij_01[violations_i,:] = 0\n",
    "\n",
    "    return mu_ij_01, U_i,V_j\n",
    "OneToOneITU.drop_for_scaling = drop_for_scaling"
   ]
  },
  {
   "cell_type": "code",
   "execution_count": 90,
   "metadata": {},
   "outputs": [],
   "source": [
    "def forward_backward_scaling(self, tol_ε ,tol_ε_obj, scaling_factor):\n",
    "    mu_ij_01, u_i, v_j = self.forward_auction((np.zeros([self.n ,self.m]), np.ones(self.m) * self.lb_V),tol_ε = tol_ε)\n",
    "\n",
    "    print(\"_________\")\n",
    "    while tol_ε > tol_ε_obj:\n",
    "        # tol_ε *=  scaling_factor\n",
    "        # print(\"####\")\n",
    "        # print( tol_ε)\n",
    "        # mu_ij_01, u_i, v_j = self.drop_for_scaling(mu_ij_01, u_i, v_j , tol_ε)\n",
    "        mu_ij_01 = np.zeros([self.n ,self.m])\n",
    "        mu_ij_01, u_i, v_j = self.reverse_auction((mu_ij_01, u_i), tol_ε= tol_ε)\n",
    "        #self.check_IR(mu_ij_01, u_i,v_j)\n",
    "        tol_ε *=  scaling_factor\n",
    "        # mu_ij_01, u_i, v_j = self.drop_for_scaling(mu_ij_01, u_i, v_j , tol_ε, side = 0)\n",
    "        #mu_ij_01 = np.zeros([self.n ,self.m])\n",
    "        mu_ij_01, u_i, v_j = self.forward_auction((mu_ij_01, v_j ), tol_ε = tol_ε)\n",
    "        #self.check_CS(u_i,v_j)\n",
    "        #self.check_IR(mu_ij_01, u_i,v_j)\n",
    "        print(\"_________\")   \n",
    "        # if np.all(self.check_CS(u_i,v_j,True)[0]>= - tol_ε_obj):\n",
    "        #     return mu_ij_01, u_i, v_j\n",
    "    #tol_ε *=  scaling_factor\n",
    "    # mu_ij_01, u_i, v_j = self.drop_for_scaling(mu_ij_01, u_i, v_j , tol_ε)\n",
    "    mu_ij_01 = np.zeros([self.n ,self.m])\n",
    "    mu_ij_01, u_i, v_j = self.reverse_auction((mu_ij_01, u_i), tol_ε= tol_ε)\n",
    "    mu_ij_01, u_i, v_j = self.forward_auction((mu_ij_01, v_j ), tol_ε = tol_ε)\n",
    "    return mu_ij_01, u_i, v_j\n",
    "OneToOneITU.forward_backward_scaling =forward_backward_scaling  "
   ]
  },
  {
   "cell_type": "code",
   "execution_count": 91,
   "metadata": {},
   "outputs": [],
   "source": [
    "tol_ε = 5"
   ]
  },
  {
   "cell_type": "code",
   "execution_count": 92,
   "metadata": {},
   "outputs": [
    {
     "name": "stdout",
     "output_type": "stream",
     "text": [
      "for: 259\n"
     ]
    },
    {
     "data": {
      "text/plain": [
       "-5.0"
      ]
     },
     "execution_count": 92,
     "metadata": {},
     "output_type": "execute_result"
    }
   ],
   "source": [
    "mu_ij_01, u_i, v_j = example_mkt_2.forward_auction((np.zeros([example_mkt_2.n ,example_mkt_2.m]), np.ones(example_mkt_2.m) * example_mkt_2.lb_V),tol_ε = tol_ε)\n",
    "example_mkt_2.check_CS_i_or_j(u_i, v_j, side = 0).min()"
   ]
  },
  {
   "cell_type": "code",
   "execution_count": 93,
   "metadata": {},
   "outputs": [
    {
     "data": {
      "text/plain": [
       "258"
      ]
     },
     "execution_count": 93,
     "metadata": {},
     "output_type": "execute_result"
    }
   ],
   "source": [
    "mu_ij_01.sum()"
   ]
  },
  {
   "cell_type": "code",
   "execution_count": 94,
   "metadata": {},
   "outputs": [
    {
     "name": "stdout",
     "output_type": "stream",
     "text": [
      "rev: 5283\n"
     ]
    },
    {
     "data": {
      "text/plain": [
       "-0.10000000000000009"
      ]
     },
     "execution_count": 94,
     "metadata": {},
     "output_type": "execute_result"
    }
   ],
   "source": [
    "mu_ij_01 = np.zeros([example_mkt_2.n ,example_mkt_2.m])\n",
    "mu_ij_01, u_i, v_j = example_mkt_2.reverse_auction((mu_ij_01, u_i), tol_ε= .1)\n",
    "example_mkt_2.check_CS_i_or_j(u_i, v_j, side = 0).min()"
   ]
  },
  {
   "cell_type": "code",
   "execution_count": 95,
   "metadata": {},
   "outputs": [
    {
     "data": {
      "text/plain": [
       "array([], dtype=float64)"
      ]
     },
     "execution_count": 95,
     "metadata": {},
     "output_type": "execute_result"
    }
   ],
   "source": [
    "u_i[mu_ij_01.sum(1) == 0]"
   ]
  },
  {
   "cell_type": "code",
   "execution_count": null,
   "metadata": {},
   "outputs": [],
   "source": []
  },
  {
   "cell_type": "code",
   "execution_count": null,
   "metadata": {},
   "outputs": [],
   "source": []
  },
  {
   "cell_type": "markdown",
   "metadata": {},
   "source": [
    "# Examples"
   ]
  },
  {
   "cell_type": "code",
   "execution_count": 96,
   "metadata": {},
   "outputs": [],
   "source": [
    "# n_i =  500\n",
    "# m_j  = 530\n",
    "# example_mkt = OneToOneITU( n_i,m_j, lbs=(0,0))\n",
    "# example_mkt.generate_example(2,2, random_seed = 1309887)"
   ]
  },
  {
   "cell_type": "code",
   "execution_count": 97,
   "metadata": {},
   "outputs": [],
   "source": [
    "# example_mkt.A_ij = np.random.choice([.25,.5,1,2,4],size=[ n_i,m_j])"
   ]
  },
  {
   "cell_type": "code",
   "execution_count": 98,
   "metadata": {},
   "outputs": [],
   "source": [
    "# example_mkt.A_ij.min()"
   ]
  },
  {
   "cell_type": "code",
   "execution_count": 99,
   "metadata": {},
   "outputs": [],
   "source": [
    "# tol_ε_i = 10\n",
    "# mu_ij_01, u_i, v_j = example_mkt.forward_auction((np.zeros([example_mkt.n ,example_mkt.m]), np.ones(example_mkt.m) *0),tol_ε = tol_ε_i)"
   ]
  },
  {
   "cell_type": "code",
   "execution_count": 100,
   "metadata": {},
   "outputs": [],
   "source": [
    "# mu_ij_01_scaling, u_i_scaling, v_j_scaling = example_mkt.forward_backward_scaling(10,1e-12, 1/3)"
   ]
  },
  {
   "cell_type": "code",
   "execution_count": 101,
   "metadata": {},
   "outputs": [],
   "source": [
    "# example_mkt.check_all((mu_ij_01_scaling, u_i_scaling, v_j_scaling))"
   ]
  },
  {
   "cell_type": "code",
   "execution_count": 102,
   "metadata": {},
   "outputs": [],
   "source": [
    "# (u_i_scaling - example_mkt.lb_U ) [ np.where(mu_ij_01_scaling.sum(1)  == 0)]"
   ]
  },
  {
   "cell_type": "code",
   "execution_count": 103,
   "metadata": {},
   "outputs": [],
   "source": [
    "# u_i_scaling.sum()+ v_j_scaling.sum()"
   ]
  },
  {
   "cell_type": "code",
   "execution_count": 104,
   "metadata": {},
   "outputs": [],
   "source": [
    "n_i =  500\n",
    "m_j  = 600\n",
    "np.random.seed(123)\n",
    "A_ =  np.ones([n_i,m_j])#np.random.choice([.25,.5,1,2,4], size= [n_i,1] ) * np.random.choice([.25,.5,1,2,4], size= [1, m_j] ) #  #np.random.choice([.25,.5,1,2,4], size= [n_i,m_j])\n",
    "B_ = (np.random.randint(1,3, size= [ n_i,1]) * np.random.randint(1,3, size= [ 1,m_j]))**2 +1 #np.random.choice([200, 300], size=(n_i, m_j), p=[.9,.1 ]) * 100#np.random.randint(n_i/2,n_i,size = [n_i,m_j]) # np.random.choice([0,1], size= [n_i,m_j])*10000\n",
    "example_mkt_2 = OneToOneITU(  n_i,m_j,parameters=(A_,B_))"
   ]
  },
  {
   "cell_type": "code",
   "execution_count": null,
   "metadata": {},
   "outputs": [],
   "source": []
  },
  {
   "cell_type": "code",
   "execution_count": 105,
   "metadata": {},
   "outputs": [
    {
     "ename": "KeyboardInterrupt",
     "evalue": "",
     "output_type": "error",
     "traceback": [
      "\u001b[0;31m---------------------------------------------------------------------------\u001b[0m",
      "\u001b[0;31mKeyboardInterrupt\u001b[0m                         Traceback (most recent call last)",
      "\u001b[1;32m/Users/enzo-macmini/auction_alg_ITU/forward_reverse_scaling.ipynb Cell 35\u001b[0m line \u001b[0;36m1\n\u001b[0;32m----> <a href='vscode-notebook-cell:/Users/enzo-macmini/auction_alg_ITU/forward_reverse_scaling.ipynb#X36sZmlsZQ%3D%3D?line=0'>1</a>\u001b[0m mu_ij_01_noscaling2, u_i_noscaling2, v_j_noscaling2 \u001b[39m=\u001b[39m example_mkt_2\u001b[39m.\u001b[39;49mforward_auction(tol_ε\u001b[39m=\u001b[39;49m \u001b[39m.001\u001b[39;49m)\n\u001b[1;32m      <a href='vscode-notebook-cell:/Users/enzo-macmini/auction_alg_ITU/forward_reverse_scaling.ipynb#X36sZmlsZQ%3D%3D?line=1'>2</a>\u001b[0m example_mkt_2\u001b[39m.\u001b[39mcheck_all((mu_ij_01_noscaling2, u_i_noscaling2, v_j_noscaling2))\n",
      "\u001b[1;32m/Users/enzo-macmini/auction_alg_ITU/forward_reverse_scaling.ipynb Cell 35\u001b[0m line \u001b[0;36m1\n\u001b[1;32m     <a href='vscode-notebook-cell:/Users/enzo-macmini/auction_alg_ITU/forward_reverse_scaling.ipynb#X36sZmlsZQ%3D%3D?line=16'>17</a>\u001b[0m \u001b[39miter\u001b[39m \u001b[39m+\u001b[39m\u001b[39m=\u001b[39m \u001b[39m1\u001b[39m\n\u001b[1;32m     <a href='vscode-notebook-cell:/Users/enzo-macmini/auction_alg_ITU/forward_reverse_scaling.ipynb#X36sZmlsZQ%3D%3D?line=17'>18</a>\u001b[0m U_ij \u001b[39m=\u001b[39m \u001b[39mself\u001b[39m\u001b[39m.\u001b[39mget_U_ij( V_j, unassigned_i)\n\u001b[0;32m---> <a href='vscode-notebook-cell:/Users/enzo-macmini/auction_alg_ITU/forward_reverse_scaling.ipynb#X36sZmlsZQ%3D%3D?line=18'>19</a>\u001b[0m perm_unmatched \u001b[39m=\u001b[39m np\u001b[39m.\u001b[39;49mall(U_ij \u001b[39m<\u001b[39;49m\u001b[39m=\u001b[39;49m \u001b[39mself\u001b[39;49m\u001b[39m.\u001b[39;49mlb_U\u001b[39m+\u001b[39;49mtol_ε, axis \u001b[39m=\u001b[39;49m \u001b[39m1\u001b[39;49m)\u001b[39m#np.all(U_ij <= self.lb_U, axis = 1)\u001b[39;00m\n\u001b[1;32m     <a href='vscode-notebook-cell:/Users/enzo-macmini/auction_alg_ITU/forward_reverse_scaling.ipynb#X36sZmlsZQ%3D%3D?line=20'>21</a>\u001b[0m \u001b[39mif\u001b[39;00m np\u001b[39m.\u001b[39many(perm_unmatched):\n\u001b[1;32m     <a href='vscode-notebook-cell:/Users/enzo-macmini/auction_alg_ITU/forward_reverse_scaling.ipynb#X36sZmlsZQ%3D%3D?line=21'>22</a>\u001b[0m     mu_i[unassigned_i] \u001b[39m+\u001b[39m\u001b[39m=\u001b[39m (\u001b[39mself\u001b[39m\u001b[39m.\u001b[39mm \u001b[39m-\u001b[39m mu_i[unassigned_i]) \u001b[39m*\u001b[39m perm_unmatched\n",
      "File \u001b[0;32m/Library/Frameworks/Python.framework/Versions/3.12/lib/python3.12/site-packages/numpy/core/fromnumeric.py:2416\u001b[0m, in \u001b[0;36m_all_dispatcher\u001b[0;34m(a, axis, out, keepdims, where)\u001b[0m\n\u001b[1;32m   2324\u001b[0m \u001b[39m    \u001b[39m\u001b[39m\"\"\"\u001b[39;00m\n\u001b[1;32m   2325\u001b[0m \u001b[39m    Test whether any array element along a given axis evaluates to True.\u001b[39;00m\n\u001b[1;32m   2326\u001b[0m \n\u001b[0;32m   (...)\u001b[0m\n\u001b[1;32m   2410\u001b[0m \n\u001b[1;32m   2411\u001b[0m \u001b[39m    \"\"\"\u001b[39;00m\n\u001b[1;32m   2412\u001b[0m     \u001b[39mreturn\u001b[39;00m _wrapreduction(a, np\u001b[39m.\u001b[39mlogical_or, \u001b[39m'\u001b[39m\u001b[39many\u001b[39m\u001b[39m'\u001b[39m, axis, \u001b[39mNone\u001b[39;00m, out,\n\u001b[1;32m   2413\u001b[0m                           keepdims\u001b[39m=\u001b[39mkeepdims, where\u001b[39m=\u001b[39mwhere)\n\u001b[0;32m-> 2416\u001b[0m \u001b[39mdef\u001b[39;00m \u001b[39m_all_dispatcher\u001b[39m(a, axis\u001b[39m=\u001b[39m\u001b[39mNone\u001b[39;00m, out\u001b[39m=\u001b[39m\u001b[39mNone\u001b[39;00m, keepdims\u001b[39m=\u001b[39m\u001b[39mNone\u001b[39;00m, \u001b[39m*\u001b[39m,\n\u001b[1;32m   2417\u001b[0m                     where\u001b[39m=\u001b[39m\u001b[39mNone\u001b[39;00m):\n\u001b[1;32m   2418\u001b[0m     \u001b[39mreturn\u001b[39;00m (a, where, out)\n\u001b[1;32m   2421\u001b[0m \u001b[39m@array_function_dispatch\u001b[39m(_all_dispatcher)\n\u001b[1;32m   2422\u001b[0m \u001b[39mdef\u001b[39;00m \u001b[39mall\u001b[39m(a, axis\u001b[39m=\u001b[39m\u001b[39mNone\u001b[39;00m, out\u001b[39m=\u001b[39m\u001b[39mNone\u001b[39;00m, keepdims\u001b[39m=\u001b[39mnp\u001b[39m.\u001b[39m_NoValue, \u001b[39m*\u001b[39m, where\u001b[39m=\u001b[39mnp\u001b[39m.\u001b[39m_NoValue):\n",
      "\u001b[0;31mKeyboardInterrupt\u001b[0m: "
     ]
    }
   ],
   "source": [
    "mu_ij_01_noscaling2, u_i_noscaling2, v_j_noscaling2 = example_mkt_2.forward_auction(tol_ε= .001)\n",
    "example_mkt_2.check_all((mu_ij_01_noscaling2, u_i_noscaling2, v_j_noscaling2))"
   ]
  },
  {
   "cell_type": "code",
   "execution_count": null,
   "metadata": {},
   "outputs": [
    {
     "name": "stdout",
     "output_type": "stream",
     "text": [
      "for: 1170\n",
      "_________\n",
      "rev: 323\n",
      "for: 211\n",
      "_________\n",
      "rev: 323\n",
      "for: 206\n",
      "_________\n",
      "rev: 323\n",
      "for: 214\n",
      "_________\n",
      "rev: 323\n",
      "for: 206\n",
      "_________\n",
      "rev: 323\n",
      "for: 214\n",
      "_________\n",
      "rev: 323\n",
      "for: 206\n",
      "_________\n",
      "rev: 323\n",
      "for: 214\n",
      "_________\n",
      "rev: 323\n",
      "for: 206\n",
      "_________\n",
      "rev: 323\n",
      "for: 214\n",
      "_________\n",
      "rev: 323\n",
      "for: 206\n",
      "_________\n",
      "rev: 323\n",
      "for: 214\n",
      "_________\n",
      "rev: 323\n",
      "for: 206\n",
      "_________\n",
      "rev: 323\n",
      "for: 214\n",
      "_________\n",
      "rev: 323\n",
      "for: 206\n",
      "_________\n",
      "rev: 323\n",
      "for: 214\n"
     ]
    }
   ],
   "source": [
    "mu_ij_01_scaling, u_i_scaling, v_j_scaling = example_mkt_2.forward_backward_scaling(1,1e-8, 1/4)"
   ]
  },
  {
   "cell_type": "code",
   "execution_count": null,
   "metadata": {},
   "outputs": [
    {
     "name": "stdout",
     "output_type": "stream",
     "text": [
      "FEAS\n",
      "i: True, j:  True\n",
      "#matched: 350 over 350\n",
      "________________\n",
      "ε-CS\n",
      "min_ij D_ij : -3.506155575022978e-09 \n",
      "________________\n",
      "IR\n",
      "i: 0.0, j:  0.0\n"
     ]
    }
   ],
   "source": [
    "# example_mkt_2.check_all((mu_ij_01_scaling, u_i_scaling, v_j_scaling))"
   ]
  },
  {
   "cell_type": "markdown",
   "metadata": {},
   "source": [
    "To do:\n",
    "* try nasty example with B binary times a constant\n",
    "* try to scale also i forward auction\n",
    "* try convex taxes"
   ]
  },
  {
   "cell_type": "markdown",
   "metadata": {},
   "source": [
    "Next steps:\n",
    "* $ij$-specific scaling\n",
    "* max iter in the backward iteration\n",
    "* (IMPORTANT) now all you are computing V_ij for all i and j in backward"
   ]
  },
  {
   "cell_type": "markdown",
   "metadata": {},
   "source": [
    "### Standard scaling"
   ]
  },
  {
   "cell_type": "code",
   "execution_count": null,
   "metadata": {},
   "outputs": [],
   "source": [
    "n_i =  m_j  = 1000\n",
    "\n",
    "np.random.seed(12993)\n",
    "A_ =  np.ones([n_i,m_j]) #np.random.choice([.25,.5,1,2,4], size= [n_i,1] ) * np.random.choice([.25,.5,1,2,4], size= [1, m_j] ) #  #np.random.choice([.25,.5,1,2,4], size= [n_i,m_j])\n",
    "B_ = (np.random.randint(1,20, size= [ n_i,1]) * np.random.randint(1,20, size= [ 1,m_j]))  #np.random.choice([200, 300], size=(n_i, m_j), p=[.9,.1 ]) * 100#np.random.randint(n_i/2,n_i,size = [n_i,m_j]) # np.random.choice([0,1], size= [n_i,m_j])*10000\n",
    "example_mkt_n_by_n = OneToOneITU(  n_i,m_j,parameters=(A_,B_), lbs=( - np.inf, 0))"
   ]
  },
  {
   "cell_type": "code",
   "execution_count": null,
   "metadata": {},
   "outputs": [
    {
     "data": {
      "text/plain": [
       "361"
      ]
     },
     "execution_count": 135,
     "metadata": {},
     "output_type": "execute_result"
    }
   ],
   "source": [
    "B_.max()"
   ]
  },
  {
   "cell_type": "code",
   "execution_count": null,
   "metadata": {},
   "outputs": [
    {
     "name": "stdout",
     "output_type": "stream",
     "text": [
      "for: 1000\n"
     ]
    }
   ],
   "source": [
    "tol_ε = 1000\n",
    "mu, u, v = example_mkt_n_by_n.forward_auction(tol_ε = tol_ε)\n",
    "# example_mkt_n_by_n.check_all((mu,u,v))\n"
   ]
  },
  {
   "cell_type": "code",
   "execution_count": null,
   "metadata": {},
   "outputs": [],
   "source": [
    "# mu, u, v = example_mkt_n_by_n.forward_auction((np.zeros([n_i,n_i]), v),tol_ε = 200)\n"
   ]
  },
  {
   "cell_type": "code",
   "execution_count": null,
   "metadata": {},
   "outputs": [],
   "source": [
    "def Bertsekas_scaling(self,tol_ε_initial,tol_ε_obj, scaling_factor):\n",
    "    tol_ε = tol_ε_initial\n",
    "    mu_ij, u_i, v_j = self.forward_auction(tol_ε = tol_ε)\n",
    "    while tol_ε > tol_ε_obj:\n",
    "        tol_ε /= scaling_factor\n",
    "        mu_ij, u_i, v_j = self.forward_auction((np.zeros([self.n,self.m]), v_j),tol_ε = tol_ε)\n",
    "\n",
    "    return mu_ij, u_i, v_j\n",
    "\n",
    "OneToOneITU.Bertsekas_scaling =Bertsekas_scaling"
   ]
  },
  {
   "cell_type": "code",
   "execution_count": null,
   "metadata": {},
   "outputs": [
    {
     "name": "stdout",
     "output_type": "stream",
     "text": [
      "for: 1000\n",
      "for: 774\n",
      "for: 835\n",
      "for: 983\n",
      "for: 974\n",
      "for: 979\n",
      "for: 1417\n",
      "for: 1407\n",
      "for: 1366\n",
      "for: 1747\n",
      "for: 1149\n",
      "for: 1600\n",
      "for: 1272\n",
      "for: 2323\n",
      "for: 1614\n",
      "for: 1647\n",
      "for: 569\n",
      "for: 956\n",
      "for: 829\n",
      "for: 1974\n",
      "for: 1557\n",
      "for: 1299\n",
      "for: 1201\n",
      "for: 1228\n",
      "for: 872\n",
      "for: 1211\n",
      "for: 1302\n",
      "for: 1449\n",
      "for: 1157\n",
      "for: 703\n",
      "for: 1008\n",
      "for: 959\n",
      "for: 834\n",
      "for: 973\n",
      "for: 1577\n",
      "for: 952\n",
      "for: 894\n",
      "for: 575\n",
      "for: 1116\n",
      "for: 570\n",
      "for: 429\n"
     ]
    }
   ],
   "source": [
    "mu_B_scaling, u_B_scaling, v_B_scaling = example_mkt_n_by_n.Bertsekas_scaling(100,1e-10,2)"
   ]
  },
  {
   "cell_type": "code",
   "execution_count": null,
   "metadata": {},
   "outputs": [
    {
     "name": "stdout",
     "output_type": "stream",
     "text": [
      "FEAS\n",
      "i: True, j:  True\n",
      "#matched: 1000 over 1000\n",
      "________________\n",
      "ε-CS\n",
      "min_ij D_ij : -4.547473508864641e-11 \n",
      "________________\n",
      "IR\n",
      "i: nan, j:  0.0\n"
     ]
    },
    {
     "name": "stderr",
     "output_type": "stream",
     "text": [
      "/var/folders/9x/rx50bd3s64g0kvsl05kqvl000000gn/T/ipykernel_42716/2722923942.py:8: RuntimeWarning: invalid value encountered in multiply\n",
      "  IR_i = np.sum((U_i - self.lb_U)* (1- np.sum(mu_ij,axis=1)))\n"
     ]
    }
   ],
   "source": [
    "example_mkt_n_by_n.check_all((mu_B_scaling, u_B_scaling, v_B_scaling))"
   ]
  },
  {
   "cell_type": "code",
   "execution_count": null,
   "metadata": {},
   "outputs": [
    {
     "data": {
      "text/plain": [
       "-310.7942135507292"
      ]
     },
     "execution_count": 141,
     "metadata": {},
     "output_type": "execute_result"
    }
   ],
   "source": [
    "u_B_scaling.min()"
   ]
  },
  {
   "cell_type": "code",
   "execution_count": null,
   "metadata": {},
   "outputs": [
    {
     "data": {
      "text/plain": [
       "9.094947017729282e-11"
      ]
     },
     "execution_count": 142,
     "metadata": {},
     "output_type": "execute_result"
    }
   ],
   "source": [
    "v_scaling_2.min()"
   ]
  },
  {
   "cell_type": "code",
   "execution_count": null,
   "metadata": {},
   "outputs": [
    {
     "name": "stdout",
     "output_type": "stream",
     "text": [
      "for: 614\n",
      "_________\n",
      "rev: 190\n",
      "for: 322\n",
      "_________\n",
      "rev: 151\n",
      "for: 227\n",
      "_________\n",
      "rev: 134\n",
      "for: 278\n",
      "_________\n",
      "rev: 199\n",
      "for: 375\n",
      "_________\n",
      "rev: 196\n",
      "for: 477\n",
      "_________\n",
      "rev: 278\n",
      "for: 871\n",
      "_________\n",
      "rev: 432\n",
      "for: 646\n",
      "_________\n",
      "rev: 161\n",
      "for: 1244\n",
      "_________\n",
      "rev: 381\n",
      "for: 1019\n",
      "_________\n",
      "rev: 756\n",
      "for: 1558\n",
      "_________\n",
      "rev: 688\n",
      "for: 791\n",
      "_________\n",
      "rev: 452\n",
      "for: 803\n",
      "_________\n",
      "rev: 336\n",
      "for: 1233\n",
      "_________\n",
      "rev: 628\n",
      "for: 990\n",
      "_________\n",
      "rev: 233\n",
      "for: 724\n",
      "_________\n",
      "rev: 533\n",
      "for: 765\n",
      "_________\n",
      "rev: 264\n",
      "for: 977\n",
      "_________\n",
      "rev: 310\n",
      "for: 548\n",
      "_________\n",
      "rev: 533\n",
      "for: 1090\n",
      "_________\n",
      "rev: 353\n",
      "for: 600\n",
      "_________\n",
      "rev: 187\n",
      "for: 676\n",
      "_________\n",
      "rev: 347\n",
      "for: 701\n",
      "_________\n",
      "rev: 119\n",
      "for: 73\n",
      "_________\n",
      "rev: 264\n",
      "for: 1111\n",
      "_________\n",
      "rev: 261\n",
      "for: 1102\n",
      "_________\n",
      "rev: 592\n",
      "for: 697\n",
      "_________\n",
      "rev: 145\n",
      "for: 463\n",
      "_________\n",
      "rev: 297\n",
      "for: 956\n",
      "_________\n",
      "rev: 575\n",
      "for: 728\n",
      "_________\n",
      "rev: 170\n",
      "for: 435\n",
      "_________\n",
      "rev: 175\n",
      "for: 400\n",
      "_________\n",
      "rev: 487\n",
      "for: 933\n",
      "_________\n",
      "rev: 417\n",
      "for: 1232\n",
      "_________\n",
      "rev: 466\n",
      "for: 896\n",
      "_________\n",
      "rev: 143\n",
      "for: 556\n",
      "_________\n",
      "rev: 600\n",
      "for: 621\n",
      "_________\n",
      "rev: 198\n",
      "for: 529\n",
      "_________\n",
      "rev: 291\n",
      "for: 1286\n",
      "_________\n",
      "rev: 187\n",
      "for: 809\n",
      "_________\n",
      "rev: 363\n",
      "for: 745\n",
      "_________\n",
      "rev: 120\n",
      "for: 350\n"
     ]
    }
   ],
   "source": [
    "example_mkt_n_by_n.lb_U = 0\n",
    "mu_scaling_2, u_scaling_2, v_scaling_2 = example_mkt_n_by_n.forward_backward_scaling(100,1e-10,1/2)\n",
    "example_mkt_n_by_n.lb_U = -np.inf"
   ]
  },
  {
   "cell_type": "code",
   "execution_count": null,
   "metadata": {},
   "outputs": [
    {
     "name": "stdout",
     "output_type": "stream",
     "text": [
      "FEAS\n",
      "i: True, j:  True\n",
      "#matched: 1000 over 1000\n",
      "________________\n",
      "ε-CS\n",
      "min_ij D_ij : -4.547473508864641e-11 \n",
      "________________\n",
      "IR\n",
      "i: nan, j:  0.0\n"
     ]
    },
    {
     "name": "stderr",
     "output_type": "stream",
     "text": [
      "/var/folders/9x/rx50bd3s64g0kvsl05kqvl000000gn/T/ipykernel_42716/2722923942.py:8: RuntimeWarning: invalid value encountered in multiply\n",
      "  IR_i = np.sum((U_i - self.lb_U)* (1- np.sum(mu_ij,axis=1)))\n"
     ]
    }
   ],
   "source": [
    "example_mkt_n_by_n.check_all((mu_scaling_2, u_scaling_2, v_scaling_2 ))"
   ]
  },
  {
   "cell_type": "code",
   "execution_count": null,
   "metadata": {},
   "outputs": [],
   "source": []
  },
  {
   "cell_type": "code",
   "execution_count": 106,
   "metadata": {},
   "outputs": [
    {
     "name": "stdout",
     "output_type": "stream",
     "text": [
      "for: 47\n",
      "_________\n",
      "rev: 10\n",
      "for: 109\n",
      "_________\n",
      "rev: 14\n",
      "for: 137\n",
      "_________\n",
      "rev: 13\n",
      "for: 208\n",
      "_________\n",
      "rev: 27\n",
      "for: 301\n",
      "_________\n",
      "rev: 35\n",
      "for: 291\n",
      "_________\n",
      "rev: 48\n",
      "for: 288\n",
      "_________\n",
      "rev: 14\n",
      "for: 167\n",
      "_________\n",
      "rev: 17\n",
      "for: 186\n",
      "_________\n",
      "rev: 30\n",
      "for: 106\n",
      "_________\n",
      "rev: 25\n",
      "for: 0\n",
      "_________\n",
      "rev: 38\n",
      "for: 143\n",
      "_________\n",
      "rev: 26\n",
      "for: 0\n",
      "_________\n",
      "rev: 19\n",
      "for: 145\n",
      "_________\n",
      "rev: 33\n",
      "for: 0\n",
      "_________\n",
      "rev: 33\n",
      "for: 79\n",
      "_________\n",
      "rev: 38\n",
      "for: 0\n",
      "_________\n",
      "rev: 8\n",
      "for: 67\n",
      "_________\n",
      "rev: 35\n",
      "for: 0\n"
     ]
    }
   ],
   "source": [
    "np.random.seed(10870)\n",
    "n_i = 100\n",
    "m_j = 110\n",
    "k = 2\n",
    "\n",
    "θ_true = np.array([.2,-.2, 1,2])\n",
    "\n",
    "X_i = np.random.normal([5,5],[5,2], size = [n_i, k]).round(16)\n",
    "Y_j = np.random.normal([5,5],[5,2], size = [m_j, k]).round(16)\n",
    "#X_ijk = np.random.choice(10, size = (n_i,m_j, k))\n",
    "\n",
    "A = np.exp( np.abs((X_i[:,None,:]- Y_j[None,:,:]))@  θ_true[:k])\n",
    "B = np.abs((X_i[:,None,:]- Y_j[None,:,:])) @ θ_true[k:2*k]\n",
    "\n",
    "obs_mrk = OneToOneITU( n_i,m_j, (A,B))\n",
    "eq = mu_obs, u_true, v_obs = obs_mrk.forward_backward_scaling(1,1e-10,1/4)"
   ]
  },
  {
   "cell_type": "code",
   "execution_count": 107,
   "metadata": {},
   "outputs": [
    {
     "name": "stdout",
     "output_type": "stream",
     "text": [
      "FEAS\n",
      "i: True, j:  True\n",
      "#matched: 100 over 100\n",
      "________________\n",
      "ε-CS\n",
      "min_ij D_ij : -5.426763438464366e-11 \n",
      "________________\n",
      "IR\n",
      "i: 0.0, j:  0.0\n"
     ]
    }
   ],
   "source": [
    "obs_mrk.check_all(eq)"
   ]
  },
  {
   "cell_type": "code",
   "execution_count": null,
   "metadata": {},
   "outputs": [],
   "source": []
  }
 ],
 "metadata": {
  "kernelspec": {
   "display_name": "Python 3",
   "language": "python",
   "name": "python3"
  },
  "language_info": {
   "codemirror_mode": {
    "name": "ipython",
    "version": 3
   },
   "file_extension": ".py",
   "mimetype": "text/x-python",
   "name": "python",
   "nbconvert_exporter": "python",
   "pygments_lexer": "ipython3",
   "version": "3.12.0"
  }
 },
 "nbformat": 4,
 "nbformat_minor": 2
}
