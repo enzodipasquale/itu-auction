{
 "cells": [
  {
   "cell_type": "code",
   "execution_count": 37,
   "metadata": {},
   "outputs": [],
   "source": [
    "import gurobipy as grb\n",
    "from gurobipy import GRB\n",
    "import scipy.sparse as spr\n",
    "import numpy as np\n",
    "import random\n",
    "import matplotlib.pyplot as plt\n",
    "#from sympy import symbols, Rational\n",
    "from IPython.display import display, Math, Markdown\n",
    "import numpy.ma as ma"
   ]
  },
  {
   "cell_type": "code",
   "execution_count": 94,
   "metadata": {},
   "outputs": [],
   "source": [
    "def solve_1to1(Φ_i_j):\n",
    "    n, m = np.shape(Φ_i_j)\n",
    "    M_z_a = spr.bmat([[spr.kron(spr.eye(n), np.ones((1, m)))],\n",
    "                      [spr.kron(np.ones((1, n)), spr.eye(m))]])\n",
    "  \n",
    "    q = np.concatenate((np.ones(n), np.ones(m)))\n",
    "\n",
    "    model = grb.Model()\n",
    "    mu_a = model.addMVar(n * m, vtype=grb.GRB.INTEGER)\n",
    "    model.setObjective(Φ_i_j.flatten() @ mu_a, GRB.MAXIMIZE)\n",
    "    model.addConstr(M_z_a @ mu_a <= q)\n",
    "    \n",
    "    model.Params.OutputFlag = 0\n",
    "    model.optimize()\n",
    "\n",
    "    return np.array(model.x, dtype= bool).reshape([n,m])*1"
   ]
  },
  {
   "cell_type": "code",
   "execution_count": 95,
   "metadata": {},
   "outputs": [],
   "source": [
    "a = np.ones([3,3])\n"
   ]
  },
  {
   "cell_type": "code",
   "execution_count": 208,
   "metadata": {},
   "outputs": [],
   "source": [
    "class OneToOneITU():\n",
    "    def __init__(self, n, m, size_params, random_seed, lbs=(1, 1), tol=1e-9):\n",
    "        self.n = n\n",
    "        self.m = m\n",
    "        self.lb_U, self.lb_V = lbs\n",
    "        self.tol = tol \n",
    "\n",
    "        # generate problem\n",
    "        np.random.seed(random_seed)\n",
    "        self.A_ij = np.random.randint(1, size_params[0], size=[n, m])/  np.random.randint(1, size_params[0], size=[n, m])\n",
    "        # values_A = np.array([1,2,4,5,8,10,16,20])\n",
    "        # self.A_ij = np.random.choice(values_A[size_params[0]],size= [n,m])\n",
    "        self.B_ij = np.random.randint(0, size_params[1], size=[n, m])\n",
    "\n",
    "    def D_ij(self, U_i, V_j):\n",
    "        return U_i[:, None] + self.A_ij * V_j[None, :] - self.B_ij\n",
    "\n",
    "    def get_U_ij(self, V_j, i_idx ,j_idx = None):\n",
    "        if j_idx is None:\n",
    "            U_ij = self.B_ij[i_idx,:] - self.A_ij[i_idx,:] * V_j[None, :], \n",
    "            out = self.lb_U * np.ones(np.shape(U_ij[0])[0])[:,None]\n",
    "            return np.concatenate( ( U_ij[0], out  ) , axis= 1)\n",
    "        else:\n",
    "            return self.B_ij[i_idx,j_idx] - self.A_ij[i_idx,j_idx] * V_j[None, j_idx]\n",
    "\n",
    "    def get_V_ij(self,i_idx, j_idx , U_i):\n",
    "        return (self.B_ij[i_idx,j_idx] -  U_i)/ self.A_ij[i_idx,j_idx]"
   ]
  },
  {
   "cell_type": "code",
   "execution_count": 700,
   "metadata": {},
   "outputs": [],
   "source": [
    "n_small = 5\n",
    "m_small = 5\n",
    "example_small = OneToOneITU( n = n_small,m = m_small, size_params= (3,3) , random_seed= 3, lbs =(0,0), tol = 0)"
   ]
  },
  {
   "cell_type": "code",
   "execution_count": 212,
   "metadata": {},
   "outputs": [
    {
     "data": {
      "text/plain": [
       "array([[1., 0., 3., 1., 1., 0.],\n",
       "       [3., 0., 2., 3., 1., 0.]])"
      ]
     },
     "execution_count": 212,
     "metadata": {},
     "output_type": "execute_result"
    }
   ],
   "source": [
    "example_small.get_U_ij(V_ex, np.array([1,2]))"
   ]
  },
  {
   "cell_type": "markdown",
   "metadata": {},
   "source": [
    "#### Checking modules"
   ]
  },
  {
   "cell_type": "markdown",
   "metadata": {},
   "source": [
    "The following functions check equilibrium conditions for a candidate $(\\mu, U, V).$. Below I will refer to the equilibrium conditions as follows:\n",
    "* (*Primal Feasibility*) $\\sum_{i} \\mu_{ij} \\leq 1$ and $\\sum_{j} \\mu_{ij} \\leq 1 $ (and $\\mu_{ij} \\in \\{0,1\\}$),\n",
    "* (*Primal Complementary Slackness*) $D_{ij}(U_i,V_j) = 0$ if $ \\mu_{ij}  = 1$, \n",
    "* (*Dual Feasibility*) $D_{ij}(U_i,V_j) \\geq 0$,\n",
    "* (*Dual Complementary Slackness*) $U_i =  U_0 $ if $\\sum_j \\mu_{ij} = 0$ and $V_i =  V_0 $ if $\\sum_i \\mu_{ij} = 0,$ \n",
    "* (*Individual Rationality*) $U_i \\geq  U_0 ,$ $V_i \\geq  V_0 .$ "
   ]
  },
  {
   "cell_type": "markdown",
   "metadata": {},
   "source": [
    "**Dual Complementary Slackness**: $\\forall i,j, \\ U_i > U_{0} \\implies \\sum_j \\mu_{ij} = 0, \\ V_j > V_{0} \\implies \\sum_i \\mu_{ij} = 0$"
   ]
  },
  {
   "cell_type": "code",
   "execution_count": 213,
   "metadata": {},
   "outputs": [],
   "source": [
    "def check_dual_CS(self,U_i,V_j,mu_ij, output = False):\n",
    "\n",
    "    D_CS_i = np.mean((U_i - self.lb_U)* (np.sum(mu_ij,axis=1) - 1))\n",
    "    D_CS_j = np.mean((V_j - self.lb_V) * (np.sum(mu_ij,axis=0) - 1)) \n",
    "    display(Math(fr'\\frac{1}{{n}} \\sum_{{i}} (U_{{i}} - U_{{lb}} ) * (\\sum_{{j}} \\mu_{{ij}} -1) = {D_CS_i}'))\n",
    "    display(Math(fr'\\frac{1}{{m}}\\sum_{{j}} (V_{{j}} - V_{{lb}} ) * (\\sum_{{i}} \\mu_{{ij}} -1) = {D_CS_j}'))\n",
    "    \n",
    "    if output is True:\n",
    "        D_CS_i_bool = (U_i - self.lb_U)* (np.sum(mu_ij,axis=1) - 1) >= 0 \n",
    "        D_CS_j_bool = (V_j - self.lb_V) * (np.sum(mu_ij,axis=0) - 1) >= 0\n",
    "        return D_CS_i_bool, D_CS_j_bool\n",
    "    \n",
    "OneToOneITU.check_dual_CS = check_dual_CS"
   ]
  },
  {
   "cell_type": "markdown",
   "metadata": {},
   "source": [
    "**Dual Feasibility**:  $\\forall i,j,  \\ A_{ij} U_i + G_{ij} V_j \\geq B_{ij},$"
   ]
  },
  {
   "cell_type": "code",
   "execution_count": 214,
   "metadata": {},
   "outputs": [],
   "source": [
    "def check_dual_feas(self,U_i,V_j, output = None):\n",
    " \n",
    "    D_feas = np.minimum(self.D_ij(U_i,V_j),0)\n",
    "    if output:\n",
    "        return D_feas, np.where(D_feas<0 )\n",
    "    display(Math(fr'\\frac{1}{{nm}} \\sum_{{ij}} \\min( A_{{ij}} U_i + G_{{ij}} V_j -  B_{{ij}} , 0)  = {D_feas.mean()}'))\n",
    "    \n",
    "   \n",
    "OneToOneITU.check_dual_feas = check_dual_feas "
   ]
  },
  {
   "cell_type": "markdown",
   "metadata": {},
   "source": [
    "**Primal Complementary Slackness**:  $\\forall i,j, \\  \\mu_{ij} * (A_{ij} U_i + G_{ij} V_j - B_{ij}) = 0 $"
   ]
  },
  {
   "cell_type": "code",
   "execution_count": 215,
   "metadata": {},
   "outputs": [],
   "source": [
    "def check_primal_CS(self, U_i,V_j,mu_ij, output = None):\n",
    "\n",
    "    P_CS_ij = self.D_ij(U_i,V_j) * mu_ij\n",
    "    \n",
    "    if output:\n",
    "        return P_CS_ij\n",
    "    else:\n",
    "        display(Math(fr'\\frac{1}{{nm}} \\sum_{{ij}} \\mu_{{ij}} * (A_{{ij}} U_i + G_{{ij}} V_j - B_{{ij}}) = {P_CS_ij.mean()}'))\n",
    "\n",
    "OneToOneITU.check_primal_CS = check_primal_CS"
   ]
  },
  {
   "cell_type": "markdown",
   "metadata": {},
   "source": [
    "**Primal Feasibility**:  $\\forall i,j, \\  \\sum_j  \\mu_{ij} \\leq 1, \\ \\sum_i  \\mu_{ij} \\leq 1$"
   ]
  },
  {
   "cell_type": "code",
   "execution_count": 216,
   "metadata": {},
   "outputs": [],
   "source": [
    "def check_primal_feas(self, mu_ij):\n",
    "\n",
    "    display(Math(fr'\\forall i, \\ \\sum_{{j}}  \\mu_{{ij}} \\leq 1: \\ { np.all(np.sum(mu_ij,axis=1) <= np.ones(self.n))}'))\n",
    "    display(Math(fr'\\forall j, \\ \\sum_{{i}}  \\mu_{{ij}} \\leq 1: \\ {np.all(np.sum(mu_ij,axis=0) <= np.ones(self.m)) }'))\n",
    "    display(Markdown(f\"#matched: {int(np.sum(mu_ij))} over {np.minimum(self.n,self.m)}\"))\n",
    "\n",
    "OneToOneITU.check_primal_feas = check_primal_feas"
   ]
  },
  {
   "cell_type": "code",
   "execution_count": 217,
   "metadata": {},
   "outputs": [],
   "source": [
    "def check_IR(self, U_i,V_j):\n",
    "    display(Math(fr'\\min_{{i}} U_{{i}} = {np.min(U_i).round(3)} \\geq {self.lb_U} = U_{{lb}}'))\n",
    "    display(Math(fr'\\min_{{j}} V_{{j}} = {np.min(V_j).round(3)} \\geq  {self.lb_V} = V_{{lb}}'))\n",
    "\n",
    "OneToOneITU.check_IR = check_IR"
   ]
  },
  {
   "cell_type": "markdown",
   "metadata": {},
   "source": [
    "The following checks all conditions and prints the results"
   ]
  },
  {
   "cell_type": "code",
   "execution_count": 218,
   "metadata": {},
   "outputs": [],
   "source": [
    "def check_all(self,eq):\n",
    "    mu_ij, U_i, V_j = eq \n",
    "    header_size = 1\n",
    "\n",
    "    display(Markdown(f\"{'_' * 4}\\n<h{header_size}>Feasibility</h{header_size}>\"))\n",
    "    self.check_primal_feas(mu_ij)\n",
    "\n",
    "    display(Markdown(f\"{'_' * 4}\\n<h{header_size}>Generalized Complementary Slackness</h{header_size}>\"))\n",
    "    self.check_dual_feas(U_i, V_j )\n",
    "    self.check_primal_CS(U_i, V_j , mu_ij)\n",
    "    \n",
    "    display(Markdown(f\"{'_' * 4}\\n<h{header_size}>Individual Rationality</h{header_size}>\"))\n",
    "    self.check_IR(U_i, V_j )\n",
    "    self.check_dual_CS(U_i, V_j , mu_ij)\n",
    "\n",
    "OneToOneITU.check_all = check_all"
   ]
  },
  {
   "cell_type": "markdown",
   "metadata": {},
   "source": [
    "# Algorithm"
   ]
  },
  {
   "cell_type": "code",
   "execution_count": 651,
   "metadata": {},
   "outputs": [],
   "source": [
    "def iteration(self,i_ent, mu_, V_j_):\n",
    "    mu = mu_.copy()\n",
    "    V_j = V_j_.copy()\n",
    "\n",
    "    unassigned_js = np.concatenate((mu[:,:-1].sum(0) == 0,[True]))\n",
    "\n",
    "    C  = np.zeros(self.n, dtype= bool)\n",
    "    C_i_ent = np.zeros(self.n, dtype= bool)\n",
    "    C[i_ent] = 1\n",
    "    B = np.ones(self.m, dtype= bool)\n",
    "    L_j = np.ones(self.m, dtype= int) *(self.n + 1)\n",
    "    d_j = np.ones(self.m + 1, dtype= int) * np.inf\n",
    "\n",
    "    iter = 0\n",
    "    while np.any(C == 1):\n",
    "        iter += 1\n",
    "        i = np.argmax(C)\n",
    "        #print(f\"iter {iter}, i: {i}\")\n",
    "        C[i] = 0\n",
    "        C_i_ent[i] = 1\n",
    "        U_ij_s = self.get_U_ij(V_j, i)[0]\n",
    "        π_i = np.max(U_ij_s)\n",
    "        #print(π_i)\n",
    "\n",
    "        suboptimal_js = U_ij_s < π_i \n",
    " \n",
    "        A_ij_star_max = np.max(self.A_ij[i,~(suboptimal_js[:-1] )])\n",
    "        d_j[suboptimal_js]= np.minimum(d_j[suboptimal_js], (π_i - U_ij_s[suboptimal_js]) /A_ij_star_max) \n",
    "\n",
    "       \n",
    "        unissigned_optimal_js = np.where( unassigned_js  * (π_i == U_ij_s))[0]\n",
    "    \n",
    "        if len(unissigned_optimal_js)> 0: #####\n",
    "            i_t = i\n",
    "            j_t = unissigned_optimal_js[0]\n",
    "            #print(j_t)\n",
    "            # if j_t != self.m:\n",
    "            #     w_i_s = np.sort( self.get_U_ij(V_j, i_t)[0])[-2]\n",
    "            #     V_j[j_t] = self.get_V_ij(i_t  , j_t,  w_i_s)\n",
    "            while i_t != i_ent :\n",
    " \n",
    "                j_t_plus_1 = np.argmax(mu[i_t,: ])\n",
    "                mu[i_t,: ] = 0\n",
    "                mu[i_t, j_t] = 1\n",
    "                ########### print( self.get_U_ij(V_j, i_t)[0] )\n",
    "                #w_i_s = np.sort( self.get_U_ij(V_j, i_t)[0])[-2]\n",
    "                #V_j[j_t] = self.get_V_ij(i_t  , j_t,  w_i_s)\n",
    "\n",
    "                j_t = j_t_plus_1\n",
    "                i_t = L_j[j_t]\n",
    "         \n",
    "            w_i_s = np.sort( self.get_U_ij(V_j, i_t)[0])[-2]\n",
    "            mu[i_t,: ] = 0\n",
    "            mu[i_t, j_t] = 1\n",
    "            V_j[j_t] = self.get_V_ij(i_t  , j_t,  w_i_s)\n",
    "            #print(\"augmentation\")\n",
    "            return mu, V_j\n",
    "            \n",
    "        for j in np.where(B * (~suboptimal_js[:-1]) >0)[0]:\n",
    "            #if mu[:,j].sum() == 1:\n",
    "                i_j = np.argmax(mu[:,j])\n",
    "                B[j] = 0\n",
    "                C[i_j] = 1\n",
    "                L_j[j] = i if L_j[j] == self.n + 1 else None\n",
    "                #print(f\"j : {j}\")\n",
    "                #print(L_j)\n",
    "                #print(f\"i:{i} -> j:{j} \")\n",
    "    \n",
    "     \n",
    "    return C_i_ent, B * (d_j[:-1] < np.inf), d_j, iter\n",
    "\n",
    "OneToOneITU.iteration = iteration"
   ]
  },
  {
   "cell_type": "code",
   "execution_count": 652,
   "metadata": {},
   "outputs": [
    {
     "data": {
      "text/plain": [
       "(array([[1., 0., 0., 0., 0., 0.],\n",
       "        [0., 0., 1., 0., 0., 0.],\n",
       "        [0., 0., 0., 1., 0., 0.],\n",
       "        [0., 1., 0., 0., 0., 0.],\n",
       "        [0., 0., 0., 0., 1., 0.]]),\n",
       " array([0.5  , 0.125, 4.   , 0.5  , 0.   ]))"
      ]
     },
     "execution_count": 652,
     "metadata": {},
     "output_type": "execute_result"
    }
   ],
   "source": [
    "example_small.iteration(0, mu_ex_pre, V_ex_pre )"
   ]
  },
  {
   "cell_type": "code",
   "execution_count": 644,
   "metadata": {},
   "outputs": [
    {
     "data": {
      "text/plain": [
       "array([[ 2.75  ,  2.75  , -3.    ,  0.5   ,  0.    ,  0.    ],\n",
       "       [ 0.75  , -0.25  ,  1.    ,  0.5   ,  1.    ,  0.    ],\n",
       "       [ 2.    , -0.0625,  0.    ,  2.    ,  1.    ,  0.    ],\n",
       "       [-0.25  ,  2.75  , -4.    ,  2.75  ,  2.    ,  0.    ],\n",
       "       [ 0.    ,  0.875 , -8.    ,  2.    ,  2.    ,  0.    ]])"
      ]
     },
     "execution_count": 644,
     "metadata": {},
     "output_type": "execute_result"
    }
   ],
   "source": [
    "example_small.get_U_ij(V_ex_pre, np.ones(example_small.n, dtype= bool))"
   ]
  },
  {
   "cell_type": "code",
   "execution_count": 626,
   "metadata": {},
   "outputs": [
    {
     "data": {
      "text/plain": [
       "array([[0., 0., 0., 0., 0., 0.],\n",
       "       [0., 0., 1., 0., 0., 0.],\n",
       "       [1., 0., 0., 0., 0., 0.],\n",
       "       [0., 1., 0., 0., 0., 0.],\n",
       "       [0., 0., 0., 1., 0., 0.]])"
      ]
     },
     "execution_count": 626,
     "metadata": {},
     "output_type": "execute_result"
    }
   ],
   "source": [
    "mu_ex_pre"
   ]
  },
  {
   "cell_type": "code",
   "execution_count": null,
   "metadata": {},
   "outputs": [],
   "source": []
  },
  {
   "cell_type": "code",
   "execution_count": 1071,
   "metadata": {},
   "outputs": [],
   "source": [
    "def interim_auction(self,C, O, out_opt_i, V_j_, mu_ ):\n",
    "    V_j = V_j_.copy()\n",
    "    pi_ij = mu_[C,:-1][:,O]\n",
    " \n",
    "    iter = 0\n",
    "    U_ij = np.concatenate((self.get_U_ij(V_j, C)[:, :-1][:,O], out_opt_i[:,None]), axis= 1)\n",
    "    sorted_w_id = np.argsort(U_ij , axis = 1)[:,-2:]\n",
    "    w_i = U_ij[np.arange(C.sum()),sorted_w_id[:,0] ]\n",
    "    π_i = np.max(U_ij, axis = 1)\n",
    "    ij_optimal = U_ij == π_i[:, None]\n",
    "\n",
    "    offers = ((π_i - w_i)[:,None]/ self.A_ij[C,:][:,O] ) * ij_optimal[:,:-1]\n",
    "\n",
    "    print(U_ij)\n",
    "    print(offers)\n",
    "    # not_contested_js = np.concatenate((pi_ij.sum(0) == 0, [True]))\n",
    "    # print(not_contested_js)\n",
    "    # sorted_w_id = np.argsort(U_ij , axis = 1)[:,-2:]\n",
    "    # w_i = np.max(U_ij[:,not_contested_js] , axis= 1)\n",
    "    # offers_coop = ((π_i - w_i)[:,None]/ self.A_ij[C][:,O] ) * ij_optimal[:,:-1]\n",
    "  \n",
    "    while offers.sum() >0 or pi_ij.sum() < C.sum() - 1:\n",
    "        #print(f\"ITER {iter}\")\n",
    "        iter += 1\n",
    "        if offers.sum() >0:\n",
    "            V_j[O] += np.max( offers, axis=0 )\n",
    "         \n",
    "        else:\n",
    "     \n",
    "            not_contested_js = np.concatenate((pi_ij.sum(0) == 0, [True]))\n",
    "            sorted_w_id = np.argsort(U_ij , axis = 1)[:,-2:]\n",
    "            w_i = np.max(U_ij[:,not_contested_js] , axis= 1)\n",
    "  \n",
    "            offers_coop = ((π_i - w_i)[:,None]/ self.A_ij[C][:,O] ) * ij_optimal[:,:-1]\n",
    "         \n",
    "            V_j[O] += np.min( offers_coop[offers_coop > 0] )\n",
    "\n",
    "\n",
    "        U_ij = np.concatenate((self.get_U_ij(V_j, C)[:, :-1][:, O], out_opt_i[:,None]), axis= 1)\n",
    "        sorted_w_id = np.argsort(U_ij , axis = 1)[:,-2:]\n",
    "        w_i = U_ij[np.arange(C.sum()),sorted_w_id[:,0]]\n",
    "        π_i = np.max(U_ij, axis = 1)\n",
    "        ij_optimal = U_ij == π_i[:, None]\n",
    "      \n",
    "        offers = ((π_i - w_i)[:,None]/ self.A_ij[C,:][:,O] ) * ij_optimal[:,:-1]\n",
    "        pi_ij = solve_1to1(ij_optimal[:,:-1])\n",
    "    \n",
    "\n",
    "        # if iter >2000:\n",
    "        #     break\n",
    "\n",
    "\n",
    "    return pi_ij, V_j, iter\n",
    "\n",
    "OneToOneITU.interim_auction =interim_auction"
   ]
  },
  {
   "cell_type": "code",
   "execution_count": 1507,
   "metadata": {},
   "outputs": [],
   "source": [
    "def interim_auction(self,C, O, out_opt_i, V_j_, mu_ ):\n",
    "    V_j = V_j_.copy()\n",
    "    pi_ij = np.concatenate((mu_[C,:-1][:,O], np.zeros(C.sum(), dtype= bool)[:,None] ), axis= 1)\n",
    "    iter = 0\n",
    "    \n",
    "\n",
    "    # not_contested_js = np.concatenate((pi_ij.sum(0) == 0, [True]))\n",
    "    # print(not_contested_js)\n",
    "    # sorted_w_id = np.argsort(U_ij , axis = 1)[:,-2:]\n",
    "    # w_i = np.max(U_ij[:,not_contested_js] , axis= 1)\n",
    "    # offers_coop = ((π_i - w_i)[:,None]/ self.A_ij[C][:,O] ) * ij_optimal[:,:-1]\n",
    "  \n",
    "    while True:\n",
    "        print(f\"ITER {iter}\")\n",
    "        iter += 1\n",
    "        #print(pi_ij)\n",
    "        \n",
    "\n",
    "        U_ij = np.concatenate((self.get_U_ij(V_j, C)[:, :-1][:,O], out_opt_i[:,None]), axis= 1)\n",
    "        sorted_w_id = np.argsort(U_ij , axis = 1)[:,-2:]\n",
    "        w_i = U_ij[np.arange(C.sum()),sorted_w_id[:,0] ]\n",
    "        π_i = np.max(U_ij, axis = 1)\n",
    "        ij_optimal = U_ij == π_i[:, None]\n",
    "        offers = ((π_i - w_i)[:,None]/ self.A_ij[C,:][:,O] ) * ij_optimal[:,:-1]\n",
    "\n",
    "        pi_ij = solve_1to1(ij_optimal)\n",
    "        if iter > 3:\n",
    "            print(offers)\n",
    "            print(U_ij)\n",
    "            print(pi_ij)\n",
    "            break\n",
    "  \n",
    "\n",
    "        if int(pi_ij.sum()) == int(C.sum())  :\n",
    "    \n",
    "            return pi_ij, V_j, iter\n",
    "\n",
    "        if offers[pi_ij.sum(1) == 0,: ].sum() > 0:\n",
    "            V_j[O] += np.max( offers[pi_ij.sum(1) == 0,: ], axis=0 )\n",
    "         \n",
    "        else:\n",
    "            not_contested_js = np.concatenate((pi_ij[:,:-1].sum(0) == 0, [True]))\n",
    "            print(not_contested_js)\n",
    "            sorted_w_id = np.argsort(U_ij , axis = 1)[:,-2:]\n",
    "            w_i = np.max(U_ij[:,not_contested_js] , axis= 1)\n",
    "  \n",
    "            offers_coop = ((π_i - w_i)[:,None]/ self.A_ij[C][:,O] ) * ij_optimal[:,:-1]\n",
    "            V_j[O] += np.min( offers_coop[offers_coop > 0] )\n",
    "\n",
    "        print(V_j[O])\n",
    "        \n",
    "\n",
    "OneToOneITU.interim_auction =interim_auction"
   ]
  },
  {
   "cell_type": "code",
   "execution_count": 1508,
   "metadata": {},
   "outputs": [
    {
     "name": "stdout",
     "output_type": "stream",
     "text": [
      "ITER 0\n",
      "[False False False  True]\n",
      "[0.5 0.5 0.5]\n",
      "ITER 1\n",
      "[2.  0.5 0.5]\n",
      "ITER 2\n",
      "[False False False  True]\n",
      "[2.5 1.  1. ]\n",
      "ITER 3\n",
      "[[0. 0. 0.]\n",
      " [0. 0. 0.]\n",
      " [0. 0. 0.]\n",
      " [0. 0. 0.]]\n",
      "[[-0.5   0.   -1.    0.  ]\n",
      " [ 0.75 -0.5   0.    1.  ]\n",
      " [-2.5   2.5   2.5   1.  ]\n",
      " [-4.    1.    1.    1.  ]]\n",
      "[[0 1 0 0]\n",
      " [0 0 0 1]\n",
      " [0 0 1 0]\n",
      " [0 0 0 0]]\n"
     ]
    }
   ],
   "source": [
    "example_small.interim_auction(C_i, ~B,w_i_out_B ,V_ex_pre, mu_ex_pre )"
   ]
  },
  {
   "cell_type": "code",
   "execution_count": 1479,
   "metadata": {},
   "outputs": [
    {
     "data": {
      "text/plain": [
       "array([0., 1., 1., 1.])"
      ]
     },
     "execution_count": 1479,
     "metadata": {},
     "output_type": "execute_result"
    }
   ],
   "source": [
    "w_i_out_B"
   ]
  },
  {
   "cell_type": "code",
   "execution_count": 1439,
   "metadata": {},
   "outputs": [
    {
     "data": {
      "text/plain": [
       "array([[1., 0., 0.],\n",
       "       [0., 0., 1.],\n",
       "       [0., 1., 0.],\n",
       "       [0., 0., 0.]])"
      ]
     },
     "execution_count": 1439,
     "metadata": {},
     "output_type": "execute_result"
    }
   ],
   "source": [
    "mu_ex[C_i,:-1][:,~B]"
   ]
  },
  {
   "cell_type": "code",
   "execution_count": 1506,
   "metadata": {},
   "outputs": [
    {
     "data": {
      "text/plain": [
       "array([[ 0.  ,  1.  , -0.5 ],\n",
       "       [ 1.  , -0.25,  1.  ],\n",
       "       [-2.  ,  2.75,  2.75],\n",
       "       [-3.  ,  1.5 ,  1.5 ]])"
      ]
     },
     "execution_count": 1506,
     "metadata": {},
     "output_type": "execute_result"
    }
   ],
   "source": [
    "example_small.get_U_ij(np.array([2,0,.5,0,.5]) , np.ones(example_small.n, dtype=bool))[C_i,:-1][:,~B]"
   ]
  },
  {
   "cell_type": "code",
   "execution_count": 1431,
   "metadata": {},
   "outputs": [],
   "source": [
    "n_small = 5\n",
    "m_small = 5\n",
    "example_small = OneToOneITU( n = n_small,m = m_small, size_params= (3,4) , random_seed= 115, lbs =(0,0), tol = 0)"
   ]
  },
  {
   "cell_type": "code",
   "execution_count": 1432,
   "metadata": {},
   "outputs": [],
   "source": [
    "mu_ex = np.zeros([n_small,m_small+1])\n",
    "V_ex = np.ones(example_small.m) * example_small.lb_V"
   ]
  },
  {
   "cell_type": "code",
   "execution_count": 1436,
   "metadata": {},
   "outputs": [
    {
     "ename": "ValueError",
     "evalue": "zero-size array to reduction operation minimum which has no identity",
     "output_type": "error",
     "traceback": [
      "\u001b[0;31m---------------------------------------------------------------------------\u001b[0m",
      "\u001b[0;31mValueError\u001b[0m                                Traceback (most recent call last)",
      "\u001b[1;32m/Users/enzo-macmini/auction_alg_ITU/coop_ITU_fixed.ipynb Cell 34\u001b[0m line \u001b[0;36m2\n\u001b[1;32m     <a href='vscode-notebook-cell:/Users/enzo-macmini/auction_alg_ITU/coop_ITU_fixed.ipynb#X50sZmlsZQ%3D%3D?line=17'>18</a>\u001b[0m w_i_out_B \u001b[39m=\u001b[39m np\u001b[39m.\u001b[39mmax(U_ij[:,np\u001b[39m.\u001b[39mconcatenate((B,[\u001b[39mTrue\u001b[39;00m]))], axis \u001b[39m=\u001b[39m \u001b[39m1\u001b[39m)\n\u001b[1;32m     <a href='vscode-notebook-cell:/Users/enzo-macmini/auction_alg_ITU/coop_ITU_fixed.ipynb#X50sZmlsZQ%3D%3D?line=20'>21</a>\u001b[0m \u001b[39m#V_ex[~B] += np.min(d[B_with_out])\u001b[39;00m\n\u001b[0;32m---> <a href='vscode-notebook-cell:/Users/enzo-macmini/auction_alg_ITU/coop_ITU_fixed.ipynb#X50sZmlsZQ%3D%3D?line=21'>22</a>\u001b[0m pi_ij, V_ex, \u001b[39miter\u001b[39m \u001b[39m=\u001b[39m example_small\u001b[39m.\u001b[39;49minterim_auction(C_i, \u001b[39m~\u001b[39;49mB,w_i_out_B ,V_ex, mu_ex )\n\u001b[1;32m     <a href='vscode-notebook-cell:/Users/enzo-macmini/auction_alg_ITU/coop_ITU_fixed.ipynb#X50sZmlsZQ%3D%3D?line=22'>23</a>\u001b[0m id_O \u001b[39m=\u001b[39m \u001b[39m0\u001b[39m\n\u001b[1;32m     <a href='vscode-notebook-cell:/Users/enzo-macmini/auction_alg_ITU/coop_ITU_fixed.ipynb#X50sZmlsZQ%3D%3D?line=23'>24</a>\u001b[0m \u001b[39mfor\u001b[39;00m j \u001b[39min\u001b[39;00m np\u001b[39m.\u001b[39mwhere( B \u001b[39m==\u001b[39m \u001b[39m0\u001b[39m )[\u001b[39m0\u001b[39m]:\n",
      "\u001b[1;32m/Users/enzo-macmini/auction_alg_ITU/coop_ITU_fixed.ipynb Cell 34\u001b[0m line \u001b[0;36m4\n\u001b[1;32m     <a href='vscode-notebook-cell:/Users/enzo-macmini/auction_alg_ITU/coop_ITU_fixed.ipynb#X50sZmlsZQ%3D%3D?line=41'>42</a>\u001b[0m     w_i \u001b[39m=\u001b[39m np\u001b[39m.\u001b[39mmax(U_ij[:,not_contested_js] , axis\u001b[39m=\u001b[39m \u001b[39m1\u001b[39m)\n\u001b[1;32m     <a href='vscode-notebook-cell:/Users/enzo-macmini/auction_alg_ITU/coop_ITU_fixed.ipynb#X50sZmlsZQ%3D%3D?line=42'>43</a>\u001b[0m     offers_coop \u001b[39m=\u001b[39m ((π_i \u001b[39m-\u001b[39m w_i)[:,\u001b[39mNone\u001b[39;00m]\u001b[39m/\u001b[39m \u001b[39mself\u001b[39m\u001b[39m.\u001b[39mA_ij[C][:,O] ) \u001b[39m*\u001b[39m ij_optimal[:,:\u001b[39m-\u001b[39m\u001b[39m1\u001b[39m]\n\u001b[0;32m---> <a href='vscode-notebook-cell:/Users/enzo-macmini/auction_alg_ITU/coop_ITU_fixed.ipynb#X50sZmlsZQ%3D%3D?line=43'>44</a>\u001b[0m     V_j[O] \u001b[39m+\u001b[39m\u001b[39m=\u001b[39m np\u001b[39m.\u001b[39;49mmin( offers_coop[offers_coop \u001b[39m>\u001b[39;49m \u001b[39m0\u001b[39;49m] )\n\u001b[1;32m     <a href='vscode-notebook-cell:/Users/enzo-macmini/auction_alg_ITU/coop_ITU_fixed.ipynb#X50sZmlsZQ%3D%3D?line=46'>47</a>\u001b[0m \u001b[39m# U_ij = np.concatenate((self.get_U_ij(V_j, C)[:, :-1][:, O], out_opt_i[:,None]), axis= 1)\u001b[39;00m\n\u001b[1;32m     <a href='vscode-notebook-cell:/Users/enzo-macmini/auction_alg_ITU/coop_ITU_fixed.ipynb#X50sZmlsZQ%3D%3D?line=47'>48</a>\u001b[0m \u001b[39m# sorted_w_id = np.argsort(U_ij , axis = 1)[:,-2:]\u001b[39;00m\n\u001b[1;32m     <a href='vscode-notebook-cell:/Users/enzo-macmini/auction_alg_ITU/coop_ITU_fixed.ipynb#X50sZmlsZQ%3D%3D?line=48'>49</a>\u001b[0m \u001b[39m# w_i = U_ij[np.arange(C.sum()),sorted_w_id[:,0]]\u001b[39;00m\n\u001b[0;32m   (...)\u001b[0m\n\u001b[1;32m     <a href='vscode-notebook-cell:/Users/enzo-macmini/auction_alg_ITU/coop_ITU_fixed.ipynb#X50sZmlsZQ%3D%3D?line=53'>54</a>\u001b[0m \u001b[39m# pi_ij = solve_1to1(ij_optimal)\u001b[39;00m\n\u001b[1;32m     <a href='vscode-notebook-cell:/Users/enzo-macmini/auction_alg_ITU/coop_ITU_fixed.ipynb#X50sZmlsZQ%3D%3D?line=54'>55</a>\u001b[0m \u001b[39m# print(pi_ij.sum())\u001b[39;00m\n\u001b[1;32m     <a href='vscode-notebook-cell:/Users/enzo-macmini/auction_alg_ITU/coop_ITU_fixed.ipynb#X50sZmlsZQ%3D%3D?line=61'>62</a>\u001b[0m \u001b[39mif\u001b[39;00m \u001b[39miter\u001b[39m \u001b[39m>\u001b[39m \u001b[39m5\u001b[39m:\n",
      "File \u001b[0;32m/Library/Frameworks/Python.framework/Versions/3.12/lib/python3.12/site-packages/numpy/core/fromnumeric.py:2953\u001b[0m, in \u001b[0;36mmin\u001b[0;34m(a, axis, out, keepdims, initial, where)\u001b[0m\n\u001b[1;32m   2836\u001b[0m \u001b[39m@array_function_dispatch\u001b[39m(_min_dispatcher)\n\u001b[1;32m   2837\u001b[0m \u001b[39mdef\u001b[39;00m \u001b[39mmin\u001b[39m(a, axis\u001b[39m=\u001b[39m\u001b[39mNone\u001b[39;00m, out\u001b[39m=\u001b[39m\u001b[39mNone\u001b[39;00m, keepdims\u001b[39m=\u001b[39mnp\u001b[39m.\u001b[39m_NoValue, initial\u001b[39m=\u001b[39mnp\u001b[39m.\u001b[39m_NoValue,\n\u001b[1;32m   2838\u001b[0m         where\u001b[39m=\u001b[39mnp\u001b[39m.\u001b[39m_NoValue):\n\u001b[1;32m   2839\u001b[0m \u001b[39m    \u001b[39m\u001b[39m\"\"\"\u001b[39;00m\n\u001b[1;32m   2840\u001b[0m \u001b[39m    Return the minimum of an array or minimum along an axis.\u001b[39;00m\n\u001b[1;32m   2841\u001b[0m \n\u001b[0;32m   (...)\u001b[0m\n\u001b[1;32m   2951\u001b[0m \u001b[39m    6\u001b[39;00m\n\u001b[1;32m   2952\u001b[0m \u001b[39m    \"\"\"\u001b[39;00m\n\u001b[0;32m-> 2953\u001b[0m     \u001b[39mreturn\u001b[39;00m _wrapreduction(a, np\u001b[39m.\u001b[39;49mminimum, \u001b[39m'\u001b[39;49m\u001b[39mmin\u001b[39;49m\u001b[39m'\u001b[39;49m, axis, \u001b[39mNone\u001b[39;49;00m, out,\n\u001b[1;32m   2954\u001b[0m                           keepdims\u001b[39m=\u001b[39;49mkeepdims, initial\u001b[39m=\u001b[39;49minitial, where\u001b[39m=\u001b[39;49mwhere)\n",
      "File \u001b[0;32m/Library/Frameworks/Python.framework/Versions/3.12/lib/python3.12/site-packages/numpy/core/fromnumeric.py:88\u001b[0m, in \u001b[0;36m_wrapreduction\u001b[0;34m(obj, ufunc, method, axis, dtype, out, **kwargs)\u001b[0m\n\u001b[1;32m     85\u001b[0m         \u001b[39melse\u001b[39;00m:\n\u001b[1;32m     86\u001b[0m             \u001b[39mreturn\u001b[39;00m reduction(axis\u001b[39m=\u001b[39maxis, out\u001b[39m=\u001b[39mout, \u001b[39m*\u001b[39m\u001b[39m*\u001b[39mpasskwargs)\n\u001b[0;32m---> 88\u001b[0m \u001b[39mreturn\u001b[39;00m ufunc\u001b[39m.\u001b[39;49mreduce(obj, axis, dtype, out, \u001b[39m*\u001b[39;49m\u001b[39m*\u001b[39;49mpasskwargs)\n",
      "\u001b[0;31mValueError\u001b[0m: zero-size array to reduction operation minimum which has no identity"
     ]
    }
   ],
   "source": [
    "#C_i = np.zeros(example_small.n, dtype= bool)\n",
    "for p in range(1):\n",
    "    i_ent = np.where(mu_ex.sum(1) == 0)[0][0]\n",
    "    iter_values = example_small.iteration(i_ent, mu_ex, V_ex )\n",
    "    #print(iter_values[1])\n",
    "    V_ex_pre = V_ex.copy()\n",
    "    mu_ex_pre = mu_ex.copy()\n",
    "    if len(iter_values) == 2:\n",
    "        mu_ex, V_ex  = iter_values\n",
    "        print(\"augment\")\n",
    " \n",
    "    else:\n",
    "\n",
    "        C_i, B, d ,j_low= iter_values\n",
    "        U_ij = example_small.get_U_ij(V_ex, C_i)\n",
    "        val_i = np.max(U_ij, axis = 1)\n",
    "\n",
    "        w_i_out_B = np.max(U_ij[:,np.concatenate((B,[True]))], axis = 1)\n",
    "\n",
    "       \n",
    "        #V_ex[~B] += np.min(d[B_with_out])\n",
    "        pi_ij, V_ex, iter = example_small.interim_auction(C_i, ~B,w_i_out_B ,V_ex, mu_ex )\n",
    "        id_O = 0\n",
    "        for j in np.where( B == 0 )[0]:\n",
    "            mu_ex[C_i,j] = pi_ij[:,id_O]\n",
    "            id_O += 1\n",
    "        "
   ]
  },
  {
   "cell_type": "code",
   "execution_count": 1414,
   "metadata": {},
   "outputs": [
    {
     "data": {
      "text/plain": [
       "array([[0., 0., 1., 0., 0., 0.],\n",
       "       [0., 0., 0., 0., 1., 0.],\n",
       "       [0., 0., 0., 1., 0., 0.],\n",
       "       [1., 0., 0., 0., 0., 0.],\n",
       "       [0., 1., 0., 0., 0., 0.]])"
      ]
     },
     "execution_count": 1414,
     "metadata": {},
     "output_type": "execute_result"
    }
   ],
   "source": [
    "mu_ex"
   ]
  },
  {
   "cell_type": "code",
   "execution_count": 1313,
   "metadata": {},
   "outputs": [
    {
     "data": {
      "text/plain": [
       "array([[ 0. , -1. , -2. , -1. ,  1. ,  0. ],\n",
       "       [ 3. ,  1. ,  0. , -1. ,  0. ,  0. ],\n",
       "       [ 2. ,  2. ,  1. , -2. ,  1. ,  0. ],\n",
       "       [ 1. ,  0.5,  1. , -1. ,  0. ,  0. ],\n",
       "       [ 1. ,  1. , -1. ,  1. ,  0. ,  0. ]])"
      ]
     },
     "execution_count": 1313,
     "metadata": {},
     "output_type": "execute_result"
    }
   ],
   "source": [
    "example_small.get_U_ij(V_ex, np.ones(example_small.n, dtype=bool))"
   ]
  },
  {
   "cell_type": "code",
   "execution_count": 1275,
   "metadata": {},
   "outputs": [
    {
     "data": {
      "text/plain": [
       "array([0., 1., 2., 2., 0.])"
      ]
     },
     "execution_count": 1275,
     "metadata": {},
     "output_type": "execute_result"
    }
   ],
   "source": [
    "V_ex"
   ]
  },
  {
   "cell_type": "code",
   "execution_count": 884,
   "metadata": {},
   "outputs": [
    {
     "data": {
      "text/plain": [
       "array([[0., 1., 0., 0., 0., 0.],\n",
       "       [1., 0., 0., 0., 0., 0.],\n",
       "       [0., 0., 1., 0., 0., 0.],\n",
       "       [0., 0., 0., 0., 0., 0.],\n",
       "       [0., 0., 0., 0., 0., 0.]])"
      ]
     },
     "execution_count": 884,
     "metadata": {},
     "output_type": "execute_result"
    }
   ],
   "source": [
    "mu_ex"
   ]
  },
  {
   "cell_type": "code",
   "execution_count": null,
   "metadata": {},
   "outputs": [],
   "source": []
  },
  {
   "cell_type": "markdown",
   "metadata": {},
   "source": [
    "# Coop auction"
   ]
  },
  {
   "cell_type": "code",
   "execution_count": 1279,
   "metadata": {},
   "outputs": [],
   "source": [
    "n_small = 5\n",
    "m_small = 5\n",
    "example_small = OneToOneITU( n = n_small,m = m_small, size_params= (3,4) , random_seed= 1, lbs =(0,0), tol = 0)"
   ]
  },
  {
   "cell_type": "code",
   "execution_count": 1337,
   "metadata": {},
   "outputs": [],
   "source": [
    "def coop_ITU_auction(self):\n",
    "    mu_ij = np.zeros([self.n,self.m+1])\n",
    "    V_j = np.ones(self.m) * self.lb_V\n",
    "    while np.any( mu_ij.sum() < np.minimum(self.n, self.m)):\n",
    "    # for p in range(5):\n",
    "        \n",
    "        i_ent = np.where(mu_ij.sum(1) == 0)[0][0]\n",
    "        iter_values = self.iteration(i_ent, mu_ij, V_j )\n",
    "        #print(iter_values[1])\n",
    "        V_j_pre = V_j.copy()\n",
    "        mu_ij_pre = mu_ij.copy()\n",
    "        if len(iter_values) == 2:\n",
    "            mu_ij, V_j  = iter_values\n",
    "            #print(\"augment\")    \n",
    "        else:\n",
    "\n",
    "            C_i, B, d ,j_low= iter_values\n",
    "            U_ij = self.get_U_ij(V_j, C_i)\n",
    "            val_i = np.max(U_ij, axis = 1)\n",
    "            w_i_out_B = np.max(U_ij[:,np.concatenate((B,[True]))], axis = 1)\n",
    "    \n",
    "            pi_ij, V_j, iter = self.interim_auction(C_i, ~B,w_i_out_B ,V_j, mu_ij )\n",
    "            id_O = 0\n",
    "            for j in np.where( B == 0 )[0]:\n",
    "                mu_ij[C_i,j] = pi_ij[:,id_O]\n",
    "                id_O += 1\n",
    "\n",
    "    id_i , id_j  =  np.where(mu_ij[:,:-1] == 1)\n",
    "    U_i = np.ones(self.n) * self.lb_U\n",
    "    U_i[id_i] = self.get_U_ij(V_j, id_i)[np.arange(len(id_i)), id_j]  \n",
    "    return mu_ij, U_i, V_j\n",
    "\n",
    "OneToOneITU.coop_ITU_auction = coop_ITU_auction"
   ]
  },
  {
   "cell_type": "code",
   "execution_count": 1338,
   "metadata": {},
   "outputs": [
    {
     "name": "stdout",
     "output_type": "stream",
     "text": [
      "Warning for adding constraints: zero or small (< 1e-13) coefficients, ignored\n",
      "Warning for adding constraints: zero or small (< 1e-13) coefficients, ignored\n"
     ]
    }
   ],
   "source": [
    "mu_ex , U_ex,  V_ex  = example_small.coop_ITU_auction()"
   ]
  },
  {
   "cell_type": "code",
   "execution_count": 1339,
   "metadata": {},
   "outputs": [
    {
     "data": {
      "text/plain": [
       "array([0., 1., 2., 2., 0.])"
      ]
     },
     "execution_count": 1339,
     "metadata": {},
     "output_type": "execute_result"
    }
   ],
   "source": [
    "V_ex"
   ]
  },
  {
   "cell_type": "code",
   "execution_count": 1340,
   "metadata": {},
   "outputs": [
    {
     "data": {
      "text/plain": [
       "array([[0., 0., 0., 0., 1., 0.],\n",
       "       [1., 0., 0., 0., 0., 0.],\n",
       "       [0., 1., 0., 0., 0., 0.],\n",
       "       [0., 0., 1., 0., 0., 0.],\n",
       "       [0., 0., 0., 1., 0., 0.]])"
      ]
     },
     "execution_count": 1340,
     "metadata": {},
     "output_type": "execute_result"
    }
   ],
   "source": [
    "mu_ex"
   ]
  },
  {
   "cell_type": "code",
   "execution_count": 1341,
   "metadata": {},
   "outputs": [
    {
     "data": {
      "text/plain": [
       "array([[0., 0., 0., 0., 1., 0.],\n",
       "       [1., 0., 0., 0., 0., 0.],\n",
       "       [0., 1., 0., 0., 0., 0.],\n",
       "       [0., 0., 1., 0., 0., 0.],\n",
       "       [0., 0., 0., 1., 0., 0.]])"
      ]
     },
     "execution_count": 1341,
     "metadata": {},
     "output_type": "execute_result"
    }
   ],
   "source": [
    "mu_ex"
   ]
  },
  {
   "cell_type": "code",
   "execution_count": 1342,
   "metadata": {},
   "outputs": [
    {
     "data": {
      "text/plain": [
       "array([[ 0. , -1. , -2. , -1. ,  1. ,  0. ],\n",
       "       [ 3. ,  1. ,  0. , -1. ,  0. ,  0. ],\n",
       "       [ 2. ,  2. ,  1. , -2. ,  1. ,  0. ],\n",
       "       [ 1. ,  0.5,  1. , -1. ,  0. ,  0. ],\n",
       "       [ 1. ,  1. , -1. ,  1. ,  0. ,  0. ]])"
      ]
     },
     "execution_count": 1342,
     "metadata": {},
     "output_type": "execute_result"
    }
   ],
   "source": [
    "example_small.get_U_ij(V_ex, np.ones(example_small.n, dtype=bool))"
   ]
  },
  {
   "cell_type": "code",
   "execution_count": 1429,
   "metadata": {},
   "outputs": [],
   "source": [
    "id_i , id_j  =  np.where(mu_ex[:,:-1] == 1)\n",
    "U_ex = np.ones(example_small.n) * example_small.lb_U\n",
    "U_ex[id_i] = example_small.get_U_ij(V_ex, id_i)[np.arange(len(id_i)), id_j]  "
   ]
  },
  {
   "cell_type": "code",
   "execution_count": 1430,
   "metadata": {},
   "outputs": [
    {
     "data": {
      "text/markdown": [
       "____\n",
       "<h1>Feasibility</h1>"
      ],
      "text/plain": [
       "<IPython.core.display.Markdown object>"
      ]
     },
     "metadata": {},
     "output_type": "display_data"
    },
    {
     "data": {
      "text/latex": [
       "$\\displaystyle \\forall i, \\ \\sum_{j}  \\mu_{ij} \\leq 1: \\ True$"
      ],
      "text/plain": [
       "<IPython.core.display.Math object>"
      ]
     },
     "metadata": {},
     "output_type": "display_data"
    },
    {
     "data": {
      "text/latex": [
       "$\\displaystyle \\forall j, \\ \\sum_{i}  \\mu_{ij} \\leq 1: \\ True$"
      ],
      "text/plain": [
       "<IPython.core.display.Math object>"
      ]
     },
     "metadata": {},
     "output_type": "display_data"
    },
    {
     "data": {
      "text/markdown": [
       "#matched: 5 over 5"
      ],
      "text/plain": [
       "<IPython.core.display.Markdown object>"
      ]
     },
     "metadata": {},
     "output_type": "display_data"
    },
    {
     "data": {
      "text/markdown": [
       "____\n",
       "<h1>Generalized Complementary Slackness</h1>"
      ],
      "text/plain": [
       "<IPython.core.display.Markdown object>"
      ]
     },
     "metadata": {},
     "output_type": "display_data"
    },
    {
     "data": {
      "text/latex": [
       "$\\displaystyle \\frac1{nm} \\sum_{ij} \\min( A_{ij} U_i + G_{ij} V_j -  B_{ij} , 0)  = 0.0$"
      ],
      "text/plain": [
       "<IPython.core.display.Math object>"
      ]
     },
     "metadata": {},
     "output_type": "display_data"
    },
    {
     "data": {
      "text/latex": [
       "$\\displaystyle \\frac1{nm} \\sum_{ij} \\mu_{ij} * (A_{ij} U_i + G_{ij} V_j - B_{ij}) = 0.0$"
      ],
      "text/plain": [
       "<IPython.core.display.Math object>"
      ]
     },
     "metadata": {},
     "output_type": "display_data"
    },
    {
     "data": {
      "text/markdown": [
       "____\n",
       "<h1>Individual Rationality</h1>"
      ],
      "text/plain": [
       "<IPython.core.display.Markdown object>"
      ]
     },
     "metadata": {},
     "output_type": "display_data"
    },
    {
     "data": {
      "text/latex": [
       "$\\displaystyle \\min_{i} U_{i} = 1.0 \\geq 0 = U_{lb}$"
      ],
      "text/plain": [
       "<IPython.core.display.Math object>"
      ]
     },
     "metadata": {},
     "output_type": "display_data"
    },
    {
     "data": {
      "text/latex": [
       "$\\displaystyle \\min_{j} V_{j} = 0.0 \\geq  0 = V_{lb}$"
      ],
      "text/plain": [
       "<IPython.core.display.Math object>"
      ]
     },
     "metadata": {},
     "output_type": "display_data"
    },
    {
     "data": {
      "text/latex": [
       "$\\displaystyle \\frac1{n} \\sum_{i} (U_{i} - U_{lb} ) * (\\sum_{j} \\mu_{ij} -1) = 0.0$"
      ],
      "text/plain": [
       "<IPython.core.display.Math object>"
      ]
     },
     "metadata": {},
     "output_type": "display_data"
    },
    {
     "data": {
      "text/latex": [
       "$\\displaystyle \\frac1{m}\\sum_{j} (V_{j} - V_{lb} ) * (\\sum_{i} \\mu_{ij} -1) = 0.0$"
      ],
      "text/plain": [
       "<IPython.core.display.Math object>"
      ]
     },
     "metadata": {},
     "output_type": "display_data"
    }
   ],
   "source": [
    "example_small.check_all((mu_ex[:,:-1] , U_ex , V_ex ))"
   ]
  },
  {
   "cell_type": "code",
   "execution_count": 818,
   "metadata": {},
   "outputs": [
    {
     "data": {
      "text/plain": [
       "(array([[0., 0., 0., 0., 0.],\n",
       "        [0., 0., 0., 0., 0.],\n",
       "        [0., 0., 0., 0., 0.],\n",
       "        [0., 0., 0., 0., 0.],\n",
       "        [0., 0., 0., 0., 0.]]),\n",
       " (array([], dtype=int64), array([], dtype=int64)))"
      ]
     },
     "execution_count": 818,
     "metadata": {},
     "output_type": "execute_result"
    }
   ],
   "source": [
    "example_small.check_dual_feas ( U_ex , V_ex , output= True)"
   ]
  },
  {
   "cell_type": "code",
   "execution_count": null,
   "metadata": {},
   "outputs": [],
   "source": []
  },
  {
   "cell_type": "code",
   "execution_count": 1418,
   "metadata": {},
   "outputs": [
    {
     "name": "stdout",
     "output_type": "stream",
     "text": [
      "0\n",
      "1\n",
      "Warning for adding constraints: zero or small (< 1e-13) coefficients, ignored\n",
      "Warning for adding constraints: zero or small (< 1e-13) coefficients, ignored\n",
      "2\n",
      "3\n",
      "Warning for adding constraints: zero or small (< 1e-13) coefficients, ignored\n",
      "Warning for adding constraints: zero or small (< 1e-13) coefficients, ignored\n",
      "4\n",
      "5\n",
      "6\n",
      "Warning for adding constraints: zero or small (< 1e-13) coefficients, ignored\n",
      "Warning for adding constraints: zero or small (< 1e-13) coefficients, ignored\n",
      "7\n",
      "8\n",
      "9\n",
      "10\n",
      "11\n",
      "12\n",
      "13\n",
      "14\n",
      "Warning for adding constraints: zero or small (< 1e-13) coefficients, ignored\n",
      "Warning for adding constraints: zero or small (< 1e-13) coefficients, ignored\n",
      "15\n",
      "16\n",
      "17\n",
      "18\n",
      "19\n",
      "20\n",
      "21\n",
      "22\n",
      "23\n",
      "24\n",
      "25\n",
      "26\n",
      "27\n",
      "28\n",
      "29\n",
      "30\n",
      "31\n",
      "32\n",
      "33\n",
      "34\n",
      "35\n",
      "36\n",
      "Warning for adding constraints: zero or small (< 1e-13) coefficients, ignored\n",
      "Warning for adding constraints: zero or small (< 1e-13) coefficients, ignored\n",
      "37\n",
      "38\n",
      "Warning for adding constraints: zero or small (< 1e-13) coefficients, ignored\n",
      "Warning for adding constraints: zero or small (< 1e-13) coefficients, ignored\n",
      "Warning for adding constraints: zero or small (< 1e-13) coefficients, ignored\n",
      "Warning for adding constraints: zero or small (< 1e-13) coefficients, ignored\n",
      "39\n",
      "40\n",
      "41\n",
      "42\n",
      "Warning for adding constraints: zero or small (< 1e-13) coefficients, ignored\n",
      "Warning for adding constraints: zero or small (< 1e-13) coefficients, ignored\n",
      "43\n",
      "44\n",
      "45\n",
      "46\n",
      "47\n",
      "48\n",
      "49\n",
      "Warning for adding constraints: zero or small (< 1e-13) coefficients, ignored\n",
      "Warning for adding constraints: zero or small (< 1e-13) coefficients, ignored\n",
      "Warning for adding constraints: zero or small (< 1e-13) coefficients, ignored\n",
      "Warning for adding constraints: zero or small (< 1e-13) coefficients, ignored\n",
      "50\n",
      "51\n",
      "52\n",
      "53\n",
      "Warning for adding constraints: zero or small (< 1e-13) coefficients, ignored\n",
      "Warning for adding constraints: zero or small (< 1e-13) coefficients, ignored\n",
      "54\n",
      "55\n",
      "56\n",
      "57\n",
      "58\n",
      "Warning for adding constraints: zero or small (< 1e-13) coefficients, ignored\n",
      "Warning for adding constraints: zero or small (< 1e-13) coefficients, ignored\n",
      "59\n",
      "60\n",
      "61\n",
      "62\n",
      "63\n",
      "64\n",
      "65\n",
      "66\n",
      "67\n",
      "68\n",
      "Warning for adding constraints: zero or small (< 1e-13) coefficients, ignored\n",
      "Warning for adding constraints: zero or small (< 1e-13) coefficients, ignored\n",
      "69\n",
      "70\n",
      "71\n",
      "72\n",
      "73\n",
      "74\n",
      "75\n",
      "76\n",
      "77\n",
      "78\n",
      "Warning for adding constraints: zero or small (< 1e-13) coefficients, ignored\n",
      "Warning for adding constraints: zero or small (< 1e-13) coefficients, ignored\n",
      "79\n",
      "80\n",
      "81\n",
      "82\n",
      "83\n",
      "Warning for adding constraints: zero or small (< 1e-13) coefficients, ignored\n",
      "Warning for adding constraints: zero or small (< 1e-13) coefficients, ignored\n",
      "Warning for adding constraints: zero or small (< 1e-13) coefficients, ignored\n",
      "Warning for adding constraints: zero or small (< 1e-13) coefficients, ignored\n",
      "84\n",
      "85\n",
      "Warning for adding constraints: zero or small (< 1e-13) coefficients, ignored\n",
      "Warning for adding constraints: zero or small (< 1e-13) coefficients, ignored\n",
      "86\n",
      "87\n",
      "88\n",
      "89\n",
      "90\n",
      "91\n",
      "92\n",
      "93\n",
      "94\n",
      "Warning for adding constraints: zero or small (< 1e-13) coefficients, ignored\n",
      "Warning for adding constraints: zero or small (< 1e-13) coefficients, ignored\n",
      "Warning for adding constraints: zero or small (< 1e-13) coefficients, ignored\n",
      "Warning for adding constraints: zero or small (< 1e-13) coefficients, ignored\n",
      "Warning for adding constraints: zero or small (< 1e-13) coefficients, ignored\n",
      "Warning for adding constraints: zero or small (< 1e-13) coefficients, ignored\n",
      "95\n",
      "96\n",
      "Warning for adding constraints: zero or small (< 1e-13) coefficients, ignored\n",
      "Warning for adding constraints: zero or small (< 1e-13) coefficients, ignored\n",
      "97\n",
      "98\n",
      "99\n",
      "Warning for adding constraints: zero or small (< 1e-13) coefficients, ignored\n",
      "Warning for adding constraints: zero or small (< 1e-13) coefficients, ignored\n",
      "100\n",
      "101\n",
      "102\n",
      "103\n",
      "104\n",
      "105\n",
      "106\n",
      "Warning for adding constraints: zero or small (< 1e-13) coefficients, ignored\n",
      "Warning for adding constraints: zero or small (< 1e-13) coefficients, ignored\n",
      "107\n",
      "108\n",
      "109\n",
      "110\n",
      "111\n",
      "112\n",
      "113\n",
      "114\n",
      "115\n"
     ]
    },
    {
     "ename": "ValueError",
     "evalue": "zero-size array to reduction operation minimum which has no identity",
     "output_type": "error",
     "traceback": [
      "\u001b[0;31m---------------------------------------------------------------------------\u001b[0m",
      "\u001b[0;31mValueError\u001b[0m                                Traceback (most recent call last)",
      "\u001b[1;32m/Users/enzo-macmini/auction_alg_ITU/coop_ITU_fixed.ipynb Cell 52\u001b[0m line \u001b[0;36m6\n\u001b[1;32m      <a href='vscode-notebook-cell:/Users/enzo-macmini/auction_alg_ITU/coop_ITU_fixed.ipynb#Y140sZmlsZQ%3D%3D?line=3'>4</a>\u001b[0m m_small \u001b[39m=\u001b[39m \u001b[39m5\u001b[39m\n\u001b[1;32m      <a href='vscode-notebook-cell:/Users/enzo-macmini/auction_alg_ITU/coop_ITU_fixed.ipynb#Y140sZmlsZQ%3D%3D?line=4'>5</a>\u001b[0m example_simul \u001b[39m=\u001b[39m OneToOneITU( n \u001b[39m=\u001b[39m n_small,m \u001b[39m=\u001b[39m m_small, size_params\u001b[39m=\u001b[39m (\u001b[39m3\u001b[39m,\u001b[39m4\u001b[39m) , random_seed\u001b[39m=\u001b[39m \u001b[39miter\u001b[39m, lbs \u001b[39m=\u001b[39m(\u001b[39m0\u001b[39m,\u001b[39m0\u001b[39m), tol \u001b[39m=\u001b[39m \u001b[39m0\u001b[39m)\n\u001b[0;32m----> <a href='vscode-notebook-cell:/Users/enzo-macmini/auction_alg_ITU/coop_ITU_fixed.ipynb#Y140sZmlsZQ%3D%3D?line=5'>6</a>\u001b[0m mu_sim , U_sim,  V_sim  \u001b[39m=\u001b[39m example_simul\u001b[39m.\u001b[39;49mcoop_ITU_auction()\n\u001b[1;32m      <a href='vscode-notebook-cell:/Users/enzo-macmini/auction_alg_ITU/coop_ITU_fixed.ipynb#Y140sZmlsZQ%3D%3D?line=6'>7</a>\u001b[0m \u001b[39m# print(example_simul.B_ij[0,:])\u001b[39;00m\n\u001b[1;32m      <a href='vscode-notebook-cell:/Users/enzo-macmini/auction_alg_ITU/coop_ITU_fixed.ipynb#Y140sZmlsZQ%3D%3D?line=7'>8</a>\u001b[0m mu_sim \u001b[39m=\u001b[39m mu_sim[:,:\u001b[39m-\u001b[39m\u001b[39m1\u001b[39m]\n",
      "\u001b[1;32m/Users/enzo-macmini/auction_alg_ITU/coop_ITU_fixed.ipynb Cell 52\u001b[0m line \u001b[0;36m2\n\u001b[1;32m     <a href='vscode-notebook-cell:/Users/enzo-macmini/auction_alg_ITU/coop_ITU_fixed.ipynb#Y140sZmlsZQ%3D%3D?line=18'>19</a>\u001b[0m val_i \u001b[39m=\u001b[39m np\u001b[39m.\u001b[39mmax(U_ij, axis \u001b[39m=\u001b[39m \u001b[39m1\u001b[39m)\n\u001b[1;32m     <a href='vscode-notebook-cell:/Users/enzo-macmini/auction_alg_ITU/coop_ITU_fixed.ipynb#Y140sZmlsZQ%3D%3D?line=19'>20</a>\u001b[0m w_i_out_B \u001b[39m=\u001b[39m np\u001b[39m.\u001b[39mmax(U_ij[:,np\u001b[39m.\u001b[39mconcatenate((B,[\u001b[39mTrue\u001b[39;00m]))], axis \u001b[39m=\u001b[39m \u001b[39m1\u001b[39m)\n\u001b[0;32m---> <a href='vscode-notebook-cell:/Users/enzo-macmini/auction_alg_ITU/coop_ITU_fixed.ipynb#Y140sZmlsZQ%3D%3D?line=21'>22</a>\u001b[0m pi_ij, V_j, \u001b[39miter\u001b[39m \u001b[39m=\u001b[39m \u001b[39mself\u001b[39;49m\u001b[39m.\u001b[39;49minterim_auction(C_i, \u001b[39m~\u001b[39;49mB,w_i_out_B ,V_j, mu_ij )\n\u001b[1;32m     <a href='vscode-notebook-cell:/Users/enzo-macmini/auction_alg_ITU/coop_ITU_fixed.ipynb#Y140sZmlsZQ%3D%3D?line=22'>23</a>\u001b[0m id_O \u001b[39m=\u001b[39m \u001b[39m0\u001b[39m\n\u001b[1;32m     <a href='vscode-notebook-cell:/Users/enzo-macmini/auction_alg_ITU/coop_ITU_fixed.ipynb#Y140sZmlsZQ%3D%3D?line=23'>24</a>\u001b[0m \u001b[39mfor\u001b[39;00m j \u001b[39min\u001b[39;00m np\u001b[39m.\u001b[39mwhere( B \u001b[39m==\u001b[39m \u001b[39m0\u001b[39m )[\u001b[39m0\u001b[39m]:\n",
      "\u001b[1;32m/Users/enzo-macmini/auction_alg_ITU/coop_ITU_fixed.ipynb Cell 52\u001b[0m line \u001b[0;36m4\n\u001b[1;32m     <a href='vscode-notebook-cell:/Users/enzo-macmini/auction_alg_ITU/coop_ITU_fixed.ipynb#Y140sZmlsZQ%3D%3D?line=41'>42</a>\u001b[0m     w_i \u001b[39m=\u001b[39m np\u001b[39m.\u001b[39mmax(U_ij[:,not_contested_js] , axis\u001b[39m=\u001b[39m \u001b[39m1\u001b[39m)\n\u001b[1;32m     <a href='vscode-notebook-cell:/Users/enzo-macmini/auction_alg_ITU/coop_ITU_fixed.ipynb#Y140sZmlsZQ%3D%3D?line=42'>43</a>\u001b[0m     offers_coop \u001b[39m=\u001b[39m ((π_i \u001b[39m-\u001b[39m w_i)[:,\u001b[39mNone\u001b[39;00m]\u001b[39m/\u001b[39m \u001b[39mself\u001b[39m\u001b[39m.\u001b[39mA_ij[C][:,O] ) \u001b[39m*\u001b[39m ij_optimal[:,:\u001b[39m-\u001b[39m\u001b[39m1\u001b[39m]\n\u001b[0;32m---> <a href='vscode-notebook-cell:/Users/enzo-macmini/auction_alg_ITU/coop_ITU_fixed.ipynb#Y140sZmlsZQ%3D%3D?line=43'>44</a>\u001b[0m     V_j[O] \u001b[39m+\u001b[39m\u001b[39m=\u001b[39m np\u001b[39m.\u001b[39;49mmin( offers_coop[offers_coop \u001b[39m>\u001b[39;49m \u001b[39m0\u001b[39;49m] )\n\u001b[1;32m     <a href='vscode-notebook-cell:/Users/enzo-macmini/auction_alg_ITU/coop_ITU_fixed.ipynb#Y140sZmlsZQ%3D%3D?line=46'>47</a>\u001b[0m \u001b[39m# U_ij = np.concatenate((self.get_U_ij(V_j, C)[:, :-1][:, O], out_opt_i[:,None]), axis= 1)\u001b[39;00m\n\u001b[1;32m     <a href='vscode-notebook-cell:/Users/enzo-macmini/auction_alg_ITU/coop_ITU_fixed.ipynb#Y140sZmlsZQ%3D%3D?line=47'>48</a>\u001b[0m \u001b[39m# sorted_w_id = np.argsort(U_ij , axis = 1)[:,-2:]\u001b[39;00m\n\u001b[1;32m     <a href='vscode-notebook-cell:/Users/enzo-macmini/auction_alg_ITU/coop_ITU_fixed.ipynb#Y140sZmlsZQ%3D%3D?line=48'>49</a>\u001b[0m \u001b[39m# w_i = U_ij[np.arange(C.sum()),sorted_w_id[:,0]]\u001b[39;00m\n\u001b[0;32m   (...)\u001b[0m\n\u001b[1;32m     <a href='vscode-notebook-cell:/Users/enzo-macmini/auction_alg_ITU/coop_ITU_fixed.ipynb#Y140sZmlsZQ%3D%3D?line=53'>54</a>\u001b[0m \u001b[39m# pi_ij = solve_1to1(ij_optimal)\u001b[39;00m\n\u001b[1;32m     <a href='vscode-notebook-cell:/Users/enzo-macmini/auction_alg_ITU/coop_ITU_fixed.ipynb#Y140sZmlsZQ%3D%3D?line=54'>55</a>\u001b[0m \u001b[39m# print(pi_ij.sum())\u001b[39;00m\n\u001b[1;32m     <a href='vscode-notebook-cell:/Users/enzo-macmini/auction_alg_ITU/coop_ITU_fixed.ipynb#Y140sZmlsZQ%3D%3D?line=61'>62</a>\u001b[0m \u001b[39mif\u001b[39;00m \u001b[39miter\u001b[39m \u001b[39m>\u001b[39m \u001b[39m5\u001b[39m:\n",
      "File \u001b[0;32m/Library/Frameworks/Python.framework/Versions/3.12/lib/python3.12/site-packages/numpy/core/fromnumeric.py:2953\u001b[0m, in \u001b[0;36mmin\u001b[0;34m(a, axis, out, keepdims, initial, where)\u001b[0m\n\u001b[1;32m   2836\u001b[0m \u001b[39m@array_function_dispatch\u001b[39m(_min_dispatcher)\n\u001b[1;32m   2837\u001b[0m \u001b[39mdef\u001b[39;00m \u001b[39mmin\u001b[39m(a, axis\u001b[39m=\u001b[39m\u001b[39mNone\u001b[39;00m, out\u001b[39m=\u001b[39m\u001b[39mNone\u001b[39;00m, keepdims\u001b[39m=\u001b[39mnp\u001b[39m.\u001b[39m_NoValue, initial\u001b[39m=\u001b[39mnp\u001b[39m.\u001b[39m_NoValue,\n\u001b[1;32m   2838\u001b[0m         where\u001b[39m=\u001b[39mnp\u001b[39m.\u001b[39m_NoValue):\n\u001b[1;32m   2839\u001b[0m \u001b[39m    \u001b[39m\u001b[39m\"\"\"\u001b[39;00m\n\u001b[1;32m   2840\u001b[0m \u001b[39m    Return the minimum of an array or minimum along an axis.\u001b[39;00m\n\u001b[1;32m   2841\u001b[0m \n\u001b[0;32m   (...)\u001b[0m\n\u001b[1;32m   2951\u001b[0m \u001b[39m    6\u001b[39;00m\n\u001b[1;32m   2952\u001b[0m \u001b[39m    \"\"\"\u001b[39;00m\n\u001b[0;32m-> 2953\u001b[0m     \u001b[39mreturn\u001b[39;00m _wrapreduction(a, np\u001b[39m.\u001b[39;49mminimum, \u001b[39m'\u001b[39;49m\u001b[39mmin\u001b[39;49m\u001b[39m'\u001b[39;49m, axis, \u001b[39mNone\u001b[39;49;00m, out,\n\u001b[1;32m   2954\u001b[0m                           keepdims\u001b[39m=\u001b[39;49mkeepdims, initial\u001b[39m=\u001b[39;49minitial, where\u001b[39m=\u001b[39;49mwhere)\n",
      "File \u001b[0;32m/Library/Frameworks/Python.framework/Versions/3.12/lib/python3.12/site-packages/numpy/core/fromnumeric.py:88\u001b[0m, in \u001b[0;36m_wrapreduction\u001b[0;34m(obj, ufunc, method, axis, dtype, out, **kwargs)\u001b[0m\n\u001b[1;32m     85\u001b[0m         \u001b[39melse\u001b[39;00m:\n\u001b[1;32m     86\u001b[0m             \u001b[39mreturn\u001b[39;00m reduction(axis\u001b[39m=\u001b[39maxis, out\u001b[39m=\u001b[39mout, \u001b[39m*\u001b[39m\u001b[39m*\u001b[39mpasskwargs)\n\u001b[0;32m---> 88\u001b[0m \u001b[39mreturn\u001b[39;00m ufunc\u001b[39m.\u001b[39;49mreduce(obj, axis, dtype, out, \u001b[39m*\u001b[39;49m\u001b[39m*\u001b[39;49mpasskwargs)\n",
      "\u001b[0;31mValueError\u001b[0m: zero-size array to reduction operation minimum which has no identity"
     ]
    }
   ],
   "source": [
    "for iter in range(1000000):\n",
    "    print(iter)\n",
    "    n_small = 5\n",
    "    m_small = 5\n",
    "    example_simul = OneToOneITU( n = n_small,m = m_small, size_params= (3,4) , random_seed= iter, lbs =(0,0), tol = 0)\n",
    "    mu_sim , U_sim,  V_sim  = example_simul.coop_ITU_auction()\n",
    "    # print(example_simul.B_ij[0,:])\n",
    "    mu_sim = mu_sim[:,:-1]\n",
    "    feas_dual = example_simul. check_dual_feas(U_sim ,V_sim, output = True)[0].sum() \n",
    "    CS = example_simul.check_primal_CS(U_sim, V_sim, mu_sim, output= True).sum()\n",
    "    IR = ((mu_sim.sum(0) == 0) * ( V_sim - example_simul.lb_V)).sum()   \n",
    "    IR_i = ((mu_sim.sum(1) == 0) * ( U_sim - example_simul.lb_U)).sum() \n",
    "    feas = np.all(mu_sim.sum(0)<=1) * np.all(mu_sim.sum(1)<=1)\n",
    "   \n",
    "    if CS != 0 or IR != 0 or ~feas or feas_dual!= 0 or IR_i != 0:\n",
    "        print(\"porcaccio\")\n",
    "        print(IR)\n",
    "        print(CS)\n",
    "        print(feas_dual)\n",
    "        print(f\"iter{iter}\")\n",
    "        break"
   ]
  },
  {
   "cell_type": "code",
   "execution_count": null,
   "metadata": {},
   "outputs": [],
   "source": []
  }
 ],
 "metadata": {
  "kernelspec": {
   "display_name": "Python 3",
   "language": "python",
   "name": "python3"
  },
  "language_info": {
   "codemirror_mode": {
    "name": "ipython",
    "version": 3
   },
   "file_extension": ".py",
   "mimetype": "text/x-python",
   "name": "python",
   "nbconvert_exporter": "python",
   "pygments_lexer": "ipython3",
   "version": "3.12.0"
  }
 },
 "nbformat": 4,
 "nbformat_minor": 2
}
