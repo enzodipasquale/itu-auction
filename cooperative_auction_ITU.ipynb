{
 "cells": [
  {
   "cell_type": "code",
   "execution_count": 1,
   "metadata": {},
   "outputs": [],
   "source": [
    "import gurobipy as grb\n",
    "from gurobipy import GRB\n",
    "import scipy.sparse as spr\n",
    "import numpy as np\n",
    "import random\n",
    "import matplotlib.pyplot as plt\n",
    "#from sympy import symbols, Rational\n",
    "from IPython.display import display, Math, Markdown\n",
    "import numpy.ma as ma\n"
   ]
  },
  {
   "cell_type": "code",
   "execution_count": 2,
   "metadata": {},
   "outputs": [],
   "source": [
    "%run /Users/enzo-macmini/auction_alg_ITU/parallel_auction_ITU.ipynb"
   ]
  },
  {
   "cell_type": "code",
   "execution_count": 666,
   "metadata": {},
   "outputs": [],
   "source": [
    "n_small = 5\n",
    "m_small = 3\n",
    "example_small = OneToOneITU( n = n_small,m = m_small, size_params= (2,24) , random_seed= 778, lbs =(0,0), tol = 1e-1)"
   ]
  },
  {
   "cell_type": "code",
   "execution_count": 667,
   "metadata": {},
   "outputs": [
    {
     "data": {
      "text/plain": [
       "array([[1., 1., 1.],\n",
       "       [1., 1., 1.],\n",
       "       [1., 1., 1.],\n",
       "       [1., 1., 1.],\n",
       "       [1., 1., 1.]])"
      ]
     },
     "execution_count": 667,
     "metadata": {},
     "output_type": "execute_result"
    }
   ],
   "source": [
    "example_small.A_ij"
   ]
  },
  {
   "cell_type": "code",
   "execution_count": 972,
   "metadata": {},
   "outputs": [],
   "source": [
    "def iteration(self,i_ent, mu, V_j):\n",
    "    C  = np.zeros(self.n, dtype= bool)\n",
    "    C_i_ent = np.zeros(self.n, dtype= bool)\n",
    "    C[i_ent] = 1\n",
    "    B = np.ones(self.m, dtype= bool)\n",
    "    L_j = np.ones(self.m, dtype= int) *(self.n + 1)\n",
    "    d_j = np.ones(self.m, dtype= bool) * np.inf\n",
    "\n",
    "    iter = 0\n",
    "    while np.any(C == 1) and iter < 15:\n",
    "        iter += 1\n",
    "        i = np.argmax(C)\n",
    "        print(f\"iter {iter}, i: {i}\")\n",
    "        C[i] = 0\n",
    "        C_i_ent[i] = 1\n",
    "        U_ij_s = self.get_U_ij(V_j, i)[0]\n",
    "\n",
    "        π_i = np.max(U_ij_s)\n",
    "        \n",
    "        suboptimal_js = U_ij_s < π_i\n",
    "        print(suboptimal_js)\n",
    "        d_j[suboptimal_js] = np.minimum(d_j[suboptimal_js], π_i - np.maximum(U_ij_s[suboptimal_js], self.lb_U )) \n",
    "        print(np.shape(U_ij_s))\n",
    "        unissigne_optimal_j = np.where((mu.sum(0) == 0) * (π_i == U_ij_s))[0]\n",
    "\n",
    "        if len(unissigne_optimal_j)> 0 :\n",
    "            L_j[unissigne_optimal_j[0]] = i\n",
    "            mu[:, L_j < self.n +1 ] = 0\n",
    "            mu[L_j [L_j < self.n +1], L_j < self.n +1 ] = 1\n",
    "            #print(  np.shape(self.get_U_ij(V_j, L_j [L_j < self.n +1] )))\n",
    "            #print( np.shape( np.ones(((L_j < self.n +1).sum() ,1 ))))\n",
    "            # print(  np.concatenate( [self.get_U_ij(V_j, L_j [L_j < self.n +1] ), \n",
    "            #                                 np.ones(((L_j < self.n +1).sum() ,1 ))], axis= 1)     ) \n",
    "            w_i_s = np.sort( np.concatenate([self.get_U_ij(V_j, L_j [L_j < self.n +1] ), \n",
    "                                            np.ones(((L_j < self.n +1).sum() ,1 ))] , axis = 1))[:,-2]\n",
    "            print(w_i_s)\n",
    "            V_j[L_j < self.n +1] = self.get_V_ij(L_j [L_j < self.n +1]  , L_j < self.n +1 ,  w_i_s)\n",
    "\n",
    "\n",
    "            #V_j[j] = self.get_V_ij(i,j,w_i)[0]\n",
    "            # print(f\"j : {j}\")\n",
    "            print(L_j)\n",
    "            print(\"augmentation\")\n",
    "            return mu, V_j\n",
    "\n",
    "\n",
    "        for j in np.where(B * (~suboptimal_js) >0)[0]:\n",
    "            \n",
    "            #U_ij = self.get_U_ij(V_j, i, j)[0]\n",
    "            if mu[:,j].sum() == 1:\n",
    "                i_j = np.argmax(mu[:,j])\n",
    "                B[j] = 0\n",
    "                C[i_j] = 1\n",
    "                \n",
    "                L_j[j] = i if L_j[j] == self.n + 1 else None\n",
    "                print(f\"j : {j}\")\n",
    "                print(L_j)\n",
    "                print(f\"{i} <- {j} \")\n",
    "                #break\n",
    "            # if mu[:,j].sum() == 0:\n",
    "            #     # perform augmentation\n",
    "                \n",
    "            #     L_j[j] = i\n",
    "            #     mu[:, L_j < self.n +1 ] = 0\n",
    "            #     mu[L_j [L_j < self.n +1], L_j < self.n +1 ] = 1\n",
    "            #     w_i_s = np.sort(self.get_U_ij(V_j, L_j [L_j < self.n +1] ), axis = 1)[:,-2]\n",
    "            #     V_j[L_j < self.n +1] = self.get_V_ij(L_j [L_j < self.n +1]  , L_j < self.n +1 ,  w_i_s)\n",
    "            #     #V_j[j] = self.get_V_ij(i,j,w_i)[0]\n",
    "            #     print(f\"AaaAAAAAA\")\n",
    "\n",
    "            #     return mu, V_j\n",
    "\n",
    "\n",
    "           \n",
    "\n",
    "    \n",
    "    return C_i_ent, B * (d_j < np.inf), d_j\n",
    "\n",
    "OneToOneITU.iteration = iteration"
   ]
  },
  {
   "cell_type": "code",
   "execution_count": 973,
   "metadata": {},
   "outputs": [
    {
     "data": {
      "text/plain": [
       "array([[1.]])"
      ]
     },
     "execution_count": 973,
     "metadata": {},
     "output_type": "execute_result"
    }
   ],
   "source": [
    "np.ones((1,1))"
   ]
  },
  {
   "cell_type": "code",
   "execution_count": 974,
   "metadata": {},
   "outputs": [],
   "source": [
    "mu_ex = np.zeros([n_small,m_small])\n",
    "V_ex = np.ones(example_small.m) * example_small.lb_V\n",
    "perm_unassigned = np.zeros(example_small.n, dtype= bool)"
   ]
  },
  {
   "cell_type": "code",
   "execution_count": 975,
   "metadata": {},
   "outputs": [
    {
     "data": {
      "text/plain": [
       "array([[15,  5,  9],\n",
       "       [20, 14,  2],\n",
       "       [22, 12,  0],\n",
       "       [ 6, 23, 21],\n",
       "       [18,  6, 13]])"
      ]
     },
     "execution_count": 975,
     "metadata": {},
     "output_type": "execute_result"
    }
   ],
   "source": [
    "example_small.B_ij"
   ]
  },
  {
   "cell_type": "code",
   "execution_count": 1020,
   "metadata": {},
   "outputs": [
    {
     "name": "stdout",
     "output_type": "stream",
     "text": [
      "iter 1, i: 4\n",
      "[ True  True False]\n",
      "(3,)\n",
      "j : 2\n",
      "[6 6 4]\n",
      "4 <- 2 \n",
      "iter 2, i: 3\n",
      "[ True False False]\n",
      "(3,)\n",
      "[9. 1.]\n",
      "[6 3 4]\n",
      "augmentation\n"
     ]
    }
   ],
   "source": [
    "i_ent = np.where((mu_ex.sum(1) == 0) * (~perm_unassigned) > 0)[0][0]\n",
    "iter_values = example_small.iteration(i_ent, mu_ex, V_ex )\n",
    "\n",
    "if len(iter_values) == 2:\n",
    "    mu_ex, V_ex = iter_values\n",
    "\n",
    "else:\n",
    "    C_i, B, d = iter_values\n",
    "    V_ex[~B] += np.min(d)\n",
    "    print(B)\n",
    "    print(d)\n",
    "    \n",
    "\n",
    "perm_unassigned = np.all(example_small.get_U_ij(V_ex , np.arange(example_small.n)) <= example_small.lb_U, axis = 1)\n",
    "mu_ex[perm_unassigned,:] = 0"
   ]
  },
  {
   "cell_type": "code",
   "execution_count": 1021,
   "metadata": {},
   "outputs": [
    {
     "data": {
      "text/plain": [
       "array([ True,  True, False, False, False])"
      ]
     },
     "execution_count": 1021,
     "metadata": {},
     "output_type": "execute_result"
    }
   ],
   "source": [
    "perm_unassigned"
   ]
  },
  {
   "cell_type": "code",
   "execution_count": 1022,
   "metadata": {},
   "outputs": [
    {
     "data": {
      "text/plain": [
       "array([[0., 0., 0.],\n",
       "       [0., 0., 0.],\n",
       "       [1., 0., 0.],\n",
       "       [0., 1., 0.],\n",
       "       [0., 0., 1.]])"
      ]
     },
     "execution_count": 1022,
     "metadata": {},
     "output_type": "execute_result"
    }
   ],
   "source": [
    "mu_ex"
   ]
  },
  {
   "cell_type": "code",
   "execution_count": 1023,
   "metadata": {},
   "outputs": [
    {
     "data": {
      "text/plain": [
       "array([20., 14., 12.])"
      ]
     },
     "execution_count": 1023,
     "metadata": {},
     "output_type": "execute_result"
    }
   ],
   "source": [
    "V_ex"
   ]
  },
  {
   "cell_type": "code",
   "execution_count": 1024,
   "metadata": {},
   "outputs": [
    {
     "data": {
      "text/plain": [
       "array([[ -5.,  -9.,  -3.],\n",
       "       [  0.,   0., -10.],\n",
       "       [  2.,  -2., -12.],\n",
       "       [-14.,   9.,   9.],\n",
       "       [ -2.,  -8.,   1.]])"
      ]
     },
     "execution_count": 1024,
     "metadata": {},
     "output_type": "execute_result"
    }
   ],
   "source": [
    "example_small.get_U_ij(V_ex , np.arange(5))"
   ]
  },
  {
   "cell_type": "code",
   "execution_count": 1025,
   "metadata": {},
   "outputs": [],
   "source": [
    "def ITU_auction(self):\n",
    "    mu_ij = np.zeros([self.n,self.m])\n",
    "    V_j = np.ones(self.m) * self.lb_V\n",
    "    perm_unassigned = np.zeros(self.n, dtype= bool)\n",
    "    \n",
    "    while perm_unassigned.sum() + mu_ij.sum() < self.n :\n",
    "        i_ent = np.where((mu_ij.sum(1) == 0) * (~perm_unassigned) > 0)[0][0]\n",
    "        iter_values = self.iteration(i_ent, mu_ij, V_j )\n",
    "\n",
    "        if len(iter_values) == 2:\n",
    "            mu_ij, V_j = iter_values\n",
    "\n",
    "        else:\n",
    "            C_i, B, d = iter_values\n",
    "            V_j[~B] += np.min(d)\n",
    "            print(B)\n",
    "            print(d)\n",
    "            \n",
    "\n",
    "        perm_unassigned = np.all(self.get_U_ij(V_j , np.arange(self.n)) <= self.lb_U, axis = 1)\n",
    "        mu_ij[perm_unassigned,:] = 0\n",
    "\n",
    "    return mu_ij, V_j, perm_unassigned * 1\n",
    "\n",
    "OneToOneITU.ITU_auction = ITU_auction"
   ]
  },
  {
   "cell_type": "code",
   "execution_count": 1035,
   "metadata": {},
   "outputs": [],
   "source": [
    "n_small = 10\n",
    "m_small = 30\n",
    "example_small = OneToOneITU( n = n_small,m = m_small, size_params= (2,24) , random_seed= 778, lbs =(0,0), tol = 1e-1)"
   ]
  },
  {
   "cell_type": "code",
   "execution_count": 1036,
   "metadata": {},
   "outputs": [
    {
     "name": "stdout",
     "output_type": "stream",
     "text": [
      "iter 1, i: 0\n",
      "[ True  True  True  True  True  True  True  True  True  True False  True\n",
      "  True  True  True  True  True  True  True  True False  True  True  True\n",
      "  True  True  True  True  True  True]\n",
      "(30,)\n",
      "[23.]\n",
      "[11 11 11 11 11 11 11 11 11 11  0 11 11 11 11 11 11 11 11 11 11 11 11 11\n",
      " 11 11 11 11 11 11]\n",
      "augmentation\n",
      "iter 1, i: 1\n",
      "[ True  True  True  True  True  True  True  True  True  True  True  True\n",
      "  True  True  True  True  True  True  True  True  True False  True  True\n",
      "  True  True  True  True  True  True]\n",
      "(30,)\n",
      "[19.]\n",
      "[11 11 11 11 11 11 11 11 11 11 11 11 11 11 11 11 11 11 11 11 11  1 11 11\n",
      " 11 11 11 11 11 11]\n",
      "augmentation\n",
      "iter 1, i: 2\n",
      "[ True  True  True  True  True  True  True  True  True  True  True  True\n",
      "  True  True  True  True  True  True  True  True  True  True  True  True\n",
      "  True  True  True False  True  True]\n",
      "(30,)\n",
      "[21.]\n",
      "[11 11 11 11 11 11 11 11 11 11 11 11 11 11 11 11 11 11 11 11 11 11 11 11\n",
      " 11 11 11  2 11 11]\n",
      "augmentation\n",
      "iter 1, i: 3\n",
      "[ True  True  True  True False  True  True  True  True  True  True  True\n",
      "  True  True  True False  True  True  True  True  True  True  True  True\n",
      "  True  True  True  True  True  True]\n",
      "(30,)\n",
      "[23.]\n",
      "[11 11 11 11  3 11 11 11 11 11 11 11 11 11 11 11 11 11 11 11 11 11 11 11\n",
      " 11 11 11 11 11 11]\n",
      "augmentation\n",
      "iter 1, i: 4\n",
      "[ True  True  True  True  True  True  True  True  True  True  True  True\n",
      "  True  True False False  True  True  True False  True  True  True  True\n",
      "  True  True  True  True  True  True]\n",
      "(30,)\n",
      "[23.]\n",
      "[11 11 11 11 11 11 11 11 11 11 11 11 11 11  4 11 11 11 11 11 11 11 11 11\n",
      " 11 11 11 11 11 11]\n",
      "augmentation\n",
      "iter 1, i: 5\n",
      "[ True  True  True  True  True  True  True  True False  True  True  True\n",
      "  True  True  True  True  True  True  True  True  True  True  True  True\n",
      "  True  True  True  True  True  True]\n",
      "(30,)\n",
      "[22.]\n",
      "[11 11 11 11 11 11 11 11  5 11 11 11 11 11 11 11 11 11 11 11 11 11 11 11\n",
      " 11 11 11 11 11 11]\n",
      "augmentation\n",
      "iter 1, i: 6\n",
      "[ True  True  True  True  True  True  True  True  True  True  True  True\n",
      "  True False  True  True  True  True  True  True  True  True  True  True\n",
      "  True  True  True  True  True  True]\n",
      "(30,)\n",
      "[22.]\n",
      "[11 11 11 11 11 11 11 11 11 11 11 11 11  6 11 11 11 11 11 11 11 11 11 11\n",
      " 11 11 11 11 11 11]\n",
      "augmentation\n",
      "iter 1, i: 7\n",
      "[ True  True  True  True  True  True False  True  True False  True  True\n",
      "  True  True  True False  True  True  True  True  True  True  True  True\n",
      "  True  True  True  True  True  True]\n",
      "(30,)\n",
      "[23.]\n",
      "[11 11 11 11 11 11  7 11 11 11 11 11 11 11 11 11 11 11 11 11 11 11 11 11\n",
      " 11 11 11 11 11 11]\n",
      "augmentation\n",
      "iter 1, i: 8\n",
      "[ True  True  True  True  True  True  True  True  True  True  True  True\n",
      "  True  True  True  True  True  True  True  True  True  True False  True\n",
      "  True  True  True  True  True  True]\n",
      "(30,)\n",
      "[21.]\n",
      "[11 11 11 11 11 11 11 11 11 11 11 11 11 11 11 11 11 11 11 11 11 11  8 11\n",
      " 11 11 11 11 11 11]\n",
      "augmentation\n",
      "iter 1, i: 9\n",
      "[ True  True False  True  True  True  True  True  True  True  True  True\n",
      "  True  True  True  True  True  True  True  True  True  True  True  True\n",
      " False  True  True  True  True  True]\n",
      "(30,)\n",
      "[23.]\n",
      "[11 11  9 11 11 11 11 11 11 11 11 11 11 11 11 11 11 11 11 11 11 11 11 11\n",
      " 11 11 11 11 11 11]\n",
      "augmentation\n"
     ]
    }
   ],
   "source": [
    "mu_ex ,  V_ex , perm_ = example_small.ITU_auction()"
   ]
  },
  {
   "cell_type": "code",
   "execution_count": 1037,
   "metadata": {},
   "outputs": [
    {
     "data": {
      "text/plain": [
       "array([[0., 0., 0., 0., 0., 0., 0., 0., 0., 0., 1., 0., 0., 0., 0., 0.,\n",
       "        0., 0., 0., 0., 0., 0., 0., 0., 0., 0., 0., 0., 0., 0.],\n",
       "       [0., 0., 0., 0., 0., 0., 0., 0., 0., 0., 0., 0., 0., 0., 0., 0.,\n",
       "        0., 0., 0., 0., 0., 1., 0., 0., 0., 0., 0., 0., 0., 0.],\n",
       "       [0., 0., 0., 0., 0., 0., 0., 0., 0., 0., 0., 0., 0., 0., 0., 0.,\n",
       "        0., 0., 0., 0., 0., 0., 0., 0., 0., 0., 0., 1., 0., 0.],\n",
       "       [0., 0., 0., 0., 1., 0., 0., 0., 0., 0., 0., 0., 0., 0., 0., 0.,\n",
       "        0., 0., 0., 0., 0., 0., 0., 0., 0., 0., 0., 0., 0., 0.],\n",
       "       [0., 0., 0., 0., 0., 0., 0., 0., 0., 0., 0., 0., 0., 0., 1., 0.,\n",
       "        0., 0., 0., 0., 0., 0., 0., 0., 0., 0., 0., 0., 0., 0.],\n",
       "       [0., 0., 0., 0., 0., 0., 0., 0., 1., 0., 0., 0., 0., 0., 0., 0.,\n",
       "        0., 0., 0., 0., 0., 0., 0., 0., 0., 0., 0., 0., 0., 0.],\n",
       "       [0., 0., 0., 0., 0., 0., 0., 0., 0., 0., 0., 0., 0., 1., 0., 0.,\n",
       "        0., 0., 0., 0., 0., 0., 0., 0., 0., 0., 0., 0., 0., 0.],\n",
       "       [0., 0., 0., 0., 0., 0., 1., 0., 0., 0., 0., 0., 0., 0., 0., 0.,\n",
       "        0., 0., 0., 0., 0., 0., 0., 0., 0., 0., 0., 0., 0., 0.],\n",
       "       [0., 0., 0., 0., 0., 0., 0., 0., 0., 0., 0., 0., 0., 0., 0., 0.,\n",
       "        0., 0., 0., 0., 0., 0., 1., 0., 0., 0., 0., 0., 0., 0.],\n",
       "       [0., 0., 1., 0., 0., 0., 0., 0., 0., 0., 0., 0., 0., 0., 0., 0.,\n",
       "        0., 0., 0., 0., 0., 0., 0., 0., 0., 0., 0., 0., 0., 0.]])"
      ]
     },
     "execution_count": 1037,
     "metadata": {},
     "output_type": "execute_result"
    }
   ],
   "source": [
    "mu_ex"
   ]
  },
  {
   "cell_type": "code",
   "execution_count": 1034,
   "metadata": {},
   "outputs": [
    {
     "data": {
      "text/plain": [
       "array([[ -5., -15., -13.],\n",
       "       [  0.,  -6., -20.],\n",
       "       [  2.,  -8., -22.],\n",
       "       [-14.,   3.,  -1.],\n",
       "       [ -2., -14.,  -9.],\n",
       "       [-15.,   0., -17.],\n",
       "       [ -6., -12.,   1.],\n",
       "       [  0., -16., -18.],\n",
       "       [ -8., -17., -14.],\n",
       "       [-15., -17.,  -6.]])"
      ]
     },
     "execution_count": 1034,
     "metadata": {},
     "output_type": "execute_result"
    }
   ],
   "source": [
    "example_small.get_U_ij(V_ex , np.arange(10))"
   ]
  },
  {
   "cell_type": "code",
   "execution_count": null,
   "metadata": {},
   "outputs": [],
   "source": []
  }
 ],
 "metadata": {
  "kernelspec": {
   "display_name": "Python 3",
   "language": "python",
   "name": "python3"
  },
  "language_info": {
   "codemirror_mode": {
    "name": "ipython",
    "version": 3
   },
   "file_extension": ".py",
   "mimetype": "text/x-python",
   "name": "python",
   "nbconvert_exporter": "python",
   "pygments_lexer": "ipython3",
   "version": "3.12.0"
  }
 },
 "nbformat": 4,
 "nbformat_minor": 2
}
