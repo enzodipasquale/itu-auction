{
 "cells": [
  {
   "cell_type": "code",
   "execution_count": 1,
   "metadata": {},
   "outputs": [],
   "source": [
    "import gurobipy as grb\n",
    "from gurobipy import GRB\n",
    "import scipy.sparse as spr\n",
    "import numpy as np\n",
    "import random\n",
    "import matplotlib.pyplot as plt\n",
    "#from sympy import symbols, Rational\n",
    "from IPython.display import display, Math, Markdown\n",
    "import numpy.ma as ma\n"
   ]
  },
  {
   "cell_type": "code",
   "execution_count": 758,
   "metadata": {},
   "outputs": [],
   "source": [
    "%run /Users/enzo-macmini/auction_alg_ITU/parallel_auction_ITU.ipynb"
   ]
  },
  {
   "cell_type": "code",
   "execution_count": 1034,
   "metadata": {},
   "outputs": [],
   "source": [
    "n_small = 3\n",
    "m_small = 3\n",
    "example_small = OneToOneITU( n = n_small,m = m_small, size_params= (4,24) , random_seed= 778, lbs =(0,0), tol = 1e-1)"
   ]
  },
  {
   "cell_type": "code",
   "execution_count": 1035,
   "metadata": {},
   "outputs": [],
   "source": [
    "example_small.B_ij = np.ones([3,3])\n",
    "example_small.A_ij = np.ones([3,3])\n",
    "example_small.B_ij [:,-1] = 0\n"
   ]
  },
  {
   "cell_type": "code",
   "execution_count": 2302,
   "metadata": {},
   "outputs": [],
   "source": [
    "def iteration(self,i_ent, mu, V_j, perm_unassigned = None):\n",
    "    C  = np.zeros(self.n, dtype= bool)\n",
    "    C_i_ent = np.zeros(self.n, dtype= bool)\n",
    "    C[i_ent] = 1\n",
    "    B = np.ones(self.m, dtype= bool)\n",
    "    L_j = np.ones(self.m, dtype= int) *(self.n + 1)\n",
    "    d_j = np.ones(self.m + 1, dtype= int) * np.inf\n",
    "\n",
    "    i_j_diffs = np.zeros([self.n, self.m])\n",
    "\n",
    "    iter = 0\n",
    "    while np.any(C == 1):\n",
    "        iter += 1\n",
    "        i = np.argmax(C)\n",
    "        print(f\"iter {iter}, i: {i}\")\n",
    "        C[i] = 0\n",
    "        C_i_ent[i] = 1\n",
    " \n",
    "        U_ij_s = self.get_U_ij(V_j, i)[0]\n",
    "        #print(U_ij_s)\n",
    "     \n",
    "        π_i = np.max(U_ij_s)\n",
    "        #print(π_i)\n",
    "        if π_i < self.lb_U:\n",
    "            print(\"perm unassigned\")\n",
    "            perm_unassigned[i] = 1\n",
    "            mu[i,:] = 0\n",
    "            return mu, V_j, perm_unassigned\n",
    "        \n",
    "        \n",
    "        suboptimal_js = U_ij_s < π_i \n",
    "      \n",
    "        A_ij_star_max = np.max(self.A_ij[i,~suboptimal_js ])\n",
    "\n",
    "        i_j_diffs[i, suboptimal_js] =  (π_i - U_ij_s[suboptimal_js] ) /A_ij_star_max\n",
    "\n",
    "\n",
    "        d_j[:-1][suboptimal_js] = np.minimum(d_j[:-1][suboptimal_js], (π_i - U_ij_s[suboptimal_js] ) /A_ij_star_max) \n",
    "        d_j[-1] = np.minimum(  d_j[-1],   (π_i - self.lb_U) / A_ij_star_max)\n",
    "      \n",
    "        unissigned_optimal_js = np.where((mu.sum(0) == 0) * (π_i == U_ij_s))[0]\n",
    "        \n",
    "        if len(unissigned_optimal_js)> 0 :\n",
    "\n",
    "            i_t = i\n",
    "            j_t = unissigned_optimal_js[0]\n",
    "      \n",
    "            while i_t != i_ent :\n",
    " \n",
    "                j_t_plus_1 = np.where(mu[i_t,: ]>0)[0][0]\n",
    "          \n",
    "                mu[i_t,: ] = 0\n",
    "                mu[i_t, j_t] = 1\n",
    "           \n",
    "                w_i_s = np.sort( np.concatenate([self.get_U_ij(V_j, i_t)[0], [self.lb_U]]))[-2]\n",
    "         \n",
    "                V_j[j_t] = self.get_V_ij(i_t  , j_t,  w_i_s)\n",
    "\n",
    "                j_t = j_t_plus_1\n",
    "                i_t = L_j[j_t]\n",
    "           \n",
    "\n",
    "            w_i_s = np.sort( np.concatenate([self.get_U_ij(V_j, i_t)[0], [self.lb_U]]))[-2]\n",
    "            mu[i_t,: ] = 0\n",
    "            mu[i_t, j_t] = 1\n",
    "\n",
    "            V_j[j_t] = self.get_V_ij(i_t  , j_t,  w_i_s)\n",
    "            #print(f\"j : {j}\")\n",
    "            #print(L_j)\n",
    "            print(\"augmentation\")\n",
    "            return mu, V_j, perm_unassigned\n",
    "            \n",
    "        \n",
    "        for j in np.where(B * (~suboptimal_js) >0)[0]:\n",
    "            \n",
    "            #U_ij = self.get_U_ij(V_j, i, j)[0]\n",
    "            if mu[:,j].sum() == 1:\n",
    "                i_j = np.argmax(mu[:,j])\n",
    "                B[j] = 0\n",
    "                C[i_j] = 1\n",
    "                \n",
    "                L_j[j] = i if L_j[j] == self.n + 1 else None\n",
    "                #print(f\"j : {j}\")\n",
    "                #print(L_j)\n",
    "                print(f\"i:{i} -> j:{j} \")\n",
    "\n",
    "\n",
    "    matrix = i_j_diffs[ :, B * (d_j[:-1] < np.inf)]  \n",
    "    masked_matrix = np.ma.masked_where(matrix <= 0, matrix)\n",
    "\n",
    "    argmin_pos = np.where(masked_matrix == np.min(masked_matrix))\n",
    "    #argmin_pos = np.unravel_index(np.argmin(masked_matrix), masked_matrix.shape)\n",
    "\n",
    "    \n",
    "    # construct j_low's\n",
    "    j_low = np.zeros(self.m, dtype= bool)\n",
    "    for i_low in np.unique(argmin_pos[0]):\n",
    "    \n",
    "        U_ij_s = self.get_U_ij(V_j, i_low)[0]\n",
    "        π_i = np.max(U_ij_s)\n",
    "        optimal_js = U_ij_s == π_i \n",
    "    \n",
    "        j_low[optimal_js] = self.A_ij[i_low,optimal_js] == np.max(self.A_ij[i_low,optimal_js])\n",
    "     \n",
    "\n",
    "\n",
    "    return C_i_ent, B * (d_j[:-1] < np.inf), d_j, j_low\n",
    "\n",
    "OneToOneITU.iteration = iteration"
   ]
  },
  {
   "cell_type": "code",
   "execution_count": 2046,
   "metadata": {},
   "outputs": [],
   "source": [
    "def interim_auction(self,C, O, j_low, r, V_j ):\n",
    "\n",
    "    pi_ij = np.zeros([C.sum(), self.m+1])\n",
    "\n",
    "    V_j[j_low] += r\n",
    "\n",
    "    unassigned = pi_ij.sum(1) == 0\n",
    "    n_unassigned = unassigned.sum()\n",
    "    iter = 0\n",
    "    someone_unhappy = True\n",
    "\n",
    "    while pi_ij.sum() < C.sum() or someone_unhappy:\n",
    "\n",
    "        U_ij = np.concatenate((self.get_U_ij(V_j, C), np.ones((C.sum(),1)) * self.lb_U), axis = 1) \n",
    "        #print(U_ij.round(3))\n",
    "        \n",
    "        \n",
    "\n",
    "        sorted_w_id = np.argsort(U_ij , axis = 1)[:,-2:]\n",
    "        w_i = U_ij[np.arange(n_unassigned),sorted_w_id[:,0] ]\n",
    "        π_i = np.max(U_ij, axis = 1)\n",
    "    \n",
    "        #pi_ij[:,-1] = π_i == self.lb_U \n",
    "\n",
    "\n",
    "\n",
    "        ij_optimal = U_ij == π_i[:, None]\n",
    "        #print(ij_optimal)\n",
    "\n",
    "        offers = ((π_i - w_i)[:,None]/ self.A_ij[C,:] ) * ij_optimal[:,:-1]\n",
    "     \n",
    "        free_i = np.ones(C.sum(), dtype= bool) \n",
    "        for j in np.arange(self.m):\n",
    "            if np.any(ij_optimal[:,j]>0) and len(offers[:,j][free_i])>0:\n",
    "                best_offer = np.max(offers[:,j] [free_i] )\n",
    "                i_j = np.argmax(offers[:,j] + (1- free_i)*(-1e+200)+ (1- ij_optimal[:,j])*(-1e+200))\n",
    "        \n",
    "                pi_ij[:, j] = 0 \n",
    "                pi_ij[i_j, :] = 0 \n",
    "                pi_ij[i_j, j] = 1 \n",
    "                free_i[i_j] = 0\n",
    "                V_j[j] += best_offer \n",
    "\n",
    "        out_offers = ij_optimal[:,-1]\n",
    "        pi_ij[:,-1] = out_offers *  free_i\n",
    "\n",
    "       \n",
    "        pi_i = np.max(self.get_U_ij(V_j, C), axis= 1)\n",
    "        id_i,  id_j = np.where(pi_ij[:,:-1] >0)\n",
    "        #print(np.where(pi_ij[:,:-1] >0))\n",
    "        happy_i = np.zeros(C.sum(), dtype= bool) \n",
    "        Values = self.get_U_ij(V_j,C )\n",
    "        happy_i[id_i]  = Values[id_i, id_j] >= pi_i[id_i]\n",
    "\n",
    "        unassigned = np.where(pi_ij[:,-1] >0)[0]\n",
    "        happy_i[unassigned] = pi_i[unassigned] <= self.lb_U\n",
    "    \n",
    "        someone_unhappy = np.any(happy_i == False)\n",
    "\n",
    "        iter += 1 \n",
    "        if iter == 10:\n",
    "            break\n",
    "\n",
    "    return pi_ij, V_j, happy_i, iter\n",
    "\n",
    "OneToOneITU.interim_auction =interim_auction\n",
    "        "
   ]
  },
  {
   "cell_type": "code",
   "execution_count": 2359,
   "metadata": {},
   "outputs": [],
   "source": [
    "mu_ex = np.zeros([n_small,m_small])\n",
    "V_ex = np.ones(example_small.m) * example_small.lb_V\n",
    "perm_unassigned = np.zeros(example_small.n, dtype= bool)"
   ]
  },
  {
   "cell_type": "code",
   "execution_count": 2360,
   "metadata": {},
   "outputs": [
    {
     "data": {
      "text/plain": [
       "array([[89, 34, 37, 40, 44, 35, 22, 36, 41, 93],\n",
       "       [ 8, 38, 59, 10, 11, 49, 31, 68, 34, 52],\n",
       "       [34,  5, 49, 38, 17, 76, 71, 85, 70, 59],\n",
       "       [47, 90, 50,  8, 99, 24, 56, 51, 83, 88],\n",
       "       [72, 43,  7, 57, 98, 97, 81, 26, 30, 20],\n",
       "       [ 8,  3, 81, 74, 39, 20, 72, 62, 13, 27],\n",
       "       [ 2, 13, 57, 70, 69, 21, 84, 91, 44, 45],\n",
       "       [86, 29, 60,  6, 95,  6, 43, 35,  9, 78],\n",
       "       [88, 39, 98, 56, 51, 57,  6, 72, 84, 17],\n",
       "       [85,  6,  0, 16, 12, 63, 84, 66,  4, 86]])"
      ]
     },
     "execution_count": 2360,
     "metadata": {},
     "output_type": "execute_result"
    }
   ],
   "source": [
    "example_small.B_ij"
   ]
  },
  {
   "cell_type": "code",
   "execution_count": 2361,
   "metadata": {},
   "outputs": [],
   "source": [
    "# #C_i = np.zeros(example_small.n, dtype= bool)\n",
    "\n",
    "# for p in range(1):\n",
    "\n",
    "#     i_ent = np.where((mu_ex.sum(1) == 0) * (~perm_unassigned) > 0)[0][0]\n",
    "#     iter_values = example_small.iteration(i_ent, mu_ex, V_ex )\n",
    "\n",
    "#     if len(iter_values) == 2:\n",
    "#         mu_ex, V_ex = iter_values\n",
    "\n",
    "#     else:\n",
    "#         C_i, B, d ,j_low= iter_values\n",
    "#         print(B)\n",
    "#         B_with_out = np.concatenate( (B, [True]) )\n",
    "#         r = d[B_with_out]\n",
    "#         #V_ex[~B] += np.min(d[B_with_out])\n",
    "\n",
    "#         print(d)\n",
    "#         print(B)\n",
    "#         mu_ex[C_i,:] = 0\n",
    "#         busy = np.zeros(example_small.m, dtype= bool)\n",
    "#         for i in np.where(C_i > 0)[0]:\n",
    "#             j_i = np.argmax( example_small.get_U_ij(V_ex, i) )\n",
    "#             #print(j_i)\n",
    "#             if busy[j_i] == False:\n",
    "#                 mu_ex[:,j_i] = 0\n",
    "#                 mu_ex[i,j_i] = 1\n",
    "#                 busy[j_i] = 1\n",
    "\n",
    "\n",
    "       \n",
    "\n",
    "#         #print(B)\n",
    "#         print(f\"d:{np.min(d[B_with_out])}\")\n",
    "#         print(f\"iteration total:{p}\")\n",
    "    \n",
    "        \n",
    "\n",
    "#     perm_unassigned = np.all(example_small.get_U_ij(V_ex , np.arange(example_small.n)) <= example_small.lb_U , axis = 1)\n",
    "# mu_ex[perm_unassigned,:] = 0"
   ]
  },
  {
   "cell_type": "markdown",
   "metadata": {},
   "source": []
  },
  {
   "cell_type": "code",
   "execution_count": 2371,
   "metadata": {},
   "outputs": [
    {
     "name": "stdout",
     "output_type": "stream",
     "text": [
      "iter 1, i: 9\n",
      "i:9 -> j:6 \n",
      "iter 2, i: 6\n",
      "i:6 -> j:7 \n",
      "iter 3, i: 1\n",
      "AAAA\n",
      "[[0. 0. 0. 0. 0. 0. 0. 1. 0. 0. 0.]\n",
      " [0. 0. 0. 1. 0. 0. 0. 0. 0. 0. 0.]\n",
      " [0. 0. 0. 0. 0. 0. 0. 0. 0. 1. 0.]]\n"
     ]
    }
   ],
   "source": [
    "#C_i = np.zeros(example_small.n, dtype= bool)\n",
    "\n",
    "for p in range(1):\n",
    "\n",
    "    i_ent = np.where((mu_ex.sum(1) == 0) * (~perm_unassigned) > 0)[0][0]\n",
    "    iter_values = example_small.iteration(i_ent, mu_ex, V_ex ,perm_unassigned)\n",
    "\n",
    "    if len(iter_values) == 3:\n",
    "        mu_ex, V_ex , perm_unassigned = iter_values\n",
    "\n",
    "        print(mu_ex)\n",
    "    else:\n",
    "        print(\"AAAA\")\n",
    "        C_i, B, d ,j_low= iter_values\n",
    "        \n",
    "        B_with_out = np.concatenate( (B, [True]) )\n",
    "        r = d[B_with_out]\n",
    "        #V_ex[~B] += np.min(d[B_with_out])\n",
    "        pi_ij, V_ex, happy_i, iter = example_small.interim_auction(C_i, ~B, j_low,  np.min(r),V_ex )\n",
    "\n",
    "        # this should be revoming exactly one 0\n",
    "        print(pi_ij)\n",
    "        #pi_ij[:,:-1][:,mu_ex[~C_i,:].sum(0) == 1 ]= 0\n",
    "\n",
    "\n",
    "        mu_ex[C_i,:] = pi_ij[:,:-1]\n",
    "        perm_unassigned[C_i] = pi_ij[:,-1]\n",
    "\n",
    "\n",
    "    \n",
    "   \n",
    "# mu_ex[perm_unassigned,:] = 0"
   ]
  },
  {
   "cell_type": "code",
   "execution_count": 2372,
   "metadata": {},
   "outputs": [
    {
     "data": {
      "text/plain": [
       "array([ 35.76      ,   0.        ,  40.        ,   4.44952563,\n",
       "        41.4       ,  12.44444444, 151.06227106,  75.97802198,\n",
       "         0.        ,   2.41758242])"
      ]
     },
     "execution_count": 2372,
     "metadata": {},
     "output_type": "execute_result"
    }
   ],
   "source": [
    "V_ex"
   ]
  },
  {
   "cell_type": "code",
   "execution_count": 2373,
   "metadata": {},
   "outputs": [
    {
     "data": {
      "text/plain": [
       "array([[0., 0., 0., 0., 0., 0., 0., 0., 0., 1.],\n",
       "       [0., 0., 0., 0., 0., 0., 0., 1., 0., 0.],\n",
       "       [0., 0., 0., 0., 0., 0., 0., 0., 1., 0.],\n",
       "       [0., 0., 0., 0., 1., 0., 0., 0., 0., 0.],\n",
       "       [0., 0., 0., 0., 0., 1., 0., 0., 0., 0.],\n",
       "       [0., 0., 0., 1., 0., 0., 0., 0., 0., 0.],\n",
       "       [0., 0., 0., 1., 0., 0., 0., 0., 0., 0.],\n",
       "       [1., 0., 0., 0., 0., 0., 0., 0., 0., 0.],\n",
       "       [0., 0., 1., 0., 0., 0., 0., 0., 0., 0.],\n",
       "       [0., 0., 0., 0., 0., 0., 0., 0., 0., 1.]])"
      ]
     },
     "execution_count": 2373,
     "metadata": {},
     "output_type": "execute_result"
    }
   ],
   "source": [
    "mu_ex"
   ]
  },
  {
   "cell_type": "code",
   "execution_count": 2375,
   "metadata": {},
   "outputs": [
    {
     "data": {
      "text/plain": [
       "array([-79.06,  13.  , -74.03,  59.62,  29.57,   8.03,  56.97,  59.62,\n",
       "        44.  ,  39.02])"
      ]
     },
     "execution_count": 2375,
     "metadata": {},
     "output_type": "execute_result"
    }
   ],
   "source": [
    "(example_small.get_U_ij(V_ex, np.ones(example_small.n, dtype= bool))[6,:]).round(2)"
   ]
  },
  {
   "cell_type": "code",
   "execution_count": 2310,
   "metadata": {},
   "outputs": [
    {
     "data": {
      "text/plain": [
       "array([1., 0., 1., 1., 1., 1., 0., 1., 1., 1.])"
      ]
     },
     "execution_count": 2310,
     "metadata": {},
     "output_type": "execute_result"
    }
   ],
   "source": [
    "mu_ex.sum(0)"
   ]
  },
  {
   "cell_type": "code",
   "execution_count": null,
   "metadata": {},
   "outputs": [],
   "source": []
  },
  {
   "cell_type": "code",
   "execution_count": 2123,
   "metadata": {},
   "outputs": [],
   "source": [
    "def coop_ITU_auction(self):\n",
    "    mu_ij = np.zeros([self.n,self.m])\n",
    "    V_j = np.ones(self.m) * self.lb_V\n",
    "    perm_unassigned = np.zeros(self.n, dtype= bool)\n",
    "    iters = 0 \n",
    "    while np.sum((mu_ij.sum(1) == 0) * (~perm_unassigned)) > 0:\n",
    "        iters += 1\n",
    "        i_ent = np.where((mu_ij.sum(1) == 0) * (~perm_unassigned) > 0)[0][0]\n",
    "        iter_values = self.iteration(i_ent, mu_ij, V_j ,perm_unassigned)\n",
    "        #print(iter_values)\n",
    "        if len(iter_values) == 3:\n",
    "            mu_ij, V_j ,perm_unassigned = iter_values\n",
    "\n",
    "        else:\n",
    "            print(\"AAAA\")\n",
    "            C_i, B, d ,j_low= iter_values\n",
    "            \n",
    "            B_with_out = np.concatenate( (B, [True]) )\n",
    "            r = d[B_with_out]\n",
    "            #V_j[~B] += np.min(d[B_with_out])\n",
    "            pi_ij, V_j, happy_i, iter = self.interim_auction(C_i, ~B, j_low,  np.min(r),V_j )\n",
    "\n",
    "            # this should be revoming exactly one 0\n",
    "            pi_ij[:,:-1][:,mu_ij[~C_i,:].sum(0) == 1 ]= 0\n",
    "\n",
    "\n",
    "            mu_ij[C_i,:] = pi_ij[:,:-1]\n",
    "            perm_unassigned[C_i] = pi_ij[:,-1]\n",
    "\n",
    "\n",
    "        \n",
    "\n",
    "    #mu_ij[perm_unassigned,:] = 0\n",
    "\n",
    "\n",
    "\n",
    "    id_i , id_j  =  np.where(mu_ij == 1)\n",
    "    \n",
    "    U_i = np.ones(example_small.n) * example_small.lb_U\n",
    "    U_i[id_i] = example_small.get_U_ij(V_j, id_i)[np.arange(len(id_i)), id_j] \n",
    "    print(iters)\n",
    "    return mu_ij, U_i , V_j\n",
    "\n",
    "\n",
    "\n",
    "\n",
    "OneToOneITU.coop_ITU_auction = coop_ITU_auction"
   ]
  },
  {
   "cell_type": "code",
   "execution_count": 2124,
   "metadata": {},
   "outputs": [],
   "source": [
    "# def ITU_auction(self):\n",
    "#     mu_ij = np.zeros([self.n,self.m])\n",
    "#     V_j = np.ones(self.m) * self.lb_V\n",
    "#     perm_unassigned = np.zeros(self.n, dtype= bool)\n",
    "#     iters = 0\n",
    "#     # for p in range(10000):\n",
    "\n",
    "#     while np.sum((mu_ij.sum(1) == 0) * (~perm_unassigned)) > 0:\n",
    "#         iters += 1\n",
    "#         i_ent = np.where((mu_ij.sum(1) == 0) * (~perm_unassigned) > 0)[0][0]\n",
    "#         iter_values = self.iteration(i_ent, mu_ij, V_j )\n",
    "\n",
    "#         if len(iter_values) == 2:\n",
    "#             mu_ij, V_j = iter_values\n",
    "\n",
    "#         else:\n",
    "#             print(\"AAAA\")\n",
    "#             C_i, B, d ,j_low= iter_values\n",
    "            \n",
    "#             B_with_out = np.concatenate( (B, [True]) )\n",
    "#             r = d[B_with_out]\n",
    "#             #V_j[~B] += np.min(d[B_with_out])\n",
    "#             pi_ij, V_j, happy_i, iter = self.interim_auction(C_i, ~B, j_low,  np.min(r),V_j )\n",
    "\n",
    "#             # this should be revoming exactly one 0\n",
    "#             pi_ij[:,:-1][:,mu_ij[~C_i,:].sum(0) == 1 ]= 0\n",
    "\n",
    "\n",
    "#             mu_ij[C_i,:] = pi_ij[:,:-1]\n",
    "#             perm_unassigned[C_i] = pi_ij[:,-1]\n",
    "\n",
    "\n",
    "    \n",
    "        \n",
    "\n",
    "#     perm_unassigned = np.all(self.get_U_ij(V_j , np.arange(self.n)) <= self.lb_U , axis = 1)\n",
    "#     mu_ij[perm_unassigned,:] = 0\n",
    "\n",
    "#     id_i , id_j  =  np.where(mu_ij == 1)\n",
    "    \n",
    "#     U_i = np.ones(example_small.n) * example_small.lb_U\n",
    "#     U_i[id_i] = example_small.get_U_ij(V_j, id_i)[np.arange(len(id_i)), id_j] \n",
    "#     return mu_ij, U_i , V_j\n",
    "\n",
    "\n",
    "\n",
    "#     # id_i , id_j  =  np.where(mu_ij == 1)\n",
    "    \n",
    "#     # U_i = np.ones(self.n) * self.lb_U\n",
    "#     # U_i[id_i] = self.get_U_ij(V_j, id_i)[np.arange(len(id_i)), id_j]   \n",
    "\n",
    "#     # return mu_ij,U_i, V_j, perm_unassigned * 1, iters\n",
    "\n",
    "# OneToOneITU.ITU_auction = ITU_auction"
   ]
  },
  {
   "cell_type": "code",
   "execution_count": 2161,
   "metadata": {},
   "outputs": [],
   "source": [
    "n_small = 10\n",
    "m_small = 10\n",
    "example_small = OneToOneITU( n = n_small,m = m_small, size_params= (100,100) , random_seed= 588845, lbs =(2,0), tol = 0)"
   ]
  },
  {
   "cell_type": "code",
   "execution_count": 2152,
   "metadata": {},
   "outputs": [],
   "source": [
    "# mu_ex , U_ex,  V_ex , perm_ , iters= example_small.ITU_auction()"
   ]
  },
  {
   "cell_type": "code",
   "execution_count": 2162,
   "metadata": {},
   "outputs": [
    {
     "name": "stdout",
     "output_type": "stream",
     "text": [
      "iter 1, i: 0\n",
      "augmentation\n",
      "iter 1, i: 1\n",
      "augmentation\n",
      "iter 1, i: 2\n",
      "augmentation\n",
      "iter 1, i: 3\n",
      "augmentation\n",
      "iter 1, i: 4\n",
      "iter 2, i: 2\n",
      "augmentation\n",
      "iter 1, i: 5\n",
      "augmentation\n",
      "iter 1, i: 6\n",
      "iter 2, i: 2\n",
      "AAAA\n",
      "iter 1, i: 7\n",
      "augmentation\n",
      "iter 1, i: 8\n",
      "iter 2, i: 5\n",
      "augmentation\n",
      "iter 1, i: 9\n",
      "iter 2, i: 6\n",
      "iter 3, i: 1\n",
      "AAAA\n",
      "iter 1, i: 6\n",
      "iter 2, i: 1\n",
      "iter 3, i: 0\n",
      "iter 4, i: 5\n",
      "AAAA\n",
      "iter 1, i: 5\n",
      "iter 2, i: 0\n",
      "augmentation\n",
      "iter 1, i: 9\n",
      "iter 2, i: 6\n",
      "iter 3, i: 2\n",
      "AAAA\n",
      "iter 1, i: 9\n",
      "iter 2, i: 6\n",
      "iter 3, i: 2\n",
      "augmentation\n",
      "14\n"
     ]
    }
   ],
   "source": [
    "mu_ex , U_ex,  V_ex  = example_small.coop_ITU_auction()"
   ]
  },
  {
   "cell_type": "code",
   "execution_count": 2154,
   "metadata": {},
   "outputs": [
    {
     "data": {
      "text/plain": [
       "10.0"
      ]
     },
     "execution_count": 2154,
     "metadata": {},
     "output_type": "execute_result"
    }
   ],
   "source": [
    "mu_ex.sum()"
   ]
  },
  {
   "cell_type": "code",
   "execution_count": 2292,
   "metadata": {},
   "outputs": [],
   "source": [
    "id_i , id_j  =  np.where(mu_ex == 1)\n",
    "    \n",
    "U_ex = np.ones(example_small.n) * example_small.lb_U\n",
    "U_ex[id_i] = example_small.get_U_ij(V_ex, id_i)[np.arange(len(id_i)), id_j]  "
   ]
  },
  {
   "cell_type": "code",
   "execution_count": 2293,
   "metadata": {},
   "outputs": [
    {
     "data": {
      "text/markdown": [
       "____\n",
       "<h1>Feasibility</h1>"
      ],
      "text/plain": [
       "<IPython.core.display.Markdown object>"
      ]
     },
     "metadata": {},
     "output_type": "display_data"
    },
    {
     "data": {
      "text/latex": [
       "$\\displaystyle \\forall i, \\ \\sum_{j}  \\mu_{ij} \\leq 1: \\ True$"
      ],
      "text/plain": [
       "<IPython.core.display.Math object>"
      ]
     },
     "metadata": {},
     "output_type": "display_data"
    },
    {
     "data": {
      "text/latex": [
       "$\\displaystyle \\forall j, \\ \\sum_{i}  \\mu_{ij} \\leq 1: \\ True$"
      ],
      "text/plain": [
       "<IPython.core.display.Math object>"
      ]
     },
     "metadata": {},
     "output_type": "display_data"
    },
    {
     "data": {
      "text/markdown": [
       "#matched: 10 over 10"
      ],
      "text/plain": [
       "<IPython.core.display.Markdown object>"
      ]
     },
     "metadata": {},
     "output_type": "display_data"
    },
    {
     "data": {
      "text/markdown": [
       "____\n",
       "<h1>Generalized Complementary Slackness</h1>"
      ],
      "text/plain": [
       "<IPython.core.display.Markdown object>"
      ]
     },
     "metadata": {},
     "output_type": "display_data"
    },
    {
     "data": {
      "text/latex": [
       "$\\displaystyle \\frac1{nm} \\sum_{ij} \\min( A_{ij} U_i + G_{ij} V_j -  B_{ij} , 0)  = -0.007515729730627498$"
      ],
      "text/plain": [
       "<IPython.core.display.Math object>"
      ]
     },
     "metadata": {},
     "output_type": "display_data"
    },
    {
     "data": {
      "text/latex": [
       "$\\displaystyle \\frac1{nm} \\sum_{ij} \\mu_{ij} * (A_{ij} U_i + G_{ij} V_j - B_{ij}) = 0.0$"
      ],
      "text/plain": [
       "<IPython.core.display.Math object>"
      ]
     },
     "metadata": {},
     "output_type": "display_data"
    },
    {
     "data": {
      "text/markdown": [
       "____\n",
       "<h1>Individual Rationality</h1>"
      ],
      "text/plain": [
       "<IPython.core.display.Markdown object>"
      ]
     },
     "metadata": {},
     "output_type": "display_data"
    },
    {
     "data": {
      "text/latex": [
       "$\\displaystyle \\min_{i} U_{i} = 38.0 \\geq 2 = U_{lb}$"
      ],
      "text/plain": [
       "<IPython.core.display.Math object>"
      ]
     },
     "metadata": {},
     "output_type": "display_data"
    },
    {
     "data": {
      "text/latex": [
       "$\\displaystyle \\min_{j} V_{j} = 0.0 \\geq  0 = V_{lb}$"
      ],
      "text/plain": [
       "<IPython.core.display.Math object>"
      ]
     },
     "metadata": {},
     "output_type": "display_data"
    },
    {
     "data": {
      "text/latex": [
       "$\\displaystyle \\frac1{n} \\sum_{i} (U_{i} - U_{lb} ) * (\\sum_{j} \\mu_{ij} -1) = 0.0$"
      ],
      "text/plain": [
       "<IPython.core.display.Math object>"
      ]
     },
     "metadata": {},
     "output_type": "display_data"
    },
    {
     "data": {
      "text/latex": [
       "$\\displaystyle \\frac1{m}\\sum_{j} (V_{j} - V_{lb} ) * (\\sum_{i} \\mu_{ij} -1) = 0.0$"
      ],
      "text/plain": [
       "<IPython.core.display.Math object>"
      ]
     },
     "metadata": {},
     "output_type": "display_data"
    }
   ],
   "source": [
    "example_small.check_all((mu_ex , U_ex , V_ex ))"
   ]
  },
  {
   "cell_type": "code",
   "execution_count": 2164,
   "metadata": {},
   "outputs": [
    {
     "data": {
      "text/plain": [
       "array([[  -3.07 ,   34.   ,   20.478,   23.921,   -0.934,    5.667,\n",
       "        -520.249,  -71.667,    9.485,   41.   ],\n",
       "       [ -22.257,   38.   ,   25.769,    3.269,   -5.327,   18.368,\n",
       "         -32.794,   38.   , -471.56 ,   27.597],\n",
       "       [ -59.039,    5.   , -118.619,    3.699,  -48.981,   -1.156,\n",
       "         -47.381, -546.125,   46.287,   46.287],\n",
       "       [   6.018,   90.   ,   14.898,    1.92 ,   90.   ,   16.944,\n",
       "           0.661,  -36.237,   64.168,   76.008],\n",
       "       [  41.661,   43.   ,  -55.609,   27.41 ,   29.   ,   81.   ,\n",
       "          60.084,  -52.818,   25.798,  -83.452]])"
      ]
     },
     "execution_count": 2164,
     "metadata": {},
     "output_type": "execute_result"
    }
   ],
   "source": [
    "example_small.get_U_ij(V_ex , np.arange(5)) . round(3)"
   ]
  },
  {
   "cell_type": "code",
   "execution_count": 2503,
   "metadata": {},
   "outputs": [
    {
     "data": {
      "text/latex": [
       "$\\displaystyle \\frac1{nm} \\sum_{ij} \\min( A_{ij} U_i + G_{ij} V_j -  B_{ij} , 0)  = -0.41985991947798257$"
      ],
      "text/plain": [
       "<IPython.core.display.Math object>"
      ]
     },
     "metadata": {},
     "output_type": "display_data"
    },
    {
     "data": {
      "text/plain": [
       "(array([[-13.8351983 ,   0.        , -10.92857143,   0.        ,\n",
       "          -3.28571429,   0.        ,   0.        ,   0.        ,\n",
       "         -13.93650794,   0.        ],\n",
       "        [  0.        ,   0.        ,   0.        ,   0.        ,\n",
       "           0.        ,   0.        ,   0.        ,   0.        ,\n",
       "           0.        ,   0.        ],\n",
       "        [  0.        ,   0.        ,   0.        ,   0.        ,\n",
       "           0.        ,   0.        ,   0.        ,   0.        ,\n",
       "           0.        ,   0.        ],\n",
       "        [  0.        ,   0.        ,   0.        ,   0.        ,\n",
       "           0.        ,   0.        ,   0.        ,   0.        ,\n",
       "           0.        ,   0.        ],\n",
       "        [  0.        ,   0.        ,   0.        ,   0.        ,\n",
       "           0.        ,   0.        ,   0.        ,   0.        ,\n",
       "           0.        ,   0.        ],\n",
       "        [  0.        ,   0.        ,   0.        ,   0.        ,\n",
       "           0.        ,   0.        ,   0.        ,   0.        ,\n",
       "           0.        ,   0.        ],\n",
       "        [  0.        ,   0.        ,   0.        ,   0.        ,\n",
       "           0.        ,   0.        ,   0.        ,   0.        ,\n",
       "           0.        ,   0.        ],\n",
       "        [  0.        ,   0.        ,   0.        ,   0.        ,\n",
       "           0.        ,   0.        ,   0.        ,   0.        ,\n",
       "           0.        ,   0.        ],\n",
       "        [  0.        ,   0.        ,   0.        ,   0.        ,\n",
       "           0.        ,   0.        ,   0.        ,   0.        ,\n",
       "           0.        ,   0.        ],\n",
       "        [  0.        ,   0.        ,   0.        ,   0.        ,\n",
       "           0.        ,   0.        ,   0.        ,   0.        ,\n",
       "           0.        ,   0.        ]]),\n",
       " (array([0, 0, 0, 0]), array([0, 2, 4, 8])))"
      ]
     },
     "execution_count": 2503,
     "metadata": {},
     "output_type": "execute_result"
    }
   ],
   "source": [
    "example_small. check_dual_feas(U_ex,V_ex, output = True)"
   ]
  },
  {
   "cell_type": "code",
   "execution_count": 2038,
   "metadata": {},
   "outputs": [
    {
     "data": {
      "text/plain": [
       "1.0"
      ]
     },
     "execution_count": 2038,
     "metadata": {},
     "output_type": "execute_result"
    }
   ],
   "source": [
    "mu_ex[0,:].sum()"
   ]
  },
  {
   "cell_type": "code",
   "execution_count": null,
   "metadata": {},
   "outputs": [],
   "source": []
  }
 ],
 "metadata": {
  "kernelspec": {
   "display_name": "Python 3",
   "language": "python",
   "name": "python3"
  },
  "language_info": {
   "codemirror_mode": {
    "name": "ipython",
    "version": 3
   },
   "file_extension": ".py",
   "mimetype": "text/x-python",
   "name": "python",
   "nbconvert_exporter": "python",
   "pygments_lexer": "ipython3",
   "version": "3.12.0"
  }
 },
 "nbformat": 4,
 "nbformat_minor": 2
}
