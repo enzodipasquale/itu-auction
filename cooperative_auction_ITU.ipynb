{
 "cells": [
  {
   "cell_type": "code",
   "execution_count": 1,
   "metadata": {},
   "outputs": [],
   "source": [
    "import gurobipy as grb\n",
    "from gurobipy import GRB\n",
    "import scipy.sparse as spr\n",
    "import numpy as np\n",
    "import random\n",
    "import matplotlib.pyplot as plt\n",
    "#from sympy import symbols, Rational\n",
    "from IPython.display import display, Math, Markdown\n",
    "import numpy.ma as ma\n"
   ]
  },
  {
   "cell_type": "code",
   "execution_count": 2,
   "metadata": {},
   "outputs": [],
   "source": [
    "%run /Users/enzo-macmini/auction_alg_ITU/parallel_auction_ITU.ipynb"
   ]
  },
  {
   "cell_type": "code",
   "execution_count": 3,
   "metadata": {},
   "outputs": [],
   "source": [
    "def solve_1to1(Φ_i_j):\n",
    "    n, m = np.shape(Φ_i_j)\n",
    "    M_z_a = spr.bmat([[spr.kron(spr.eye(n), np.ones((1, m)))],\n",
    "                      [spr.kron(np.ones((1, n)), spr.eye(m))]])\n",
    "  \n",
    "    q = np.concatenate((np.ones(n), np.ones(m)))\n",
    "\n",
    "    model = grb.Model()\n",
    "    mu_a = model.addMVar(n * m, vtype=grb.GRB.INTEGER)\n",
    "    model.setObjective(Φ_i_j.flatten() @ mu_a, GRB.MAXIMIZE)\n",
    "    model.addConstr(M_z_a @ mu_a <= q)\n",
    "    \n",
    "    model.Params.OutputFlag = 0\n",
    "    model.optimize()\n",
    "\n",
    "    return np.array(model.x, dtype= bool).reshape([n,m])*1"
   ]
  },
  {
   "cell_type": "code",
   "execution_count": 4,
   "metadata": {},
   "outputs": [
    {
     "name": "stdout",
     "output_type": "stream",
     "text": [
      "Restricted license - for non-production use only - expires 2025-11-24\n",
      "Warning for adding constraints: zero or small (< 1e-13) coefficients, ignored\n"
     ]
    },
    {
     "data": {
      "text/plain": [
       "array([[1, 0],\n",
       "       [0, 1],\n",
       "       [0, 0]])"
      ]
     },
     "execution_count": 4,
     "metadata": {},
     "output_type": "execute_result"
    }
   ],
   "source": [
    "solve_1to1(np.array([[ True , True],\n",
    " [ True , True],\n",
    " [ True , True]]))"
   ]
  },
  {
   "cell_type": "code",
   "execution_count": 5,
   "metadata": {},
   "outputs": [],
   "source": [
    "def iteration(self,i_ent, mu_, V_j_, perm_unassigned_ = None):\n",
    "    mu = mu_.copy()\n",
    "    V_j = V_j_.copy()\n",
    "    perm_unassigned = perm_unassigned_.copy()\n",
    "\n",
    "\n",
    "    C  = np.zeros(self.n, dtype= bool)\n",
    "    C_i_ent = np.zeros(self.n, dtype= bool)\n",
    "    C[i_ent] = 1\n",
    "    B = np.ones(self.m, dtype= bool)\n",
    "    L_j = np.ones(self.m, dtype= int) *(self.n + 1)\n",
    "    d_j = np.ones(self.m + 1, dtype= int) * np.inf\n",
    "\n",
    "    i_j_diffs = np.zeros([self.n, self.m])\n",
    "\n",
    "    iter = 0\n",
    "    while np.any(C == 1):\n",
    "        iter += 1\n",
    "        i = np.argmax(C)\n",
    "        #print(f\"iter {iter}, i: {i}\")\n",
    "        C[i] = 0\n",
    "        C_i_ent[i] = 1\n",
    " \n",
    "        U_ij_s = self.get_U_ij(V_j, i)[0]\n",
    "        #print(U_ij_s)\n",
    "     \n",
    "        π_i = np.max(U_ij_s)\n",
    "        #print(π_i)\n",
    "        if π_i < self.lb_U- 1e-14:\n",
    "            print(\"perm unassigned\")\n",
    "            perm_unassigned[i] = 1\n",
    "            mu[i,:] = 0\n",
    "            return mu, V_j, perm_unassigned\n",
    "        \n",
    "        \n",
    "        suboptimal_js = U_ij_s < π_i \n",
    "      \n",
    "        A_ij_star_max = np.max(self.A_ij[i,~suboptimal_js ])\n",
    "\n",
    "        i_j_diffs[i, suboptimal_js] =  (π_i - U_ij_s[suboptimal_js] ) /A_ij_star_max\n",
    "\n",
    "\n",
    "        d_j[:-1][suboptimal_js] = np.minimum(d_j[:-1][suboptimal_js], (π_i - U_ij_s[suboptimal_js] ) /A_ij_star_max) \n",
    "        d_j[-1] = np.minimum(  d_j[-1],   (π_i - self.lb_U) / A_ij_star_max)\n",
    "      \n",
    "        unissigned_optimal_js = np.where((mu.sum(0) == 0) * (π_i == U_ij_s))[0]\n",
    "        \n",
    "        if len(unissigned_optimal_js)> 0 :\n",
    "\n",
    "            i_t = i\n",
    "            j_t = unissigned_optimal_js[0]\n",
    "      \n",
    "            while i_t != i_ent :\n",
    " \n",
    "                j_t_plus_1 = np.where(mu[i_t,: ]>0)[0][0]\n",
    "          \n",
    "                mu[i_t,: ] = 0\n",
    "                mu[i_t, j_t] = 1\n",
    "           \n",
    "                w_i_s = np.sort( np.concatenate([self.get_U_ij(V_j, i_t)[0], [self.lb_U]]))[-2]\n",
    "         \n",
    "                V_j[j_t] = self.get_V_ij(i_t  , j_t,  w_i_s)\n",
    "\n",
    "                j_t = j_t_plus_1\n",
    "                i_t = L_j[j_t]\n",
    "           \n",
    "\n",
    "            w_i_s = np.sort( np.concatenate([self.get_U_ij(V_j, i_t)[0], [self.lb_U]]))[-2]\n",
    "            mu[i_t,: ] = 0\n",
    "            mu[i_t, j_t] = 1\n",
    "\n",
    "            V_j[j_t] = self.get_V_ij(i_t  , j_t,  w_i_s)\n",
    "            #print(f\"j : {j}\")\n",
    "            #print(L_j)\n",
    "            #print(\"augmentation\")\n",
    "            return mu, V_j, perm_unassigned\n",
    "            \n",
    "        \n",
    "        for j in np.where(B * (~suboptimal_js) >0)[0]:\n",
    "            \n",
    "            #U_ij = self.get_U_ij(V_j, i, j)[0]\n",
    "            if mu[:,j].sum() == 1:\n",
    "                i_j = np.argmax(mu[:,j])\n",
    "                B[j] = 0\n",
    "                C[i_j] = 1\n",
    "                \n",
    "                L_j[j] = i if L_j[j] == self.n + 1 else None\n",
    "                #print(f\"j : {j}\")\n",
    "                #print(L_j)\n",
    "                #print(f\"i:{i} -> j:{j} \")\n",
    "\n",
    "\n",
    "    # matrix = i_j_diffs[ :, B * (d_j[:-1] < np.inf)]  \n",
    "    # masked_matrix = np.ma.masked_where(matrix <= 0, matrix)\n",
    "\n",
    "    # argmin_pos = np.where(masked_matrix == np.min(masked_matrix))\n",
    "    #argmin_pos = np.unravel_index(np.argmin(masked_matrix), masked_matrix.shape)\n",
    "\n",
    "    \n",
    "    # construct j_low's\n",
    "    j_low = np.zeros(self.m, dtype= bool)\n",
    "    # for i_low in np.unique(argmin_pos[0]):\n",
    "    \n",
    "    #     U_ij_s = self.get_U_ij(V_j, i_low)[0]\n",
    "    #     π_i = np.max(U_ij_s)\n",
    "    #     optimal_js = U_ij_s == π_i \n",
    "    \n",
    "    #     j_low[optimal_js] = self.A_ij[i_low,optimal_js] == np.max(self.A_ij[i_low,optimal_js])\n",
    "     \n",
    "\n",
    "\n",
    "    return C_i_ent, B * (d_j[:-1] < np.inf), d_j, j_low\n",
    "\n",
    "OneToOneITU.iteration = iteration"
   ]
  },
  {
   "cell_type": "code",
   "execution_count": 22,
   "metadata": {},
   "outputs": [],
   "source": [
    "def interim_auction(self,C, O, j_low, r, V_j_ ):\n",
    "    V_j = V_j_.copy()\n",
    "    pi_ij = np.zeros([C.sum(), self.m+1])\n",
    "    #print(V_j)\n",
    "    V_j[j_low] += r\n",
    "    #print(V_j)\n",
    "    unassigned = pi_ij.sum(1) == 0\n",
    "    n_unassigned = unassigned.sum()\n",
    "    iter = 0\n",
    "    someone_unhappy = True\n",
    "  \n",
    "    U_ij = np.concatenate((self.get_U_ij(V_j, C), np.ones((C.sum(),1)) * self.lb_U), axis = 1) \n",
    "    #print(U_ij.round(3))\n",
    "    \n",
    "    #print(U_ij.round(1))\n",
    "\n",
    "    sorted_w_id = np.argsort(U_ij , axis = 1)[:,-2:]\n",
    "    w_i = U_ij[np.arange(n_unassigned),sorted_w_id[:,0] ]\n",
    "    π_i = np.max(U_ij, axis = 1)\n",
    "\n",
    "    #pi_ij[:,-1] = π_i == self.lb_U \n",
    "    ij_optimal = U_ij == π_i[:, None]\n",
    "    offers = ((π_i - w_i)[:,None]/ self.A_ij[C,:] ) * ij_optimal[:,:-1]\n",
    "\n",
    "\n",
    "    if offers.mean() <= 0:\n",
    "        #print(ij_optimal[:,:-1][:,O])\n",
    "        pi_ij_O = solve_1to1(ij_optimal[:,:-1][:,O] )\n",
    "        unass = pi_ij_O.sum(1) == 0\n",
    "        #print(\"MMMM\")\n",
    "        #print(np.concatenate((O, [False])))\n",
    "        pi_ij[:,np.concatenate((O, [False]))] = pi_ij_O\n",
    "        #pi_ij[:,-1] = unass\n",
    "\n",
    "        return pi_ij, V_j, 0\n",
    "\n",
    "\n",
    "\n",
    "\n",
    "\n",
    "\n",
    "\n",
    "    while pi_ij.sum() < C.sum()-1 or offers[:,O].mean() > 1e-14:\n",
    "\n",
    "        U_ij = np.concatenate((self.get_U_ij(V_j, C), np.ones((C.sum(),1)) * self.lb_U), axis = 1) \n",
    "        #print(U_ij.round(3))\n",
    "        \n",
    "        #print(U_ij.round(1))\n",
    "\n",
    "        sorted_w_id = np.argsort(U_ij , axis = 1)[:,-2:]\n",
    "        w_i = U_ij[np.arange(n_unassigned),sorted_w_id[:,0] ]\n",
    "        π_i = np.max(U_ij, axis = 1)\n",
    "    \n",
    "        #pi_ij[:,-1] = π_i == self.lb_U \n",
    "        ij_optimal = U_ij == π_i[:, None]\n",
    "        offers = ((π_i - w_i)[:,None]/ self.A_ij[C,:] ) * ij_optimal[:,:-1]\n",
    "\n",
    "        #print(offers.round(1))\n",
    "        #print(w_i)\n",
    "\n",
    "        \n",
    "        free_i = np.ones(C.sum(), dtype= bool) \n",
    "        for j in np.where(O > 0)[0]:\n",
    "            if np.any(ij_optimal[:,j]>0) and len(offers[:,j][free_i])>0:\n",
    "                \n",
    "                best_offer = np.max(offers[:,j] [free_i] )\n",
    "                i_j = np.argmax(offers[:,j] - (1- free_i)*(1e+200)- (1- ij_optimal[:,j])*(1e+200))\n",
    "                #print(f\"j:{j}, best i: {i_j}\")\n",
    "                #print(free_i)\n",
    "                pi_ij[:, j] = 0 \n",
    "                pi_ij[i_j, :] = 0 \n",
    "                pi_ij[i_j, j] = 1 \n",
    "                free_i[i_j] = 0\n",
    "                V_j[j] += best_offer \n",
    "\n",
    "        out_offers = ij_optimal[:,-1]\n",
    "        #pi_ij[:,-1] = out_offers *  free_i\n",
    "\n",
    "       \n",
    "        pi_i = np.max(self.get_U_ij(V_j, C), axis= 1)\n",
    "        U_ij = np.concatenate((self.get_U_ij(V_j, C), np.ones((C.sum(),1)) * self.lb_U), axis = 1) \n",
    "        #print(U_ij.round(3))\n",
    "        ij_optimal = U_ij == pi_i[:, None]\n",
    "        sorted_w_id = np.argsort(U_ij , axis = 1)[:,-2:]\n",
    "        w_i = U_ij[np.arange(n_unassigned),sorted_w_id[:,0] ]\n",
    "\n",
    "        offers = ((pi_i - w_i)[:,None]) * ij_optimal[:,:-1]\n",
    "\n",
    "        #print( offers[:,O].sum() )\n",
    "  \n",
    "\n",
    "        # id_i,  id_j = np.where(pi_ij[:,:-1] >0)\n",
    "        # #print(np.where(pi_ij[:,:-1] >0))\n",
    "        # happy_i = np.zeros(C.sum(), dtype= bool) \n",
    "        # Values = self.get_U_ij(V_j,C )\n",
    "        # happy_i[id_i]  = Values[id_i, id_j] >= pi_i[id_i]\n",
    "\n",
    "        # unassigned = np.where(pi_ij[:,-1] >0)[0]\n",
    "        # happy_i[unassigned] = pi_i[unassigned] <= self.lb_U\n",
    "    \n",
    "        # someone_unhappy = np.any(happy_i == False)\n",
    "\n",
    "        iter += 1 \n",
    "        if iter == 100:\n",
    "            break\n",
    "\n",
    "    #print(pi_ij)\n",
    " \n",
    "    pi_ij_O = solve_1to1(ij_optimal[:,:-1][:,O]   )\n",
    "    #unass = pi_ij_O.sum(1) == 0\n",
    "    #print(\"MMMM\")\n",
    "    #print(np.concatenate((O, [False])))\n",
    "    pi_ij[:,np.concatenate((O, [False]))] = pi_ij_O\n",
    "    #pi_ij[:,-1] = unass\n",
    "    #print(pi_ij)\n",
    "\n",
    "    return pi_ij, V_j, iter\n",
    "\n",
    "OneToOneITU.interim_auction =interim_auction\n",
    "        "
   ]
  },
  {
   "cell_type": "code",
   "execution_count": 7,
   "metadata": {},
   "outputs": [
    {
     "ename": "NameError",
     "evalue": "name 'V_ex_pre' is not defined",
     "output_type": "error",
     "traceback": [
      "\u001b[0;31m---------------------------------------------------------------------------\u001b[0m",
      "\u001b[0;31mNameError\u001b[0m                                 Traceback (most recent call last)",
      "\u001b[1;32m/Users/enzo-macmini/auction_alg_ITU/cooperative_auction_ITU.ipynb Cell 7\u001b[0m line \u001b[0;36m1\n\u001b[0;32m----> <a href='vscode-notebook-cell:/Users/enzo-macmini/auction_alg_ITU/cooperative_auction_ITU.ipynb#Y364sZmlsZQ%3D%3D?line=0'>1</a>\u001b[0m V_ex_pre\n",
      "\u001b[0;31mNameError\u001b[0m: name 'V_ex_pre' is not defined"
     ]
    }
   ],
   "source": [
    "V_ex_pre"
   ]
  },
  {
   "cell_type": "code",
   "execution_count": 106,
   "metadata": {},
   "outputs": [
    {
     "data": {
      "text/plain": [
       "array([ 5.  ,  5.  , 15.9 ,  1.75,  4.6 ])"
      ]
     },
     "execution_count": 106,
     "metadata": {},
     "output_type": "execute_result"
    }
   ],
   "source": [
    "V_ex_pre + j_low * min_overall"
   ]
  },
  {
   "cell_type": "code",
   "execution_count": 1369,
   "metadata": {},
   "outputs": [
    {
     "name": "stdout",
     "output_type": "stream",
     "text": [
      "[[ 2.   2.5  0.5  1.5  2.5]\n",
      " [ 1.   1.   0.  -0.2  1. ]\n",
      " [ 2.   2.   2.  -0.2  2. ]]\n"
     ]
    }
   ],
   "source": [
    "U_ij = example_small.get_U_ij(V_ex , np.arange(example_small.n))[C_i].round(1)\n",
    "print(U_ij)"
   ]
  },
  {
   "cell_type": "code",
   "execution_count": 1370,
   "metadata": {},
   "outputs": [],
   "source": [
    "pi_i = (example_small.get_U_ij(V_ex, np.arange(example_small.n))[C_i].round(1)).max(1)"
   ]
  },
  {
   "cell_type": "code",
   "execution_count": 1371,
   "metadata": {},
   "outputs": [
    {
     "data": {
      "text/plain": [
       "array([ True, False,  True,  True, False])"
      ]
     },
     "execution_count": 1371,
     "metadata": {},
     "output_type": "execute_result"
    }
   ],
   "source": [
    "B"
   ]
  },
  {
   "cell_type": "code",
   "execution_count": 1372,
   "metadata": {},
   "outputs": [
    {
     "data": {
      "text/plain": [
       "array([[ 0. ,  1.5, -3. , -0.5,  1.5],\n",
       "       [ 0. ,  0.5, -1. , -2.5,  0.5],\n",
       "       [ 0. ,  0.5,  0. , -4.5,  0.5]])"
      ]
     },
     "execution_count": 1372,
     "metadata": {},
     "output_type": "execute_result"
    }
   ],
   "source": [
    "virt_offs"
   ]
  },
  {
   "cell_type": "code",
   "execution_count": 1373,
   "metadata": {},
   "outputs": [
    {
     "data": {
      "text/plain": [
       "array([[0, 1, 0, 0, 1],\n",
       "       [1, 1, 0, 0, 1],\n",
       "       [1, 1, 1, 0, 1]])"
      ]
     },
     "execution_count": 1373,
     "metadata": {},
     "output_type": "execute_result"
    }
   ],
   "source": [
    "(U_ij == pi_i[:,None]) *1"
   ]
  },
  {
   "cell_type": "code",
   "execution_count": 1374,
   "metadata": {},
   "outputs": [
    {
     "data": {
      "text/plain": [
       "array([[0, 1, 0, 0, 0],\n",
       "       [1, 0, 0, 0, 0],\n",
       "       [0, 0, 1, 0, 0]])"
      ]
     },
     "execution_count": 1374,
     "metadata": {},
     "output_type": "execute_result"
    }
   ],
   "source": [
    "solve_1to1( (U_ij == pi_i[:,None]))"
   ]
  },
  {
   "cell_type": "code",
   "execution_count": 1375,
   "metadata": {},
   "outputs": [
    {
     "data": {
      "text/plain": [
       "array([[0. , 0.5, 0. , 0. , 0.5],\n",
       "       [0.5, 1. , 0. , 0. , 1. ],\n",
       "       [0.5, 1. , 1. , 0. , 1. ]])"
      ]
     },
     "execution_count": 1375,
     "metadata": {},
     "output_type": "execute_result"
    }
   ],
   "source": [
    "example_small.A_ij[C_i,:] * (U_ij == pi_i[:,None])"
   ]
  },
  {
   "cell_type": "code",
   "execution_count": 1376,
   "metadata": {},
   "outputs": [
    {
     "data": {
      "text/plain": [
       "array([[False,  True, False, False,  True],\n",
       "       [ True,  True, False, False,  True],\n",
       "       [ True,  True,  True, False,  True]])"
      ]
     },
     "execution_count": 1376,
     "metadata": {},
     "output_type": "execute_result"
    }
   ],
   "source": [
    "U_ij == pi_i[:,None]"
   ]
  },
  {
   "cell_type": "code",
   "execution_count": 1377,
   "metadata": {},
   "outputs": [],
   "source": [
    "w_i_out_B = np.max(example_small.get_U_ij(V_ex, np.arange(example_small.n))[C_i][:,B], axis = 1)"
   ]
  },
  {
   "cell_type": "code",
   "execution_count": 1378,
   "metadata": {},
   "outputs": [
    {
     "data": {
      "text/plain": [
       "array([[ 0. ,  1. , -3. , -0.5,  1. ],\n",
       "       [ 0. ,  0. , -1. , -2.4,  0. ],\n",
       "       [ 0. ,  0. ,  0. , -4.4,  0. ]])"
      ]
     },
     "execution_count": 1378,
     "metadata": {},
     "output_type": "execute_result"
    }
   ],
   "source": [
    "(((U_ij - w_i_out_B[:,None])/ example_small.A_ij[C_i,:])).round(2)"
   ]
  },
  {
   "cell_type": "code",
   "execution_count": 1379,
   "metadata": {},
   "outputs": [
    {
     "data": {
      "text/plain": [
       "0.0"
      ]
     },
     "execution_count": 1379,
     "metadata": {},
     "output_type": "execute_result"
    }
   ],
   "source": [
    "((U_ij - w_i_out_B[:,None])/ example_small.A_ij[C_i,:])[2,4]"
   ]
  },
  {
   "cell_type": "code",
   "execution_count": 1380,
   "metadata": {},
   "outputs": [
    {
     "name": "stdout",
     "output_type": "stream",
     "text": [
      "Warning for adding constraints: zero or small (< 1e-13) coefficients, ignored\n"
     ]
    },
    {
     "data": {
      "text/plain": [
       "array([[1, 0],\n",
       "       [0, 1],\n",
       "       [0, 0]])"
      ]
     },
     "execution_count": 1380,
     "metadata": {},
     "output_type": "execute_result"
    }
   ],
   "source": [
    "solve_1to1(np.array([[ True , True],\n",
    " [ True , True],\n",
    " [ True , True]]))"
   ]
  },
  {
   "cell_type": "code",
   "execution_count": 1381,
   "metadata": {},
   "outputs": [
    {
     "name": "stdout",
     "output_type": "stream",
     "text": [
      "Warning for adding constraints: zero or small (< 1e-13) coefficients, ignored\n"
     ]
    },
    {
     "data": {
      "text/plain": [
       "(array([[0., 1., 0., 0., 0., 0.],\n",
       "        [0., 0., 0., 0., 1., 0.],\n",
       "        [0., 0., 0., 0., 0., 0.]]),\n",
       " array([0. , 1. , 1. , 0.5, 1. ]),\n",
       " 0)"
      ]
     },
     "execution_count": 1381,
     "metadata": {},
     "output_type": "execute_result"
    }
   ],
   "source": [
    "example_small.interim_auction(C_i, ~B, ~B, min_overall,V_ex_pre )"
   ]
  },
  {
   "cell_type": "code",
   "execution_count": 1382,
   "metadata": {},
   "outputs": [
    {
     "data": {
      "text/plain": [
       "array([ True, False,  True,  True, False])"
      ]
     },
     "execution_count": 1382,
     "metadata": {},
     "output_type": "execute_result"
    }
   ],
   "source": [
    "B"
   ]
  },
  {
   "cell_type": "markdown",
   "metadata": {},
   "source": [
    "# Examples"
   ]
  },
  {
   "cell_type": "markdown",
   "metadata": {},
   "source": [
    "## stuff"
   ]
  },
  {
   "cell_type": "code",
   "execution_count": 8,
   "metadata": {},
   "outputs": [],
   "source": [
    "mu_ex = np.zeros([n_small,m_small])\n",
    "V_ex = np.ones(example_small.m) * example_small.lb_V\n",
    "perm_unassigned = np.zeros(example_small.n, dtype= bool)"
   ]
  },
  {
   "cell_type": "code",
   "execution_count": 9,
   "metadata": {},
   "outputs": [
    {
     "data": {
      "text/plain": [
       "array([[1, 7, 4, 3, 7],\n",
       "       [8, 5, 6, 0, 3],\n",
       "       [1, 2, 9, 3, 7],\n",
       "       [1, 3, 8, 0, 2],\n",
       "       [9, 1, 2, 4, 1]])"
      ]
     },
     "execution_count": 9,
     "metadata": {},
     "output_type": "execute_result"
    }
   ],
   "source": [
    "example_small.B_ij"
   ]
  },
  {
   "cell_type": "code",
   "execution_count": 10,
   "metadata": {},
   "outputs": [],
   "source": [
    "# #C_i = np.zeros(example_small.n, dtype= bool)\n",
    "\n",
    "# for p in range(1):\n",
    "\n",
    "#     i_ent = np.where((mu_ex.sum(1) == 0) * (~perm_unassigned) > 0)[0][0]\n",
    "#     iter_values = example_small.iteration(i_ent, mu_ex, V_ex )\n",
    "\n",
    "#     if len(iter_values) == 2:\n",
    "#         mu_ex, V_ex = iter_values\n",
    "\n",
    "#     else:\n",
    "#         C_i, B, d ,j_low= iter_values\n",
    "#         print(B)\n",
    "#         B_with_out = np.concatenate( (B, [True]) )\n",
    "#         r = d[B_with_out]\n",
    "#         #V_ex[~B] += np.min(d[B_with_out])\n",
    "\n",
    "#         print(d)\n",
    "#         print(B)\n",
    "#         mu_ex[C_i,:] = 0\n",
    "#         busy = np.zeros(example_small.m, dtype= bool)\n",
    "#         for i in np.where(C_i > 0)[0]:\n",
    "#             j_i = np.argmax( example_small.get_U_ij(V_ex, i) )\n",
    "#             #print(j_i)\n",
    "#             if busy[j_i] == False:\n",
    "#                 mu_ex[:,j_i] = 0\n",
    "#                 mu_ex[i,j_i] = 1\n",
    "#                 busy[j_i] = 1\n",
    "\n",
    "\n",
    "       \n",
    "\n",
    "#         #print(B)\n",
    "#         print(f\"d:{np.min(d[B_with_out])}\")\n",
    "#         print(f\"iteration total:{p}\")\n",
    "    \n",
    "        \n",
    "\n",
    "#     perm_unassigned = np.all(example_small.get_U_ij(V_ex , np.arange(example_small.n)) <= example_small.lb_U , axis = 1)\n",
    "# mu_ex[perm_unassigned,:] = 0"
   ]
  },
  {
   "cell_type": "markdown",
   "metadata": {},
   "source": []
  },
  {
   "cell_type": "code",
   "execution_count": 71,
   "metadata": {},
   "outputs": [
    {
     "name": "stdout",
     "output_type": "stream",
     "text": [
      "[ True False  True  True  True]\n",
      "AAAA\n"
     ]
    }
   ],
   "source": [
    "#C_i = np.zeros(example_small.n, dtype= bool)\n",
    "for p in range(1):\n",
    "\n",
    "    i_ent = np.where((mu_ex.sum(1) == 0) * (~perm_unassigned) > 0)[0][0]\n",
    "    iter_values = example_small.iteration(i_ent, mu_ex, V_ex ,perm_unassigned)\n",
    "    print(iter_values[1])\n",
    "    if len(iter_values) == 3:\n",
    "        mu_ex, V_ex , perm_unassigned = iter_values\n",
    "\n",
    "      \n",
    "    else:\n",
    "        print(\"AAAA\")\n",
    "        C_i, B, d ,j_low= iter_values\n",
    "        \n",
    "        B_with_out = np.concatenate( (B, [True]) )\n",
    "        r = d[B_with_out]\n",
    "\n",
    "        \n",
    "        U_ij = example_small.get_U_ij(V_ex, np.arange(example_small.n))[C_i]\n",
    "        pi_i = np.max(U_ij, axis = 1)\n",
    "        w_i_out_B = np.max(U_ij[:,B], axis = 1)\n",
    "\n",
    "        virt_offs = ((U_ij - w_i_out_B[:,None])/ example_small.A_ij[C_i,:])\n",
    "\n",
    "        min_off = np.min( virt_offs + 1e200 * (virt_offs <= 0), axis = 0)\n",
    "\n",
    "        min_overall = min_off.min()\n",
    "\n",
    "        j_low = min_off == min_overall\n",
    "\n",
    "        V_ex_pre = V_ex.copy()\n",
    "        #V_ex[~B] += np.min(d[B_with_out])\n",
    "        pi_ij, V_ex, iter = example_small.interim_auction(C_i, ~B, ~B, min_overall,V_ex )\n",
    "\n",
    "        # this should be revoming exactly one 0\n",
    "        # print(pi_ij)\n",
    "        #pi_ij[:,:-1][:,mu_ex[~C_i,:].sum(0) == 1 ]= 0\n",
    "\n",
    "\n",
    "        mu_ex[C_i,:] = pi_ij[:,:-1]\n",
    "        perm_unassigned[C_i] = pi_ij[:,-1]\n",
    "\n",
    "\n",
    "    \n",
    "   \n",
    "# mu_ex[perm_unassigned,:] = 0"
   ]
  },
  {
   "cell_type": "code",
   "execution_count": 66,
   "metadata": {},
   "outputs": [
    {
     "data": {
      "text/plain": [
       "array([ 5.  ,  5.  , 15.9 ,  1.75,  4.6 ])"
      ]
     },
     "execution_count": 66,
     "metadata": {},
     "output_type": "execute_result"
    }
   ],
   "source": [
    "V_ex"
   ]
  },
  {
   "cell_type": "code",
   "execution_count": 67,
   "metadata": {},
   "outputs": [
    {
     "data": {
      "text/plain": [
       "array([[0., 1., 0., 0., 0.],\n",
       "       [0., 0., 1., 0., 0.],\n",
       "       [0., 0., 0., 0., 1.],\n",
       "       [0., 0., 0., 0., 0.],\n",
       "       [1., 0., 0., 0., 0.]])"
      ]
     },
     "execution_count": 67,
     "metadata": {},
     "output_type": "execute_result"
    }
   ],
   "source": [
    "mu_ex"
   ]
  },
  {
   "cell_type": "code",
   "execution_count": 74,
   "metadata": {},
   "outputs": [
    {
     "data": {
      "text/plain": [
       "array([[ -4.        ,   2.        , -11.9       ,   2.        ,\n",
       "        -20.6       ],\n",
       "       [-37.        , -10.        ,   2.46666667,  -2.625     ,\n",
       "          2.23333333],\n",
       "       [ -9.        ,   0.33333333, -86.4       ,   1.25      ,\n",
       "          1.25      ],\n",
       "       [ -7.75      ,   0.        ,  -7.9       ,  -3.5       ,\n",
       "         -5.36      ],\n",
       "       [  4.        ,  -1.77777778, -45.7       ,  -0.66666667,\n",
       "         -4.36666667]])"
      ]
     },
     "execution_count": 74,
     "metadata": {},
     "output_type": "execute_result"
    }
   ],
   "source": [
    "(example_small.get_U_ij(V_ex, np.ones(example_small.n, dtype= bool)))"
   ]
  },
  {
   "cell_type": "code",
   "execution_count": 154,
   "metadata": {},
   "outputs": [
    {
     "data": {
      "text/plain": [
       "(array([False,  True, False,  True, False]),\n",
       " array([ True,  True,  True,  True, False]),\n",
       " array([ 9.90625,  1.25   ,  0.25   , 40.15   ,      inf,  7.75   ]),\n",
       " array([False, False, False, False, False]))"
      ]
     },
     "execution_count": 154,
     "metadata": {},
     "output_type": "execute_result"
    }
   ],
   "source": [
    "i_ent = np.where((mu_ex.sum(1) == 0) * (~perm_unassigned) > 0)[0][0]\n",
    "example_small.iteration(i_ent, mu_ex, V_ex ,perm_unassigned)"
   ]
  },
  {
   "cell_type": "code",
   "execution_count": 1391,
   "metadata": {},
   "outputs": [
    {
     "ename": "ValueError",
     "evalue": "not enough values to unpack (expected 4, got 3)",
     "output_type": "error",
     "traceback": [
      "\u001b[0;31m---------------------------------------------------------------------------\u001b[0m",
      "\u001b[0;31mValueError\u001b[0m                                Traceback (most recent call last)",
      "\u001b[1;32m/Users/enzo-macmini/auction_alg_ITU/cooperative_auction_ITU.ipynb Cell 33\u001b[0m line \u001b[0;36m1\n\u001b[0;32m----> <a href='vscode-notebook-cell:/Users/enzo-macmini/auction_alg_ITU/cooperative_auction_ITU.ipynb#Y232sZmlsZQ%3D%3D?line=0'>1</a>\u001b[0m C_i, B, d ,j_low\u001b[39m=\u001b[39m example_small\u001b[39m.\u001b[39miteration(i_ent, mu_ex, V_ex ,perm_unassigned)\n\u001b[1;32m      <a href='vscode-notebook-cell:/Users/enzo-macmini/auction_alg_ITU/cooperative_auction_ITU.ipynb#Y232sZmlsZQ%3D%3D?line=2'>3</a>\u001b[0m B_with_out \u001b[39m=\u001b[39m np\u001b[39m.\u001b[39mconcatenate( (B, [\u001b[39mTrue\u001b[39;00m]) )\n\u001b[1;32m      <a href='vscode-notebook-cell:/Users/enzo-macmini/auction_alg_ITU/cooperative_auction_ITU.ipynb#Y232sZmlsZQ%3D%3D?line=3'>4</a>\u001b[0m r \u001b[39m=\u001b[39m d[B_with_out]\n",
      "\u001b[0;31mValueError\u001b[0m: not enough values to unpack (expected 4, got 3)"
     ]
    }
   ],
   "source": [
    "C_i, B, d ,j_low= example_small.iteration(i_ent, mu_ex, V_ex ,perm_unassigned)\n",
    "\n",
    "B_with_out = np.concatenate( (B, [True]) )\n",
    "r = d[B_with_out]"
   ]
  },
  {
   "cell_type": "code",
   "execution_count": null,
   "metadata": {},
   "outputs": [
    {
     "data": {
      "text/plain": [
       "array([False, False,  True, False, False])"
      ]
     },
     "execution_count": 533,
     "metadata": {},
     "output_type": "execute_result"
    }
   ],
   "source": [
    "j_low"
   ]
  },
  {
   "cell_type": "code",
   "execution_count": null,
   "metadata": {},
   "outputs": [
    {
     "ename": "KeyboardInterrupt",
     "evalue": "",
     "output_type": "error",
     "traceback": [
      "\u001b[0;31m---------------------------------------------------------------------------\u001b[0m",
      "\u001b[0;31mKeyboardInterrupt\u001b[0m                         Traceback (most recent call last)",
      "\u001b[1;32m/Users/enzo-macmini/auction_alg_ITU/cooperative_auction_ITU.ipynb Cell 20\u001b[0m line \u001b[0;36m1\n\u001b[0;32m----> <a href='vscode-notebook-cell:/Users/enzo-macmini/auction_alg_ITU/cooperative_auction_ITU.ipynb#Y235sZmlsZQ%3D%3D?line=0'>1</a>\u001b[0m example_small\u001b[39m.\u001b[39;49minterim_auction(C_i, \u001b[39m~\u001b[39;49mB, j_low,  np\u001b[39m.\u001b[39;49mmin(r),V_ex )\n",
      "\u001b[1;32m/Users/enzo-macmini/auction_alg_ITU/cooperative_auction_ITU.ipynb Cell 20\u001b[0m line \u001b[0;36m3\n\u001b[1;32m     <a href='vscode-notebook-cell:/Users/enzo-macmini/auction_alg_ITU/cooperative_auction_ITU.ipynb#Y235sZmlsZQ%3D%3D?line=30'>31</a>\u001b[0m free_i \u001b[39m=\u001b[39m np\u001b[39m.\u001b[39mones(C\u001b[39m.\u001b[39msum(), dtype\u001b[39m=\u001b[39m \u001b[39mbool\u001b[39m) \n\u001b[1;32m     <a href='vscode-notebook-cell:/Users/enzo-macmini/auction_alg_ITU/cooperative_auction_ITU.ipynb#Y235sZmlsZQ%3D%3D?line=31'>32</a>\u001b[0m \u001b[39mfor\u001b[39;00m j \u001b[39min\u001b[39;00m np\u001b[39m.\u001b[39mwhere(O \u001b[39m>\u001b[39m \u001b[39m0\u001b[39m)[\u001b[39m0\u001b[39m]:\n\u001b[0;32m---> <a href='vscode-notebook-cell:/Users/enzo-macmini/auction_alg_ITU/cooperative_auction_ITU.ipynb#Y235sZmlsZQ%3D%3D?line=32'>33</a>\u001b[0m     \u001b[39mif\u001b[39;00m np\u001b[39m.\u001b[39;49many(ij_optimal[:,j]\u001b[39m>\u001b[39;49m\u001b[39m0\u001b[39;49m) \u001b[39mand\u001b[39;00m \u001b[39mlen\u001b[39m(offers[:,j][free_i])\u001b[39m>\u001b[39m\u001b[39m0\u001b[39m:\n\u001b[1;32m     <a href='vscode-notebook-cell:/Users/enzo-macmini/auction_alg_ITU/cooperative_auction_ITU.ipynb#Y235sZmlsZQ%3D%3D?line=33'>34</a>\u001b[0m         best_offer \u001b[39m=\u001b[39m np\u001b[39m.\u001b[39mmax(offers[:,j] [free_i] )\n\u001b[1;32m     <a href='vscode-notebook-cell:/Users/enzo-macmini/auction_alg_ITU/cooperative_auction_ITU.ipynb#Y235sZmlsZQ%3D%3D?line=34'>35</a>\u001b[0m         i_j \u001b[39m=\u001b[39m np\u001b[39m.\u001b[39margmax(offers[:,j] \u001b[39m+\u001b[39m (\u001b[39m1\u001b[39m\u001b[39m-\u001b[39m free_i)\u001b[39m*\u001b[39m(\u001b[39m-\u001b[39m\u001b[39m1e+200\u001b[39m)\u001b[39m+\u001b[39m (\u001b[39m1\u001b[39m\u001b[39m-\u001b[39m ij_optimal[:,j])\u001b[39m*\u001b[39m(\u001b[39m-\u001b[39m\u001b[39m1e+200\u001b[39m))\n",
      "File \u001b[0;32m/Library/Frameworks/Python.framework/Versions/3.12/lib/python3.12/site-packages/numpy/core/fromnumeric.py:2412\u001b[0m, in \u001b[0;36many\u001b[0;34m(a, axis, out, keepdims, where)\u001b[0m\n\u001b[1;32m   2322\u001b[0m \u001b[39m@array_function_dispatch\u001b[39m(_any_dispatcher)\n\u001b[1;32m   2323\u001b[0m \u001b[39mdef\u001b[39;00m \u001b[39many\u001b[39m(a, axis\u001b[39m=\u001b[39m\u001b[39mNone\u001b[39;00m, out\u001b[39m=\u001b[39m\u001b[39mNone\u001b[39;00m, keepdims\u001b[39m=\u001b[39mnp\u001b[39m.\u001b[39m_NoValue, \u001b[39m*\u001b[39m, where\u001b[39m=\u001b[39mnp\u001b[39m.\u001b[39m_NoValue):\n\u001b[1;32m   2324\u001b[0m \u001b[39m    \u001b[39m\u001b[39m\"\"\"\u001b[39;00m\n\u001b[1;32m   2325\u001b[0m \u001b[39m    Test whether any array element along a given axis evaluates to True.\u001b[39;00m\n\u001b[1;32m   2326\u001b[0m \n\u001b[0;32m   (...)\u001b[0m\n\u001b[1;32m   2410\u001b[0m \n\u001b[1;32m   2411\u001b[0m \u001b[39m    \"\"\"\u001b[39;00m\n\u001b[0;32m-> 2412\u001b[0m     \u001b[39mreturn\u001b[39;00m _wrapreduction(a, np\u001b[39m.\u001b[39;49mlogical_or, \u001b[39m'\u001b[39;49m\u001b[39many\u001b[39;49m\u001b[39m'\u001b[39;49m, axis, \u001b[39mNone\u001b[39;49;00m, out,\n\u001b[1;32m   2413\u001b[0m                           keepdims\u001b[39m=\u001b[39;49mkeepdims, where\u001b[39m=\u001b[39;49mwhere)\n",
      "File \u001b[0;32m/Library/Frameworks/Python.framework/Versions/3.12/lib/python3.12/site-packages/numpy/core/fromnumeric.py:88\u001b[0m, in \u001b[0;36m_wrapreduction\u001b[0;34m(obj, ufunc, method, axis, dtype, out, **kwargs)\u001b[0m\n\u001b[1;32m     85\u001b[0m         \u001b[39melse\u001b[39;00m:\n\u001b[1;32m     86\u001b[0m             \u001b[39mreturn\u001b[39;00m reduction(axis\u001b[39m=\u001b[39maxis, out\u001b[39m=\u001b[39mout, \u001b[39m*\u001b[39m\u001b[39m*\u001b[39mpasskwargs)\n\u001b[0;32m---> 88\u001b[0m \u001b[39mreturn\u001b[39;00m ufunc\u001b[39m.\u001b[39;49mreduce(obj, axis, dtype, out, \u001b[39m*\u001b[39;49m\u001b[39m*\u001b[39;49mpasskwargs)\n",
      "\u001b[0;31mKeyboardInterrupt\u001b[0m: "
     ]
    }
   ],
   "source": [
    "example_small.interim_auction(C_i, ~B, j_low,  np.min(r),V_ex )"
   ]
  },
  {
   "cell_type": "code",
   "execution_count": null,
   "metadata": {},
   "outputs": [
    {
     "data": {
      "text/plain": [
       "array([[1., 0., 0., 0., 0.],\n",
       "       [0., 0., 0., 0., 0.]])"
      ]
     },
     "execution_count": 438,
     "metadata": {},
     "output_type": "execute_result"
    }
   ],
   "source": [
    "pi_ij[:,:-1]"
   ]
  },
  {
   "cell_type": "code",
   "execution_count": null,
   "metadata": {},
   "outputs": [],
   "source": []
  },
  {
   "cell_type": "code",
   "execution_count": null,
   "metadata": {},
   "outputs": [],
   "source": []
  },
  {
   "cell_type": "code",
   "execution_count": null,
   "metadata": {},
   "outputs": [],
   "source": []
  },
  {
   "cell_type": "code",
   "execution_count": null,
   "metadata": {},
   "outputs": [],
   "source": []
  },
  {
   "cell_type": "code",
   "execution_count": null,
   "metadata": {},
   "outputs": [],
   "source": []
  },
  {
   "cell_type": "code",
   "execution_count": null,
   "metadata": {},
   "outputs": [],
   "source": []
  },
  {
   "cell_type": "code",
   "execution_count": null,
   "metadata": {},
   "outputs": [],
   "source": []
  },
  {
   "cell_type": "code",
   "execution_count": null,
   "metadata": {},
   "outputs": [],
   "source": []
  },
  {
   "cell_type": "code",
   "execution_count": null,
   "metadata": {},
   "outputs": [],
   "source": []
  },
  {
   "cell_type": "code",
   "execution_count": null,
   "metadata": {},
   "outputs": [],
   "source": []
  },
  {
   "cell_type": "markdown",
   "metadata": {},
   "source": [
    "## large simulation examples"
   ]
  },
  {
   "cell_type": "code",
   "execution_count": 23,
   "metadata": {},
   "outputs": [],
   "source": [
    "def coop_ITU_auction(self):\n",
    "    mu_ij = np.zeros([self.n,self.m])\n",
    "    V_j = np.ones(self.m) * self.lb_V\n",
    "    perm_unassigned = np.zeros(self.n, dtype= bool)\n",
    "    iters = 0 \n",
    "    while np.sum((mu_ij.sum(1) == 0) * (~perm_unassigned)) > 0:\n",
    "        iters += 1\n",
    "        i_ent = np.where((mu_ij.sum(1) == 0) * (~perm_unassigned) > 0)[0][0]\n",
    "        iter_values = self.iteration(i_ent, mu_ij, V_j ,perm_unassigned)\n",
    "        #print(iter_values)\n",
    "        if len(iter_values) == 3:\n",
    "            mu_ij, V_j ,perm_unassigned = iter_values\n",
    "\n",
    "        else:\n",
    "          \n",
    "            C_i, B, d ,j_low= iter_values\n",
    "            \n",
    "            B_with_out = np.concatenate( (B, [True]) )\n",
    "            r = d[B_with_out]\n",
    "\n",
    "\n",
    "            U_ij = self.get_U_ij(V_j, np.arange(self.n))[C_i]\n",
    "          \n",
    "            pi_i = np.max(U_ij, axis = 1)\n",
    "\n",
    "            w_i_out_B = np.max(U_ij[:,B], axis = 1)\n",
    "            #w_i_out_B = np.max(np.concatenate((U_ij[:,B], self.lb_U * np.ones((C_i.sum(),1) )), axis = 1), axis = 1)\n",
    "            \n",
    "\n",
    "\n",
    "\n",
    "\n",
    "\n",
    "            virt_offs = ((U_ij - w_i_out_B[:,None])/ self.A_ij[C_i,:])\n",
    "\n",
    "            min_off = np.min( virt_offs + 1e200 * (virt_offs <= 0), axis = 0)\n",
    "\n",
    "            min_overall = min_off.min()\n",
    "\n",
    "            j_low = min_off == min_overall\n",
    "\n",
    "\n",
    "            #V_j[~B] += np.min(d[B_with_out])\n",
    "            pi_ij, V_j, iter = self.interim_auction(C_i, ~B, ~B, min_overall,V_j )\n",
    "\n",
    "\n",
    "\n",
    "\n",
    "\n",
    "            mu_ij[C_i,:] = pi_ij[:,:-1]\n",
    "            perm_unassigned[C_i] = pi_ij[:,-1]\n",
    "\n",
    "\n",
    "        \n",
    "\n",
    "    #mu_ij[perm_unassigned,:] = 0\n",
    "\n",
    "\n",
    "\n",
    "    id_i , id_j  =  np.where(mu_ij == 1)\n",
    "    \n",
    "    U_i = np.ones(self.n) * self.lb_U\n",
    "    U_i[id_i] = self.get_U_ij(V_j, id_i)[np.arange(len(id_i)), id_j] \n",
    "    #print(iters)\n",
    "    return mu_ij, U_i , V_j\n",
    "\n",
    "\n",
    "\n",
    "\n",
    "OneToOneITU.coop_ITU_auction = coop_ITU_auction"
   ]
  },
  {
   "cell_type": "code",
   "execution_count": null,
   "metadata": {},
   "outputs": [],
   "source": [
    "# def ITU_auction(self):\n",
    "#     mu_ij = np.zeros([self.n,self.m])\n",
    "#     V_j = np.ones(self.m) * self.lb_V\n",
    "#     perm_unassigned = np.zeros(self.n, dtype= bool)\n",
    "#     iters = 0\n",
    "#     # for p in range(10000):\n",
    "\n",
    "#     while np.sum((mu_ij.sum(1) == 0) * (~perm_unassigned)) > 0:\n",
    "#         iters += 1\n",
    "#         i_ent = np.where((mu_ij.sum(1) == 0) * (~perm_unassigned) > 0)[0][0]\n",
    "#         iter_values = self.iteration(i_ent, mu_ij, V_j )\n",
    "\n",
    "#         if len(iter_values) == 2:\n",
    "#             mu_ij, V_j = iter_values\n",
    "\n",
    "#         else:\n",
    "#             print(\"AAAA\")\n",
    "#             C_i, B, d ,j_low= iter_values\n",
    "            \n",
    "#             B_with_out = np.concatenate( (B, [True]) )\n",
    "#             r = d[B_with_out]\n",
    "#             #V_j[~B] += np.min(d[B_with_out])\n",
    "#             pi_ij, V_j, happy_i, iter = self.interim_auction(C_i, ~B, j_low,  np.min(r),V_j )\n",
    "\n",
    "#             # this should be revoming exactly one 0\n",
    "#             pi_ij[:,:-1][:,mu_ij[~C_i,:].sum(0) == 1 ]= 0\n",
    "\n",
    "\n",
    "#             mu_ij[C_i,:] = pi_ij[:,:-1]\n",
    "#             perm_unassigned[C_i] = pi_ij[:,-1]\n",
    "\n",
    "\n",
    "    \n",
    "        \n",
    "\n",
    "#     perm_unassigned = np.all(self.get_U_ij(V_j , np.arange(self.n)) <= self.lb_U , axis = 1)\n",
    "#     mu_ij[perm_unassigned,:] = 0\n",
    "\n",
    "#     id_i , id_j  =  np.where(mu_ij == 1)\n",
    "    \n",
    "#     U_i = np.ones(example_small.n) * example_small.lb_U\n",
    "#     U_i[id_i] = example_small.get_U_ij(V_j, id_i)[np.arange(len(id_i)), id_j] \n",
    "#     return mu_ij, U_i , V_j\n",
    "\n",
    "\n",
    "\n",
    "#     # id_i , id_j  =  np.where(mu_ij == 1)\n",
    "    \n",
    "#     # U_i = np.ones(self.n) * self.lb_U\n",
    "#     # U_i[id_i] = self.get_U_ij(V_j, id_i)[np.arange(len(id_i)), id_j]   \n",
    "\n",
    "#     # return mu_ij,U_i, V_j, perm_unassigned * 1, iters\n",
    "\n",
    "# OneToOneITU.ITU_auction = ITU_auction"
   ]
  },
  {
   "cell_type": "code",
   "execution_count": 24,
   "metadata": {},
   "outputs": [],
   "source": [
    "n_small = 5\n",
    "m_small = 5\n",
    "example_small = OneToOneITU( n = n_small,m = m_small, size_params= (3,10) , random_seed= 318, lbs =(0,0), tol = 0)"
   ]
  },
  {
   "cell_type": "code",
   "execution_count": 25,
   "metadata": {},
   "outputs": [],
   "source": [
    "# mu_ex , U_ex,  V_ex , perm_ , iters= example_small.ITU_auction()"
   ]
  },
  {
   "cell_type": "code",
   "execution_count": 26,
   "metadata": {},
   "outputs": [],
   "source": [
    "mu_ex , U_ex,  V_ex  = example_small.coop_ITU_auction()"
   ]
  },
  {
   "cell_type": "code",
   "execution_count": 27,
   "metadata": {},
   "outputs": [
    {
     "data": {
      "text/plain": [
       "0.0"
      ]
     },
     "execution_count": 27,
     "metadata": {},
     "output_type": "execute_result"
    }
   ],
   "source": [
    "example_small. check_dual_feas(U_ex,V_ex, output = True)[0].sum()"
   ]
  },
  {
   "cell_type": "code",
   "execution_count": 28,
   "metadata": {},
   "outputs": [
    {
     "data": {
      "text/plain": [
       "0.0"
      ]
     },
     "execution_count": 28,
     "metadata": {},
     "output_type": "execute_result"
    }
   ],
   "source": [
    "example_small.check_primal_CS(U_ex, V_ex, mu_ex, output= True).sum()"
   ]
  },
  {
   "cell_type": "code",
   "execution_count": 29,
   "metadata": {},
   "outputs": [
    {
     "data": {
      "text/plain": [
       "0.0"
      ]
     },
     "execution_count": 29,
     "metadata": {},
     "output_type": "execute_result"
    }
   ],
   "source": [
    "((mu_ex.sum(0) == 0) * ( V_ex - example_small.lb_V)).sum() "
   ]
  },
  {
   "cell_type": "code",
   "execution_count": 30,
   "metadata": {},
   "outputs": [
    {
     "data": {
      "text/plain": [
       "5.0"
      ]
     },
     "execution_count": 30,
     "metadata": {},
     "output_type": "execute_result"
    }
   ],
   "source": [
    "mu_ex.sum()"
   ]
  },
  {
   "cell_type": "code",
   "execution_count": 31,
   "metadata": {},
   "outputs": [],
   "source": [
    "# id_i , id_j  =  np.where(mu_ex == 1)\n",
    "    \n",
    "# U_ex = np.ones(example_small.n) * example_small.lb_U\n",
    "# U_ex[id_i] = example_small.get_U_ij(V_ex, id_i)[np.arange(len(id_i)), id_j]  "
   ]
  },
  {
   "cell_type": "code",
   "execution_count": 32,
   "metadata": {},
   "outputs": [
    {
     "data": {
      "text/markdown": [
       "____\n",
       "<h1>Feasibility</h1>"
      ],
      "text/plain": [
       "<IPython.core.display.Markdown object>"
      ]
     },
     "metadata": {},
     "output_type": "display_data"
    },
    {
     "data": {
      "text/latex": [
       "$\\displaystyle \\forall i, \\ \\sum_{j}  \\mu_{ij} \\leq 1: \\ True$"
      ],
      "text/plain": [
       "<IPython.core.display.Math object>"
      ]
     },
     "metadata": {},
     "output_type": "display_data"
    },
    {
     "data": {
      "text/latex": [
       "$\\displaystyle \\forall j, \\ \\sum_{i}  \\mu_{ij} \\leq 1: \\ True$"
      ],
      "text/plain": [
       "<IPython.core.display.Math object>"
      ]
     },
     "metadata": {},
     "output_type": "display_data"
    },
    {
     "data": {
      "text/markdown": [
       "#matched: 5 over 5"
      ],
      "text/plain": [
       "<IPython.core.display.Markdown object>"
      ]
     },
     "metadata": {},
     "output_type": "display_data"
    },
    {
     "data": {
      "text/markdown": [
       "____\n",
       "<h1>Generalized Complementary Slackness</h1>"
      ],
      "text/plain": [
       "<IPython.core.display.Markdown object>"
      ]
     },
     "metadata": {},
     "output_type": "display_data"
    },
    {
     "data": {
      "text/latex": [
       "$\\displaystyle \\frac1{nm} \\sum_{ij} \\min( A_{ij} U_i + G_{ij} V_j -  B_{ij} , 0)  = 0.0$"
      ],
      "text/plain": [
       "<IPython.core.display.Math object>"
      ]
     },
     "metadata": {},
     "output_type": "display_data"
    },
    {
     "data": {
      "text/latex": [
       "$\\displaystyle \\frac1{nm} \\sum_{ij} \\mu_{ij} * (A_{ij} U_i + G_{ij} V_j - B_{ij}) = 0.0$"
      ],
      "text/plain": [
       "<IPython.core.display.Math object>"
      ]
     },
     "metadata": {},
     "output_type": "display_data"
    },
    {
     "data": {
      "text/markdown": [
       "____\n",
       "<h1>Individual Rationality</h1>"
      ],
      "text/plain": [
       "<IPython.core.display.Markdown object>"
      ]
     },
     "metadata": {},
     "output_type": "display_data"
    },
    {
     "data": {
      "text/latex": [
       "$\\displaystyle \\min_{i} U_{i} = 3.0 \\geq 0 = U_{lb}$"
      ],
      "text/plain": [
       "<IPython.core.display.Math object>"
      ]
     },
     "metadata": {},
     "output_type": "display_data"
    },
    {
     "data": {
      "text/latex": [
       "$\\displaystyle \\min_{j} V_{j} = 0.0 \\geq  0 = V_{lb}$"
      ],
      "text/plain": [
       "<IPython.core.display.Math object>"
      ]
     },
     "metadata": {},
     "output_type": "display_data"
    },
    {
     "data": {
      "text/latex": [
       "$\\displaystyle \\frac1{n} \\sum_{i} (U_{i} - U_{lb} ) * (\\sum_{j} \\mu_{ij} -1) = 0.0$"
      ],
      "text/plain": [
       "<IPython.core.display.Math object>"
      ]
     },
     "metadata": {},
     "output_type": "display_data"
    },
    {
     "data": {
      "text/latex": [
       "$\\displaystyle \\frac1{m}\\sum_{j} (V_{j} - V_{lb} ) * (\\sum_{i} \\mu_{ij} -1) = 0.0$"
      ],
      "text/plain": [
       "<IPython.core.display.Math object>"
      ]
     },
     "metadata": {},
     "output_type": "display_data"
    }
   ],
   "source": [
    "example_small.check_all((mu_ex , U_ex , V_ex ))"
   ]
  },
  {
   "cell_type": "code",
   "execution_count": 33,
   "metadata": {},
   "outputs": [],
   "source": [
    "# example_small. check_dual_feas(U_ex,V_ex, output = True)"
   ]
  },
  {
   "cell_type": "code",
   "execution_count": 40,
   "metadata": {},
   "outputs": [
    {
     "name": "stdout",
     "output_type": "stream",
     "text": [
      "0\n",
      "1\n",
      "Warning for adding constraints: zero or small (< 1e-13) coefficients, ignored\n"
     ]
    },
    {
     "name": "stdout",
     "output_type": "stream",
     "text": [
      "Warning for adding constraints: zero or small (< 1e-13) coefficients, ignored\n",
      "2\n",
      "3\n",
      "Warning for adding constraints: zero or small (< 1e-13) coefficients, ignored\n",
      "4\n",
      "Warning for adding constraints: zero or small (< 1e-13) coefficients, ignored\n",
      "5\n",
      "Warning for adding constraints: zero or small (< 1e-13) coefficients, ignored\n",
      "Warning for adding constraints: zero or small (< 1e-13) coefficients, ignored\n",
      "6\n",
      "Warning for adding constraints: zero or small (< 1e-13) coefficients, ignored\n",
      "7\n",
      "Warning for adding constraints: zero or small (< 1e-13) coefficients, ignored\n",
      "Warning for adding constraints: zero or small (< 1e-13) coefficients, ignored\n",
      "Warning for adding constraints: zero or small (< 1e-13) coefficients, ignored\n",
      "Warning for adding constraints: zero or small (< 1e-13) coefficients, ignored\n",
      "Warning for adding constraints: zero or small (< 1e-13) coefficients, ignored\n",
      "8\n",
      "Warning for adding constraints: zero or small (< 1e-13) coefficients, ignored\n",
      "Warning for adding constraints: zero or small (< 1e-13) coefficients, ignored\n",
      "Warning for adding constraints: zero or small (< 1e-13) coefficients, ignored\n",
      "Warning for adding constraints: zero or small (< 1e-13) coefficients, ignored\n",
      "9\n",
      "Warning for adding constraints: zero or small (< 1e-13) coefficients, ignored\n",
      "Warning for adding constraints: zero or small (< 1e-13) coefficients, ignored\n",
      "10\n",
      "Warning for adding constraints: zero or small (< 1e-13) coefficients, ignored\n",
      "Warning for adding constraints: zero or small (< 1e-13) coefficients, ignored\n",
      "11\n",
      "12\n",
      "Warning for adding constraints: zero or small (< 1e-13) coefficients, ignored\n",
      "Warning for adding constraints: zero or small (< 1e-13) coefficients, ignored\n",
      "13\n",
      "Warning for adding constraints: zero or small (< 1e-13) coefficients, ignored\n",
      "Warning for adding constraints: zero or small (< 1e-13) coefficients, ignored\n",
      "Warning for adding constraints: zero or small (< 1e-13) coefficients, ignored\n",
      "Warning for adding constraints: zero or small (< 1e-13) coefficients, ignored\n",
      "Warning for adding constraints: zero or small (< 1e-13) coefficients, ignored\n",
      "Warning for adding constraints: zero or small (< 1e-13) coefficients, ignored\n",
      "14\n",
      "Warning for adding constraints: zero or small (< 1e-13) coefficients, ignored\n",
      "Warning for adding constraints: zero or small (< 1e-13) coefficients, ignored\n",
      "15\n",
      "Warning for adding constraints: zero or small (< 1e-13) coefficients, ignored\n",
      "Warning for adding constraints: zero or small (< 1e-13) coefficients, ignored\n",
      "16\n",
      "Warning for adding constraints: zero or small (< 1e-13) coefficients, ignored\n",
      "17\n",
      "Warning for adding constraints: zero or small (< 1e-13) coefficients, ignored\n",
      "Warning for adding constraints: zero or small (< 1e-13) coefficients, ignored\n",
      "18\n",
      "Warning for adding constraints: zero or small (< 1e-13) coefficients, ignored\n",
      "19\n",
      "Warning for adding constraints: zero or small (< 1e-13) coefficients, ignored\n",
      "Warning for adding constraints: zero or small (< 1e-13) coefficients, ignored\n",
      "Warning for adding constraints: zero or small (< 1e-13) coefficients, ignored\n",
      "Warning for adding constraints: zero or small (< 1e-13) coefficients, ignored\n",
      "Warning for adding constraints: zero or small (< 1e-13) coefficients, ignored\n",
      "20\n",
      "Warning for adding constraints: zero or small (< 1e-13) coefficients, ignored\n",
      "21\n",
      "Warning for adding constraints: zero or small (< 1e-13) coefficients, ignored\n",
      "Warning for adding constraints: zero or small (< 1e-13) coefficients, ignored\n",
      "Warning for adding constraints: zero or small (< 1e-13) coefficients, ignored\n",
      "22\n",
      "23\n",
      "Warning for adding constraints: zero or small (< 1e-13) coefficients, ignored\n",
      "24\n",
      "25\n",
      "Warning for adding constraints: zero or small (< 1e-13) coefficients, ignored\n",
      "26\n",
      "Warning for adding constraints: zero or small (< 1e-13) coefficients, ignored\n",
      "Warning for adding constraints: zero or small (< 1e-13) coefficients, ignored\n",
      "Warning for adding constraints: zero or small (< 1e-13) coefficients, ignored\n",
      "Warning for adding constraints: zero or small (< 1e-13) coefficients, ignored\n",
      "27\n",
      "Warning for adding constraints: zero or small (< 1e-13) coefficients, ignored\n",
      "Warning for adding constraints: zero or small (< 1e-13) coefficients, ignored\n",
      "28\n",
      "Warning for adding constraints: zero or small (< 1e-13) coefficients, ignored\n",
      "29\n",
      "Warning for adding constraints: zero or small (< 1e-13) coefficients, ignored\n",
      "Warning for adding constraints: zero or small (< 1e-13) coefficients, ignored\n",
      "Warning for adding constraints: zero or small (< 1e-13) coefficients, ignored\n",
      "30\n",
      "31\n",
      "Warning for adding constraints: zero or small (< 1e-13) coefficients, ignored\n",
      "Warning for adding constraints: zero or small (< 1e-13) coefficients, ignored\n",
      "32\n",
      "Warning for adding constraints: zero or small (< 1e-13) coefficients, ignored\n",
      "33\n",
      "Warning for adding constraints: zero or small (< 1e-13) coefficients, ignored\n",
      "34\n",
      "Warning for adding constraints: zero or small (< 1e-13) coefficients, ignored\n",
      "35\n",
      "Warning for adding constraints: zero or small (< 1e-13) coefficients, ignored\n",
      "Warning for adding constraints: zero or small (< 1e-13) coefficients, ignored\n",
      "36\n",
      "37\n",
      "Warning for adding constraints: zero or small (< 1e-13) coefficients, ignored\n",
      "Warning for adding constraints: zero or small (< 1e-13) coefficients, ignored\n",
      "Warning for adding constraints: zero or small (< 1e-13) coefficients, ignored\n",
      "38\n",
      "Warning for adding constraints: zero or small (< 1e-13) coefficients, ignored\n",
      "Warning for adding constraints: zero or small (< 1e-13) coefficients, ignored\n",
      "39\n",
      "Warning for adding constraints: zero or small (< 1e-13) coefficients, ignored\n",
      "Warning for adding constraints: zero or small (< 1e-13) coefficients, ignored\n",
      "Warning for adding constraints: zero or small (< 1e-13) coefficients, ignored\n",
      "40\n",
      "41\n",
      "Warning for adding constraints: zero or small (< 1e-13) coefficients, ignored\n",
      "Warning for adding constraints: zero or small (< 1e-13) coefficients, ignored\n",
      "Warning for adding constraints: zero or small (< 1e-13) coefficients, ignored\n",
      "Warning for adding constraints: zero or small (< 1e-13) coefficients, ignored\n",
      "42\n",
      "Warning for adding constraints: zero or small (< 1e-13) coefficients, ignored\n",
      "Warning for adding constraints: zero or small (< 1e-13) coefficients, ignored\n",
      "Warning for adding constraints: zero or small (< 1e-13) coefficients, ignored\n",
      "Warning for adding constraints: zero or small (< 1e-13) coefficients, ignored\n",
      "43\n",
      "44\n",
      "Warning for adding constraints: zero or small (< 1e-13) coefficients, ignored\n",
      "45\n",
      "Warning for adding constraints: zero or small (< 1e-13) coefficients, ignored\n",
      "46\n",
      "Warning for adding constraints: zero or small (< 1e-13) coefficients, ignored\n",
      "47\n",
      "Warning for adding constraints: zero or small (< 1e-13) coefficients, ignored\n",
      "48\n",
      "Warning for adding constraints: zero or small (< 1e-13) coefficients, ignored\n",
      "49\n",
      "Warning for adding constraints: zero or small (< 1e-13) coefficients, ignored\n",
      "Warning for adding constraints: zero or small (< 1e-13) coefficients, ignored\n",
      "50\n",
      "Warning for adding constraints: zero or small (< 1e-13) coefficients, ignored\n",
      "Warning for adding constraints: zero or small (< 1e-13) coefficients, ignored\n",
      "51\n",
      "Warning for adding constraints: zero or small (< 1e-13) coefficients, ignored\n",
      "Warning for adding constraints: zero or small (< 1e-13) coefficients, ignored\n",
      "52\n",
      "Warning for adding constraints: zero or small (< 1e-13) coefficients, ignored\n",
      "53\n",
      "54\n",
      "Warning for adding constraints: zero or small (< 1e-13) coefficients, ignored\n",
      "Warning for adding constraints: zero or small (< 1e-13) coefficients, ignored\n",
      "Warning for adding constraints: zero or small (< 1e-13) coefficients, ignored\n",
      "Warning for adding constraints: zero or small (< 1e-13) coefficients, ignored\n",
      "55\n",
      "Warning for adding constraints: zero or small (< 1e-13) coefficients, ignored\n",
      "56\n",
      "Warning for adding constraints: zero or small (< 1e-13) coefficients, ignored\n",
      "Warning for adding constraints: zero or small (< 1e-13) coefficients, ignored\n",
      "57\n",
      "Warning for adding constraints: zero or small (< 1e-13) coefficients, ignored\n",
      "Warning for adding constraints: zero or small (< 1e-13) coefficients, ignored\n",
      "58\n",
      "59\n",
      "Warning for adding constraints: zero or small (< 1e-13) coefficients, ignored\n",
      "60\n",
      "Warning for adding constraints: zero or small (< 1e-13) coefficients, ignored\n",
      "61\n",
      "62\n",
      "Warning for adding constraints: zero or small (< 1e-13) coefficients, ignored\n",
      "Warning for adding constraints: zero or small (< 1e-13) coefficients, ignored\n",
      "63\n",
      "Warning for adding constraints: zero or small (< 1e-13) coefficients, ignored\n",
      "64\n",
      "Warning for adding constraints: zero or small (< 1e-13) coefficients, ignored\n",
      "Warning for adding constraints: zero or small (< 1e-13) coefficients, ignored\n",
      "65\n",
      "Warning for adding constraints: zero or small (< 1e-13) coefficients, ignored\n",
      "Warning for adding constraints: zero or small (< 1e-13) coefficients, ignored\n",
      "66\n",
      "67\n",
      "Warning for adding constraints: zero or small (< 1e-13) coefficients, ignored\n",
      "Warning for adding constraints: zero or small (< 1e-13) coefficients, ignored\n",
      "68\n",
      "Warning for adding constraints: zero or small (< 1e-13) coefficients, ignored\n",
      "69\n",
      "Warning for adding constraints: zero or small (< 1e-13) coefficients, ignored\n",
      "Warning for adding constraints: zero or small (< 1e-13) coefficients, ignored\n",
      "70\n",
      "Warning for adding constraints: zero or small (< 1e-13) coefficients, ignored\n",
      "Warning for adding constraints: zero or small (< 1e-13) coefficients, ignored\n",
      "71\n",
      "72\n",
      "73\n",
      "Warning for adding constraints: zero or small (< 1e-13) coefficients, ignored\n",
      "Warning for adding constraints: zero or small (< 1e-13) coefficients, ignored\n",
      "74\n",
      "Warning for adding constraints: zero or small (< 1e-13) coefficients, ignored\n",
      "75\n",
      "Warning for adding constraints: zero or small (< 1e-13) coefficients, ignored\n",
      "Warning for adding constraints: zero or small (< 1e-13) coefficients, ignored\n",
      "Warning for adding constraints: zero or small (< 1e-13) coefficients, ignored\n",
      "Warning for adding constraints: zero or small (< 1e-13) coefficients, ignored\n",
      "Warning for adding constraints: zero or small (< 1e-13) coefficients, ignored\n",
      "Warning for adding constraints: zero or small (< 1e-13) coefficients, ignored\n",
      "Warning for adding constraints: zero or small (< 1e-13) coefficients, ignored\n",
      "Warning for adding constraints: zero or small (< 1e-13) coefficients, ignored\n",
      "Warning for adding constraints: zero or small (< 1e-13) coefficients, ignored\n",
      "76\n",
      "Warning for adding constraints: zero or small (< 1e-13) coefficients, ignored\n",
      "77\n",
      "Warning for adding constraints: zero or small (< 1e-13) coefficients, ignored\n",
      "Warning for adding constraints: zero or small (< 1e-13) coefficients, ignored\n",
      "78\n",
      "Warning for adding constraints: zero or small (< 1e-13) coefficients, ignored\n",
      "Warning for adding constraints: zero or small (< 1e-13) coefficients, ignored\n",
      "Warning for adding constraints: zero or small (< 1e-13) coefficients, ignored\n",
      "79\n",
      "Warning for adding constraints: zero or small (< 1e-13) coefficients, ignored\n",
      "Warning for adding constraints: zero or small (< 1e-13) coefficients, ignored\n",
      "80\n",
      "Warning for adding constraints: zero or small (< 1e-13) coefficients, ignored\n",
      "Warning for adding constraints: zero or small (< 1e-13) coefficients, ignored\n",
      "Warning for adding constraints: zero or small (< 1e-13) coefficients, ignored\n",
      "Warning for adding constraints: zero or small (< 1e-13) coefficients, ignored\n",
      "Warning for adding constraints: zero or small (< 1e-13) coefficients, ignored\n",
      "81\n",
      "82\n",
      "Warning for adding constraints: zero or small (< 1e-13) coefficients, ignored\n",
      "83\n",
      "84\n",
      "85\n",
      "Warning for adding constraints: zero or small (< 1e-13) coefficients, ignored\n",
      "Warning for adding constraints: zero or small (< 1e-13) coefficients, ignored\n",
      "86\n",
      "Warning for adding constraints: zero or small (< 1e-13) coefficients, ignored\n",
      "87\n",
      "88\n",
      "Warning for adding constraints: zero or small (< 1e-13) coefficients, ignored\n",
      "89\n",
      "Warning for adding constraints: zero or small (< 1e-13) coefficients, ignored\n",
      "Warning for adding constraints: zero or small (< 1e-13) coefficients, ignored\n",
      "90\n",
      "Warning for adding constraints: zero or small (< 1e-13) coefficients, ignored\n",
      "Warning for adding constraints: zero or small (< 1e-13) coefficients, ignored\n",
      "Warning for adding constraints: zero or small (< 1e-13) coefficients, ignored\n",
      "91\n",
      "92\n",
      "Warning for adding constraints: zero or small (< 1e-13) coefficients, ignored\n",
      "Warning for adding constraints: zero or small (< 1e-13) coefficients, ignored\n",
      "93\n",
      "Warning for adding constraints: zero or small (< 1e-13) coefficients, ignored\n",
      "Warning for adding constraints: zero or small (< 1e-13) coefficients, ignored\n",
      "94\n",
      "Warning for adding constraints: zero or small (< 1e-13) coefficients, ignored\n",
      "95\n",
      "Warning for adding constraints: zero or small (< 1e-13) coefficients, ignored\n",
      "96\n",
      "Warning for adding constraints: zero or small (< 1e-13) coefficients, ignored\n",
      "97\n",
      "Warning for adding constraints: zero or small (< 1e-13) coefficients, ignored\n",
      "Warning for adding constraints: zero or small (< 1e-13) coefficients, ignored\n",
      "98\n",
      "Warning for adding constraints: zero or small (< 1e-13) coefficients, ignored\n",
      "Warning for adding constraints: zero or small (< 1e-13) coefficients, ignored\n",
      "Warning for adding constraints: zero or small (< 1e-13) coefficients, ignored\n",
      "99\n",
      "Warning for adding constraints: zero or small (< 1e-13) coefficients, ignored\n",
      "Warning for adding constraints: zero or small (< 1e-13) coefficients, ignored\n",
      "100\n",
      "Warning for adding constraints: zero or small (< 1e-13) coefficients, ignored\n",
      "101\n",
      "Warning for adding constraints: zero or small (< 1e-13) coefficients, ignored\n",
      "Warning for adding constraints: zero or small (< 1e-13) coefficients, ignored\n",
      "Warning for adding constraints: zero or small (< 1e-13) coefficients, ignored\n",
      "102\n",
      "Warning for adding constraints: zero or small (< 1e-13) coefficients, ignored\n",
      "103\n",
      "Warning for adding constraints: zero or small (< 1e-13) coefficients, ignored\n",
      "Warning for adding constraints: zero or small (< 1e-13) coefficients, ignored\n",
      "Warning for adding constraints: zero or small (< 1e-13) coefficients, ignored\n",
      "104\n",
      "Warning for adding constraints: zero or small (< 1e-13) coefficients, ignored\n",
      "Warning for adding constraints: zero or small (< 1e-13) coefficients, ignored\n",
      "Warning for adding constraints: zero or small (< 1e-13) coefficients, ignored\n",
      "Warning for adding constraints: zero or small (< 1e-13) coefficients, ignored\n",
      "105\n",
      "Warning for adding constraints: zero or small (< 1e-13) coefficients, ignored\n",
      "Warning for adding constraints: zero or small (< 1e-13) coefficients, ignored\n",
      "Warning for adding constraints: zero or small (< 1e-13) coefficients, ignored\n",
      "106\n",
      "Warning for adding constraints: zero or small (< 1e-13) coefficients, ignored\n",
      "107\n",
      "Warning for adding constraints: zero or small (< 1e-13) coefficients, ignored\n",
      "Warning for adding constraints: zero or small (< 1e-13) coefficients, ignored\n",
      "Warning for adding constraints: zero or small (< 1e-13) coefficients, ignored\n",
      "108\n",
      "Warning for adding constraints: zero or small (< 1e-13) coefficients, ignored\n",
      "Warning for adding constraints: zero or small (< 1e-13) coefficients, ignored\n",
      "Warning for adding constraints: zero or small (< 1e-13) coefficients, ignored\n",
      "109\n",
      "Warning for adding constraints: zero or small (< 1e-13) coefficients, ignored\n",
      "Warning for adding constraints: zero or small (< 1e-13) coefficients, ignored\n",
      "110\n",
      "Warning for adding constraints: zero or small (< 1e-13) coefficients, ignored\n",
      "Warning for adding constraints: zero or small (< 1e-13) coefficients, ignored\n",
      "111\n",
      "Warning for adding constraints: zero or small (< 1e-13) coefficients, ignored\n",
      "112\n",
      "Warning for adding constraints: zero or small (< 1e-13) coefficients, ignored\n",
      "Warning for adding constraints: zero or small (< 1e-13) coefficients, ignored\n",
      "Warning for adding constraints: zero or small (< 1e-13) coefficients, ignored\n",
      "113\n",
      "Warning for adding constraints: zero or small (< 1e-13) coefficients, ignored\n",
      "114\n",
      "Warning for adding constraints: zero or small (< 1e-13) coefficients, ignored\n",
      "115\n",
      "Warning for adding constraints: zero or small (< 1e-13) coefficients, ignored\n",
      "Warning for adding constraints: zero or small (< 1e-13) coefficients, ignored\n",
      "Warning for adding constraints: zero or small (< 1e-13) coefficients, ignored\n",
      "Warning for adding constraints: zero or small (< 1e-13) coefficients, ignored\n",
      "Warning for adding constraints: zero or small (< 1e-13) coefficients, ignored\n",
      "Warning for adding constraints: zero or small (< 1e-13) coefficients, ignored\n",
      "Warning for adding constraints: zero or small (< 1e-13) coefficients, ignored\n",
      "116\n",
      "Warning for adding constraints: zero or small (< 1e-13) coefficients, ignored\n",
      "117\n",
      "Warning for adding constraints: zero or small (< 1e-13) coefficients, ignored\n",
      "118\n",
      "Warning for adding constraints: zero or small (< 1e-13) coefficients, ignored\n",
      "Warning for adding constraints: zero or small (< 1e-13) coefficients, ignored\n",
      "Warning for adding constraints: zero or small (< 1e-13) coefficients, ignored\n",
      "Warning for adding constraints: zero or small (< 1e-13) coefficients, ignored\n",
      "119\n",
      "Warning for adding constraints: zero or small (< 1e-13) coefficients, ignored\n",
      "Warning for adding constraints: zero or small (< 1e-13) coefficients, ignored\n",
      "Warning for adding constraints: zero or small (< 1e-13) coefficients, ignored\n",
      "120\n",
      "Warning for adding constraints: zero or small (< 1e-13) coefficients, ignored\n",
      "Warning for adding constraints: zero or small (< 1e-13) coefficients, ignored\n",
      "Warning for adding constraints: zero or small (< 1e-13) coefficients, ignored\n",
      "121\n",
      "122\n",
      "Warning for adding constraints: zero or small (< 1e-13) coefficients, ignored\n",
      "123\n",
      "Warning for adding constraints: zero or small (< 1e-13) coefficients, ignored\n",
      "124\n",
      "Warning for adding constraints: zero or small (< 1e-13) coefficients, ignored\n",
      "Warning for adding constraints: zero or small (< 1e-13) coefficients, ignored\n",
      "125\n",
      "Warning for adding constraints: zero or small (< 1e-13) coefficients, ignored\n",
      "126\n",
      "Warning for adding constraints: zero or small (< 1e-13) coefficients, ignored\n",
      "127\n",
      "Warning for adding constraints: zero or small (< 1e-13) coefficients, ignored\n",
      "Warning for adding constraints: zero or small (< 1e-13) coefficients, ignored\n",
      "Warning for adding constraints: zero or small (< 1e-13) coefficients, ignored\n",
      "128\n",
      "Warning for adding constraints: zero or small (< 1e-13) coefficients, ignored\n",
      "129\n",
      "Warning for adding constraints: zero or small (< 1e-13) coefficients, ignored\n",
      "Warning for adding constraints: zero or small (< 1e-13) coefficients, ignored\n",
      "Warning for adding constraints: zero or small (< 1e-13) coefficients, ignored\n",
      "Warning for adding constraints: zero or small (< 1e-13) coefficients, ignored\n",
      "130\n",
      "Warning for adding constraints: zero or small (< 1e-13) coefficients, ignored\n",
      "Warning for adding constraints: zero or small (< 1e-13) coefficients, ignored\n",
      "131\n",
      "Warning for adding constraints: zero or small (< 1e-13) coefficients, ignored\n",
      "Warning for adding constraints: zero or small (< 1e-13) coefficients, ignored\n",
      "132\n",
      "Warning for adding constraints: zero or small (< 1e-13) coefficients, ignored\n",
      "Warning for adding constraints: zero or small (< 1e-13) coefficients, ignored\n",
      "Warning for adding constraints: zero or small (< 1e-13) coefficients, ignored\n",
      "133\n",
      "Warning for adding constraints: zero or small (< 1e-13) coefficients, ignored\n",
      "134\n",
      "Warning for adding constraints: zero or small (< 1e-13) coefficients, ignored\n",
      "135\n",
      "Warning for adding constraints: zero or small (< 1e-13) coefficients, ignored\n",
      "Warning for adding constraints: zero or small (< 1e-13) coefficients, ignored\n",
      "Warning for adding constraints: zero or small (< 1e-13) coefficients, ignored\n",
      "Warning for adding constraints: zero or small (< 1e-13) coefficients, ignored\n",
      "136\n",
      "Warning for adding constraints: zero or small (< 1e-13) coefficients, ignored\n",
      "Warning for adding constraints: zero or small (< 1e-13) coefficients, ignored\n",
      "Warning for adding constraints: zero or small (< 1e-13) coefficients, ignored\n",
      "Warning for adding constraints: zero or small (< 1e-13) coefficients, ignored\n",
      "137\n",
      "Warning for adding constraints: zero or small (< 1e-13) coefficients, ignored\n",
      "Warning for adding constraints: zero or small (< 1e-13) coefficients, ignored\n",
      "138\n",
      "Warning for adding constraints: zero or small (< 1e-13) coefficients, ignored\n",
      "139\n",
      "Warning for adding constraints: zero or small (< 1e-13) coefficients, ignored\n",
      "140\n",
      "141\n",
      "Warning for adding constraints: zero or small (< 1e-13) coefficients, ignored\n",
      "Warning for adding constraints: zero or small (< 1e-13) coefficients, ignored\n",
      "Warning for adding constraints: zero or small (< 1e-13) coefficients, ignored\n",
      "Warning for adding constraints: zero or small (< 1e-13) coefficients, ignored\n",
      "142\n",
      "Warning for adding constraints: zero or small (< 1e-13) coefficients, ignored\n",
      "Warning for adding constraints: zero or small (< 1e-13) coefficients, ignored\n",
      "Warning for adding constraints: zero or small (< 1e-13) coefficients, ignored\n",
      "Warning for adding constraints: zero or small (< 1e-13) coefficients, ignored\n",
      "Warning for adding constraints: zero or small (< 1e-13) coefficients, ignored\n",
      "143\n",
      "Warning for adding constraints: zero or small (< 1e-13) coefficients, ignored\n",
      "Warning for adding constraints: zero or small (< 1e-13) coefficients, ignored\n",
      "Warning for adding constraints: zero or small (< 1e-13) coefficients, ignored\n",
      "144\n",
      "Warning for adding constraints: zero or small (< 1e-13) coefficients, ignored\n",
      "145\n",
      "Warning for adding constraints: zero or small (< 1e-13) coefficients, ignored\n",
      "146\n",
      "147\n",
      "Warning for adding constraints: zero or small (< 1e-13) coefficients, ignored\n",
      "148\n",
      "Warning for adding constraints: zero or small (< 1e-13) coefficients, ignored\n",
      "149\n",
      "Warning for adding constraints: zero or small (< 1e-13) coefficients, ignored\n",
      "150\n",
      "Warning for adding constraints: zero or small (< 1e-13) coefficients, ignored\n",
      "Warning for adding constraints: zero or small (< 1e-13) coefficients, ignored\n",
      "Warning for adding constraints: zero or small (< 1e-13) coefficients, ignored\n",
      "151\n",
      "Warning for adding constraints: zero or small (< 1e-13) coefficients, ignored\n",
      "Warning for adding constraints: zero or small (< 1e-13) coefficients, ignored\n",
      "152\n",
      "Warning for adding constraints: zero or small (< 1e-13) coefficients, ignored\n",
      "Warning for adding constraints: zero or small (< 1e-13) coefficients, ignored\n",
      "Warning for adding constraints: zero or small (< 1e-13) coefficients, ignored\n",
      "153\n",
      "Warning for adding constraints: zero or small (< 1e-13) coefficients, ignored\n",
      "154\n",
      "Warning for adding constraints: zero or small (< 1e-13) coefficients, ignored\n",
      "Warning for adding constraints: zero or small (< 1e-13) coefficients, ignored\n",
      "Warning for adding constraints: zero or small (< 1e-13) coefficients, ignored\n",
      "155\n",
      "Warning for adding constraints: zero or small (< 1e-13) coefficients, ignored\n",
      "Warning for adding constraints: zero or small (< 1e-13) coefficients, ignored\n",
      "156\n",
      "Warning for adding constraints: zero or small (< 1e-13) coefficients, ignored\n",
      "157\n",
      "158\n",
      "Warning for adding constraints: zero or small (< 1e-13) coefficients, ignored\n",
      "Warning for adding constraints: zero or small (< 1e-13) coefficients, ignored\n",
      "159\n",
      "Warning for adding constraints: zero or small (< 1e-13) coefficients, ignored\n",
      "Warning for adding constraints: zero or small (< 1e-13) coefficients, ignored\n",
      "Warning for adding constraints: zero or small (< 1e-13) coefficients, ignored\n",
      "Warning for adding constraints: zero or small (< 1e-13) coefficients, ignored\n",
      "160\n",
      "Warning for adding constraints: zero or small (< 1e-13) coefficients, ignored\n",
      "161\n",
      "162\n",
      "Warning for adding constraints: zero or small (< 1e-13) coefficients, ignored\n",
      "163\n",
      "164\n",
      "Warning for adding constraints: zero or small (< 1e-13) coefficients, ignored\n",
      "165\n"
     ]
    },
    {
     "ename": "KeyboardInterrupt",
     "evalue": "",
     "output_type": "error",
     "traceback": [
      "\u001b[0;31m---------------------------------------------------------------------------\u001b[0m",
      "\u001b[0;31mKeyboardInterrupt\u001b[0m                         Traceback (most recent call last)",
      "\u001b[1;32m/Users/enzo-macmini/auction_alg_ITU/cooperative_auction_ITU.ipynb Cell 61\u001b[0m line \u001b[0;36m6\n\u001b[1;32m      <a href='vscode-notebook-cell:/Users/enzo-macmini/auction_alg_ITU/cooperative_auction_ITU.ipynb#Y102sZmlsZQ%3D%3D?line=3'>4</a>\u001b[0m m_small \u001b[39m=\u001b[39m \u001b[39m25\u001b[39m\n\u001b[1;32m      <a href='vscode-notebook-cell:/Users/enzo-macmini/auction_alg_ITU/cooperative_auction_ITU.ipynb#Y102sZmlsZQ%3D%3D?line=4'>5</a>\u001b[0m example_simul \u001b[39m=\u001b[39m OneToOneITU( n \u001b[39m=\u001b[39m n_small,m \u001b[39m=\u001b[39m m_small, size_params\u001b[39m=\u001b[39m (\u001b[39m3\u001b[39m,\u001b[39m25\u001b[39m) , random_seed\u001b[39m=\u001b[39m \u001b[39miter\u001b[39m, lbs \u001b[39m=\u001b[39m(\u001b[39m0\u001b[39m,\u001b[39m0\u001b[39m), tol \u001b[39m=\u001b[39m \u001b[39m0\u001b[39m)\n\u001b[0;32m----> <a href='vscode-notebook-cell:/Users/enzo-macmini/auction_alg_ITU/cooperative_auction_ITU.ipynb#Y102sZmlsZQ%3D%3D?line=5'>6</a>\u001b[0m mu_sim , U_sim,  V_sim  \u001b[39m=\u001b[39m example_simul\u001b[39m.\u001b[39;49mcoop_ITU_auction()\n\u001b[1;32m      <a href='vscode-notebook-cell:/Users/enzo-macmini/auction_alg_ITU/cooperative_auction_ITU.ipynb#Y102sZmlsZQ%3D%3D?line=8'>9</a>\u001b[0m feas_dual \u001b[39m=\u001b[39m example_simul\u001b[39m.\u001b[39m check_dual_feas(U_sim,V_sim, output \u001b[39m=\u001b[39m \u001b[39mTrue\u001b[39;00m)[\u001b[39m0\u001b[39m]\u001b[39m.\u001b[39msum() \n\u001b[1;32m     <a href='vscode-notebook-cell:/Users/enzo-macmini/auction_alg_ITU/cooperative_auction_ITU.ipynb#Y102sZmlsZQ%3D%3D?line=9'>10</a>\u001b[0m CS \u001b[39m=\u001b[39m example_simul\u001b[39m.\u001b[39mcheck_primal_CS(U_sim, V_sim, mu_sim, output\u001b[39m=\u001b[39m \u001b[39mTrue\u001b[39;00m)\u001b[39m.\u001b[39msum()\n",
      "\u001b[1;32m/Users/enzo-macmini/auction_alg_ITU/cooperative_auction_ITU.ipynb Cell 61\u001b[0m line \u001b[0;36m4\n\u001b[1;32m     <a href='vscode-notebook-cell:/Users/enzo-macmini/auction_alg_ITU/cooperative_auction_ITU.ipynb#Y102sZmlsZQ%3D%3D?line=39'>40</a>\u001b[0m j_low \u001b[39m=\u001b[39m min_off \u001b[39m==\u001b[39m min_overall\n\u001b[1;32m     <a href='vscode-notebook-cell:/Users/enzo-macmini/auction_alg_ITU/cooperative_auction_ITU.ipynb#Y102sZmlsZQ%3D%3D?line=42'>43</a>\u001b[0m \u001b[39m#V_j[~B] += np.min(d[B_with_out])\u001b[39;00m\n\u001b[0;32m---> <a href='vscode-notebook-cell:/Users/enzo-macmini/auction_alg_ITU/cooperative_auction_ITU.ipynb#Y102sZmlsZQ%3D%3D?line=43'>44</a>\u001b[0m pi_ij, V_j, \u001b[39miter\u001b[39m \u001b[39m=\u001b[39m \u001b[39mself\u001b[39;49m\u001b[39m.\u001b[39;49minterim_auction(C_i, \u001b[39m~\u001b[39;49mB, \u001b[39m~\u001b[39;49mB, min_overall,V_j )\n\u001b[1;32m     <a href='vscode-notebook-cell:/Users/enzo-macmini/auction_alg_ITU/cooperative_auction_ITU.ipynb#Y102sZmlsZQ%3D%3D?line=49'>50</a>\u001b[0m mu_ij[C_i,:] \u001b[39m=\u001b[39m pi_ij[:,:\u001b[39m-\u001b[39m\u001b[39m1\u001b[39m]\n\u001b[1;32m     <a href='vscode-notebook-cell:/Users/enzo-macmini/auction_alg_ITU/cooperative_auction_ITU.ipynb#Y102sZmlsZQ%3D%3D?line=50'>51</a>\u001b[0m perm_unassigned[C_i] \u001b[39m=\u001b[39m pi_ij[:,\u001b[39m-\u001b[39m\u001b[39m1\u001b[39m]\n",
      "\u001b[1;32m/Users/enzo-macmini/auction_alg_ITU/cooperative_auction_ITU.ipynb Cell 61\u001b[0m line \u001b[0;36m6\n\u001b[1;32m     <a href='vscode-notebook-cell:/Users/enzo-macmini/auction_alg_ITU/cooperative_auction_ITU.ipynb#Y102sZmlsZQ%3D%3D?line=55'>56</a>\u001b[0m offers \u001b[39m=\u001b[39m ((π_i \u001b[39m-\u001b[39m w_i)[:,\u001b[39mNone\u001b[39;00m]\u001b[39m/\u001b[39m \u001b[39mself\u001b[39m\u001b[39m.\u001b[39mA_ij[C,:] ) \u001b[39m*\u001b[39m ij_optimal[:,:\u001b[39m-\u001b[39m\u001b[39m1\u001b[39m]\n\u001b[1;32m     <a href='vscode-notebook-cell:/Users/enzo-macmini/auction_alg_ITU/cooperative_auction_ITU.ipynb#Y102sZmlsZQ%3D%3D?line=57'>58</a>\u001b[0m \u001b[39m#print(offers.round(1))\u001b[39;00m\n\u001b[1;32m     <a href='vscode-notebook-cell:/Users/enzo-macmini/auction_alg_ITU/cooperative_auction_ITU.ipynb#Y102sZmlsZQ%3D%3D?line=58'>59</a>\u001b[0m \u001b[39m#print(w_i)\u001b[39;00m\n\u001b[0;32m---> <a href='vscode-notebook-cell:/Users/enzo-macmini/auction_alg_ITU/cooperative_auction_ITU.ipynb#Y102sZmlsZQ%3D%3D?line=61'>62</a>\u001b[0m free_i \u001b[39m=\u001b[39m np\u001b[39m.\u001b[39mones(C\u001b[39m.\u001b[39;49msum(), dtype\u001b[39m=\u001b[39m \u001b[39mbool\u001b[39m) \n\u001b[1;32m     <a href='vscode-notebook-cell:/Users/enzo-macmini/auction_alg_ITU/cooperative_auction_ITU.ipynb#Y102sZmlsZQ%3D%3D?line=62'>63</a>\u001b[0m \u001b[39mfor\u001b[39;00m j \u001b[39min\u001b[39;00m np\u001b[39m.\u001b[39mwhere(O \u001b[39m>\u001b[39m \u001b[39m0\u001b[39m)[\u001b[39m0\u001b[39m]:\n\u001b[1;32m     <a href='vscode-notebook-cell:/Users/enzo-macmini/auction_alg_ITU/cooperative_auction_ITU.ipynb#Y102sZmlsZQ%3D%3D?line=63'>64</a>\u001b[0m     \u001b[39mif\u001b[39;00m np\u001b[39m.\u001b[39many(ij_optimal[:,j]\u001b[39m>\u001b[39m\u001b[39m0\u001b[39m) \u001b[39mand\u001b[39;00m \u001b[39mlen\u001b[39m(offers[:,j][free_i])\u001b[39m>\u001b[39m\u001b[39m0\u001b[39m:\n",
      "File \u001b[0;32m/Library/Frameworks/Python.framework/Versions/3.12/lib/python3.12/site-packages/numpy/core/_methods.py:47\u001b[0m, in \u001b[0;36m_sum\u001b[0;34m(a, axis, dtype, out, keepdims, initial, where)\u001b[0m\n\u001b[1;32m     43\u001b[0m \u001b[39mdef\u001b[39;00m \u001b[39m_amin\u001b[39m(a, axis\u001b[39m=\u001b[39m\u001b[39mNone\u001b[39;00m, out\u001b[39m=\u001b[39m\u001b[39mNone\u001b[39;00m, keepdims\u001b[39m=\u001b[39m\u001b[39mFalse\u001b[39;00m,\n\u001b[1;32m     44\u001b[0m           initial\u001b[39m=\u001b[39m_NoValue, where\u001b[39m=\u001b[39m\u001b[39mTrue\u001b[39;00m):\n\u001b[1;32m     45\u001b[0m     \u001b[39mreturn\u001b[39;00m umr_minimum(a, axis, \u001b[39mNone\u001b[39;00m, out, keepdims, initial, where)\n\u001b[0;32m---> 47\u001b[0m \u001b[39mdef\u001b[39;00m \u001b[39m_sum\u001b[39m(a, axis\u001b[39m=\u001b[39m\u001b[39mNone\u001b[39;00m, dtype\u001b[39m=\u001b[39m\u001b[39mNone\u001b[39;00m, out\u001b[39m=\u001b[39m\u001b[39mNone\u001b[39;00m, keepdims\u001b[39m=\u001b[39m\u001b[39mFalse\u001b[39;00m,\n\u001b[1;32m     48\u001b[0m          initial\u001b[39m=\u001b[39m_NoValue, where\u001b[39m=\u001b[39m\u001b[39mTrue\u001b[39;00m):\n\u001b[1;32m     49\u001b[0m     \u001b[39mreturn\u001b[39;00m umr_sum(a, axis, dtype, out, keepdims, initial, where)\n\u001b[1;32m     51\u001b[0m \u001b[39mdef\u001b[39;00m \u001b[39m_prod\u001b[39m(a, axis\u001b[39m=\u001b[39m\u001b[39mNone\u001b[39;00m, dtype\u001b[39m=\u001b[39m\u001b[39mNone\u001b[39;00m, out\u001b[39m=\u001b[39m\u001b[39mNone\u001b[39;00m, keepdims\u001b[39m=\u001b[39m\u001b[39mFalse\u001b[39;00m,\n\u001b[1;32m     52\u001b[0m           initial\u001b[39m=\u001b[39m_NoValue, where\u001b[39m=\u001b[39m\u001b[39mTrue\u001b[39;00m):\n",
      "\u001b[0;31mKeyboardInterrupt\u001b[0m: "
     ]
    }
   ],
   "source": [
    "for iter in range(100000):\n",
    "    print(iter)\n",
    "    n_small = 25\n",
    "    m_small = 25\n",
    "    example_simul = OneToOneITU( n = n_small,m = m_small, size_params= (3,25) , random_seed= iter, lbs =(0,0), tol = 0)\n",
    "    mu_sim , U_sim,  V_sim  = example_simul.coop_ITU_auction()\n",
    "    \n",
    "\n",
    "    feas_dual = example_simul. check_dual_feas(U_sim,V_sim, output = True)[0].sum() \n",
    "    CS = example_simul.check_primal_CS(U_sim, V_sim, mu_sim, output= True).sum()\n",
    "    IR = ((mu_sim.sum(0) == 0) * ( V_sim - example_simul.lb_V)).sum()   \n",
    "    IR_i = ((mu_sim.sum(1) == 0) * ( U_sim - example_simul.lb_U)).sum() \n",
    "    feas = np.all(mu_sim.sum(0)<=1) * np.all(mu_sim.sum(1)<=1)\n",
    "\n",
    "    if CS != 0 or IR != 0 or ~feas or feas_dual > 1e-15 or IR_i != 0:\n",
    "\n",
    "\n",
    "        print(\"porcaccio\")\n",
    "        print(IR)\n",
    "        print(CS)\n",
    "        print(feas_dual)\n",
    "        print(f\"iter{iter}\")\n",
    "        break\n"
   ]
  },
  {
   "cell_type": "code",
   "execution_count": 954,
   "metadata": {},
   "outputs": [
    {
     "data": {
      "text/plain": [
       "array([[ 0.67, -1.  , -3.  , -2.  , -0.75],\n",
       "       [ 0.67, -1.  , -2.  , -2.  ,  0.25],\n",
       "       [-0.33, -1.  , -2.  , -3.  ,  0.25],\n",
       "       [ 0.67, -1.  , -2.  , -3.  ,  0.25],\n",
       "       [-0.33, -1.  , -2.  , -3.  , -0.75]])"
      ]
     },
     "execution_count": 954,
     "metadata": {},
     "output_type": "execute_result"
    }
   ],
   "source": [
    "example_small.get_U_ij(V_ex, np.arange(example_simul.n)).round(2)"
   ]
  },
  {
   "cell_type": "code",
   "execution_count": 955,
   "metadata": {},
   "outputs": [
    {
     "data": {
      "text/plain": [
       "array([[0., 1., 0., 0., 0.],\n",
       "       [0., 0., 1., 0., 0.],\n",
       "       [0., 0., 0., 0., 1.],\n",
       "       [0., 0., 0., 1., 0.],\n",
       "       [0., 0., 0., 0., 0.]])"
      ]
     },
     "execution_count": 955,
     "metadata": {},
     "output_type": "execute_result"
    }
   ],
   "source": [
    "mu_ex"
   ]
  },
  {
   "cell_type": "code",
   "execution_count": null,
   "metadata": {},
   "outputs": [],
   "source": []
  }
 ],
 "metadata": {
  "kernelspec": {
   "display_name": "Python 3",
   "language": "python",
   "name": "python3"
  },
  "language_info": {
   "codemirror_mode": {
    "name": "ipython",
    "version": 3
   },
   "file_extension": ".py",
   "mimetype": "text/x-python",
   "name": "python",
   "nbconvert_exporter": "python",
   "pygments_lexer": "ipython3",
   "version": "3.12.0"
  }
 },
 "nbformat": 4,
 "nbformat_minor": 2
}
