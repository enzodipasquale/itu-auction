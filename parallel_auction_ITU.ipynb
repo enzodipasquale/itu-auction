{
 "cells": [
  {
   "cell_type": "code",
   "execution_count": 1,
   "metadata": {},
   "outputs": [],
   "source": [
    "import gurobipy as grb\n",
    "from gurobipy import GRB\n",
    "import scipy.sparse as spr\n",
    "import numpy as np\n",
    "import random\n",
    "import matplotlib.pyplot as plt\n",
    "#from sympy import symbols, Rational\n",
    "from IPython.display import display, Math, Markdown\n",
    "import numpy.ma as ma\n"
   ]
  },
  {
   "cell_type": "code",
   "execution_count": 2,
   "metadata": {},
   "outputs": [],
   "source": [
    "class OneToOneITU():\n",
    "    def __init__(self, n, m, size_params, random_seed, lbs=(1, 1), tol=1e-9):\n",
    "        self.n = n\n",
    "        self.m = m\n",
    "        self.lb_U, self.lb_V = lbs\n",
    "        self.tol = tol \n",
    "\n",
    "        # generate problem\n",
    "        np.random.seed(random_seed)\n",
    "        self.A_ij = np.random.randint(1, size_params[0], size=[n, m])/  np.random.randint(1, size_params[0], size=[n, m])\n",
    "        # values_A = np.array([1,2,4,5,8,10,16,20])\n",
    "        # self.A_ij = np.random.choice(values_A[size_params[0]],size= [n,m])\n",
    "        self.B_ij = np.random.randint(0, size_params[1], size=[n, m])\n",
    "\n",
    "    def D_ij(self, U_i, V_j):\n",
    "        return U_i[:, None] + self.A_ij * V_j[None, :] - self.B_ij\n",
    "\n",
    "    def get_U_ij(self, V_j, i_idx ,j_idx = None):\n",
    "        if j_idx is None:\n",
    "            return self.B_ij[i_idx] - self.A_ij[i_idx] * V_j[None, :]\n",
    "        else:\n",
    "            return self.B_ij[i_idx,j_idx] - self.A_ij[i_idx,j_idx] * V_j[None, j_idx]\n",
    "\n",
    "    def get_V_ij(self,i_idx, j_idx , U_i):\n",
    "        return (self.B_ij[i_idx,j_idx] -  U_i)/ self.A_ij[i_idx,j_idx]"
   ]
  },
  {
   "cell_type": "markdown",
   "metadata": {},
   "source": []
  },
  {
   "cell_type": "markdown",
   "metadata": {},
   "source": [
    "#### Checking modules"
   ]
  },
  {
   "cell_type": "markdown",
   "metadata": {},
   "source": [
    "**Dual Complementary Slackness**: $\\forall i,j, \\ U_i > U_{0} \\implies \\sum_j \\mu_{ij} = 0, \\ V_j > V_{0} \\implies \\sum_i \\mu_{ij} = 0$"
   ]
  },
  {
   "cell_type": "code",
   "execution_count": 3,
   "metadata": {},
   "outputs": [],
   "source": [
    "def check_dual_CS(self,U_i,V_j,mu_ij, output = False):\n",
    "\n",
    "    D_CS_i = np.sum((U_i - self.lb_U)* (np.sum(mu_ij,axis=1) - 1))\n",
    "    D_CS_j = np.sum((V_j - self.lb_V) * (np.sum(mu_ij,axis=0) - 1)) \n",
    "    display(Math(fr'\\sum_{{i}} (U_{{i}} - U_{{lb}} ) * (\\sum_{{j}} \\mu_{{ij}} -1) = {D_CS_i}'))\n",
    "    display(Math(fr'\\sum_{{j}} (V_{{j}} - V_{{lb}} ) * (\\sum_{{i}} \\mu_{{ij}} -1) = {D_CS_j}'))\n",
    "    \n",
    "    if output is True:\n",
    "        D_CS_i_bool = (U_i - self.lb_U)* (np.sum(mu_ij,axis=1) - 1) >= 0 \n",
    "        D_CS_j_bool = (V_j - self.lb_V) * (np.sum(mu_ij,axis=0) - 1) >= 0\n",
    "        return D_CS_i_bool, D_CS_j_bool\n",
    "    \n",
    "OneToOneITU.check_dual_CS = check_dual_CS"
   ]
  },
  {
   "cell_type": "markdown",
   "metadata": {},
   "source": [
    "**Dual Feasibility**:  $\\forall i,j,  \\ A_{ij} U_i + G_{ij} V_j \\geq B_{ij},$"
   ]
  },
  {
   "cell_type": "code",
   "execution_count": 4,
   "metadata": {},
   "outputs": [],
   "source": [
    "def check_dual_feas(self,U_i,V_j, output = None):\n",
    " \n",
    "    D_feas = np.minimum(self.D_ij(U_i,V_j),0)\n",
    "    if output:\n",
    "        return D_feas, np.where(D_feas<0 )\n",
    "    display(Math(fr'\\min_{{ij}} \\min( A_{{ij}} U_i + G_{{ij}} V_j -  B_{{ij}} , 0)  = {D_feas.min()}'))\n",
    "    \n",
    "   \n",
    "OneToOneITU.check_dual_feas = check_dual_feas "
   ]
  },
  {
   "cell_type": "markdown",
   "metadata": {},
   "source": [
    "**Primal Complementary Slackness**:  $\\forall i,j, \\  \\mu_{ij} * (A_{ij} U_i + G_{ij} V_j - B_{ij}) = 0 $"
   ]
  },
  {
   "cell_type": "code",
   "execution_count": 5,
   "metadata": {},
   "outputs": [],
   "source": [
    "def check_primal_CS(self, U_i,V_j,mu_ij, output = None):\n",
    "\n",
    "    P_CS_ij = self.D_ij(U_i,V_j) * mu_ij\n",
    "    \n",
    "    if output:\n",
    "        return P_CS_ij\n",
    "    else:\n",
    "        display(Math(fr'\\sum_{{ij}} \\mu_{{ij}} * (A_{{ij}} U_i + G_{{ij}} V_j - B_{{ij}}) = {P_CS_ij.sum()}'))\n",
    "\n",
    "OneToOneITU.check_primal_CS = check_primal_CS"
   ]
  },
  {
   "cell_type": "markdown",
   "metadata": {},
   "source": [
    "**Primal Feasibility**:  $\\forall i,j, \\  \\sum_j  \\mu_{ij} \\leq 1, \\ \\sum_i  \\mu_{ij} \\leq 1$"
   ]
  },
  {
   "cell_type": "code",
   "execution_count": 6,
   "metadata": {},
   "outputs": [],
   "source": [
    "def check_primal_feas(self, mu_ij):\n",
    "\n",
    "    display(Math(fr'\\forall i, \\ \\sum_{{j}}  \\mu_{{ij}} \\leq 1: \\ { np.all(np.sum(mu_ij,axis=1) <= np.ones(self.n))}'))\n",
    "    display(Math(fr'\\forall j, \\ \\sum_{{i}}  \\mu_{{ij}} \\leq 1: \\ {np.all(np.sum(mu_ij,axis=0) <= np.ones(self.m)) }'))\n",
    "    display(Markdown(f\"#matched: {int(np.sum(mu_ij))} over {np.minimum(self.n,self.m)}\"))\n",
    "\n",
    "OneToOneITU.check_primal_feas = check_primal_feas"
   ]
  },
  {
   "cell_type": "code",
   "execution_count": 7,
   "metadata": {},
   "outputs": [],
   "source": [
    "def check_IR(self, U_i,V_j):\n",
    "    display(Math(fr'\\min_{{i}} U_{{i}} = {np.min(U_i).round(3)} \\geq {self.lb_U} = U_{{lb}}'))\n",
    "    display(Math(fr'\\min_{{j}} V_{{j}} = {np.min(V_j).round(3)} \\geq  {self.lb_V} = V_{{lb}}'))\n",
    "\n",
    "OneToOneITU.check_IR = check_IR"
   ]
  },
  {
   "cell_type": "markdown",
   "metadata": {},
   "source": [
    "The following checks all conditions and prints the results"
   ]
  },
  {
   "cell_type": "code",
   "execution_count": 8,
   "metadata": {},
   "outputs": [],
   "source": [
    "def check_all(self,eq):\n",
    "    mu_ij, U_i, V_j = eq \n",
    "    header_size = 1\n",
    "\n",
    "    display(Markdown(f\"{'_' * 4}\\n<h{header_size}>Feasibility</h{header_size}>\"))\n",
    "    self.check_primal_feas(mu_ij)\n",
    "\n",
    "    display(Markdown(f\"{'_' * 4}\\n<h{header_size}>Generalized Complementary Slackness</h{header_size}>\"))\n",
    "    self.check_dual_feas(U_i, V_j )\n",
    "    self.check_primal_CS(U_i, V_j , mu_ij)\n",
    "    \n",
    "    display(Markdown(f\"{'_' * 4}\\n<h{header_size}>Individual Rationality</h{header_size}>\"))\n",
    "    self.check_IR(U_i, V_j )\n",
    "    self.check_dual_CS(U_i, V_j , mu_ij)\n",
    "\n",
    "OneToOneITU.check_all = check_all"
   ]
  },
  {
   "cell_type": "markdown",
   "metadata": {},
   "source": [
    "# Auction algorithms"
   ]
  },
  {
   "cell_type": "markdown",
   "metadata": {},
   "source": [
    "### Algorithm"
   ]
  },
  {
   "cell_type": "code",
   "execution_count": 9,
   "metadata": {},
   "outputs": [],
   "source": [
    "def ITU_auction(self, tol):\n",
    "\n",
    "    V_j = np.ones(self.m) * self.lb_V\n",
    "    mu_ij = np.zeros([self.n,self.m+1], dtype= bool)\n",
    "\n",
    "    unassigned = mu_ij.sum(1) == 0\n",
    "    n_unassigned = unassigned.sum()\n",
    "    iter = 0\n",
    "\n",
    "    while n_unassigned > 0:\n",
    "        \n",
    "        i = int(np.argmax(unassigned))\n",
    "      \n",
    "        U_ij = self.get_U_ij(V_j,i)[0]\n",
    "        if np.all(U_ij <= self.lb_U):\n",
    "            mu_ij[i,-1] = 1\n",
    "        \n",
    "        else:\n",
    "            U_ij = np.concatenate((U_ij, [self.lb_U]))\n",
    "            U_ij_sorted_id = np.argsort(U_ij)\n",
    "            j_i = U_ij_sorted_id[-1]\n",
    "            w_i = U_ij[U_ij_sorted_id[-2] ]\n",
    "\n",
    "            mu_ij[:,j_i] = 0\n",
    "            mu_ij[i,j_i] = 1\n",
    "            V_j[j_i] += np.maximum(self.get_V_ij(i,j_i, w_i) - V_j[j_i], tol)\n",
    "\n",
    "        unassigned = mu_ij.sum(1) == 0\n",
    "        n_unassigned = unassigned.sum()\n",
    "        iter += 1\n",
    "   \n",
    "    id_i , id_j  =  np.where(mu_ij[:,:-1] == 1)\n",
    "    \n",
    "    U_i = np.ones(self.n) * self.lb_U\n",
    "    U_i[id_i] = self.get_U_ij(V_j, id_i)[np.arange(len(id_i)), id_j]    \n",
    "   \n",
    "    return mu_ij, U_i, V_j\n",
    "\n",
    "\n",
    "OneToOneITU.ITU_auction = ITU_auction"
   ]
  },
  {
   "cell_type": "code",
   "execution_count": 10,
   "metadata": {},
   "outputs": [],
   "source": [
    "def ITU_parallel_auction(self, tol):\n",
    "\n",
    "    V_j = np.ones(self.m) * self.lb_V\n",
    "    mu_ij = np.ones( self.n, dtype= int) * (self.m +1)\n",
    "\n",
    "    unassigned = np.where(mu_ij == self.m + 1)[0] \n",
    "    n_unassigned = len(unassigned)\n",
    "    iter = 0\n",
    "\n",
    "    while n_unassigned > 0 and iter <500000:\n",
    "        \n",
    "        U_ij = self.get_U_ij( V_j, unassigned)\n",
    "        perm_unmatched = np.all(U_ij <= self.lb_U, axis = 1)\n",
    "\n",
    "        if np.any(perm_unmatched):\n",
    "            mu_ij[unassigned] = self.m * perm_unmatched\n",
    "        \n",
    "        else:\n",
    "    \n",
    "            U_ij = np.concatenate((U_ij, self.lb_U * np.ones((n_unassigned,1))), axis = 1)\n",
    "            U_ij_sorted_id = np.argsort(U_ij, axis = 1)\n",
    "            j_i = U_ij_sorted_id[:,-1]\n",
    "            w_i = U_ij[np.arange(n_unassigned),U_ij_sorted_id[:,-2] ]\n",
    "      \n",
    "            j_unique = np.unique(j_i)\n",
    "            offers = w_i[:,None] * ( j_i[:,None] == j_unique[None,:])  - 1e22 *  ( j_i[:,None] != j_unique[None,:]) \n",
    "            i_j_among_unass = np.argmax(offers, axis = 0)\n",
    "            i_j = unassigned[ i_j_among_unass]\n",
    "            best_offer_j = np.max(offers, axis = 0)\n",
    "            \n",
    "\n",
    "            mu_ij[  np.any( mu_ij[:,None] == j_unique , axis = 1) ] = self.m +1\n",
    "            mu_ij[i_j] = j_unique\n",
    "            V_j[j_unique] += np.maximum(self.get_V_ij(i_j,j_unique, best_offer_j) - V_j[j_unique], tol)\n",
    "       \n",
    "            \n",
    "        unassigned = np.where(mu_ij == self.m + 1)[0] #mu_ij.sum(1) == 0\n",
    "        n_unassigned = len(unassigned)\n",
    "        iter += 1\n",
    "\n",
    "    \n",
    "    matched_i =  mu_ij < self.m\n",
    "    U_i = np.ones(self.n) * self.lb_U\n",
    "    U_i[matched_i] = self.get_U_ij(V_j, matched_i)[np.arange(matched_i.sum()), mu_ij[matched_i]]\n",
    "   \n",
    "    mu_ij = mu_ij[:,None] == np.arange(self.m +1)\n",
    "\n",
    "\n",
    "    return mu_ij, U_i, V_j\n",
    "\n",
    "\n",
    "OneToOneITU.ITU_parallel_auction = ITU_parallel_auction"
   ]
  },
  {
   "cell_type": "markdown",
   "metadata": {},
   "source": [
    "## Examples\n"
   ]
  },
  {
   "cell_type": "code",
   "execution_count": 66,
   "metadata": {},
   "outputs": [],
   "source": [
    "n_small = 300\n",
    "m_small = 10\n",
    "example_small = OneToOneITU( n = n_small,m = m_small, size_params= (4,30) , random_seed= 778, lbs =(0,0), tol = 1e-10)"
   ]
  },
  {
   "cell_type": "code",
   "execution_count": 67,
   "metadata": {},
   "outputs": [],
   "source": [
    "mu_small , U_small , V_small = example_small.ITU_auction(0.001)"
   ]
  },
  {
   "cell_type": "code",
   "execution_count": 68,
   "metadata": {},
   "outputs": [],
   "source": [
    "mu_parallel , U_parallel , V_parallel = example_small.ITU_parallel_auction(.001)"
   ]
  },
  {
   "cell_type": "code",
   "execution_count": 65,
   "metadata": {},
   "outputs": [
    {
     "data": {
      "text/plain": [
       "0.0"
      ]
     },
     "execution_count": 65,
     "metadata": {},
     "output_type": "execute_result"
    }
   ],
   "source": [
    "np.min((U_small[:,None] + example_small.A_ij * V_small[None,:] - example_small.B_ij) / (1+example_small.A_ij))"
   ]
  },
  {
   "cell_type": "code",
   "execution_count": 63,
   "metadata": {},
   "outputs": [],
   "source": [
    "# print(np.sum(mu_parallel * 1 - mu_small * 1))\n",
    "# print(np.sum(U_parallel  - U_small ))\n",
    "# print(np.sum(V_parallel  - V_small ))"
   ]
  },
  {
   "cell_type": "code",
   "execution_count": 69,
   "metadata": {},
   "outputs": [
    {
     "data": {
      "text/markdown": [
       "____\n",
       "<h1>Feasibility</h1>"
      ],
      "text/plain": [
       "<IPython.core.display.Markdown object>"
      ]
     },
     "metadata": {},
     "output_type": "display_data"
    },
    {
     "data": {
      "text/latex": [
       "$\\displaystyle \\forall i, \\ \\sum_{j}  \\mu_{ij} \\leq 1: \\ True$"
      ],
      "text/plain": [
       "<IPython.core.display.Math object>"
      ]
     },
     "metadata": {},
     "output_type": "display_data"
    },
    {
     "data": {
      "text/latex": [
       "$\\displaystyle \\forall j, \\ \\sum_{i}  \\mu_{ij} \\leq 1: \\ True$"
      ],
      "text/plain": [
       "<IPython.core.display.Math object>"
      ]
     },
     "metadata": {},
     "output_type": "display_data"
    },
    {
     "data": {
      "text/markdown": [
       "#matched: 10 over 10"
      ],
      "text/plain": [
       "<IPython.core.display.Markdown object>"
      ]
     },
     "metadata": {},
     "output_type": "display_data"
    },
    {
     "data": {
      "text/markdown": [
       "____\n",
       "<h1>Generalized Complementary Slackness</h1>"
      ],
      "text/plain": [
       "<IPython.core.display.Markdown object>"
      ]
     },
     "metadata": {},
     "output_type": "display_data"
    },
    {
     "data": {
      "text/latex": [
       "$\\displaystyle \\min_{ij} \\min( A_{ij} U_i + G_{ij} V_j -  B_{ij} , 0)  = 0.0$"
      ],
      "text/plain": [
       "<IPython.core.display.Math object>"
      ]
     },
     "metadata": {},
     "output_type": "display_data"
    },
    {
     "data": {
      "text/latex": [
       "$\\displaystyle \\sum_{ij} \\mu_{ij} * (A_{ij} U_i + G_{ij} V_j - B_{ij}) = 0.0$"
      ],
      "text/plain": [
       "<IPython.core.display.Math object>"
      ]
     },
     "metadata": {},
     "output_type": "display_data"
    },
    {
     "data": {
      "text/markdown": [
       "____\n",
       "<h1>Individual Rationality</h1>"
      ],
      "text/plain": [
       "<IPython.core.display.Markdown object>"
      ]
     },
     "metadata": {},
     "output_type": "display_data"
    },
    {
     "data": {
      "text/latex": [
       "$\\displaystyle \\min_{i} U_{i} = 0.0 \\geq 0 = U_{lb}$"
      ],
      "text/plain": [
       "<IPython.core.display.Math object>"
      ]
     },
     "metadata": {},
     "output_type": "display_data"
    },
    {
     "data": {
      "text/latex": [
       "$\\displaystyle \\min_{j} V_{j} = 81.0 \\geq  0 = V_{lb}$"
      ],
      "text/plain": [
       "<IPython.core.display.Math object>"
      ]
     },
     "metadata": {},
     "output_type": "display_data"
    },
    {
     "data": {
      "text/latex": [
       "$\\displaystyle \\sum_{i} (U_{i} - U_{lb} ) * (\\sum_{j} \\mu_{ij} -1) = 0.0$"
      ],
      "text/plain": [
       "<IPython.core.display.Math object>"
      ]
     },
     "metadata": {},
     "output_type": "display_data"
    },
    {
     "data": {
      "text/latex": [
       "$\\displaystyle \\sum_{j} (V_{j} - V_{lb} ) * (\\sum_{i} \\mu_{ij} -1) = 0.0$"
      ],
      "text/plain": [
       "<IPython.core.display.Math object>"
      ]
     },
     "metadata": {},
     "output_type": "display_data"
    }
   ],
   "source": [
    "example_small.check_all((mu_small[:,:-1] , U_small , V_small ))"
   ]
  },
  {
   "cell_type": "code",
   "execution_count": null,
   "metadata": {},
   "outputs": [],
   "source": []
  }
 ],
 "metadata": {
  "kernelspec": {
   "display_name": "Python 3",
   "language": "python",
   "name": "python3"
  },
  "language_info": {
   "codemirror_mode": {
    "name": "ipython",
    "version": 3
   },
   "file_extension": ".py",
   "mimetype": "text/x-python",
   "name": "python",
   "nbconvert_exporter": "python",
   "pygments_lexer": "ipython3",
   "version": "3.12.0"
  }
 },
 "nbformat": 4,
 "nbformat_minor": 2
}
