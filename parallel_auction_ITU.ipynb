{
 "cells": [
  {
   "cell_type": "code",
   "execution_count": 494,
   "metadata": {},
   "outputs": [],
   "source": [
    "import gurobipy as grb\n",
    "from gurobipy import GRB\n",
    "import scipy.sparse as spr\n",
    "import numpy as np\n",
    "import random\n",
    "import matplotlib.pyplot as plt\n",
    "#from sympy import symbols, Rational\n",
    "from IPython.display import display, Math, Markdown"
   ]
  },
  {
   "cell_type": "code",
   "execution_count": 495,
   "metadata": {},
   "outputs": [],
   "source": [
    "class OneToOneITU():\n",
    "    def __init__(self, n, m, size_params, random_seed, lbs=(1, 1), tol=1e-9):\n",
    "        self.n = n\n",
    "        self.m = m\n",
    "        self.lb_U, self.lb_V = lbs\n",
    "        self.tol = tol \n",
    "\n",
    "        # generate problem\n",
    "        np.random.seed(random_seed)\n",
    "\n",
    "        self.A_ij = np.random.randint(1, size_params[0], size=[n, m])\n",
    "        self.B_ij = np.random.randint(0, size_params[1], size=[n, m])\n",
    "\n",
    "    def D_ij(self, U_i, V_j):\n",
    "        return U_i[:, None] + self.A_ij * V_j[None, :] - self.B_ij\n",
    "    \n",
    "    def d_ij(self, U_i, V_j, i, j):\n",
    "        return U_i[i] + self.A_ij[i, j] * V_j[j] - self.B_ij[i, j]\n",
    "\n",
    "    def U_ij(self,i_idx , V_j):\n",
    "        return self.B_ij[i_idx] - self.A_ij[i_idx] * V_j[None, :]\n",
    "\n",
    "    def V_ij(self,i_idx, j_idx , U_i):\n",
    "        return (self.B_ij[i_idx,j_idx] -  U_i)/ self.A_ij[i_idx,j_idx]\n",
    "\n"
   ]
  },
  {
   "cell_type": "markdown",
   "metadata": {},
   "source": []
  },
  {
   "cell_type": "markdown",
   "metadata": {},
   "source": [
    "#### Checking modules"
   ]
  },
  {
   "cell_type": "markdown",
   "metadata": {},
   "source": [
    "The following functions check equilibrium conditions for a candidate $(\\mu, U, V).$. Below I will refer to the equilibrium conditions as follows:\n",
    "* (*Primal Feasibility*) $\\sum_{i} \\mu_{ij} \\leq 1$ and $\\sum_{j} \\mu_{ij} \\leq 1 $ (and $\\mu_{ij} \\in \\{0,1\\}$),\n",
    "* (*Primal Complementary Slackness*) $D_{ij}(U_i,V_j) = 0$ if $ \\mu_{ij}  = 1$, \n",
    "* (*Dual Feasibility*) $D_{ij}(U_i,V_j) \\geq 0$,\n",
    "* (*Dual Complementary Slackness*) $U_i =  U_0 $ if $\\sum_j \\mu_{ij} = 0$ and $V_i =  V_0 $ if $\\sum_i \\mu_{ij} = 0,$ \n",
    "* (*Individual Rationality*) $U_i \\geq  U_0 ,$ $V_i \\geq  V_0 .$ "
   ]
  },
  {
   "cell_type": "markdown",
   "metadata": {},
   "source": [
    "**Dual Complementary Slackness**: $\\forall i,j, \\ U_i > U_{0} \\implies \\sum_j \\mu_{ij} = 0, \\ V_j > V_{0} \\implies \\sum_i \\mu_{ij} = 0$"
   ]
  },
  {
   "cell_type": "code",
   "execution_count": 496,
   "metadata": {},
   "outputs": [],
   "source": [
    "def check_dual_CS(self,U_i,V_j,mu_ij, output = False):\n",
    "\n",
    "    D_CS_i = np.mean((U_i - self.lb_U)* (np.sum(mu_ij,axis=1) - 1))\n",
    "    D_CS_j = np.mean((V_j - self.lb_V) * (np.sum(mu_ij,axis=0) - 1)) \n",
    "    display(Math(fr'\\frac{1}{{n}} \\sum_{{i}} (U_{{i}} - U_{{lb}} ) * (\\sum_{{j}} \\mu_{{ij}} -1) = {D_CS_i}'))\n",
    "    display(Math(fr'\\frac{1}{{m}}\\sum_{{j}} (V_{{j}} - V_{{lb}} ) * (\\sum_{{i}} \\mu_{{ij}} -1) = {D_CS_j}'))\n",
    "    \n",
    "    if output is True:\n",
    "        D_CS_i_bool = (U_i - self.lb_U)* (np.sum(mu_ij,axis=1) - 1) >= 0 \n",
    "        D_CS_j_bool = (V_j - self.lb_V) * (np.sum(mu_ij,axis=0) - 1) >= 0\n",
    "        return D_CS_i_bool, D_CS_j_bool\n",
    "    \n",
    "OneToOneITU.check_dual_CS = check_dual_CS"
   ]
  },
  {
   "cell_type": "markdown",
   "metadata": {},
   "source": [
    "**Dual Feasibility**:  $\\forall i,j,  \\ A_{ij} U_i + G_{ij} V_j \\geq B_{ij},$"
   ]
  },
  {
   "cell_type": "code",
   "execution_count": 497,
   "metadata": {},
   "outputs": [],
   "source": [
    "def check_dual_feas(self,U_i,V_j, output = None):\n",
    "\n",
    "    D_feas = np.minimum(self.D_ij(U_i,V_j),0)\n",
    "    display(Math(fr'\\frac{1}{{nm}} \\sum_{{ij}} \\min( A_{{ij}} U_i + G_{{ij}} V_j -  B_{{ij}} , 0)  = {D_feas.mean()}'))\n",
    "    if output:\n",
    "        return D_feas, np.where(D_feas<0 )\n",
    "   \n",
    "OneToOneITU.check_dual_feas = check_dual_feas "
   ]
  },
  {
   "cell_type": "markdown",
   "metadata": {},
   "source": [
    "**Primal Complementary Slackness**:  $\\forall i,j, \\  \\mu_{ij} * (A_{ij} U_i + G_{ij} V_j - B_{ij}) = 0 $"
   ]
  },
  {
   "cell_type": "code",
   "execution_count": 498,
   "metadata": {},
   "outputs": [],
   "source": [
    "def check_primal_CS(self, U_i,V_j,mu_ij, output = None):\n",
    "\n",
    "    P_CS_ij = self.D_ij(U_i,V_j) * mu_ij\n",
    "    display(Math(fr'\\frac{1}{{nm}} \\sum_{{ij}} \\mu_{{ij}} * (A_{{ij}} U_i + G_{{ij}} V_j - B_{{ij}}) = {P_CS_ij.mean()}'))\n",
    "    if output:\n",
    "        return P_CS_ij\n",
    "\n",
    "OneToOneITU.check_primal_CS = check_primal_CS"
   ]
  },
  {
   "cell_type": "markdown",
   "metadata": {},
   "source": [
    "**Primal Feasibility**:  $\\forall i,j, \\  \\sum_j  \\mu_{ij} \\leq 1, \\ \\sum_i  \\mu_{ij} \\leq 1$"
   ]
  },
  {
   "cell_type": "code",
   "execution_count": 499,
   "metadata": {},
   "outputs": [],
   "source": [
    "def check_primal_feas(self, mu_ij):\n",
    "\n",
    "    display(Math(fr'\\forall i, \\ \\sum_{{j}}  \\mu_{{ij}} \\leq 1: \\ { np.all(np.sum(mu_ij,axis=1) <= np.ones(self.n))}'))\n",
    "    display(Math(fr'\\forall j, \\ \\sum_{{i}}  \\mu_{{ij}} \\leq 1: \\ {np.all(np.sum(mu_ij,axis=0) <= np.ones(self.m)) }'))\n",
    "    display(Markdown(f\"#matched: {int(np.sum(mu_ij))} over {np.minimum(self.n,self.m)}\"))\n",
    "\n",
    "OneToOneITU.check_primal_feas = check_primal_feas"
   ]
  },
  {
   "cell_type": "code",
   "execution_count": 500,
   "metadata": {},
   "outputs": [],
   "source": [
    "def check_IR(self, U_i,V_j):\n",
    "    display(Math(fr'\\min_{{i}} U_{{i}} = {np.min(U_i).round(3)} \\geq {self.lb_U} = U_{{lb}}'))\n",
    "    display(Math(fr'\\min_{{j}} V_{{j}} = {np.min(V_j).round(3)} \\geq  {self.lb_V} = V_{{lb}}'))\n",
    "\n",
    "OneToOneITU.check_IR = check_IR"
   ]
  },
  {
   "cell_type": "markdown",
   "metadata": {},
   "source": [
    "The following checks all conditions and prints the results"
   ]
  },
  {
   "cell_type": "code",
   "execution_count": 501,
   "metadata": {},
   "outputs": [],
   "source": [
    "def check_all(self,eq):\n",
    "    mu_ij, U_i, V_j = eq \n",
    "    header_size = 1\n",
    "\n",
    "    display(Markdown(f\"{'_' * 4}\\n<h{header_size}>Feasibility</h{header_size}>\"))\n",
    "    self.check_primal_feas(mu_ij)\n",
    "\n",
    "    display(Markdown(f\"{'_' * 4}\\n<h{header_size}>Generalized Complementary Slackness</h{header_size}>\"))\n",
    "    self.check_dual_feas(U_i, V_j )\n",
    "    self.check_primal_CS(U_i, V_j , mu_ij)\n",
    "    \n",
    "    display(Markdown(f\"{'_' * 4}\\n<h{header_size}>Individual Rationality</h{header_size}>\"))\n",
    "    self.check_IR(U_i, V_j )\n",
    "    self.check_dual_CS(U_i, V_j , mu_ij)\n",
    "\n",
    "OneToOneITU.check_all = check_all"
   ]
  },
  {
   "cell_type": "code",
   "execution_count": null,
   "metadata": {},
   "outputs": [],
   "source": []
  },
  {
   "cell_type": "code",
   "execution_count": null,
   "metadata": {},
   "outputs": [],
   "source": []
  },
  {
   "cell_type": "markdown",
   "metadata": {},
   "source": [
    "# Parallel auction"
   ]
  },
  {
   "cell_type": "markdown",
   "metadata": {},
   "source": []
  },
  {
   "cell_type": "code",
   "execution_count": 518,
   "metadata": {},
   "outputs": [],
   "source": [
    "n_small = 3\n",
    "m_small = 4\n",
    "example_small = OneToOneITU( n = n_small,m = m_small, size_params= (10,10) , random_seed= 88988, lbs =(2,1), tol = .01)"
   ]
  },
  {
   "cell_type": "code",
   "execution_count": 634,
   "metadata": {},
   "outputs": [],
   "source": [
    "\n",
    "V_0 = np.zeros(m_small)\n",
    "mu_0 = np.zeros([n_small,m_small+1], dtype= bool)\n",
    "unassigned = mu_0.sum(1) == 0\n"
   ]
  },
  {
   "cell_type": "code",
   "execution_count": null,
   "metadata": {},
   "outputs": [],
   "source": []
  },
  {
   "cell_type": "code",
   "execution_count": 661,
   "metadata": {},
   "outputs": [],
   "source": [
    "\n",
    "U_ij_s = np.concatenate((example_small.U_ij(unassigned,V_0), np.ones((unassigned.sum(),1))), axis = 1)\n",
    "\n",
    "sorted_w_id = np.argsort(U_ij_s, axis = 1)[:,-2:]\n",
    "sorted_w_val = np.take_along_axis(U_ij_s,sorted_w_id, axis = 1)\n",
    "j_star = sorted_w_id[:,1]"
   ]
  },
  {
   "cell_type": "code",
   "execution_count": 662,
   "metadata": {},
   "outputs": [
    {
     "data": {
      "text/plain": [
       "array([], shape=(0, 5), dtype=float64)"
      ]
     },
     "execution_count": 662,
     "metadata": {},
     "output_type": "execute_result"
    }
   ],
   "source": [
    "U_ij_s"
   ]
  },
  {
   "cell_type": "code",
   "execution_count": 663,
   "metadata": {},
   "outputs": [
    {
     "data": {
      "text/plain": [
       "array([], shape=(0, 2), dtype=int64)"
      ]
     },
     "execution_count": 663,
     "metadata": {},
     "output_type": "execute_result"
    }
   ],
   "source": [
    "sorted_w_id"
   ]
  },
  {
   "cell_type": "code",
   "execution_count": 664,
   "metadata": {},
   "outputs": [
    {
     "data": {
      "text/plain": [
       "array([3.01, 0.51, 0.81, 0.  ])"
      ]
     },
     "execution_count": 664,
     "metadata": {},
     "output_type": "execute_result"
    }
   ],
   "source": [
    "offers = example_small.V_ij(unassigned, j_star, sorted_w_val[:,0]) \n",
    "np.maximum.at(V_0, j_star, offers + example_small.tol)\n",
    "V_0"
   ]
  },
  {
   "cell_type": "code",
   "execution_count": 650,
   "metadata": {},
   "outputs": [
    {
     "data": {
      "text/plain": [
       "array([0])"
      ]
     },
     "execution_count": 650,
     "metadata": {},
     "output_type": "execute_result"
    }
   ],
   "source": [
    "j_star"
   ]
  },
  {
   "cell_type": "code",
   "execution_count": 651,
   "metadata": {},
   "outputs": [],
   "source": [
    "matched_unassigned = (offers[:,None] + example_small.tol == V_0)\n",
    "mu_0[unassigned,:-1] = matched_unassigned\n",
    "\n"
   ]
  },
  {
   "cell_type": "code",
   "execution_count": 652,
   "metadata": {},
   "outputs": [],
   "source": [
    "perm_unmatched = (j_star == n_small+1)\n",
    "mu_0[unassigned,-1] = perm_unmatched\n"
   ]
  },
  {
   "cell_type": "code",
   "execution_count": 654,
   "metadata": {},
   "outputs": [
    {
     "data": {
      "text/plain": [
       "array([False, False, False])"
      ]
     },
     "execution_count": 654,
     "metadata": {},
     "output_type": "execute_result"
    }
   ],
   "source": [
    "unassigned = mu_0.sum(1) == 0\n",
    "unassigned"
   ]
  },
  {
   "cell_type": "code",
   "execution_count": 645,
   "metadata": {},
   "outputs": [
    {
     "data": {
      "text/plain": [
       "array([[False, False,  True, False, False],\n",
       "       [False,  True, False, False, False],\n",
       "       [False, False, False, False, False]])"
      ]
     },
     "execution_count": 645,
     "metadata": {},
     "output_type": "execute_result"
    }
   ],
   "source": [
    "mu_0"
   ]
  },
  {
   "cell_type": "code",
   "execution_count": 680,
   "metadata": {},
   "outputs": [],
   "source": [
    "def ITU_auction(self):\n",
    "    V_j = np.zeros(self.m)\n",
    "    mu_ij = np.zeros([self.n,self.m+1])\n",
    "\n",
    "    unassigned = mu_ij.sum(1) == 0\n",
    "    iter = 0\n",
    "    while unassigned.sum() > 0:\n",
    "        \n",
    "   \n",
    "        U_ij_s = np.concatenate((self.U_ij(unassigned,V_j), np.ones((unassigned.sum(),1)) * self.lb_U), axis = 1)\n",
    "        sorted_w_id = np.argsort(U_ij_s, axis = 1)[:,-2:]\n",
    "        sorted_w_val = np.take_along_axis(U_ij_s,sorted_w_id, axis = 1)\n",
    "        j_star = sorted_w_id[:,1]\n",
    "    \n",
    "        offers = self.V_ij(unassigned, j_star, sorted_w_val[:,0]) \n",
    "        np.maximum.at(V_j, j_star, offers + self.tol)\n",
    "\n",
    "\n",
    "        matched_unassigned = (offers[:,None] + example_small.tol == V_j)\n",
    "        mu_ij[unassigned,:-1] = matched_unassigned\n",
    "\n",
    "        perm_unmatched = (j_star == n_small+1)\n",
    "        mu_ij[unassigned,-1] = perm_unmatched\n",
    "\n",
    "        unassigned = mu_ij.sum(1) == 0\n",
    "        iter += 1\n",
    "\n",
    "    matched_i_s = mu_ij[:,-1] == 0\n",
    "\n",
    "\n",
    "    U_i = self.U_ij(matched_i_s, V_j)\n",
    "\n",
    "    return mu_ij[:,:-1], U_i, V_j\n",
    "\n",
    "\n",
    "\n",
    "OneToOneITU.ITU_auction = ITU_auction\n"
   ]
  },
  {
   "cell_type": "code",
   "execution_count": 681,
   "metadata": {},
   "outputs": [
    {
     "data": {
      "text/plain": [
       "(array([[0., 0., 1., 0.],\n",
       "        [0., 1., 0., 0.],\n",
       "        [1., 0., 0., 0.]]),\n",
       " array([[-2.308e+01, -1.570e+00,  2.950e+00,  3.000e+00],\n",
       "        [-1.000e-02,  7.980e+00,  4.760e+00,  3.000e+00],\n",
       "        [ 3.990e+00,  1.960e+00,  3.140e+00,  4.000e+00]]),\n",
       " array([3.01, 0.51, 0.81, 0.  ]))"
      ]
     },
     "execution_count": 681,
     "metadata": {},
     "output_type": "execute_result"
    }
   ],
   "source": [
    "example_small.ITU_auction()"
   ]
  },
  {
   "cell_type": "code",
   "execution_count": null,
   "metadata": {},
   "outputs": [],
   "source": []
  }
 ],
 "metadata": {
  "kernelspec": {
   "display_name": "Python 3",
   "language": "python",
   "name": "python3"
  },
  "language_info": {
   "codemirror_mode": {
    "name": "ipython",
    "version": 3
   },
   "file_extension": ".py",
   "mimetype": "text/x-python",
   "name": "python",
   "nbconvert_exporter": "python",
   "pygments_lexer": "ipython3",
   "version": "3.12.0"
  }
 },
 "nbformat": 4,
 "nbformat_minor": 2
}
