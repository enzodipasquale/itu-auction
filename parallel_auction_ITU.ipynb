{
 "cells": [
  {
   "cell_type": "code",
   "execution_count": 38,
   "metadata": {},
   "outputs": [],
   "source": [
    "import gurobipy as grb\n",
    "from gurobipy import GRB\n",
    "import scipy.sparse as spr\n",
    "import numpy as np\n",
    "import random\n",
    "import matplotlib.pyplot as plt\n",
    "#from sympy import symbols, Rational\n",
    "from IPython.display import display, Math, Markdown\n",
    "import numpy.ma as ma\n"
   ]
  },
  {
   "cell_type": "code",
   "execution_count": 84,
   "metadata": {},
   "outputs": [],
   "source": [
    "class OneToOneITU():\n",
    "    def __init__(self, n, m, size_params, random_seed, lbs=(1, 1), tol=1e-9):\n",
    "        self.n = n\n",
    "        self.m = m\n",
    "        self.lb_U, self.lb_V = lbs\n",
    "        self.tol = tol \n",
    "\n",
    "        # generate problem\n",
    "        np.random.seed(random_seed)\n",
    "\n",
    "        self.A_ij = np.random.randint(1, size_params[0], size=[n, m])/  np.random.randint(1, size_params[0], size=[n, m])\n",
    "       \n",
    "\n",
    "        self.B_ij = np.random.randint(0, size_params[1], size=[n, m])\n",
    "\n",
    "    def D_ij(self, U_i, V_j):\n",
    "        return U_i[:, None] + self.A_ij * V_j[None, :] - self.B_ij\n",
    "\n",
    "    def get_U_ij(self, V_j, i_idx ,j_idx = None):\n",
    "        if j_idx is None:\n",
    "            return self.B_ij[i_idx] - self.A_ij[i_idx] * V_j[None, :]\n",
    "        else:\n",
    "            return self.B_ij[i_idx,j_idx] - self.A_ij[i_idx,j_idx] * V_j[None, j_idx]\n",
    "\n",
    "    def get_V_ij(self,i_idx, j_idx , U_i):\n",
    "        return (self.B_ij[i_idx,j_idx] -  U_i)/ self.A_ij[i_idx,j_idx]\n",
    "\n"
   ]
  },
  {
   "cell_type": "markdown",
   "metadata": {},
   "source": []
  },
  {
   "cell_type": "markdown",
   "metadata": {},
   "source": [
    "#### Checking modules"
   ]
  },
  {
   "cell_type": "markdown",
   "metadata": {},
   "source": [
    "The following functions check equilibrium conditions for a candidate $(\\mu, U, V).$. Below I will refer to the equilibrium conditions as follows:\n",
    "* (*Primal Feasibility*) $\\sum_{i} \\mu_{ij} \\leq 1$ and $\\sum_{j} \\mu_{ij} \\leq 1 $ (and $\\mu_{ij} \\in \\{0,1\\}$),\n",
    "* (*Primal Complementary Slackness*) $D_{ij}(U_i,V_j) = 0$ if $ \\mu_{ij}  = 1$, \n",
    "* (*Dual Feasibility*) $D_{ij}(U_i,V_j) \\geq 0$,\n",
    "* (*Dual Complementary Slackness*) $U_i =  U_0 $ if $\\sum_j \\mu_{ij} = 0$ and $V_i =  V_0 $ if $\\sum_i \\mu_{ij} = 0,$ \n",
    "* (*Individual Rationality*) $U_i \\geq  U_0 ,$ $V_i \\geq  V_0 .$ "
   ]
  },
  {
   "cell_type": "markdown",
   "metadata": {},
   "source": [
    "**Dual Complementary Slackness**: $\\forall i,j, \\ U_i > U_{0} \\implies \\sum_j \\mu_{ij} = 0, \\ V_j > V_{0} \\implies \\sum_i \\mu_{ij} = 0$"
   ]
  },
  {
   "cell_type": "code",
   "execution_count": 40,
   "metadata": {},
   "outputs": [],
   "source": [
    "def check_dual_CS(self,U_i,V_j,mu_ij, output = False):\n",
    "\n",
    "    D_CS_i = np.mean((U_i - self.lb_U)* (np.sum(mu_ij,axis=1) - 1))\n",
    "    D_CS_j = np.mean((V_j - self.lb_V) * (np.sum(mu_ij,axis=0) - 1)) \n",
    "    display(Math(fr'\\frac{1}{{n}} \\sum_{{i}} (U_{{i}} - U_{{lb}} ) * (\\sum_{{j}} \\mu_{{ij}} -1) = {D_CS_i}'))\n",
    "    display(Math(fr'\\frac{1}{{m}}\\sum_{{j}} (V_{{j}} - V_{{lb}} ) * (\\sum_{{i}} \\mu_{{ij}} -1) = {D_CS_j}'))\n",
    "    \n",
    "    if output is True:\n",
    "        D_CS_i_bool = (U_i - self.lb_U)* (np.sum(mu_ij,axis=1) - 1) >= 0 \n",
    "        D_CS_j_bool = (V_j - self.lb_V) * (np.sum(mu_ij,axis=0) - 1) >= 0\n",
    "        return D_CS_i_bool, D_CS_j_bool\n",
    "    \n",
    "OneToOneITU.check_dual_CS = check_dual_CS"
   ]
  },
  {
   "cell_type": "markdown",
   "metadata": {},
   "source": [
    "**Dual Feasibility**:  $\\forall i,j,  \\ A_{ij} U_i + G_{ij} V_j \\geq B_{ij},$"
   ]
  },
  {
   "cell_type": "code",
   "execution_count": 86,
   "metadata": {},
   "outputs": [],
   "source": [
    "def check_dual_feas(self,U_i,V_j, output = None):\n",
    " \n",
    "    D_feas = np.minimum(self.D_ij(U_i,V_j),0)\n",
    "    if output:\n",
    "        return D_feas, np.where(D_feas<0 )\n",
    "    display(Math(fr'\\frac{1}{{nm}} \\sum_{{ij}} \\min( A_{{ij}} U_i + G_{{ij}} V_j -  B_{{ij}} , 0)  = {D_feas.mean()}'))\n",
    "    \n",
    "   \n",
    "OneToOneITU.check_dual_feas = check_dual_feas "
   ]
  },
  {
   "cell_type": "markdown",
   "metadata": {},
   "source": [
    "**Primal Complementary Slackness**:  $\\forall i,j, \\  \\mu_{ij} * (A_{ij} U_i + G_{ij} V_j - B_{ij}) = 0 $"
   ]
  },
  {
   "cell_type": "code",
   "execution_count": 42,
   "metadata": {},
   "outputs": [],
   "source": [
    "def check_primal_CS(self, U_i,V_j,mu_ij, output = None):\n",
    "\n",
    "    P_CS_ij = self.D_ij(U_i,V_j) * mu_ij\n",
    "    display(Math(fr'\\frac{1}{{nm}} \\sum_{{ij}} \\mu_{{ij}} * (A_{{ij}} U_i + G_{{ij}} V_j - B_{{ij}}) = {P_CS_ij.mean()}'))\n",
    "    if output:\n",
    "        return P_CS_ij\n",
    "\n",
    "OneToOneITU.check_primal_CS = check_primal_CS"
   ]
  },
  {
   "cell_type": "markdown",
   "metadata": {},
   "source": [
    "**Primal Feasibility**:  $\\forall i,j, \\  \\sum_j  \\mu_{ij} \\leq 1, \\ \\sum_i  \\mu_{ij} \\leq 1$"
   ]
  },
  {
   "cell_type": "code",
   "execution_count": 43,
   "metadata": {},
   "outputs": [],
   "source": [
    "def check_primal_feas(self, mu_ij):\n",
    "\n",
    "    display(Math(fr'\\forall i, \\ \\sum_{{j}}  \\mu_{{ij}} \\leq 1: \\ { np.all(np.sum(mu_ij,axis=1) <= np.ones(self.n))}'))\n",
    "    display(Math(fr'\\forall j, \\ \\sum_{{i}}  \\mu_{{ij}} \\leq 1: \\ {np.all(np.sum(mu_ij,axis=0) <= np.ones(self.m)) }'))\n",
    "    display(Markdown(f\"#matched: {int(np.sum(mu_ij))} over {np.minimum(self.n,self.m)}\"))\n",
    "\n",
    "OneToOneITU.check_primal_feas = check_primal_feas"
   ]
  },
  {
   "cell_type": "code",
   "execution_count": 44,
   "metadata": {},
   "outputs": [],
   "source": [
    "def check_IR(self, U_i,V_j):\n",
    "    display(Math(fr'\\min_{{i}} U_{{i}} = {np.min(U_i).round(3)} \\geq {self.lb_U} = U_{{lb}}'))\n",
    "    display(Math(fr'\\min_{{j}} V_{{j}} = {np.min(V_j).round(3)} \\geq  {self.lb_V} = V_{{lb}}'))\n",
    "\n",
    "OneToOneITU.check_IR = check_IR"
   ]
  },
  {
   "cell_type": "markdown",
   "metadata": {},
   "source": [
    "The following checks all conditions and prints the results"
   ]
  },
  {
   "cell_type": "code",
   "execution_count": 45,
   "metadata": {},
   "outputs": [],
   "source": [
    "def check_all(self,eq):\n",
    "    mu_ij, U_i, V_j = eq \n",
    "    header_size = 1\n",
    "\n",
    "    display(Markdown(f\"{'_' * 4}\\n<h{header_size}>Feasibility</h{header_size}>\"))\n",
    "    self.check_primal_feas(mu_ij)\n",
    "\n",
    "    display(Markdown(f\"{'_' * 4}\\n<h{header_size}>Generalized Complementary Slackness</h{header_size}>\"))\n",
    "    self.check_dual_feas(U_i, V_j )\n",
    "    self.check_primal_CS(U_i, V_j , mu_ij)\n",
    "    \n",
    "    display(Markdown(f\"{'_' * 4}\\n<h{header_size}>Individual Rationality</h{header_size}>\"))\n",
    "    self.check_IR(U_i, V_j )\n",
    "    self.check_dual_CS(U_i, V_j , mu_ij)\n",
    "\n",
    "OneToOneITU.check_all = check_all"
   ]
  },
  {
   "cell_type": "code",
   "execution_count": null,
   "metadata": {},
   "outputs": [],
   "source": []
  },
  {
   "cell_type": "code",
   "execution_count": null,
   "metadata": {},
   "outputs": [],
   "source": []
  },
  {
   "cell_type": "markdown",
   "metadata": {},
   "source": [
    "# Parallel auction"
   ]
  },
  {
   "cell_type": "markdown",
   "metadata": {},
   "source": [
    "### Algorithm"
   ]
  },
  {
   "cell_type": "code",
   "execution_count": 46,
   "metadata": {},
   "outputs": [],
   "source": [
    "def ITU_auction(self, max_iter, tol, initial_data = None):\n",
    "\n",
    "    V_j = np.ones(self.m) * self.lb_V\n",
    "    mu_ij = np.zeros([self.n,self.m+1], dtype= bool)\n",
    "    if initial_data is not None:\n",
    "        V_j = initial_data[1]\n",
    "        mu_ij = initial_data[0]\n",
    "\n",
    "    unassigned = mu_ij.sum(1) == 0\n",
    "    n_unassigned = unassigned.sum()\n",
    "    iter = 0\n",
    "\n",
    "    while n_unassigned > 0 and iter < max_iter:\n",
    "      \n",
    "        U_ij = np.concatenate((self.get_U_ij(V_j, unassigned), np.ones((n_unassigned,1)) * self.lb_U), axis = 1) \n",
    "        ### compute j_star and second best\n",
    "        sorted_w_id = np.argsort(U_ij , axis = 1)[:,-2:]\n",
    "        second_best = U_ij[np.arange(n_unassigned),sorted_w_id[:,0] ]\n",
    "        j_star = sorted_w_id[:,1]\n",
    "        # clear quitters\n",
    "        perm_unmatched = (j_star == self.m )\n",
    "        mu_ij[unassigned,:] *= ~perm_unmatched[:,None]\n",
    "        mu_ij[unassigned,-1] += perm_unmatched\n",
    "        print(iter)\n",
    "        print(j_star)\n",
    "        j_star = j_star[~perm_unmatched]\n",
    "        second_best = second_best[~perm_unmatched]\n",
    "        if len(j_star) == 0 :\n",
    "            break\n",
    "        \n",
    "        ### collect offers and pick j's favoutive\n",
    "        i_offering = np.where(unassigned * (mu_ij[:,-1] == 0) >0)[0]\n",
    "        offers = self.get_V_ij(i_offering, j_star,  second_best) \n",
    "        j_star_idx = np.unique(j_star)\n",
    "        offering_ind = j_star[:,None] == j_star_idx\n",
    "        masked_matrix = ma.masked_array(np.tile(offers[:,None],len(j_star_idx )), ~offering_ind)\n",
    "        best_offers_id = np.argmax(masked_matrix, axis = 0)\n",
    "  \n",
    "        ### Update value and matching\n",
    "        V_j[j_star_idx] += np.maximum(offers[best_offers_id] - V_j[j_star_idx] , tol) #j_assigned[j_star_idx] * self.tol\n",
    "        mu_ij[:,j_star_idx] = 0\n",
    "        mu_ij[i_offering[best_offers_id],j_star_idx] = 1\n",
    "\n",
    "        unassigned = mu_ij.sum(1) == 0\n",
    "        n_unassigned =unassigned.sum()\n",
    "        iter += 1\n",
    "   \n",
    "    id_i , id_j  =  np.where(mu_ij[:,:-1] == 1)\n",
    "    \n",
    "    U_i = np.ones(self.n) * self.lb_U\n",
    "    U_i[id_i] = self.get_U_ij(V_j, id_i)[np.arange(len(id_i)), id_j]    \n",
    "   \n",
    "    return mu_ij, U_i, V_j\n",
    "\n",
    "\n",
    "OneToOneITU.ITU_auction = ITU_auction"
   ]
  },
  {
   "cell_type": "markdown",
   "metadata": {},
   "source": [
    "## Examples\n"
   ]
  },
  {
   "cell_type": "code",
   "execution_count": 78,
   "metadata": {},
   "outputs": [],
   "source": [
    "# n_small = 10\n",
    "# m_small = 10\n",
    "# example_small = OneToOneITU( n = n_small,m = m_small, size_params= (2,24) , random_seed= 778, lbs =(0,0), tol = 1e-1)"
   ]
  },
  {
   "cell_type": "code",
   "execution_count": 79,
   "metadata": {},
   "outputs": [
    {
     "data": {
      "text/plain": [
       "array([[15,  5,  9, 20, 14,  2, 22, 12,  0,  6],\n",
       "       [23, 21, 18,  6, 13,  5, 20,  5, 14,  8],\n",
       "       [23, 20,  4,  4, 12,  3,  8,  5,  3, 16],\n",
       "       [19,  5, 11,  8,  6, 15,  4, 19, 17,  0],\n",
       "       [ 5, 12, 17,  2,  1,  0, 12, 13,  7, 19],\n",
       "       [11, 23, 16, 17, 12, 18,  6, 15, 15,  1],\n",
       "       [ 1, 13, 18, 12, 15,  4,  7, 12,  2, 20],\n",
       "       [15, 18,  9, 21, 20, 19,  3,  2, 18,  4],\n",
       "       [15,  4, 13,  9,  8,  3,  7, 22,  5, 15],\n",
       "       [ 2, 11, 16, 19, 23,  8, 15,  1, 18, 20]])"
      ]
     },
     "execution_count": 79,
     "metadata": {},
     "output_type": "execute_result"
    }
   ],
   "source": [
    "# example_small.B_ij "
   ]
  },
  {
   "cell_type": "code",
   "execution_count": 80,
   "metadata": {},
   "outputs": [
    {
     "name": "stdout",
     "output_type": "stream",
     "text": [
      "0\n",
      "[6 0 0 7 9 1 9 3 7 4]\n",
      "1\n",
      "[0 8 9]\n",
      "2\n",
      "[0 2]\n",
      "3\n",
      "[6]\n",
      "4\n",
      "[6]\n",
      "5\n",
      "[2]\n",
      "6\n",
      "[9]\n",
      "7\n",
      "[9]\n",
      "8\n",
      "[2]\n",
      "9\n",
      "[6]\n",
      "10\n",
      "[3]\n",
      "11\n",
      "[3]\n",
      "12\n",
      "[6]\n",
      "13\n",
      "[2]\n",
      "14\n",
      "[9]\n",
      "15\n",
      "[9]\n",
      "16\n",
      "[2]\n",
      "17\n",
      "[6]\n",
      "18\n",
      "[3]\n",
      "19\n",
      "[5]\n"
     ]
    }
   ],
   "source": [
    "# mu_small , U_small , V_small = example_small.ITU_auction(40000, 1e-11)"
   ]
  },
  {
   "cell_type": "code",
   "execution_count": 83,
   "metadata": {},
   "outputs": [
    {
     "data": {
      "text/plain": [
       "array([8.0000000e+00, 5.0000000e+00, 2.0000000e+00, 2.0000000e+00,\n",
       "       3.0000000e+00, 1.0000889e-11, 4.0000000e+00, 7.0000000e+00,\n",
       "       1.0000000e+00, 4.0000000e+00])"
      ]
     },
     "execution_count": 83,
     "metadata": {},
     "output_type": "execute_result"
    }
   ],
   "source": [
    "# V_small"
   ]
  },
  {
   "cell_type": "code",
   "execution_count": 82,
   "metadata": {},
   "outputs": [
    {
     "data": {
      "text/markdown": [
       "____\n",
       "<h1>Feasibility</h1>"
      ],
      "text/plain": [
       "<IPython.core.display.Markdown object>"
      ]
     },
     "metadata": {},
     "output_type": "display_data"
    },
    {
     "data": {
      "text/latex": [
       "$\\displaystyle \\forall i, \\ \\sum_{j}  \\mu_{ij} \\leq 1: \\ True$"
      ],
      "text/plain": [
       "<IPython.core.display.Math object>"
      ]
     },
     "metadata": {},
     "output_type": "display_data"
    },
    {
     "data": {
      "text/latex": [
       "$\\displaystyle \\forall j, \\ \\sum_{i}  \\mu_{ij} \\leq 1: \\ True$"
      ],
      "text/plain": [
       "<IPython.core.display.Math object>"
      ]
     },
     "metadata": {},
     "output_type": "display_data"
    },
    {
     "data": {
      "text/markdown": [
       "#matched: 10 over 10"
      ],
      "text/plain": [
       "<IPython.core.display.Markdown object>"
      ]
     },
     "metadata": {},
     "output_type": "display_data"
    },
    {
     "data": {
      "text/markdown": [
       "____\n",
       "<h1>Generalized Complementary Slackness</h1>"
      ],
      "text/plain": [
       "<IPython.core.display.Markdown object>"
      ]
     },
     "metadata": {},
     "output_type": "display_data"
    },
    {
     "data": {
      "text/latex": [
       "$\\displaystyle \\frac1{nm} \\sum_{ij} \\min( A_{ij} U_i + G_{ij} V_j -  B_{ij} , 0)  = -1.000088900582341e-13$"
      ],
      "text/plain": [
       "<IPython.core.display.Math object>"
      ]
     },
     "metadata": {},
     "output_type": "display_data"
    },
    {
     "data": {
      "text/latex": [
       "$\\displaystyle \\frac1{nm} \\sum_{ij} \\mu_{ij} * (A_{ij} U_i + G_{ij} V_j - B_{ij}) = 0.0$"
      ],
      "text/plain": [
       "<IPython.core.display.Math object>"
      ]
     },
     "metadata": {},
     "output_type": "display_data"
    },
    {
     "data": {
      "text/markdown": [
       "____\n",
       "<h1>Individual Rationality</h1>"
      ],
      "text/plain": [
       "<IPython.core.display.Markdown object>"
      ]
     },
     "metadata": {},
     "output_type": "display_data"
    },
    {
     "data": {
      "text/latex": [
       "$\\displaystyle \\min_{i} U_{i} = 15.0 \\geq 0 = U_{lb}$"
      ],
      "text/plain": [
       "<IPython.core.display.Math object>"
      ]
     },
     "metadata": {},
     "output_type": "display_data"
    },
    {
     "data": {
      "text/latex": [
       "$\\displaystyle \\min_{j} V_{j} = 0.0 \\geq  0 = V_{lb}$"
      ],
      "text/plain": [
       "<IPython.core.display.Math object>"
      ]
     },
     "metadata": {},
     "output_type": "display_data"
    },
    {
     "data": {
      "text/latex": [
       "$\\displaystyle \\frac1{n} \\sum_{i} (U_{i} - U_{lb} ) * (\\sum_{j} \\mu_{ij} -1) = 0.0$"
      ],
      "text/plain": [
       "<IPython.core.display.Math object>"
      ]
     },
     "metadata": {},
     "output_type": "display_data"
    },
    {
     "data": {
      "text/latex": [
       "$\\displaystyle \\frac1{m}\\sum_{j} (V_{j} - V_{lb} ) * (\\sum_{i} \\mu_{ij} -1) = 0.0$"
      ],
      "text/plain": [
       "<IPython.core.display.Math object>"
      ]
     },
     "metadata": {},
     "output_type": "display_data"
    }
   ],
   "source": [
    "# example_small.check_all((mu_small[:,:-1] , U_small , V_small ))"
   ]
  },
  {
   "cell_type": "code",
   "execution_count": null,
   "metadata": {},
   "outputs": [],
   "source": []
  }
 ],
 "metadata": {
  "kernelspec": {
   "display_name": "Python 3",
   "language": "python",
   "name": "python3"
  },
  "language_info": {
   "codemirror_mode": {
    "name": "ipython",
    "version": 3
   },
   "file_extension": ".py",
   "mimetype": "text/x-python",
   "name": "python",
   "nbconvert_exporter": "python",
   "pygments_lexer": "ipython3",
   "version": "3.12.0"
  }
 },
 "nbformat": 4,
 "nbformat_minor": 2
}
