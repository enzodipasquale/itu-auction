{
 "cells": [
  {
   "cell_type": "code",
   "execution_count": 1,
   "metadata": {},
   "outputs": [],
   "source": [
    "import gurobipy as grb\n",
    "from gurobipy import GRB\n",
    "import scipy.sparse as spr\n",
    "import numpy as np\n",
    "import random\n",
    "import matplotlib.pyplot as plt\n",
    "#from sympy import symbols, Rational\n",
    "from IPython.display import display, Math, Markdown\n",
    "import numpy.ma as ma\n"
   ]
  },
  {
   "cell_type": "code",
   "execution_count": 758,
   "metadata": {},
   "outputs": [],
   "source": [
    "%run /Users/enzo-macmini/auction_alg_ITU/parallel_auction_ITU.ipynb"
   ]
  },
  {
   "cell_type": "code",
   "execution_count": 759,
   "metadata": {},
   "outputs": [],
   "source": [
    "n_small = 4\n",
    "m_small = 3\n",
    "example_small = OneToOneITU( n = n_small,m = m_small, size_params= (4,24) , random_seed= 778, lbs =(0,0), tol = 1e-1)"
   ]
  },
  {
   "cell_type": "code",
   "execution_count": 869,
   "metadata": {},
   "outputs": [],
   "source": [
    "def iteration(self,i_ent, mu, V_j):\n",
    "    C  = np.zeros(self.n, dtype= bool)\n",
    "    C_i_ent = np.zeros(self.n, dtype= bool)\n",
    "    C[i_ent] = 1\n",
    "    B = np.ones(self.m, dtype= bool)\n",
    "    L_j = np.ones(self.m, dtype= int) *(self.n + 1)\n",
    "    d_j = np.ones(self.m + 1, dtype= int) * np.inf\n",
    "\n",
    "    i_j_diffs = np.zeros([self.n, self.m])\n",
    "\n",
    "    iter = 0\n",
    "    while np.any(C == 1):\n",
    "        iter += 1\n",
    "        i = np.argmax(C)\n",
    "        print(f\"iter {iter}, i: {i}\")\n",
    "        C[i] = 0\n",
    "        C_i_ent[i] = 1\n",
    "        U_ij_s = self.get_U_ij(V_j, i)[0]\n",
    "\n",
    "        π_i = np.max(U_ij_s)\n",
    "        \n",
    "        suboptimal_js = U_ij_s < π_i \n",
    "      \n",
    "        A_ij_star_max = np.max(self.A_ij[i,~suboptimal_js ])\n",
    "\n",
    "        i_j_diffs[i, suboptimal_js] =  (π_i - U_ij_s[suboptimal_js] ) /A_ij_star_max\n",
    "\n",
    "\n",
    "        d_j[:-1][suboptimal_js] = np.minimum(d_j[:-1][suboptimal_js], (π_i - U_ij_s[suboptimal_js] ) /A_ij_star_max) \n",
    "        d_j[-1] = np.minimum(  d_j[-1],   (π_i - self.lb_U) / A_ij_star_max)\n",
    "      \n",
    "        unissigned_optimal_js = np.where((mu.sum(0) == 0) * (π_i == U_ij_s))[0]\n",
    "\n",
    "        if len(unissigned_optimal_js)> 0 :\n",
    "\n",
    "            i_t = i\n",
    "            j_t = unissigned_optimal_js[0]\n",
    "      \n",
    "            while i_t != i_ent :\n",
    " \n",
    "                j_t_plus_1 = np.where(mu[i_t,: ]>0)[0][0]\n",
    "          \n",
    "                mu[i_t,: ] = 0\n",
    "                mu[i_t, j_t] = 1\n",
    "           \n",
    "                w_i_s = np.sort( np.concatenate([self.get_U_ij(V_j, i_t)[0], [self.lb_U]]))[-2]\n",
    "         \n",
    "                V_j[j_t] = self.get_V_ij(i_t  , j_t,  w_i_s)\n",
    "\n",
    "                j_t = j_t_plus_1\n",
    "                i_t = L_j[j_t]\n",
    "           \n",
    "\n",
    "            w_i_s = np.sort( np.concatenate([self.get_U_ij(V_j, i_t)[0], [self.lb_U]]))[-2]\n",
    "            mu[i_t,: ] = 0\n",
    "            mu[i_t, j_t] = 1\n",
    "\n",
    "            V_j[j_t] = self.get_V_ij(i_t  , j_t,  w_i_s)\n",
    "            # print(f\"j : {j}\")\n",
    "            #print(L_j)\n",
    "            print(\"augmentation\")\n",
    "            return mu, V_j\n",
    "            \n",
    "        \n",
    "        for j in np.where(B * (~suboptimal_js) >0)[0]:\n",
    "            \n",
    "            #U_ij = self.get_U_ij(V_j, i, j)[0]\n",
    "            if mu[:,j].sum() == 1:\n",
    "                i_j = np.argmax(mu[:,j])\n",
    "                B[j] = 0\n",
    "                C[i_j] = 1\n",
    "                \n",
    "                L_j[j] = i if L_j[j] == self.n + 1 else None\n",
    "                #print(f\"j : {j}\")\n",
    "                #print(L_j)\n",
    "                print(f\"i:{i} -> j:{j} \")\n",
    "\n",
    "\n",
    "    matrix = i_j_diffs[ :, B * (d_j[:-1] < np.inf)]  \n",
    "    masked_matrix = np.ma.masked_where(matrix <= 0, matrix)\n",
    "    argmin_pos = np.unravel_index(np.argmin(masked_matrix), masked_matrix.shape)\n",
    "\n",
    "\n",
    "    # \n",
    "    i_low = argmin_pos[0]\n",
    "    U_ij_s = self.get_U_ij(V_j, i_low)[0]\n",
    "    π_i = np.max(U_ij_s)\n",
    "    optimal_js = U_ij_s == π_i \n",
    "    j_low = np.argmax(self.A_ij[i_low,optimal_js])\n",
    "\n",
    "\n",
    "    return C_i_ent, B * (d_j[:-1] < np.inf), d_j\n",
    "\n",
    "OneToOneITU.iteration = iteration"
   ]
  },
  {
   "cell_type": "code",
   "execution_count": 860,
   "metadata": {},
   "outputs": [],
   "source": [
    "mu_ex = np.zeros([n_small,m_small])\n",
    "V_ex = np.ones(example_small.m) * example_small.lb_V\n",
    "perm_unassigned = np.zeros(example_small.n, dtype= bool)"
   ]
  },
  {
   "cell_type": "code",
   "execution_count": 861,
   "metadata": {},
   "outputs": [
    {
     "data": {
      "text/plain": [
       "array([[1.33333333, 6.        , 0.33333333, 0.88888889, 2.        ],\n",
       "       [1.25      , 0.375     , 7.        , 0.75      , 0.25      ],\n",
       "       [0.33333333, 0.57142857, 2.33333333, 1.33333333, 0.33333333],\n",
       "       [2.33333333, 4.5       , 0.44444444, 0.6       , 3.        ],\n",
       "       [1.5       , 1.        , 0.5       , 0.66666667, 1.8       ]])"
      ]
     },
     "execution_count": 861,
     "metadata": {},
     "output_type": "execute_result"
    }
   ],
   "source": [
    "example_small.A_ij "
   ]
  },
  {
   "cell_type": "code",
   "execution_count": 862,
   "metadata": {},
   "outputs": [
    {
     "data": {
      "text/plain": [
       "array([[8, 1, 7, 0, 3],\n",
       "       [8, 3, 8, 0, 3],\n",
       "       [2, 9, 2, 1, 9],\n",
       "       [9, 9, 4, 3, 7],\n",
       "       [7, 9, 0, 6, 4]])"
      ]
     },
     "execution_count": 862,
     "metadata": {},
     "output_type": "execute_result"
    }
   ],
   "source": [
    "example_small.B_ij"
   ]
  },
  {
   "cell_type": "code",
   "execution_count": 871,
   "metadata": {},
   "outputs": [
    {
     "name": "stdout",
     "output_type": "stream",
     "text": [
      "iter 1, i: 3\n",
      "i:3 -> j:0 \n",
      "i:3 -> j:1 \n",
      "iter 2, i: 1\n",
      "iter 3, i: 4\n",
      "jjjj\n",
      "[2.33333333 4.5       ]\n",
      "[False False  True  True  True]\n",
      "[2.79948802 3.31213861 0.10953444 0.9109623  0.02207341 1.57762897]\n",
      "[False False  True  True  True]\n",
      "d:0.02207341269841301\n",
      "iteration total:0\n"
     ]
    }
   ],
   "source": [
    "#C_i = np.zeros(example_small.n, dtype= bool)\n",
    "\n",
    "for p in range(1):\n",
    "\n",
    "    i_ent = np.where((mu_ex.sum(1) == 0) * (~perm_unassigned) > 0)[0][0]\n",
    "    iter_values = example_small.iteration(i_ent, mu_ex, V_ex )\n",
    "\n",
    "    if len(iter_values) == 2:\n",
    "        mu_ex, V_ex = iter_values\n",
    "\n",
    "    else:\n",
    "        C_i, B, d = iter_values\n",
    "        print(B)\n",
    "        B_with_out = np.concatenate( (B, [True]) )\n",
    "\n",
    "        V_ex[~B] += np.min(d[B_with_out])\n",
    "\n",
    "        print(d)\n",
    "        print(B)\n",
    "        mu_ex[C_i,:] = 0\n",
    "        busy = np.zeros(example_small.m, dtype= bool)\n",
    "        for i in np.where(C_i > 0)[0]:\n",
    "            j_i = np.argmax( example_small.get_U_ij(V_ex, i) )\n",
    "            #print(j_i)\n",
    "            if busy[j_i] == False:\n",
    "                mu_ex[:,j_i] = 0\n",
    "                mu_ex[i,j_i] = 1\n",
    "                busy[j_i] = 1\n",
    "\n",
    "\n",
    "       \n",
    "\n",
    "        #print(B)\n",
    "        print(f\"d:{np.min(d[B_with_out])}\")\n",
    "        print(f\"iteration total:{p}\")\n",
    "    \n",
    "        \n",
    "\n",
    "    perm_unassigned = np.all(example_small.get_U_ij(V_ex , np.arange(example_small.n)) <= example_small.lb_U + 1e-14, axis = 1)\n",
    "mu_ex[perm_unassigned,:] = 0"
   ]
  },
  {
   "cell_type": "markdown",
   "metadata": {},
   "source": []
  },
  {
   "cell_type": "code",
   "execution_count": 711,
   "metadata": {},
   "outputs": [
    {
     "data": {
      "text/plain": [
       "array([[0.19047619, 0.85714286, 0.04761905, 0.12698413, 0.28571429],\n",
       "       [0.17857143, 0.05357143, 1.        , 0.10714286, 0.03571429],\n",
       "       [0.04761905, 0.08163265, 0.33333333, 0.19047619, 0.04761905],\n",
       "       [0.33333333, 0.64285714, 0.06349206, 0.08571429, 0.42857143],\n",
       "       [0.21428571, 0.14285714, 0.07142857, 0.0952381 , 0.25714286]])"
      ]
     },
     "execution_count": 711,
     "metadata": {},
     "output_type": "execute_result"
    }
   ],
   "source": [
    "example_small.A_ij"
   ]
  },
  {
   "cell_type": "code",
   "execution_count": 712,
   "metadata": {},
   "outputs": [
    {
     "data": {
      "text/plain": [
       "array([[0., 0., 1., 0., 0.],\n",
       "       [1., 0., 0., 0., 0.],\n",
       "       [0., 0., 0., 0., 1.],\n",
       "       [0., 0., 0., 0., 0.],\n",
       "       [0., 1., 0., 0., 0.]])"
      ]
     },
     "execution_count": 712,
     "metadata": {},
     "output_type": "execute_result"
    }
   ],
   "source": [
    "mu_ex"
   ]
  },
  {
   "cell_type": "code",
   "execution_count": 713,
   "metadata": {},
   "outputs": [
    {
     "data": {
      "text/plain": [
       "array([[ 6.354, -2.841,  6.927,  0.   ,  2.413],\n",
       "       [ 6.457,  2.76 ,  6.457,  0.   ,  2.927],\n",
       "       [ 1.588,  8.634,  1.486,  1.   ,  8.902],\n",
       "       [ 6.119,  6.119,  3.902,  3.   ,  6.119],\n",
       "       [ 5.148,  8.36 , -0.11 ,  6.   ,  3.472]])"
      ]
     },
     "execution_count": 713,
     "metadata": {},
     "output_type": "execute_result"
    }
   ],
   "source": [
    "example_small.get_U_ij(V_ex , np.arange(example_small.n)). round(3)"
   ]
  },
  {
   "cell_type": "code",
   "execution_count": 704,
   "metadata": {},
   "outputs": [
    {
     "data": {
      "text/plain": [
       "9.089557826413852e-07"
      ]
     },
     "execution_count": 704,
     "metadata": {},
     "output_type": "execute_result"
    }
   ],
   "source": [
    "example_small.get_U_ij(V_ex , np.arange(example_small.n))[3,0] - example_small.get_U_ij(V_ex , np.arange(example_small.n))[3,1] "
   ]
  },
  {
   "cell_type": "code",
   "execution_count": 801,
   "metadata": {},
   "outputs": [
    {
     "name": "stdout",
     "output_type": "stream",
     "text": [
      "Argmin of positive entries: (0, 0)\n"
     ]
    }
   ],
   "source": [
    "import numpy as np\n",
    "\n",
    "matrix = np.array([[1, 0, 0], [0, -5, 6], [7, 8, 9]])\n",
    "\n",
    "argmin_pos = np.unravel_index(np.argmin(matrix[matrix > 0]), matrix.shape)\n",
    "print(f\"Argmin of positive entries: {argmin_pos}\")\n"
   ]
  },
  {
   "cell_type": "code",
   "execution_count": 161,
   "metadata": {},
   "outputs": [],
   "source": [
    "def ITU_auction(self):\n",
    "    mu_ij = np.zeros([self.n,self.m])\n",
    "    V_j = np.ones(self.m) * self.lb_V\n",
    "    perm_unassigned = np.zeros(self.n, dtype= bool)\n",
    "    iters = 0\n",
    "    for p in range(10000):\n",
    "        iters += 1\n",
    "        i_ent = np.where((mu_ij.sum(1) == 0) * (~perm_unassigned) > 0)[0]\n",
    "\n",
    "        if len(i_ent)> 0:\n",
    "            i_ent = i_ent[0]\n",
    "\n",
    "        else:\n",
    "            id_i , id_j  =  np.where(mu_ij == 1)\n",
    "    \n",
    "            U_i = np.ones(self.n) * self.lb_U\n",
    "            U_i[id_i] = self.get_U_ij(V_j, id_i)[np.arange(len(id_i)), id_j]  \n",
    "\n",
    "            # print(iters) \n",
    "            return  mu_ij,U_i, V_j, perm_unassigned * 1, iters\n",
    "\n",
    "\n",
    "\n",
    "        iter_values = self.iteration(i_ent, mu_ij, V_j )\n",
    "\n",
    "        if len(iter_values) == 2:\n",
    "            mu_ij, V_j = iter_values\n",
    "\n",
    "        else:\n",
    "            C_i, B, d = iter_values\n",
    "            B_with_out = np.concatenate( (B, [True]) )\n",
    "\n",
    "            V_j[~B] += np.min(d[B_with_out])\n",
    "\n",
    "            # print(d)\n",
    "            # print(B)\n",
    "            mu_ij[C_i,:] = 0\n",
    "            busy = np.zeros(self.m, dtype= bool)\n",
    "            for i in np.where(C_i > 0)[0]:\n",
    "                j_i = np.argmax( self.get_U_ij(V_j, i) )\n",
    "                #print(j_i)\n",
    "                if busy[j_i] == False:\n",
    "                    mu_ij[:,j_i] = 0\n",
    "                    mu_ij[i,j_i] = 1\n",
    "                    busy[j_i] = 1\n",
    "\n",
    "\n",
    "        \n",
    "\n",
    "            #print(B)\n",
    "            # print(f\"d:{np.min(d[B_with_out])}\")\n",
    "            # print(f\"iteration total:{p}\")\n",
    "        \n",
    "            \n",
    "\n",
    "        perm_unassigned = np.all(self.get_U_ij(V_j , np.arange(self.n)) <= self.lb_U+ 1e-14, axis = 1)\n",
    "        mu_ij[perm_unassigned,:] = 0\n",
    "\n",
    "    print(f\"FAILURE, MAX ITERS {iters}\")\n",
    "\n",
    "\n",
    "    # id_i , id_j  =  np.where(mu_ij == 1)\n",
    "    \n",
    "    # U_i = np.ones(self.n) * self.lb_U\n",
    "    # U_i[id_i] = self.get_U_ij(V_j, id_i)[np.arange(len(id_i)), id_j]   \n",
    "\n",
    "    # return mu_ij,U_i, V_j, perm_unassigned * 1, iters\n",
    "\n",
    "OneToOneITU.ITU_auction = ITU_auction"
   ]
  },
  {
   "cell_type": "code",
   "execution_count": 767,
   "metadata": {},
   "outputs": [],
   "source": [
    "n_small = 5\n",
    "m_small = 5\n",
    "example_small = OneToOneITU( n = n_small,m = m_small, size_params= (10,10) , random_seed= 3066, lbs =(0,0), tol = 0)"
   ]
  },
  {
   "cell_type": "code",
   "execution_count": 186,
   "metadata": {},
   "outputs": [],
   "source": [
    "\n",
    "# for i in range(1,100000):\n",
    "#     n_small = 4\n",
    "#     m_small = 4\n",
    "#     example_small = OneToOneITU( n = n_small,m = m_small, size_params= (10,10) , random_seed= i, lbs =(0,0), tol = 0)\n",
    "#     print(f\"ITER{i}\")\n",
    "#     mu_ex , U_ex,  V_ex , perm_ , iters = example_small.ITU_auction()\n",
    "#     if iters > 8000 :\n",
    "#         print(f\"ITER{i} AAAAAAA\")\n",
    "#         break\n"
   ]
  },
  {
   "cell_type": "code",
   "execution_count": 187,
   "metadata": {},
   "outputs": [
    {
     "name": "stdout",
     "output_type": "stream",
     "text": [
      "FAILURE, MAX ITERS 10000\n"
     ]
    },
    {
     "ename": "TypeError",
     "evalue": "cannot unpack non-iterable NoneType object",
     "output_type": "error",
     "traceback": [
      "\u001b[0;31m---------------------------------------------------------------------------\u001b[0m",
      "\u001b[0;31mTypeError\u001b[0m                                 Traceback (most recent call last)",
      "\u001b[1;32m/Users/enzo-macmini/auction_alg_ITU/cooperative_auction_ITU.ipynb Cell 26\u001b[0m line \u001b[0;36m1\n\u001b[0;32m----> <a href='vscode-notebook-cell:/Users/enzo-macmini/auction_alg_ITU/cooperative_auction_ITU.ipynb#X45sZmlsZQ%3D%3D?line=0'>1</a>\u001b[0m mu_ex , U_ex,  V_ex , perm_ , iters\u001b[39m=\u001b[39m example_small\u001b[39m.\u001b[39mITU_auction()\n",
      "\u001b[0;31mTypeError\u001b[0m: cannot unpack non-iterable NoneType object"
     ]
    }
   ],
   "source": [
    "mu_ex , U_ex,  V_ex , perm_ , iters= example_small.ITU_auction()"
   ]
  },
  {
   "cell_type": "code",
   "execution_count": 180,
   "metadata": {},
   "outputs": [
    {
     "data": {
      "text/plain": [
       "array([[0., 1., 0., 0.],\n",
       "       [1., 0., 0., 0.],\n",
       "       [0., 0., 0., 1.],\n",
       "       [0., 0., 1., 0.]])"
      ]
     },
     "execution_count": 180,
     "metadata": {},
     "output_type": "execute_result"
    }
   ],
   "source": [
    "mu_ex"
   ]
  },
  {
   "cell_type": "code",
   "execution_count": 181,
   "metadata": {},
   "outputs": [
    {
     "data": {
      "text/markdown": [
       "____\n",
       "<h1>Feasibility</h1>"
      ],
      "text/plain": [
       "<IPython.core.display.Markdown object>"
      ]
     },
     "metadata": {},
     "output_type": "display_data"
    },
    {
     "data": {
      "text/latex": [
       "$\\displaystyle \\forall i, \\ \\sum_{j}  \\mu_{ij} \\leq 1: \\ True$"
      ],
      "text/plain": [
       "<IPython.core.display.Math object>"
      ]
     },
     "metadata": {},
     "output_type": "display_data"
    },
    {
     "data": {
      "text/latex": [
       "$\\displaystyle \\forall j, \\ \\sum_{i}  \\mu_{ij} \\leq 1: \\ True$"
      ],
      "text/plain": [
       "<IPython.core.display.Math object>"
      ]
     },
     "metadata": {},
     "output_type": "display_data"
    },
    {
     "data": {
      "text/markdown": [
       "#matched: 4 over 4"
      ],
      "text/plain": [
       "<IPython.core.display.Markdown object>"
      ]
     },
     "metadata": {},
     "output_type": "display_data"
    },
    {
     "data": {
      "text/markdown": [
       "____\n",
       "<h1>Generalized Complementary Slackness</h1>"
      ],
      "text/plain": [
       "<IPython.core.display.Markdown object>"
      ]
     },
     "metadata": {},
     "output_type": "display_data"
    },
    {
     "data": {
      "text/latex": [
       "$\\displaystyle \\frac1{nm} \\sum_{ij} \\min( A_{ij} U_i + G_{ij} V_j -  B_{ij} , 0)  = 0.0$"
      ],
      "text/plain": [
       "<IPython.core.display.Math object>"
      ]
     },
     "metadata": {},
     "output_type": "display_data"
    },
    {
     "data": {
      "text/latex": [
       "$\\displaystyle \\frac1{nm} \\sum_{ij} \\mu_{ij} * (A_{ij} U_i + G_{ij} V_j - B_{ij}) = 0.0$"
      ],
      "text/plain": [
       "<IPython.core.display.Math object>"
      ]
     },
     "metadata": {},
     "output_type": "display_data"
    },
    {
     "data": {
      "text/markdown": [
       "____\n",
       "<h1>Individual Rationality</h1>"
      ],
      "text/plain": [
       "<IPython.core.display.Markdown object>"
      ]
     },
     "metadata": {},
     "output_type": "display_data"
    },
    {
     "data": {
      "text/latex": [
       "$\\displaystyle \\min_{i} U_{i} = 2.0 \\geq 0 = U_{lb}$"
      ],
      "text/plain": [
       "<IPython.core.display.Math object>"
      ]
     },
     "metadata": {},
     "output_type": "display_data"
    },
    {
     "data": {
      "text/latex": [
       "$\\displaystyle \\min_{j} V_{j} = 0.0 \\geq  0 = V_{lb}$"
      ],
      "text/plain": [
       "<IPython.core.display.Math object>"
      ]
     },
     "metadata": {},
     "output_type": "display_data"
    },
    {
     "data": {
      "text/latex": [
       "$\\displaystyle \\frac1{n} \\sum_{i} (U_{i} - U_{lb} ) * (\\sum_{j} \\mu_{ij} -1) = 0.0$"
      ],
      "text/plain": [
       "<IPython.core.display.Math object>"
      ]
     },
     "metadata": {},
     "output_type": "display_data"
    },
    {
     "data": {
      "text/latex": [
       "$\\displaystyle \\frac1{m}\\sum_{j} (V_{j} - V_{lb} ) * (\\sum_{i} \\mu_{ij} -1) = 0.0$"
      ],
      "text/plain": [
       "<IPython.core.display.Math object>"
      ]
     },
     "metadata": {},
     "output_type": "display_data"
    }
   ],
   "source": [
    "example_small.check_all((mu_ex , U_ex , V_ex ))"
   ]
  },
  {
   "cell_type": "code",
   "execution_count": 2939,
   "metadata": {},
   "outputs": [
    {
     "data": {
      "text/plain": [
       "array([[ 4.        ,  2.        ,  1.        ,  4.        ,  4.        ,\n",
       "         4.        ,  4.        ,  0.        ,  2.66071429,  0.        ],\n",
       "       [ 2.        ,  4.        ,  0.        ,  4.        ,  3.        ,\n",
       "         1.        ,  0.        ,  3.        ,  0.69093407,  2.        ],\n",
       "       [ 1.        ,  3.        ,  0.        ,  0.        ,  1.        ,\n",
       "         0.        ,  2.        ,  0.        ,  3.        ,  3.        ],\n",
       "       [ 1.        ,  1.        ,  2.        ,  3.        ,  1.        ,\n",
       "         4.        ,  2.        ,  4.        ,  3.58791209,  1.        ],\n",
       "       [ 0.        ,  1.        ,  2.        ,  4.        ,  2.        ,\n",
       "         0.        ,  1.        ,  1.        ,  3.82142857,  1.        ],\n",
       "       [ 2.        ,  2.        ,  4.        ,  4.        ,  0.        ,\n",
       "         2.        ,  4.        ,  2.        ,  2.5511583 ,  3.        ],\n",
       "       [ 4.        ,  1.        ,  4.        ,  3.        ,  1.        ,\n",
       "         2.        ,  1.        ,  0.        , -0.06696429,  2.        ],\n",
       "       [ 4.        ,  4.        ,  1.        ,  2.        ,  3.        ,\n",
       "         2.        ,  1.        ,  1.        ,  3.20918367,  3.        ],\n",
       "       [ 4.        ,  0.        ,  3.        ,  0.        ,  1.        ,\n",
       "         4.        ,  1.        ,  3.        ,  1.67532468,  2.        ],\n",
       "       [ 2.        ,  2.        ,  1.        ,  2.        ,  1.        ,\n",
       "         2.        ,  1.        ,  1.        ,  2.46428571,  0.        ]])"
      ]
     },
     "execution_count": 2939,
     "metadata": {},
     "output_type": "execute_result"
    }
   ],
   "source": [
    "example_small.get_U_ij(V_ex , np.arange(10)) "
   ]
  },
  {
   "cell_type": "code",
   "execution_count": 2503,
   "metadata": {},
   "outputs": [
    {
     "data": {
      "text/latex": [
       "$\\displaystyle \\frac1{nm} \\sum_{ij} \\min( A_{ij} U_i + G_{ij} V_j -  B_{ij} , 0)  = -0.41985991947798257$"
      ],
      "text/plain": [
       "<IPython.core.display.Math object>"
      ]
     },
     "metadata": {},
     "output_type": "display_data"
    },
    {
     "data": {
      "text/plain": [
       "(array([[-13.8351983 ,   0.        , -10.92857143,   0.        ,\n",
       "          -3.28571429,   0.        ,   0.        ,   0.        ,\n",
       "         -13.93650794,   0.        ],\n",
       "        [  0.        ,   0.        ,   0.        ,   0.        ,\n",
       "           0.        ,   0.        ,   0.        ,   0.        ,\n",
       "           0.        ,   0.        ],\n",
       "        [  0.        ,   0.        ,   0.        ,   0.        ,\n",
       "           0.        ,   0.        ,   0.        ,   0.        ,\n",
       "           0.        ,   0.        ],\n",
       "        [  0.        ,   0.        ,   0.        ,   0.        ,\n",
       "           0.        ,   0.        ,   0.        ,   0.        ,\n",
       "           0.        ,   0.        ],\n",
       "        [  0.        ,   0.        ,   0.        ,   0.        ,\n",
       "           0.        ,   0.        ,   0.        ,   0.        ,\n",
       "           0.        ,   0.        ],\n",
       "        [  0.        ,   0.        ,   0.        ,   0.        ,\n",
       "           0.        ,   0.        ,   0.        ,   0.        ,\n",
       "           0.        ,   0.        ],\n",
       "        [  0.        ,   0.        ,   0.        ,   0.        ,\n",
       "           0.        ,   0.        ,   0.        ,   0.        ,\n",
       "           0.        ,   0.        ],\n",
       "        [  0.        ,   0.        ,   0.        ,   0.        ,\n",
       "           0.        ,   0.        ,   0.        ,   0.        ,\n",
       "           0.        ,   0.        ],\n",
       "        [  0.        ,   0.        ,   0.        ,   0.        ,\n",
       "           0.        ,   0.        ,   0.        ,   0.        ,\n",
       "           0.        ,   0.        ],\n",
       "        [  0.        ,   0.        ,   0.        ,   0.        ,\n",
       "           0.        ,   0.        ,   0.        ,   0.        ,\n",
       "           0.        ,   0.        ]]),\n",
       " (array([0, 0, 0, 0]), array([0, 2, 4, 8])))"
      ]
     },
     "execution_count": 2503,
     "metadata": {},
     "output_type": "execute_result"
    }
   ],
   "source": [
    "example_small. check_dual_feas(U_ex,V_ex, output = True)"
   ]
  },
  {
   "cell_type": "code",
   "execution_count": 2038,
   "metadata": {},
   "outputs": [
    {
     "data": {
      "text/plain": [
       "1.0"
      ]
     },
     "execution_count": 2038,
     "metadata": {},
     "output_type": "execute_result"
    }
   ],
   "source": [
    "mu_ex[0,:].sum()"
   ]
  },
  {
   "cell_type": "code",
   "execution_count": null,
   "metadata": {},
   "outputs": [],
   "source": []
  }
 ],
 "metadata": {
  "kernelspec": {
   "display_name": "Python 3",
   "language": "python",
   "name": "python3"
  },
  "language_info": {
   "codemirror_mode": {
    "name": "ipython",
    "version": 3
   },
   "file_extension": ".py",
   "mimetype": "text/x-python",
   "name": "python",
   "nbconvert_exporter": "python",
   "pygments_lexer": "ipython3",
   "version": "3.12.0"
  }
 },
 "nbformat": 4,
 "nbformat_minor": 2
}
