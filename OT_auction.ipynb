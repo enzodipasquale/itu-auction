{
 "cells": [
  {
   "cell_type": "code",
   "execution_count": 33,
   "metadata": {},
   "outputs": [],
   "source": [
    "import gurobipy as grb\n",
    "from gurobipy import GRB\n",
    "import scipy.sparse as spr\n",
    "import numpy as np\n",
    "import random\n",
    "import matplotlib.pyplot as plt\n",
    "#from sympy import symbols, Rational\n",
    "from IPython.display import display, Math, Markdown\n",
    "import numpy.ma as ma\n",
    "import scipy as sp"
   ]
  },
  {
   "cell_type": "code",
   "execution_count": 34,
   "metadata": {},
   "outputs": [],
   "source": [
    "class OneToOneITU():\n",
    "    def __init__(self, n_i, m_j, parameters = (None,None) , lbs=(0, 0)):\n",
    "        self.n_i = n_i\n",
    "        self.m_j = m_j\n",
    "        self.lb_U, self.lb_V = lbs\n",
    "\n",
    "        self.n = len(n_i)\n",
    "        self.m = len(m_j)\n",
    "       \n",
    "        self.A_ij = parameters[0]\n",
    "        self.B_ij = parameters[1]\n",
    "\n",
    "    def D_ij(self, U_i, V_j):\n",
    "        return (U_i[:, None] + self.A_ij * V_j[None, :] - self.B_ij)/(1+ self.A_ij)\n",
    "\n",
    "    def get_U_ij(self, V_j, i_idx ,j_idx = None):\n",
    "        if j_idx is None:\n",
    "            return self.B_ij[i_idx] - self.A_ij[i_idx] * V_j[None, :]\n",
    "        else:\n",
    "            return self.B_ij[i_idx,j_idx] - self.A_ij[i_idx,j_idx] * V_j[None, j_idx]\n",
    "\n",
    "    def get_V_ij(self,i_idx, j_idx , U_i):\n",
    "        return (self.B_ij[i_idx,j_idx] -  U_i)/ self.A_ij[i_idx,j_idx]"
   ]
  },
  {
   "cell_type": "code",
   "execution_count": 35,
   "metadata": {},
   "outputs": [],
   "source": [
    "def OT_auction(self, data = None, tol_ε = None):\n",
    "    if data is None:\n",
    "        V_j = np.ones(self.m) * self.lb_V\n",
    "        mu_ij = np.zeros([self.n_i, self.m_j], dtype= int)\n",
    "\n",
    "        "
   ]
  },
  {
   "cell_type": "code",
   "execution_count": 36,
   "metadata": {},
   "outputs": [],
   "source": [
    "np.random.seed(200)\n",
    "n_i = np.random.randint(1,4, size = 5)\n",
    "m_j = np.random.randint(1,4, size = 5)\n",
    "A = np.random.choice([.25,5,1,2,4], size= [len(n_i), len(m_j)] )\n",
    "B = np.random.randint(1,5, size = [len(n_i), len(m_j)])"
   ]
  },
  {
   "cell_type": "code",
   "execution_count": 37,
   "metadata": {},
   "outputs": [],
   "source": [
    "example_mkt = OneToOneITU( n_i,m_j, parameters=(A,B))"
   ]
  },
  {
   "cell_type": "code",
   "execution_count": 38,
   "metadata": {},
   "outputs": [],
   "source": [
    "y_ij = np.zeros([example_mkt.n+1, example_mkt.m])\n",
    "f_ij = np.zeros([example_mkt.n+1, example_mkt.m+1], dtype= int)\n",
    "f_ij[-1,:] = np.append(example_mkt.m_j,0)\n",
    "f_ij[-1,-1] = example_mkt.n+200"
   ]
  },
  {
   "cell_type": "code",
   "execution_count": 39,
   "metadata": {},
   "outputs": [],
   "source": [
    "# free_capacity_i = example_mkt.n_i -  f_ij[:-1,:].sum(1)\n",
    "# bidder_i =  np.where(free_capacity_i > 0)[0]\n",
    "\n",
    "# U_ikj = (example_mkt.B_ij[bidder_i,None,:] - example_mkt.A_ij[bidder_i,None,:] * np.where( f_ij[:,:-1] >0 ,y_ij, np.nan ) )\n",
    "# U_ikj[np.arange(len(bidder_i)),np.arange(len(bidder_i))] = np.nan\n",
    "\n",
    "# U_i_kj0 = np.concatenate((U_ikj.reshape(len(bidder_i), (example_mkt.n+1) * example_mkt.m), np.ones((len(bidder_i),1))* example_mkt.lb_U), axis= 1)\n",
    "# U_i_kj0_sorted = np.argsort(-U_i_kj0, axis= 1 )"
   ]
  },
  {
   "cell_type": "code",
   "execution_count": 40,
   "metadata": {},
   "outputs": [],
   "source": [
    "# i_l = (U_i_kj0_sorted )// (example_mkt.m)\n",
    "# j_l = (U_i_kj0_sorted )%(example_mkt.m)\n",
    "# ell_i = np.zeros( len(bidder_i), dtype= int)\n",
    "# residual_i = free_capacity_i[bidder_i]\n",
    "# f_ij_hat = f_ij[bidder_i].copy()"
   ]
  },
  {
   "cell_type": "code",
   "execution_count": 41,
   "metadata": {},
   "outputs": [],
   "source": [
    "# while np.any(residual_i >=0):\n",
    "\n",
    "#     f_il_jl = f_ij[i_l[range(len(bidder_i)),ell_i], j_l[range(len(bidder_i)),ell_i]]\n",
    "\n",
    "#     f_ij_hat[:, -1] += (i_l[range(len(bidder_i)),ell_i] == example_mkt.n+1) * residual_i * (residual_i >=0)\n",
    "\n",
    "#     f_ij_hat[range(len(bidder_i)), j_l[range(len(bidder_i)),ell_i]] += (i_l[range(len(bidder_i)),ell_i] != example_mkt.m+1)*( f_il_jl *(residual_i >= f_il_jl) + \n",
    "#                                         residual_i * (residual_i < f_il_jl) * ( residual_i >= 0))\n",
    "\n",
    "#     ell_i += (i_l[range(len(bidder_i)),ell_i] != example_mkt.m+1)*(residual_i >= 0) \n",
    "#     residual_i -= f_il_jl + (residual_i - f_il_jl)*((i_l[range(len(bidder_i)),ell_i] == example_mkt.n+1)) "
   ]
  },
  {
   "cell_type": "code",
   "execution_count": 42,
   "metadata": {},
   "outputs": [],
   "source": [
    "# j_k_case2 = np.argmax(j_l != np.argmax(f_ij_hat , axis= 1)[:,None], axis= 1)\n",
    "\n",
    "# w_i = ((U_i_kj0[range(len(bidder_i)),U_i_kj0_sorted[range(len(bidder_i)),ell_i] ] * ((f_ij_hat[:,:-1]>0).sum(1) >1) +\n",
    "#         U_i_kj0[range(len(bidder_i)),U_i_kj0_sorted[range(len(bidder_i)),j_k_case2]] * ((f_ij_hat[:,:-1]>0).sum(1) == 1) * (i_l[range(len(bidder_i)),j_k_case2] != example_mkt.m +1)\n",
    "#         + example_mkt.lb_U * ((f_ij_hat[:,:-1]>0).sum(1) == 1) * (i_l[range(len(bidder_i)),j_k_case2] == example_mkt.m +1)\n",
    "#        )*(i_l[range(len(bidder_i)),ell_i] != example_mkt.m+1)\n",
    "#        + example_mkt.lb_U * (i_l[range(len(bidder_i)),ell_i] == example_mkt.m+1)\n",
    "#        )"
   ]
  },
  {
   "cell_type": "code",
   "execution_count": 43,
   "metadata": {},
   "outputs": [],
   "source": [
    "# bids = np.where(f_ij_hat[:,:-1]> 0, (example_mkt.B_ij - w_i[:,None])/example_mkt.A_ij, np.nan)"
   ]
  },
  {
   "cell_type": "code",
   "execution_count": 44,
   "metadata": {},
   "outputs": [],
   "source": [
    "def bidding_phase(self, f_ij,y_ij, tol_ε):\n",
    "    free_capacity_i =self.n_i -  f_ij[:-1,:].sum(1)\n",
    "    bidder_i =  np.where(free_capacity_i > 0)[0]\n",
    "\n",
    "    U_ikj = (self.B_ij[bidder_i,None,:] - self.A_ij[bidder_i,None,:] * np.where( f_ij[:,:-1] >0 ,y_ij, np.nan ) )\n",
    "    U_ikj[np.arange(len(bidder_i)),np.arange(len(bidder_i))] = np.nan\n",
    "    #print(np.shape(U_ikj))\n",
    "    #U_i_kj0 = np.concatenate((U_ikj.reshape(self.n, (self.n+1) * self.m), np.ones((self.n,1))* self.lb_U), axis= 1)\n",
    "    U_i_kj0 = np.concatenate((U_ikj.reshape(len(bidder_i), (self.n+1) * self.m), np.ones((len(bidder_i),1))* self.lb_U), axis= 1)\n",
    "    U_i_kj0_sorted = np.argsort(-U_i_kj0, axis= 1 )\n",
    "\n",
    "\n",
    "    i_l = (U_i_kj0_sorted )// (self.m)\n",
    "    j_l = (U_i_kj0_sorted )%(self.m)\n",
    "    ell_i = np.zeros( len(bidder_i), dtype= int)\n",
    "    residual_i = free_capacity_i[bidder_i]\n",
    "    f_ij_hat = f_ij[bidder_i].copy()\n",
    "\n",
    "    while np.any(residual_i >=0):\n",
    "\n",
    "        f_il_jl = f_ij[i_l[range(len(bidder_i)),ell_i], j_l[range(len(bidder_i)),ell_i]]\n",
    "        f_ij_hat[:, -1] += (i_l[range(len(bidder_i)),ell_i] == self.n+1) * residual_i * (residual_i >= 0)\n",
    "        f_ij_hat[range(len(bidder_i)), j_l[range(len(bidder_i)),ell_i]] += ((i_l[range(len(bidder_i)),ell_i] != self.m+1)*\n",
    "                                                                        ( f_il_jl *(residual_i >= f_il_jl) + residual_i * (residual_i < f_il_jl))* (residual_i >= 0))\n",
    "        ell_i += (i_l[range(len(bidder_i)),ell_i] != self.m+1)*(residual_i >= 0) \n",
    "        residual_i -= f_il_jl + (residual_i - f_il_jl)*((i_l[range(len(bidder_i)),ell_i] == self.n+1)) \n",
    "\n",
    "    j_k_case2 = np.argmax(j_l != np.argmax(f_ij_hat , axis= 1)[:,None], axis= 1)\n",
    "\n",
    "    w_i = ((U_i_kj0[range(len(bidder_i)),U_i_kj0_sorted[range(len(bidder_i)),ell_i] ] * ((f_ij_hat[:,:-1]>0).sum(1) >1) +\n",
    "            U_i_kj0[range(len(bidder_i)),U_i_kj0_sorted[range(len(bidder_i)),j_k_case2]] * ((f_ij_hat[:,:-1]>0).sum(1) == 1) * (i_l[range(len(bidder_i)),j_k_case2] != self.m +1)\n",
    "            + self.lb_U * ((f_ij_hat[:,:-1]>0).sum(1) == 1) * (i_l[range(len(bidder_i)),j_k_case2] == self.m +1)\n",
    "        )*(i_l[range(len(bidder_i)),ell_i] != self.m+1)\n",
    "        + self.lb_U * (i_l[range(len(bidder_i)),ell_i] == self.m+1)\n",
    "        ) - tol_ε\n",
    "    \n",
    "    bids = np.where(f_ij_hat[:,:-1]> 0, (self.B_ij[bidder_i,:] - w_i[:,None])/self.A_ij[bidder_i,:], np.nan)\n",
    "\n",
    "    return bids, f_ij_hat,bidder_i\n",
    "\n",
    "OneToOneITU.bidding_phase = bidding_phase"
   ]
  },
  {
   "cell_type": "code",
   "execution_count": 45,
   "metadata": {},
   "outputs": [],
   "source": [
    "# `bids_ij, f_hat_ij , bidder_i  = example_mkt.bidding_phase(f_ij, y_ij,.01)"
   ]
  },
  {
   "cell_type": "code",
   "execution_count": 46,
   "metadata": {},
   "outputs": [],
   "source": [
    "# f_ij , y_ij = example_mkt.assignment_phase(f_ij, y_ij, bids_ij, f_hat_ij)"
   ]
  },
  {
   "cell_type": "code",
   "execution_count": 47,
   "metadata": {},
   "outputs": [],
   "source": [
    "# received_bid_j = np.where(np.any(np.isnan(bids_ij ) == False , axis= 0))[0]\n",
    "\n",
    "# P_ij = np.ones_like(y_ij)*np.nan\n",
    "# P_ij[:,received_bid_j] = np.where(f_ij[:,received_bid_j]>0, y_ij[:,received_bid_j] , np.nan)\n",
    "# P_ij[bidder_i,:] = np.where(f_hat_ij[:,:-1]>0, bids_ij, np.nan ) "
   ]
  },
  {
   "cell_type": "code",
   "execution_count": 48,
   "metadata": {},
   "outputs": [],
   "source": [
    "# f_hat_ij_2 = np.zeros_like(f_ij)\n",
    "# f_hat_ij_2[:-1,received_bid_j] = np.where(f_ij[:-1,received_bid_j]>0, f_ij[:-1,received_bid_j] , 0)\n",
    "# f_hat_ij_2[bidder_i,:] = f_hat_ij.copy()\n",
    "# P_ij = np.concatenate((P_ij, np.where(f_hat_ij_2[:,-1] >0, 0,np.nan )[:,None]), axis= 1)"
   ]
  },
  {
   "cell_type": "code",
   "execution_count": 49,
   "metadata": {},
   "outputs": [],
   "source": [
    "# P_ij_sorted_id = np.argsort(- P_ij , axis= 0)\n",
    "# ell_j = np.zeros(example_mkt.m+1, dtype=int)"
   ]
  },
  {
   "cell_type": "code",
   "execution_count": 50,
   "metadata": {},
   "outputs": [],
   "source": [
    "# done_j = np.ones(example_mkt.m+1, dtype= bool)\n",
    "# done_j[received_bid_j] = False\n",
    "\n",
    "# while np.any(done_j == False):\n",
    "#     for j in received_bid_j:\n",
    "        \n",
    "#         f_ij_hat_ell = f_hat_ij_2[P_ij_sorted_id[ell_j[j],j],j]\n",
    "#         residual_j = f_ij[-1,j]\n",
    "#         if f_ij_hat_ell > 0 and residual_j > 0:\n",
    "#             print(\"lulz\")\n",
    "#             f_ij[P_ij_sorted_id[ell_j[j],j],j] = f_ij_hat_ell * (residual_j>= f_ij_hat_ell) + residual_j * (residual_j < f_ij_hat_ell) \n",
    "#             f_ij[-1,j] -= np.minimum(f_ij_hat_ell, residual_j)\n",
    "#             y_ij[P_ij_sorted_id[ell_j[j],j],j] = P_ij[P_ij_sorted_id[ell_j[j],j],j]\n",
    "#             ell_j[j]+=1\n",
    "#         else:\n",
    "#             done_j[j] = True"
   ]
  },
  {
   "cell_type": "code",
   "execution_count": 51,
   "metadata": {},
   "outputs": [],
   "source": [
    "def assignment_phase(self,f_ij_, y_ij_, bids_ij, f_hat_ij):\n",
    "    received_bid_j = np.where(np.any(np.isnan(bids_ij ) == False , axis= 0))[0]\n",
    "\n",
    "    P_ij = np.ones_like(y_ij)*np.nan\n",
    "    P_ij[:,received_bid_j] = np.where(f_ij[:,received_bid_j]>0, y_ij[:,received_bid_j] , np.nan)\n",
    "    P_ij[bidder_i,:] = np.where(f_hat_ij[:,:-1]>0, bids_ij, np.nan ) \n",
    "    f_hat_ij_2 = np.zeros_like(f_ij)\n",
    "    f_hat_ij_2[:-1,received_bid_j] = np.where(f_ij[:-1,received_bid_j]>0, f_ij[:-1,received_bid_j] , 0)\n",
    "    f_hat_ij_2[bidder_i,:] = f_hat_ij.copy()\n",
    "    P_ij = np.concatenate((P_ij, np.where(f_hat_ij_2[:,-1] >0, 0,np.nan )[:,None]), axis= 1)\n",
    "\n",
    "    P_ij_sorted_id = np.argsort(- P_ij , axis= 0)\n",
    "    ell_j = np.zeros(self.m+1, dtype=int)  \n",
    "\n",
    "    done_j = np.ones(example_mkt.m+1, dtype= bool)\n",
    "    done_j[received_bid_j] = False\n",
    "\n",
    "    while np.any(done_j == False):\n",
    "        for j in received_bid_j:\n",
    "            f_ij_hat_ell = f_hat_ij_2[P_ij_sorted_id[ell_j[j],j],j]\n",
    "            residual_j = f_ij[-1,j]\n",
    "            if f_ij_hat_ell > 0 and residual_j > 0:\n",
    "                print(\"lulz\")\n",
    "                f_ij[P_ij_sorted_id[ell_j[j],j],j] = f_ij_hat_ell * (residual_j>= f_ij_hat_ell) + residual_j * (residual_j < f_ij_hat_ell) \n",
    "                f_ij[-1,j] -= np.minimum(f_ij_hat_ell, residual_j)\n",
    "                y_ij[P_ij_sorted_id[ell_j[j],j],j] = P_ij[P_ij_sorted_id[ell_j[j],j],j]\n",
    "                ell_j[j]+=1\n",
    "            else:\n",
    "                done_j[j] = True\n",
    "                \n",
    "    return f_ij, y_ij\n",
    "\n",
    "OneToOneITU.assignment_phase = assignment_phase"
   ]
  },
  {
   "cell_type": "code",
   "execution_count": 55,
   "metadata": {},
   "outputs": [
    {
     "ename": "IndexError",
     "evalue": "index 6 is out of bounds for axis 0 with size 6",
     "output_type": "error",
     "traceback": [
      "\u001b[0;31m---------------------------------------------------------------------------\u001b[0m",
      "\u001b[0;31mIndexError\u001b[0m                                Traceback (most recent call last)",
      "\u001b[1;32m/Users/enzo-macmini/auction_alg_ITU/OT_auction.ipynb Cell 20\u001b[0m line \u001b[0;36m1\n\u001b[0;32m----> <a href='vscode-notebook-cell:/Users/enzo-macmini/auction_alg_ITU/OT_auction.ipynb#Y422sZmlsZQ%3D%3D?line=0'>1</a>\u001b[0m bids_ij, f_hat_ij , bidder_i  \u001b[39m=\u001b[39m example_mkt\u001b[39m.\u001b[39;49mbidding_phase(f_ij, y_ij,\u001b[39m.01\u001b[39;49m)\n",
      "\u001b[1;32m/Users/enzo-macmini/auction_alg_ITU/OT_auction.ipynb Cell 20\u001b[0m line \u001b[0;36m2\n\u001b[1;32m     <a href='vscode-notebook-cell:/Users/enzo-macmini/auction_alg_ITU/OT_auction.ipynb#Y422sZmlsZQ%3D%3D?line=16'>17</a>\u001b[0m f_ij_hat \u001b[39m=\u001b[39m f_ij[bidder_i]\u001b[39m.\u001b[39mcopy()\n\u001b[1;32m     <a href='vscode-notebook-cell:/Users/enzo-macmini/auction_alg_ITU/OT_auction.ipynb#Y422sZmlsZQ%3D%3D?line=18'>19</a>\u001b[0m \u001b[39mwhile\u001b[39;00m np\u001b[39m.\u001b[39many(residual_i \u001b[39m>\u001b[39m\u001b[39m=\u001b[39m\u001b[39m0\u001b[39m):\n\u001b[0;32m---> <a href='vscode-notebook-cell:/Users/enzo-macmini/auction_alg_ITU/OT_auction.ipynb#Y422sZmlsZQ%3D%3D?line=20'>21</a>\u001b[0m     f_il_jl \u001b[39m=\u001b[39m f_ij[i_l[\u001b[39mrange\u001b[39;49m(\u001b[39mlen\u001b[39;49m(bidder_i)),ell_i], j_l[\u001b[39mrange\u001b[39;49m(\u001b[39mlen\u001b[39;49m(bidder_i)),ell_i]]\n\u001b[1;32m     <a href='vscode-notebook-cell:/Users/enzo-macmini/auction_alg_ITU/OT_auction.ipynb#Y422sZmlsZQ%3D%3D?line=21'>22</a>\u001b[0m     f_ij_hat[:, \u001b[39m-\u001b[39m\u001b[39m1\u001b[39m] \u001b[39m+\u001b[39m\u001b[39m=\u001b[39m (i_l[\u001b[39mrange\u001b[39m(\u001b[39mlen\u001b[39m(bidder_i)),ell_i] \u001b[39m==\u001b[39m \u001b[39mself\u001b[39m\u001b[39m.\u001b[39mn\u001b[39m+\u001b[39m\u001b[39m1\u001b[39m) \u001b[39m*\u001b[39m residual_i \u001b[39m*\u001b[39m (residual_i \u001b[39m>\u001b[39m\u001b[39m=\u001b[39m \u001b[39m0\u001b[39m)\n\u001b[1;32m     <a href='vscode-notebook-cell:/Users/enzo-macmini/auction_alg_ITU/OT_auction.ipynb#Y422sZmlsZQ%3D%3D?line=22'>23</a>\u001b[0m     f_ij_hat[\u001b[39mrange\u001b[39m(\u001b[39mlen\u001b[39m(bidder_i)), j_l[\u001b[39mrange\u001b[39m(\u001b[39mlen\u001b[39m(bidder_i)),ell_i]] \u001b[39m+\u001b[39m\u001b[39m=\u001b[39m ((i_l[\u001b[39mrange\u001b[39m(\u001b[39mlen\u001b[39m(bidder_i)),ell_i] \u001b[39m!=\u001b[39m \u001b[39mself\u001b[39m\u001b[39m.\u001b[39mm\u001b[39m+\u001b[39m\u001b[39m1\u001b[39m)\u001b[39m*\u001b[39m\n\u001b[1;32m     <a href='vscode-notebook-cell:/Users/enzo-macmini/auction_alg_ITU/OT_auction.ipynb#Y422sZmlsZQ%3D%3D?line=23'>24</a>\u001b[0m                                                                     ( f_il_jl \u001b[39m*\u001b[39m(residual_i \u001b[39m>\u001b[39m\u001b[39m=\u001b[39m f_il_jl) \u001b[39m+\u001b[39m residual_i \u001b[39m*\u001b[39m (residual_i \u001b[39m<\u001b[39m f_il_jl))\u001b[39m*\u001b[39m (residual_i \u001b[39m>\u001b[39m\u001b[39m=\u001b[39m \u001b[39m0\u001b[39m))\n",
      "\u001b[0;31mIndexError\u001b[0m: index 6 is out of bounds for axis 0 with size 6"
     ]
    }
   ],
   "source": [
    "bids_ij, f_hat_ij , bidder_i  = example_mkt.bidding_phase(f_ij, y_ij,.01)"
   ]
  },
  {
   "cell_type": "code",
   "execution_count": 56,
   "metadata": {},
   "outputs": [],
   "source": [
    "f_ij , y_ij = example_mkt.assignment_phase(f_ij, y_ij, bids_ij, f_hat_ij)"
   ]
  },
  {
   "cell_type": "code",
   "execution_count": 54,
   "metadata": {},
   "outputs": [
    {
     "data": {
      "text/plain": [
       "array([[  1,   0,   0,   0,   0,   0],\n",
       "       [  0,   0,   0,   0,   1,   0],\n",
       "       [  0,   0,   0,   0,   0,   0],\n",
       "       [  0,   0,   0,   0,   0,   0],\n",
       "       [  0,   2,   0,   0,   1,   0],\n",
       "       [  0,   0,   3,   2,   0, 205]])"
      ]
     },
     "execution_count": 54,
     "metadata": {},
     "output_type": "execute_result"
    }
   ],
   "source": [
    "f_ij"
   ]
  },
  {
   "cell_type": "code",
   "execution_count": null,
   "metadata": {},
   "outputs": [],
   "source": []
  }
 ],
 "metadata": {
  "kernelspec": {
   "display_name": "Python 3",
   "language": "python",
   "name": "python3"
  },
  "language_info": {
   "codemirror_mode": {
    "name": "ipython",
    "version": 3
   },
   "file_extension": ".py",
   "mimetype": "text/x-python",
   "name": "python",
   "nbconvert_exporter": "python",
   "pygments_lexer": "ipython3",
   "version": "3.12.0"
  }
 },
 "nbformat": 4,
 "nbformat_minor": 2
}
