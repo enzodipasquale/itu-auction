{
 "cells": [
  {
   "cell_type": "code",
   "execution_count": 1,
   "metadata": {},
   "outputs": [],
   "source": [
    "import gurobipy as grb\n",
    "from gurobipy import GRB\n",
    "import scipy.sparse as spr\n",
    "import numpy as np\n",
    "import random\n",
    "import matplotlib.pyplot as plt\n",
    "#from sympy import symbols, Rational\n",
    "from IPython.display import display, Math, Markdown\n",
    "import numpy.ma as ma\n",
    "import scipy as sp"
   ]
  },
  {
   "cell_type": "code",
   "execution_count": 2,
   "metadata": {},
   "outputs": [],
   "source": [
    "class OneToOneITU():\n",
    "    def __init__(self, n, m, parameters = (None,None) , lbs=(0, 0)):\n",
    "        self.n = n\n",
    "        self.m = m\n",
    "        self.lb_U, self.lb_V = lbs\n",
    "     \n",
    "       \n",
    "        self.A_ij = parameters[0]\n",
    "        self.B_ij = parameters[1]\n",
    "\n",
    "    def D_ij(self, U_i, V_j):\n",
    "        return (U_i[:, None] + self.A_ij * V_j[None, :] - self.B_ij)/(1+ self.A_ij)\n",
    "\n",
    "    def get_U_ij(self, V_j, i_idx ,j_idx = None):\n",
    "        if j_idx is None:\n",
    "            return self.B_ij[i_idx] - self.A_ij[i_idx] * V_j[None, :]\n",
    "        else:\n",
    "            return self.B_ij[i_idx,j_idx] - self.A_ij[i_idx,j_idx] * V_j[None, j_idx]\n",
    "\n",
    "    def get_V_ij(self,i_idx, j_idx , U_i):\n",
    "        return (self.B_ij[i_idx,j_idx] -  U_i)/ self.A_ij[i_idx,j_idx]"
   ]
  },
  {
   "cell_type": "code",
   "execution_count": 3,
   "metadata": {},
   "outputs": [],
   "source": [
    "# def transpose_mkt(self):\n",
    "#     n, m = self.n, self.m\n",
    "#     self.m = n\n",
    "#     self.n = m\n",
    "\n",
    "#     self.A_ij = 1 / self.A_ij.T\n",
    "#     self.B_ij = self.B_ij.T/ self.A_ij\n",
    "\n",
    "# OneToOneITU.transpose_mkt = transpose_mkt"
   ]
  },
  {
   "cell_type": "code",
   "execution_count": 4,
   "metadata": {},
   "outputs": [],
   "source": [
    "def check_primal_feas(self, mu_ij):\n",
    "    print(f\"i: { np.all(np.sum(mu_ij,axis=1) <= np.ones(self.n))}, j:  {np.all(np.sum(mu_ij,axis=0) <= np.ones(self.m)) }\")\n",
    "    print(f\"#matched: {int(np.sum(mu_ij))} over {np.minimum(self.n,self.m)}\")\n",
    "\n",
    "OneToOneITU.check_primal_feas = check_primal_feas\n",
    "\n",
    "def check_IR(self,mu_ij,U_i,V_j, output = False):\n",
    "    IR_i = np.sum((U_i - self.lb_U)* (1- np.sum(mu_ij,axis=1)))\n",
    "    IR_j = np.sum((V_j - self.lb_V) * (1 - np.sum(mu_ij,axis=0))) \n",
    "    print(f\"i: { IR_i}, j:  {IR_j }\")\n",
    "    if output is True:\n",
    "        IR_i = (U_i - self.lb_U)* (np.sum(mu_ij,axis=1) - 1) >= 0 \n",
    "        IR_j = (V_j - self.lb_V) * (np.sum(mu_ij,axis=0) - 1) >= 0\n",
    "        return IR_i, IR_j\n",
    "    \n",
    "OneToOneITU.check_IR = check_IR\n",
    "\n",
    "def check_CS(self,U_i,V_j, output = None):\n",
    "    CS = np.minimum(self.D_ij(U_i,V_j),0)\n",
    "    if output:\n",
    "        return CS, np.where(CS < 0 )\n",
    "    print(f\"min_ij D_ij : {(self.D_ij(U_i,V_j)).min()} \")\n",
    "    \n",
    "OneToOneITU.check_CS = check_CS \n",
    "\n",
    "def check_all(self,eq):\n",
    "    mu_ij, U_i, V_j = eq \n",
    "    print(\"FEAS\")\n",
    "    self.check_primal_feas(mu_ij)\n",
    "    print(\"________________\")\n",
    "    print(\"ε-CS\")\n",
    "    self.check_CS(U_i, V_j )\n",
    "    print(\"________________\")\n",
    "    print(\"IR\")\n",
    "    self.check_IR(mu_ij, U_i, V_j )\n",
    "\n",
    "OneToOneITU.check_all = check_all"
   ]
  },
  {
   "cell_type": "markdown",
   "metadata": {},
   "source": [
    "# Auction algorithms"
   ]
  },
  {
   "cell_type": "markdown",
   "metadata": {},
   "source": [
    "### Forward Auction"
   ]
  },
  {
   "cell_type": "code",
   "execution_count": 5,
   "metadata": {},
   "outputs": [],
   "source": [
    "def forward_auction(self, data = None, tol_ε = None):\n",
    "    if data is None:\n",
    "        V_j = np.ones(self.m) * self.lb_V\n",
    "        mu_ij = np.ones( self.n, dtype= int) * (self.m +1)\n",
    "    else:\n",
    "        mu_ij_01 = data[0]\n",
    "        V_j = data[1]\n",
    "        id_i, id_j = np.where(mu_ij_01[:,:-1] >0)\n",
    "        mu_ij = np.ones(self.n, dtype= int) * (self.m+1)\n",
    "        mu_ij[id_i] = id_j\n",
    "\n",
    "    unassigned = np.where(mu_ij == self.m + 1)[0] \n",
    "    n_unassigned = len(unassigned)\n",
    "    iter = 0\n",
    "\n",
    "    while n_unassigned > 0:\n",
    "        iter += 1\n",
    "        U_ij = self.get_U_ij( V_j, unassigned)\n",
    "        perm_unmatched = np.all(U_ij <= self.lb_U, axis = 1)\n",
    "        \n",
    "        if np.any(perm_unmatched):\n",
    "            mu_ij[unassigned] += (self.m - mu_ij[unassigned]) * perm_unmatched\n",
    "        \n",
    "        else:\n",
    "            ### bidding phase\n",
    "            U_ij = np.concatenate((U_ij, self.lb_U * np.ones((n_unassigned,1))), axis = 1)\n",
    "            j_i = np.argmax(U_ij, axis= 1)\n",
    "            masked_U_ij = np.where(j_i[:,None] == np.arange(self.m+1)[None, :], -np.inf,U_ij)\n",
    "            w_i = np.max(masked_U_ij, axis=1)\n",
    "            j_i_unique = np.unique(j_i)\n",
    "            offers = np.where(j_i[:,None] == j_i_unique[None,:], \n",
    "                              self.get_V_ij(unassigned[:,None],j_i_unique[None,:],w_i[:,None]), \n",
    "                              np.nan)\n",
    "\n",
    "            ### assignment phase\n",
    "            i_j_among_unass = np.nanargmax(offers, axis = 0)\n",
    "            i_j = unassigned[ i_j_among_unass]\n",
    "            best_offer_j = offers[i_j_among_unass, np.arange(len(j_i_unique))]\n",
    "\n",
    "            # modify solution\n",
    "            mu_ij[  np.any( mu_ij[:,None] == j_i_unique , axis = 1) ] = self.m +1\n",
    "            mu_ij[i_j] = j_i_unique\n",
    "            V_j[j_i_unique] += np.maximum(best_offer_j - V_j[j_i_unique], tol_ε)\n",
    "        \n",
    "        unassigned = np.where(mu_ij == self.m + 1)[0]\n",
    "        n_unassigned = len(unassigned)\n",
    "        \n",
    "    print(f\"for{iter}\")\n",
    "    matched_i =  mu_ij < self.m\n",
    "    U_i = np.ones(self.n) * self.lb_U\n",
    "    U_i[matched_i] = self.get_U_ij(V_j, matched_i)[np.arange(matched_i.sum()), mu_ij[matched_i]]\n",
    "    mu_ij_01 = mu_ij[:,None] == np.arange(self.m +1)\n",
    "\n",
    "    return mu_ij_01, U_i, V_j\n",
    "    \n",
    "\n",
    "OneToOneITU.forward_auction = forward_auction"
   ]
  },
  {
   "cell_type": "markdown",
   "metadata": {},
   "source": [
    "#### Example forward auction"
   ]
  },
  {
   "cell_type": "code",
   "execution_count": 6,
   "metadata": {},
   "outputs": [],
   "source": [
    "# n_i = 400\n",
    "# m_j = 300\n",
    "# np.random.seed(430)\n",
    "# A_ij = (np.random.normal(2,2,[n_i,m_j]).round(0))**2+1\n",
    "# B_ij = np.random.normal(40,5,[n_i,m_j]).round(0)\n",
    "\n",
    "# example_mkt = OneToOneITU( n_i,m_j, (A_ij,B_ij), tol=None)\n",
    "# mu_ij_01, u_i, v_j = example_mkt.forward_auction(tol_ε = .0001)"
   ]
  },
  {
   "cell_type": "code",
   "execution_count": 7,
   "metadata": {},
   "outputs": [],
   "source": [
    "# example_mkt.forward_auction((mu_ij_01, v_j ), tol_ε = 5)"
   ]
  },
  {
   "cell_type": "code",
   "execution_count": 8,
   "metadata": {},
   "outputs": [],
   "source": [
    "# example_mkt.check_all((mu_ij_01[:,:-1], u_i, v_j))"
   ]
  },
  {
   "cell_type": "markdown",
   "metadata": {},
   "source": [
    "#### TU"
   ]
  },
  {
   "cell_type": "code",
   "execution_count": 9,
   "metadata": {},
   "outputs": [],
   "source": [
    "# n_TU = 25\n",
    "# m_TU = 20\n",
    "# A_TU = np.ones([n_TU,m_TU])\n",
    "# B_TU = np.random.normal(40,5,[n_TU,m_TU]).round(0)"
   ]
  },
  {
   "cell_type": "code",
   "execution_count": 10,
   "metadata": {},
   "outputs": [],
   "source": [
    "# example_mkt = OneToOneITU( n_TU,m_TU, (A_TU,B_TU), tol=0.000001)\n",
    "# mu_TU, u_TU, v_TU = example_mkt.forward_auction()"
   ]
  },
  {
   "cell_type": "code",
   "execution_count": 11,
   "metadata": {},
   "outputs": [],
   "source": [
    "# example_mkt = OneToOneITU( n_TU,m_TU, (A_TU,B_TU), tol=0.000001)\n",
    "# mu_TU, u_TU, v_TU = example_mkt.forward_auction()\n",
    "# def solve_1to1(Φ_i_j):\n",
    "#     n, m = np.shape(Φ_i_j)\n",
    "#     M_z_a = spr.bmat([[spr.kron(spr.eye(n), np.ones((1, m)))],\n",
    "#                       [spr.kron(np.ones((1, n)), spr.eye(m))]])\n",
    "  \n",
    "#     q = np.concatenate((np.ones(n), np.ones(m)))\n",
    "\n",
    "#     model = grb.Model()\n",
    "#     mu_a = model.addMVar(n * m, vtype=grb.GRB.INTEGER)\n",
    "#     model.setObjective(Φ_i_j.flatten() @ mu_a, GRB.MAXIMIZE)\n",
    "#     model.addConstr(M_z_a @ mu_a <= q)\n",
    "    \n",
    "#     model.Params.OutputFlag = 0\n",
    "#     model.optimize()\n",
    "\n",
    "#     return np.array(model.x, dtype= bool).reshape([n,m])*1\n",
    "\n",
    "# mu_gurobi = solve_1to1(B_TU)\n",
    "# print((mu_gurobi * B_TU).sum())\n",
    "# print(u_TU.sum() +v_TU.sum())"
   ]
  },
  {
   "cell_type": "markdown",
   "metadata": {},
   "source": [
    "### Backward Auction"
   ]
  },
  {
   "cell_type": "code",
   "execution_count": 12,
   "metadata": {},
   "outputs": [],
   "source": [
    "def backward_auction(self, data, tol_ε, max_back_iter = 30):\n",
    "    mu_ij_01, U_i, V_j = data\n",
    "    id_i, id_j = np.where(mu_ij_01[:,:-1] >0)\n",
    "    mu_ij = np.ones(self.m) * self.n\n",
    "    mu_ij[id_j] = id_i\n",
    "\n",
    "    cont = True\n",
    "    iter = 1\n",
    "    while cont and iter < max_back_iter:\n",
    "        iter += 1\n",
    "     \n",
    "        ### bidding phase\n",
    "        V_ij = np.concatenate((self.get_V_ij(np.arange(self.n)[:,None], np.ones(self.m, dtype= bool),U_i[:,None] + tol_ε),\n",
    "                                np.ones(self.m)[None,:]* self.lb_V), axis = 0 )\n",
    "        i_j = np.argmax(V_ij, axis=0)\n",
    "        masked_V = np.where(np.arange(self.n+1)[:,None] == i_j[None, :], -np.inf,V_ij)\n",
    "        β_j = V_ij[i_j,np.arange(self.m)]\n",
    "        V_j[((mu_ij == self.n) * (V_j - self.lb_V)> 0)] = self.lb_V\n",
    "        γ_j = np.max(masked_V, axis=0)\n",
    "      \n",
    "        j_bidding = β_j > V_j\n",
    "        if np.any (j_bidding):\n",
    "            i_j_bidding = i_j[None,j_bidding]\n",
    "            i_j_unique = np.unique(i_j_bidding)\n",
    "            bids_ij = self.get_U_ij(γ_j,i_j_unique[:,None], j_bidding) \n",
    "            bids_ij = np.where(i_j_unique[:,None] == i_j_bidding[None,:], bids_ij, np.nan)[0]\n",
    "\n",
    "            ### assignment phase\n",
    "            j_i = np.nanargmax(bids_ij, axis=1)\n",
    "            max_bids_i = bids_ij[range(len(i_j_unique)),j_i]\n",
    "           \n",
    "            # return to original indeces\n",
    "            j_i = np.where(j_bidding >0)[0][j_i]\n",
    "            i_j_unique = i_j[j_i]\n",
    "            # modify mu,u,v\n",
    "            U_i[i_j_unique] = max_bids_i\n",
    "            V_j[j_i] = γ_j[j_i]\n",
    "            mu_ij[  np.any( mu_ij[:,None] == i_j_unique , axis = 1) ] = self.n \n",
    "            mu_ij[j_i] = i_j_unique \n",
    "        else:\n",
    "            cont = False\n",
    "    print(iter)\n",
    "    ####\n",
    "    #print( np.any(((mu_ij == self.n) * (V_j - self.lb_V)> 0)))\n",
    "    V_j[((mu_ij == self.n) * (V_j - self.lb_V)> 0)] = self.lb_V\n",
    "    ####\n",
    "    mu_ij_01 = np.concatenate((np.arange(self.n)[:,None] == mu_ij,\n",
    "                                np.zeros(self.n)[:,None]), axis = 1)\n",
    "    mu_ij_01[:,-1] = np.all(mu_ij_01 == 0, axis= 1)\n",
    "    return mu_ij_01, U_i, V_j\n",
    "\n",
    "OneToOneITU.backward_auction = backward_auction"
   ]
  },
  {
   "cell_type": "markdown",
   "metadata": {},
   "source": [
    "#### Notes backward"
   ]
  },
  {
   "cell_type": "code",
   "execution_count": 13,
   "metadata": {},
   "outputs": [],
   "source": [
    "# eps = 10"
   ]
  },
  {
   "cell_type": "code",
   "execution_count": 14,
   "metadata": {},
   "outputs": [],
   "source": [
    "# mu_ij_01, u_i, v_j = example_mkt.forward_auction(tol_ε = eps)"
   ]
  },
  {
   "cell_type": "code",
   "execution_count": 15,
   "metadata": {},
   "outputs": [],
   "source": [
    "# eps = eps /2"
   ]
  },
  {
   "cell_type": "code",
   "execution_count": 16,
   "metadata": {},
   "outputs": [],
   "source": [
    "# mu_ij_01, u_i, v_j = example_mkt.backward_auction((mu_ij_01, u_i, v_j), eps)"
   ]
  },
  {
   "cell_type": "code",
   "execution_count": 17,
   "metadata": {},
   "outputs": [],
   "source": [
    "# mu_ij_01, u_i, v_j = example_mkt.forward_auction((mu_ij_01, v_j ), tol_ε = eps)"
   ]
  },
  {
   "cell_type": "code",
   "execution_count": 18,
   "metadata": {},
   "outputs": [],
   "source": [
    "# mu_ij_01, u_i, v_j = example_mkt.forward_auction( (mu_ij_01, v_j), .00001)"
   ]
  },
  {
   "cell_type": "code",
   "execution_count": 19,
   "metadata": {},
   "outputs": [],
   "source": [
    "# for k in range(20):\n",
    "#     eps = eps /2\n",
    "#     mu_ij_01, u_i, v_j = example_mkt.backward_auction((mu_ij_01, u_i, v_j), eps)\n",
    "#     mu_ij_01, u_i, v_j = example_mkt.forward_auction((mu_ij_01, v_j ), tol_ε = eps)\n",
    "\n"
   ]
  },
  {
   "cell_type": "code",
   "execution_count": 20,
   "metadata": {},
   "outputs": [],
   "source": [
    "# example_mkt.check_all((mu_ij_01[:,:-1], u_i, v_j))"
   ]
  },
  {
   "cell_type": "markdown",
   "metadata": {},
   "source": [
    "### Forward-backward auction"
   ]
  },
  {
   "cell_type": "code",
   "execution_count": 21,
   "metadata": {},
   "outputs": [],
   "source": [
    "def forward_backward_scaling(self, tol_ε ,tol_ε_obj, scaling_factor, max_back_iter  ):\n",
    "    mu_ij_01, u_i, v_j = self.forward_auction(tol_ε = tol_ε)\n",
    "    # for k in range(10):\n",
    "    while tol_ε > tol_ε_obj:\n",
    "        tol_ε *=  scaling_factor\n",
    "        # print(\"####\")\n",
    "        # print( tol_ε)\n",
    "        mu_ij_01, u_i, v_j = self.backward_auction((mu_ij_01, u_i, v_j), tol_ε,max_back_iter)\n",
    "        #print(\"done back\")\n",
    "        mu_ij_01, u_i, v_j = self.forward_auction((mu_ij_01, v_j ), tol_ε = tol_ε)\n",
    "        #print(np.all((1-mu_ij_01[:,:-1].sum(1))*(u_i <= self.lb_U  ) ))\n",
    "        #print(\"done for\")\n",
    "        #self.check_IR(mu_ij_01[:,:-1],u_i,v_j)\n",
    "        #print(np.min(self.check_CS(u_i,v_j,True)[0]))\n",
    "        if np.all(self.check_CS(u_i,v_j,True)[0]>=0):\n",
    "            return mu_ij_01, u_i, v_j\n",
    "\n",
    "    return mu_ij_01, u_i, v_j\n",
    "OneToOneITU.forward_backward_scaling =forward_backward_scaling  "
   ]
  },
  {
   "cell_type": "code",
   "execution_count": 22,
   "metadata": {},
   "outputs": [],
   "source": [
    "# n_i = 600\n",
    "# m_j = 300\n",
    "# np.random.seed(430)\n",
    "# A_ij = (np.random.normal(2,2,[n_i,m_j]).round(0))**2+1\n",
    "# B_ij = np.random.normal(40,5,[n_i,m_j]).round(0)\n",
    "\n",
    "# example_mkt = OneToOneITU( n_i,m_j, (A_ij,B_ij))"
   ]
  },
  {
   "cell_type": "code",
   "execution_count": 23,
   "metadata": {},
   "outputs": [],
   "source": [
    "# mu_ij_01_scaling, u_i_scaling, v_j_scaling = example_mkt.forward_backward_scaling(1,1e-7,scaling_factor= 1/2, max_back_iter = np.inf )"
   ]
  },
  {
   "cell_type": "code",
   "execution_count": 24,
   "metadata": {},
   "outputs": [],
   "source": [
    "# example_mkt.check_all((mu_ij_01_scaling[:,:-1], u_i_scaling, v_j_scaling ))"
   ]
  },
  {
   "cell_type": "code",
   "execution_count": 25,
   "metadata": {},
   "outputs": [],
   "source": [
    "# mu_ij_01_noscaling, u_i_noscaling, v_j_noscaling = example_mkt.forward_auction(tol_ε= 0.000001)"
   ]
  },
  {
   "cell_type": "markdown",
   "metadata": {},
   "source": [
    "#### Another example"
   ]
  },
  {
   "cell_type": "code",
   "execution_count": 35,
   "metadata": {},
   "outputs": [],
   "source": [
    "def generate_example(self):\n",
    "    np.random.seed(1065470)\n",
    "    k = 2\n",
    "\n",
    "    θ_true = np.array([.4,-.2, 1,2])\n",
    "\n",
    "    X_i = np.random.normal([5,1],[5,1], size = [self.n, k]).round(0)\n",
    "    Y_j = np.random.normal([5,1],[5,1], size = [self.m, k]).round(0)\n",
    "    #X_ijk = np.random.choice(10, size = (self.n_i,m_j, k))\n",
    "\n",
    "    A = np.exp( np.abs((X_i[:,None,:]- Y_j[None,:,:]))@  θ_true[:k])\n",
    "    B = np.abs((X_i[:,None,:]- Y_j[None,:,:])) @ θ_true[k:2*k] \n",
    "    print(len(np.unique(X_i)))\n",
    "    self.A_ij = A\n",
    "    self.B_ij = B\n",
    "\n",
    "OneToOneITU.generate_example = generate_example"
   ]
  },
  {
   "cell_type": "code",
   "execution_count": 43,
   "metadata": {},
   "outputs": [
    {
     "name": "stdout",
     "output_type": "stream",
     "text": [
      "28\n"
     ]
    }
   ],
   "source": [
    "n_i = 300\n",
    "m_j  = 309\n",
    "ex2_mrk = OneToOneITU( n_i,m_j)\n",
    "ex2_mrk.generate_example()"
   ]
  },
  {
   "cell_type": "code",
   "execution_count": 37,
   "metadata": {},
   "outputs": [
    {
     "data": {
      "text/plain": [
       "0.0"
      ]
     },
     "execution_count": 37,
     "metadata": {},
     "output_type": "execute_result"
    }
   ],
   "source": [
    "ex2_mrk.B_ij.min()"
   ]
  },
  {
   "cell_type": "code",
   "execution_count": 42,
   "metadata": {},
   "outputs": [
    {
     "ename": "KeyboardInterrupt",
     "evalue": "",
     "output_type": "error",
     "traceback": [
      "\u001b[0;31m---------------------------------------------------------------------------\u001b[0m",
      "\u001b[0;31mKeyboardInterrupt\u001b[0m                         Traceback (most recent call last)",
      "\u001b[1;32m/Users/enzo-macmini/auction_alg_ITU/forward_reverse_scaling.ipynb Cell 37\u001b[0m line \u001b[0;36m1\n\u001b[0;32m----> <a href='vscode-notebook-cell:/Users/enzo-macmini/auction_alg_ITU/forward_reverse_scaling.ipynb#Y443sZmlsZQ%3D%3D?line=0'>1</a>\u001b[0m mu_ij_01_noscaling, u_i_noscaling, v_j_noscaling \u001b[39m=\u001b[39m ex2_mrk\u001b[39m.\u001b[39;49mforward_auction(tol_ε\u001b[39m=\u001b[39;49m \u001b[39m.00001\u001b[39;49m)\n",
      "\u001b[1;32m/Users/enzo-macmini/auction_alg_ITU/forward_reverse_scaling.ipynb Cell 37\u001b[0m line \u001b[0;36m3\n\u001b[1;32m     <a href='vscode-notebook-cell:/Users/enzo-macmini/auction_alg_ITU/forward_reverse_scaling.ipynb#Y443sZmlsZQ%3D%3D?line=28'>29</a>\u001b[0m w_i \u001b[39m=\u001b[39m np\u001b[39m.\u001b[39mmax(masked_U_ij, axis\u001b[39m=\u001b[39m\u001b[39m1\u001b[39m)\n\u001b[1;32m     <a href='vscode-notebook-cell:/Users/enzo-macmini/auction_alg_ITU/forward_reverse_scaling.ipynb#Y443sZmlsZQ%3D%3D?line=29'>30</a>\u001b[0m j_i_unique \u001b[39m=\u001b[39m np\u001b[39m.\u001b[39munique(j_i)\n\u001b[0;32m---> <a href='vscode-notebook-cell:/Users/enzo-macmini/auction_alg_ITU/forward_reverse_scaling.ipynb#Y443sZmlsZQ%3D%3D?line=30'>31</a>\u001b[0m offers \u001b[39m=\u001b[39m np\u001b[39m.\u001b[39;49mwhere(j_i[:,\u001b[39mNone\u001b[39;49;00m] \u001b[39m==\u001b[39;49m j_i_unique[\u001b[39mNone\u001b[39;49;00m,:], \n\u001b[1;32m     <a href='vscode-notebook-cell:/Users/enzo-macmini/auction_alg_ITU/forward_reverse_scaling.ipynb#Y443sZmlsZQ%3D%3D?line=31'>32</a>\u001b[0m                   \u001b[39mself\u001b[39;49m\u001b[39m.\u001b[39;49mget_V_ij(unassigned[:,\u001b[39mNone\u001b[39;49;00m],j_i_unique[\u001b[39mNone\u001b[39;49;00m,:],w_i[:,\u001b[39mNone\u001b[39;49;00m]), \n\u001b[1;32m     <a href='vscode-notebook-cell:/Users/enzo-macmini/auction_alg_ITU/forward_reverse_scaling.ipynb#Y443sZmlsZQ%3D%3D?line=32'>33</a>\u001b[0m                   np\u001b[39m.\u001b[39;49mnan)\n\u001b[1;32m     <a href='vscode-notebook-cell:/Users/enzo-macmini/auction_alg_ITU/forward_reverse_scaling.ipynb#Y443sZmlsZQ%3D%3D?line=34'>35</a>\u001b[0m \u001b[39m### assignment phase\u001b[39;00m\n\u001b[1;32m     <a href='vscode-notebook-cell:/Users/enzo-macmini/auction_alg_ITU/forward_reverse_scaling.ipynb#Y443sZmlsZQ%3D%3D?line=35'>36</a>\u001b[0m i_j_among_unass \u001b[39m=\u001b[39m np\u001b[39m.\u001b[39mnanargmax(offers, axis \u001b[39m=\u001b[39m \u001b[39m0\u001b[39m)\n",
      "File \u001b[0;32m/Library/Frameworks/Python.framework/Versions/3.12/lib/python3.12/site-packages/numpy/core/multiarray.py:346\u001b[0m, in \u001b[0;36mwhere\u001b[0;34m(condition, x, y)\u001b[0m\n\u001b[1;32m    256\u001b[0m \u001b[39m    \u001b[39m\u001b[39m\"\"\"\u001b[39;00m\n\u001b[1;32m    257\u001b[0m \u001b[39m    inner(a, b, /)\u001b[39;00m\n\u001b[1;32m    258\u001b[0m \n\u001b[0;32m   (...)\u001b[0m\n\u001b[1;32m    341\u001b[0m \n\u001b[1;32m    342\u001b[0m \u001b[39m    \"\"\"\u001b[39;00m\n\u001b[1;32m    343\u001b[0m     \u001b[39mreturn\u001b[39;00m (a, b)\n\u001b[0;32m--> 346\u001b[0m \u001b[39m@array_function_from_c_func_and_dispatcher\u001b[39m(_multiarray_umath\u001b[39m.\u001b[39mwhere)\n\u001b[1;32m    347\u001b[0m \u001b[39mdef\u001b[39;00m \u001b[39mwhere\u001b[39m(condition, x\u001b[39m=\u001b[39m\u001b[39mNone\u001b[39;00m, y\u001b[39m=\u001b[39m\u001b[39mNone\u001b[39;00m):\n\u001b[1;32m    348\u001b[0m \u001b[39m    \u001b[39m\u001b[39m\"\"\"\u001b[39;00m\n\u001b[1;32m    349\u001b[0m \u001b[39m    where(condition, [x, y], /)\u001b[39;00m\n\u001b[1;32m    350\u001b[0m \n\u001b[0;32m   (...)\u001b[0m\n\u001b[1;32m    416\u001b[0m \u001b[39m           [ 0,  3, -1]])\u001b[39;00m\n\u001b[1;32m    417\u001b[0m \u001b[39m    \"\"\"\u001b[39;00m\n\u001b[1;32m    418\u001b[0m     \u001b[39mreturn\u001b[39;00m (condition, x, y)\n",
      "\u001b[0;31mKeyboardInterrupt\u001b[0m: "
     ]
    }
   ],
   "source": [
    "mu_ij_01_noscaling, u_i_noscaling, v_j_noscaling = ex2_mrk.forward_auction(tol_ε= .00001)"
   ]
  },
  {
   "cell_type": "code",
   "execution_count": 44,
   "metadata": {},
   "outputs": [
    {
     "name": "stdout",
     "output_type": "stream",
     "text": [
      "for106\n",
      "1247\n",
      "for0\n",
      "59\n",
      "for50\n",
      "1334\n",
      "for0\n",
      "59\n",
      "for265\n",
      "775\n",
      "for155\n",
      "1080\n",
      "for105\n",
      "1337\n",
      "for218\n",
      "1454\n",
      "for311\n",
      "1247\n",
      "for384\n",
      "2500\n",
      "for798\n",
      "6496\n",
      "for162\n",
      "5125\n",
      "for180\n",
      "5602\n",
      "for192\n",
      "5475\n",
      "for185\n",
      "4500\n",
      "for199\n",
      "6170\n",
      "for238\n",
      "5381\n",
      "for216\n",
      "4591\n",
      "for117\n",
      "1105\n",
      "for770\n",
      "947\n",
      "for3\n",
      "692\n",
      "for3\n",
      "859\n",
      "for4\n",
      "664\n",
      "for3\n",
      "1028\n",
      "for4\n",
      "959\n",
      "for5\n",
      "1192\n",
      "for3\n",
      "860\n",
      "for3\n"
     ]
    }
   ],
   "source": [
    "mu_ij_01_scaling, u_i_scaling, v_j_scaling = ex2_mrk.forward_backward_scaling(1,1e-8,scaling_factor= 1/2, max_back_iter = np.inf )"
   ]
  },
  {
   "cell_type": "code",
   "execution_count": 45,
   "metadata": {},
   "outputs": [
    {
     "name": "stdout",
     "output_type": "stream",
     "text": [
      "FEAS\n",
      "i: True, j:  True\n",
      "#matched: 300 over 300\n",
      "________________\n",
      "ε-CS\n",
      "min_ij D_ij : -7.440458833048379e-09 \n",
      "________________\n",
      "IR\n",
      "i: 0.0, j:  0.0\n"
     ]
    }
   ],
   "source": [
    "ex2_mrk.check_all( (mu_ij_01_scaling[:,:-1], u_i_scaling, v_j_scaling ))"
   ]
  },
  {
   "cell_type": "markdown",
   "metadata": {},
   "source": [
    "Next steps:\n",
    "* $ij$-specific scaling\n",
    "* max iter in the backward iteration\n",
    "* (IMPORTANT) now all you are computing V_ij for all i and j in backward"
   ]
  },
  {
   "cell_type": "code",
   "execution_count": null,
   "metadata": {},
   "outputs": [],
   "source": []
  }
 ],
 "metadata": {
  "kernelspec": {
   "display_name": "Python 3",
   "language": "python",
   "name": "python3"
  },
  "language_info": {
   "codemirror_mode": {
    "name": "ipython",
    "version": 3
   },
   "file_extension": ".py",
   "mimetype": "text/x-python",
   "name": "python",
   "nbconvert_exporter": "python",
   "pygments_lexer": "ipython3",
   "version": "3.12.0"
  }
 },
 "nbformat": 4,
 "nbformat_minor": 2
}
