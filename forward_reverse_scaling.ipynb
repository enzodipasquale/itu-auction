{
 "cells": [
  {
   "cell_type": "code",
   "execution_count": 27,
   "metadata": {},
   "outputs": [],
   "source": [
    "import gurobipy as grb\n",
    "from gurobipy import GRB\n",
    "import scipy.sparse as spr\n",
    "import numpy as np\n",
    "import random\n",
    "import matplotlib.pyplot as plt\n",
    "#from sympy import symbols, Rational\n",
    "from IPython.display import display, Math, Markdown\n",
    "import numpy.ma as ma\n",
    "import scipy as sp"
   ]
  },
  {
   "cell_type": "code",
   "execution_count": 28,
   "metadata": {},
   "outputs": [],
   "source": [
    "class OneToOneITU():\n",
    "    def __init__(self, n, m, parameters = (None,None) , lbs=(0, 0)):\n",
    "        self.n = n\n",
    "        self.m = m\n",
    "        self.lb_U, self.lb_V = lbs\n",
    "     \n",
    "       \n",
    "        self.A_ij = parameters[0]\n",
    "        self.B_ij = parameters[1]\n",
    "        \n",
    "        self.max_A_j = np.max(parameters[0],0)\n",
    "\n",
    "    def D_ij(self, U_i, V_j):\n",
    "        return (U_i[:, None] + self.A_ij * V_j[None, :] - self.B_ij)/(1+ self.A_ij)\n",
    "\n",
    "    def get_U_ij(self, V_j, i_idx ,j_idx = None):\n",
    "        if j_idx is None:\n",
    "            return self.B_ij[i_idx] - self.A_ij[i_idx] * V_j[None, :]\n",
    "        else:\n",
    "            return self.B_ij[i_idx,j_idx] - self.A_ij[i_idx,j_idx] * V_j[None, :]\n",
    "\n",
    "    def get_V_ij(self, U_i, j_idx ,i_idx = None):\n",
    "        if i_idx is None:\n",
    "            return (self.B_ij[:,j_idx] -  U_i[:,None])/ self.A_ij[:,j_idx]\n",
    "        else:\n",
    "            return (self.B_ij[i_idx,j_idx] -  U_i[:,None])/ self.A_ij[i_idx,j_idx]"
   ]
  },
  {
   "cell_type": "code",
   "execution_count": 29,
   "metadata": {},
   "outputs": [],
   "source": [
    "def generate_example(self, var_i, var_j, random_seed):\n",
    "    np.random.seed(random_seed)\n",
    "    k = 2\n",
    "\n",
    "    θ_true = np.array([-0.1,0.1, 1,2])\n",
    "\n",
    "    X_i = np.random.normal([5,var_i],[5,var_i], size = [self.n, k]).round(0)\n",
    "    Y_j = np.random.normal([5,var_j],[5,var_j], size = [self.m, k]).round(0)\n",
    "    #X_ijk = np.random.choice(10, size = (self.n_i,m_j, k))\n",
    "\n",
    "    A = np.exp( np.abs((X_i[:,None,:]- Y_j[None,:,:]))@  θ_true[:k]).round(1)+.001\n",
    "    B = np.abs((X_i[:,None,:]*Y_j[None,:,:])) @ θ_true[k:2*k] \n",
    "    print(len(np.unique(X_i)))\n",
    "    self.A_ij = A\n",
    "    self.B_ij = B\n",
    "    self.max_A_j = np.max(A, axis= 0)\n",
    "\n",
    "OneToOneITU.generate_example = generate_example"
   ]
  },
  {
   "cell_type": "code",
   "execution_count": 30,
   "metadata": {},
   "outputs": [],
   "source": [
    "# def transpose_mkt(self):\n",
    "#     n, m = self.n, self.m\n",
    "#     self.m = n\n",
    "#     self.n = m\n",
    "\n",
    "#     self.A_ij = 1 / self.A_ij.T\n",
    "#     self.B_ij = self.B_ij.T/ self.A_ij\n",
    "\n",
    "# OneToOneITU.transpose_mkt = transpose_mkt"
   ]
  },
  {
   "cell_type": "code",
   "execution_count": 31,
   "metadata": {},
   "outputs": [],
   "source": [
    "def check_primal_feas(self, mu_ij):\n",
    "    print(f\"i: { np.all(np.sum(mu_ij,axis=1) <= 1)}, j:  {np.all(np.sum(mu_ij,axis=0) <= 1) }\")\n",
    "    print(f\"#matched: {int(np.sum(mu_ij))} over {np.minimum(self.n,self.m)}\")\n",
    "\n",
    "OneToOneITU.check_primal_feas = check_primal_feas\n",
    "\n",
    "def check_IR(self,mu_ij,U_i,V_j, output = False):\n",
    "    IR_i = np.sum((U_i - self.lb_U)* (1- np.sum(mu_ij,axis=1)))\n",
    "    IR_j = np.sum((V_j - self.lb_V) * (1 - np.sum(mu_ij,axis=0))) \n",
    "    print(f\"i: { IR_i}, j:  {IR_j }\")\n",
    "    if output is True:\n",
    "        IR_i = (U_i - self.lb_U)* (np.sum(mu_ij,axis=1) - 1) >= 0 \n",
    "        IR_j = (V_j - self.lb_V) * (np.sum(mu_ij,axis=0) - 1) >= 0\n",
    "        return IR_i, IR_j\n",
    "    \n",
    "OneToOneITU.check_IR = check_IR\n",
    "\n",
    "def check_CS(self,U_i,V_j, output = None):\n",
    "    CS = np.minimum(self.D_ij(U_i,V_j),0)\n",
    "    if output:\n",
    "        return CS, np.where(CS < 0 )\n",
    "    print(f\"min_ij D_ij : {(self.D_ij(U_i,V_j)).min()} \")\n",
    "    \n",
    "OneToOneITU.check_CS = check_CS \n",
    "\n",
    "def check_all(self,eq):\n",
    "    mu_ij, U_i, V_j = eq \n",
    "    print(\"FEAS\")\n",
    "    self.check_primal_feas(mu_ij)\n",
    "    print(\"________________\")\n",
    "    print(\"ε-CS\")\n",
    "    self.check_CS(U_i, V_j )\n",
    "    print(\"________________\")\n",
    "    print(\"IR\")\n",
    "    self.check_IR(mu_ij, U_i, V_j )\n",
    "\n",
    "OneToOneITU.check_all = check_all"
   ]
  },
  {
   "cell_type": "markdown",
   "metadata": {},
   "source": [
    "# Auction algorithms"
   ]
  },
  {
   "cell_type": "markdown",
   "metadata": {},
   "source": [
    "### Forward Auction"
   ]
  },
  {
   "cell_type": "code",
   "execution_count": 32,
   "metadata": {
    "slideshow": {
     "slide_type": "notes"
    }
   },
   "outputs": [],
   "source": [
    "def forward_auction(self, data = None, tol_ε = None):\n",
    "    if data is None:\n",
    "        V_j = np.ones(self.m) * self.lb_V\n",
    "        mu_i = np.ones( self.n, dtype= int) * (self.m +1)\n",
    "    else:\n",
    "        mu_ij_01 = data[0]\n",
    "        V_j = data[1]\n",
    "        id_i, id_j = np.where(mu_ij_01 > 0)\n",
    "        mu_i = np.ones(self.n, dtype= int) * (self.m+1)\n",
    "        mu_i[id_i] = id_j\n",
    "\n",
    "    unassigned_i = np.where(mu_i == self.m + 1)[0] \n",
    "    n_unassigned_i = len(unassigned_i)\n",
    "    iter = 0\n",
    "\n",
    "    while n_unassigned_i > 0:\n",
    "        iter += 1\n",
    "        U_ij = self.get_U_ij( V_j, unassigned_i)\n",
    "        perm_unmatched = np.all(U_ij <= self.lb_U+tol_ε, axis = 1)#np.all(U_ij <= self.lb_U, axis = 1)\n",
    "        \n",
    "        if np.any(perm_unmatched):\n",
    "            mu_i[unassigned_i] += (self.m - mu_i[unassigned_i]) * perm_unmatched\n",
    "        else:\n",
    "            ### bidding phase\n",
    "            U_ij = np.concatenate((U_ij, self.lb_U * np.ones((n_unassigned_i,1))), axis = 1)\n",
    "            j_i = np.argmax(U_ij, axis= 1)\n",
    "            masked_U_ij = np.where(j_i[:,None] == np.arange(self.m+1)[None, :], -np.inf,U_ij)\n",
    "            w_i = np.max(masked_U_ij, axis=1)\n",
    "            j_i_unique = np.unique(j_i)\n",
    "            offers = np.where(j_i[:,None] == j_i_unique[None,:], \n",
    "                              self.get_V_ij(w_i- tol_ε,j_i_unique[None,:],unassigned_i[:,None]), \n",
    "                              np.nan)\n",
    "       \n",
    "            ### assignment phase\n",
    "            i_j_among_unass = np.nanargmax(offers, axis = 0)\n",
    "            i_j = unassigned_i[ i_j_among_unass]\n",
    "            best_offer_j = offers[i_j_among_unass, np.arange(len(j_i_unique))]\n",
    "\n",
    "            # modify solution\n",
    "            mu_i[  np.any( mu_i[:,None] == j_i_unique , axis = 1) ] = self.m +1\n",
    "            mu_i[i_j] = j_i_unique\n",
    "            \n",
    "            V_j[j_i_unique] = best_offer_j #- V_j[j_i_unique] + tol_ε / self.A_ij[i_j,j_i_unique] #np.maximum(best_offer_j - V_j[j_i_unique], tol_ε/self.A_ij[i_j,j_i_unique])\n",
    "        \n",
    "        unassigned_i = np.where(mu_i == self.m + 1)[0]\n",
    "        n_unassigned_i = len(unassigned_i)\n",
    "        \n",
    "    print(f\"for: {iter}\")\n",
    "    matched_i =  mu_i < self.m\n",
    "    U_i = np.ones(self.n) * self.lb_U\n",
    "    U_i[matched_i] = self.get_U_ij(V_j, matched_i)[np.arange(matched_i.sum()), mu_i[matched_i]]\n",
    "    mu_ij_01 = mu_i[:,None] == np.arange(self.m +1)\n",
    "\n",
    "    return mu_ij_01[:,:-1], U_i, V_j\n",
    "    \n",
    "\n",
    "OneToOneITU.forward_auction = forward_auction"
   ]
  },
  {
   "cell_type": "code",
   "execution_count": 33,
   "metadata": {},
   "outputs": [],
   "source": [
    "# mu_ij_01_noscaling, u_i_noscaling, v_j_noscaling = example_mkt.forward_auction(tol_ε= 1)\n",
    "# print(np.all( u_i_noscaling[:,None]+ 1>=  example_mkt.get_U_ij(v_j_noscaling,np.arange(example_mkt.n)), axis= 1 ))\n",
    "# np.min(u_i_noscaling[:,None] -  example_mkt.get_U_ij(v_j_noscaling,np.arange(example_mkt.n)))"
   ]
  },
  {
   "cell_type": "markdown",
   "metadata": {},
   "source": [
    "#### TU"
   ]
  },
  {
   "cell_type": "code",
   "execution_count": 34,
   "metadata": {},
   "outputs": [],
   "source": [
    "# n_TU = 25\n",
    "# m_TU = 26\n",
    "# A_TU = np.ones([n_TU,m_TU])\n",
    "# B_TU = np.random.normal(40,5,[n_TU,m_TU]).round(0)\n",
    "\n",
    "# example_TU = OneToOneITU( n_TU,m_TU, (A_TU,B_TU))\n",
    "# mu_TU, u_TU, v_TU = example_TU.reverse_auction(tol_ε= 0.001)"
   ]
  },
  {
   "cell_type": "code",
   "execution_count": 35,
   "metadata": {},
   "outputs": [],
   "source": [
    "# def solve_1to1(Φ_i_j):\n",
    "#     n, m = np.shape(Φ_i_j)\n",
    "#     M_z_a = spr.bmat([[spr.kron(spr.eye(n), np.ones((1, m)))],\n",
    "#                       [spr.kron(np.ones((1, n)), spr.eye(m))]])\n",
    "  \n",
    "#     q = np.concatenate((np.ones(n), np.ones(m)))\n",
    "\n",
    "#     model = grb.Model()\n",
    "#     mu_a = model.addMVar(n * m, vtype=grb.GRB.INTEGER)\n",
    "#     model.setObjective(Φ_i_j.flatten() @ mu_a, GRB.MAXIMIZE)\n",
    "#     model.addConstr(M_z_a @ mu_a <= q)\n",
    "    \n",
    "#     model.Params.OutputFlag = 0\n",
    "#     model.optimize()\n",
    "\n",
    "#     return np.array(model.x, dtype= bool).reshape([n,m])*1\n",
    "\n",
    "# mu_gurobi = solve_1to1(B_TU)\n",
    "# print((mu_gurobi * B_TU).sum())\n",
    "# print(u_TU.sum() +v_TU.sum())\n",
    "# example_TU.check_all( (mu_TU, u_TU, v_TU ))"
   ]
  },
  {
   "cell_type": "markdown",
   "metadata": {},
   "source": [
    "### Reverse Auction"
   ]
  },
  {
   "cell_type": "code",
   "execution_count": 36,
   "metadata": {},
   "outputs": [],
   "source": [
    "def reverse_auction(self, data = None, tol_ε = None):\n",
    "    if data is None:\n",
    "        U_i = np.ones(self.n) * self.lb_U\n",
    "        mu_j = np.ones(self.m, dtype= int) * (self.n +1)\n",
    "    else:\n",
    "        mu_j_01 = data[0]\n",
    "        U_i = data[1]\n",
    "        id_i, id_j = np.where(mu_j_01 >0)\n",
    "        mu_j = np.ones(self.m, dtype= int) * (self.n+1)\n",
    "        mu_j[id_j] = id_i\n",
    "\n",
    "    unassigned_j = np.where(mu_j == self.n + 1)[0] \n",
    "    n_unassigned_j = len(unassigned_j)\n",
    "    iter = 0\n",
    "\n",
    "    while n_unassigned_j > 0:\n",
    "        iter += 1\n",
    "        V_ij = self.get_V_ij( U_i , unassigned_j)\n",
    "        perm_unmatched = np.all(V_ij <= self.lb_V+ tol_ε, axis = 0) #np.all(V_ij <= self.lb_V, axis = 0)\n",
    "        \n",
    "        if np.any(perm_unmatched):\n",
    "            mu_j[unassigned_j] += (self.n - mu_j[unassigned_j]) * perm_unmatched\n",
    "        \n",
    "        else:\n",
    "            ### bidding phase\n",
    "            V_ij = np.concatenate((V_ij, self.lb_V * np.ones((1,n_unassigned_j))), axis = 0)\n",
    "            i_j = np.argmax(V_ij, axis= 0)\n",
    "            masked_V_ij = np.where( np.arange(self.n+1)[:, None] == i_j[None,:] , -np.inf,V_ij)\n",
    "            β_j = np.max(masked_V_ij, axis=0)\n",
    "            i_j_unique = np.unique(i_j)\n",
    "            offers = np.where(i_j_unique[:,None] == i_j[None,:], \n",
    "                              self.get_U_ij(β_j - tol_ε,i_j_unique[:,None] ,unassigned_j[None,:]), \n",
    "                              np.nan)\n",
    "\n",
    "            ### assignment phase\n",
    "            j_i_among_unass = np.nanargmax(offers, axis = 1)\n",
    "            j_i = unassigned_j[j_i_among_unass]\n",
    "            best_offer_i = offers[np.arange(len(i_j_unique)),j_i_among_unass]\n",
    "            # modify solution\n",
    "            mu_j[ np.any( mu_j[:,None] == i_j_unique , axis = 1) ] = self.n +1\n",
    "            mu_j[j_i] = i_j_unique\n",
    "            U_i[i_j_unique] = best_offer_i #- U_i[i_j_unique] + tol_ε * self.A_ij[i_j_unique,j_i]#np.maximum(best_offer_i - U_i[i_j_unique], tol_ε * self.A_ij[i_j_unique,j_i] )#/ self.max_A_j[j_i] )\n",
    "                                        \n",
    "        unassigned_j = np.where(mu_j == self.n + 1)[0]\n",
    "        n_unassigned_j = len(unassigned_j)\n",
    "        \n",
    "    print(f\"rev: {iter}\") \n",
    "    matched_j =  mu_j < self.n\n",
    "    V_j = np.ones(self.m) * self.lb_V\n",
    "    V_j[mu_j < self.n] = self.get_V_ij(U_i, matched_j )[mu_j[matched_j],np.arange(matched_j.sum()) ]\n",
    "    mu_j_01 = np.arange(self.n +1)[:,None] == mu_j[None,:]\n",
    "\n",
    "    return mu_j_01[:-1,:], U_i, V_j\n",
    "    \n",
    "\n",
    "OneToOneITU.reverse_auction = reverse_auction"
   ]
  },
  {
   "cell_type": "code",
   "execution_count": null,
   "metadata": {},
   "outputs": [],
   "source": []
  },
  {
   "cell_type": "code",
   "execution_count": 37,
   "metadata": {},
   "outputs": [],
   "source": [
    "# n_i = 40\n",
    "# m_j  = 30\n",
    "# example_mkt = OneToOneITU( n_i,m_j)\n",
    "# example_mkt.generate_example(2,2, random_seed = 1387)"
   ]
  },
  {
   "cell_type": "code",
   "execution_count": 38,
   "metadata": {},
   "outputs": [],
   "source": [
    "# mu_ij_01_noscaling, u_i_noscaling, v_j_noscaling = example_mkt.reverse_auction(tol_ε= 1)\n",
    "# print(np.min(v_j_noscaling[None,:] - example_mkt.get_V_ij(u_i_noscaling + 1, np.arange(example_mkt.m))))\n",
    "# example_mkt.check_all( (mu_ij_01_noscaling, u_i_noscaling, v_j_noscaling ))"
   ]
  },
  {
   "cell_type": "markdown",
   "metadata": {},
   "source": [
    "### Forward-backward auction"
   ]
  },
  {
   "cell_type": "code",
   "execution_count": 39,
   "metadata": {},
   "outputs": [],
   "source": [
    "def drop_for_scaling(self, mu_ij_01, U_i,V_j, tol_ε, side = 1):\n",
    "    if side == 1:\n",
    "        violations_j = np.any( V_j[None,:] + tol_ε <  self.get_V_ij(U_i  ,np.arange(self.m)), axis=  0)\n",
    "        #violations_j = np.any( V_j[None,:] <  self.get_V_ij(U_i + tol_ε ,np.arange(self.m)), axis=  0)\n",
    "        # print(violations_j.sum())\n",
    "        mu_ij_01[:,violations_j] = 0\n",
    "\n",
    "        print(f\"dropped: {violations_j.sum()}\")\n",
    "        # violations_i = np.any( U_i[:,None]+ tol_ε <  self.get_U_ij(V_j,np.arange(self.n)), axis=  1)\n",
    "        # print(violations_i.sum())\n",
    "        # mu_ij_01[violations_i,:] = 0\n",
    "\n",
    "      \n",
    "    else:\n",
    "        violations_i = np.any( U_i[:,None] + tol_ε <  self.get_U_ij(V_j  ,np.arange(self.n)), axis=  1)\n",
    "   \n",
    "        mu_ij_01[violations_i,:] = 0\n",
    "\n",
    "        print(f\"dropped: {violations_i.sum()}\")\n",
    "        # violations_i = np.any( U_i[:,None]+ tol_ε <  self.get_U_ij(V_j,np.arange(self.n)), axis=  1)\n",
    "        # print(violations_i.sum())\n",
    "        # mu_ij_01[violations_i,:] = 0\n",
    "\n",
    "    return mu_ij_01, U_i,V_j\n",
    "OneToOneITU.drop_for_scaling = drop_for_scaling"
   ]
  },
  {
   "cell_type": "code",
   "execution_count": 40,
   "metadata": {},
   "outputs": [],
   "source": [
    "# n_i = 34\n",
    "# m_j  = 30\n",
    "# example_mkt = OneToOneITU( n_i,m_j)\n",
    "# example_mkt.generate_example(2,2, random_seed = 19387)"
   ]
  },
  {
   "cell_type": "code",
   "execution_count": 41,
   "metadata": {},
   "outputs": [],
   "source": [
    "# tol_ε = 5\n",
    "# mu_ij_01, u_i, v_j = example_mkt.forward_auction(tol_ε= tol_ε)\n",
    "# print(np.min(u_i[:,None] -  example_mkt.get_U_ij(v_j,np.arange(example_mkt.n))))"
   ]
  },
  {
   "cell_type": "code",
   "execution_count": null,
   "metadata": {},
   "outputs": [],
   "source": []
  },
  {
   "cell_type": "code",
   "execution_count": 42,
   "metadata": {},
   "outputs": [],
   "source": [
    "# tol_ε = tol_ε /2\n",
    "# mu_ij_01, u_i, v_j  = example_mkt.drop_for_scaling(mu_ij_01, u_i, v_j ,tol_ε)\n",
    "# mu_ij_01, u_i, v_j =  example_mkt.reverse_auction((mu_ij_01, u_i),tol_ε= tol_ε)\n",
    "# print(np.min(v_j[None,:] - example_mkt.get_V_ij(u_i + tol_ε, np.arange(example_mkt.m))))"
   ]
  },
  {
   "cell_type": "code",
   "execution_count": 43,
   "metadata": {},
   "outputs": [],
   "source": [
    "# mu_ij_01, u_i, v_j = example_mkt.forward_auction((mu_ij_01, v_j),tol_ε =tol_ε)\n",
    "# print(mu_ij_01, u_i, v_j = example_mkt.forward_auction((mu_ij_01, v_j),tol_ε =tol_ε))"
   ]
  },
  {
   "cell_type": "code",
   "execution_count": 44,
   "metadata": {},
   "outputs": [],
   "source": [
    "# example_mkt.check_all((mu_ij_01, u_i, v_j))"
   ]
  },
  {
   "cell_type": "code",
   "execution_count": null,
   "metadata": {},
   "outputs": [],
   "source": []
  },
  {
   "cell_type": "code",
   "execution_count": null,
   "metadata": {},
   "outputs": [],
   "source": []
  },
  {
   "cell_type": "code",
   "execution_count": null,
   "metadata": {},
   "outputs": [],
   "source": []
  },
  {
   "cell_type": "code",
   "execution_count": null,
   "metadata": {},
   "outputs": [],
   "source": []
  },
  {
   "cell_type": "code",
   "execution_count": 45,
   "metadata": {},
   "outputs": [],
   "source": [
    "def forward_backward_scaling(self, tol_ε ,tol_ε_obj, scaling_factor):\n",
    "    mu_ij_01, u_i, v_j = self.forward_auction((np.zeros([self.n ,self.m]), np.ones(self.m) *10),tol_ε = tol_ε)\n",
    "\n",
    "    while tol_ε > tol_ε_obj:\n",
    "        tol_ε *=  scaling_factor\n",
    "        # print(\"####\")\n",
    "        # print( tol_ε)\n",
    "        mu_ij_01, u_i, v_j = self.drop_for_scaling(mu_ij_01, u_i, v_j , tol_ε)\n",
    "        mu_ij_01, u_i, v_j = self.reverse_auction((mu_ij_01, u_i), tol_ε= tol_ε)\n",
    "        # tol_ε *=  scaling_factor\n",
    "        mu_ij_01, u_i, v_j = self.drop_for_scaling(mu_ij_01, u_i, v_j , tol_ε, side = 0)\n",
    "        mu_ij_01, u_i, v_j = self.forward_auction((mu_ij_01, v_j ), tol_ε = tol_ε)\n",
    "        self.check_CS(u_i,v_j)\n",
    "        if np.all(self.check_CS(u_i,v_j,True)[0]>= - tol_ε_obj):\n",
    "            return mu_ij_01, u_i, v_j\n",
    "\n",
    "    return mu_ij_01, u_i, v_j\n",
    "OneToOneITU.forward_backward_scaling =forward_backward_scaling  "
   ]
  },
  {
   "cell_type": "code",
   "execution_count": 46,
   "metadata": {},
   "outputs": [
    {
     "name": "stdout",
     "output_type": "stream",
     "text": [
      "30\n"
     ]
    }
   ],
   "source": [
    "n_i =  1200\n",
    "m_j  = 1100\n",
    "example_mkt = OneToOneITU( n_i,m_j, lbs=(1,3))\n",
    "example_mkt.generate_example(2,2, random_seed = 13099887)"
   ]
  },
  {
   "cell_type": "code",
   "execution_count": 47,
   "metadata": {},
   "outputs": [
    {
     "data": {
      "text/plain": [
       "3.3009999999999997"
      ]
     },
     "execution_count": 47,
     "metadata": {},
     "output_type": "execute_result"
    }
   ],
   "source": [
    "example_mkt.A_ij.max()"
   ]
  },
  {
   "cell_type": "code",
   "execution_count": 48,
   "metadata": {},
   "outputs": [
    {
     "name": "stdout",
     "output_type": "stream",
     "text": [
      "for: 1083\n"
     ]
    }
   ],
   "source": [
    "eq_noscaling = mu_ij_01_noscaling, u_i_noscaling, v_j_noscaling = example_mkt.forward_auction(tol_ε= 1)"
   ]
  },
  {
   "cell_type": "markdown",
   "metadata": {},
   "source": [
    "1.34"
   ]
  },
  {
   "cell_type": "code",
   "execution_count": 49,
   "metadata": {},
   "outputs": [
    {
     "name": "stdout",
     "output_type": "stream",
     "text": [
      "FEAS\n",
      "i: True, j:  True\n",
      "#matched: 1062 over 1100\n",
      "________________\n",
      "ε-CS\n",
      "min_ij D_ij : -0.9082652134423251 \n",
      "________________\n",
      "IR\n",
      "i: 0.0, j:  0.0\n"
     ]
    }
   ],
   "source": [
    "example_mkt.check_all(eq_noscaling)"
   ]
  },
  {
   "cell_type": "code",
   "execution_count": 50,
   "metadata": {},
   "outputs": [
    {
     "name": "stdout",
     "output_type": "stream",
     "text": [
      "for: 286\n",
      "dropped: 939\n",
      "rev: 176\n",
      "dropped: 20\n",
      "for: 190\n",
      "min_ij D_ij : -2.270663033605813 \n",
      "dropped: 909\n",
      "rev: 408\n",
      "dropped: 0\n",
      "for: 640\n",
      "min_ij D_ij : -0.5676657584014533 \n",
      "dropped: 875\n",
      "rev: 829\n",
      "dropped: 6\n",
      "for: 614\n",
      "min_ij D_ij : -0.14191643960036332 \n",
      "dropped: 851\n",
      "rev: 891\n",
      "dropped: 4\n",
      "for: 445\n",
      "min_ij D_ij : -0.03547910990009083 \n",
      "dropped: 848\n",
      "rev: 926\n",
      "dropped: 5\n",
      "for: 1237\n",
      "min_ij D_ij : -0.008869777475022707 \n",
      "dropped: 830\n",
      "rev: 457\n",
      "dropped: 4\n",
      "for: 2108\n",
      "min_ij D_ij : -0.002217444368755677 \n",
      "dropped: 828\n",
      "rev: 877\n",
      "dropped: 7\n",
      "for: 2465\n",
      "min_ij D_ij : -0.0005543610921889192 \n",
      "dropped: 837\n",
      "rev: 784\n",
      "dropped: 3\n",
      "for: 2446\n",
      "min_ij D_ij : -0.0001385902730472298 \n",
      "dropped: 838\n",
      "rev: 1113\n",
      "dropped: 4\n",
      "for: 4898\n",
      "min_ij D_ij : -3.464756826180745e-05 \n",
      "dropped: 843\n",
      "rev: 4165\n",
      "dropped: 7\n",
      "for: 2862\n",
      "min_ij D_ij : -8.661892065451863e-06 \n",
      "dropped: 829\n",
      "rev: 616\n",
      "dropped: 3\n",
      "for: 2382\n",
      "min_ij D_ij : -2.1654729905485156e-06 \n",
      "dropped: 831\n",
      "rev: 597\n",
      "dropped: 3\n",
      "for: 3735\n",
      "min_ij D_ij : -5.413682540907414e-07 \n",
      "dropped: 802\n",
      "rev: 1135\n",
      "dropped: 3\n",
      "for: 1108\n",
      "min_ij D_ij : -1.3534206352268536e-07 \n",
      "dropped: 842\n",
      "rev: 526\n",
      "dropped: 5\n",
      "for: 1668\n",
      "min_ij D_ij : -3.383551588067134e-08 \n",
      "dropped: 840\n",
      "rev: 968\n",
      "dropped: 3\n",
      "for: 1588\n",
      "min_ij D_ij : -8.458878970167835e-09 \n",
      "dropped: 821\n",
      "rev: 846\n",
      "dropped: 6\n",
      "for: 2803\n",
      "min_ij D_ij : -1.9573677626754485e-09 \n",
      "dropped: 819\n",
      "rev: 681\n",
      "dropped: 3\n",
      "for: 2777\n",
      "min_ij D_ij : -5.286799356354897e-10 \n",
      "dropped: 821\n",
      "rev: 1595\n",
      "dropped: 8\n",
      "for: 2547\n",
      "min_ij D_ij : -1.3216998390887242e-10 \n",
      "dropped: 824\n",
      "rev: 498\n",
      "dropped: 7\n",
      "for: 1718\n",
      "min_ij D_ij : -3.176468070309912e-11 \n",
      "dropped: 827\n",
      "rev: 604\n",
      "dropped: 1\n",
      "for: 2160\n",
      "min_ij D_ij : -8.260623994304526e-12 \n",
      "dropped: 811\n",
      "rev: 1161\n",
      "dropped: 6\n",
      "for: 2353\n",
      "min_ij D_ij : -2.0651559985761315e-12 \n",
      "dropped: 810\n",
      "rev: 843\n",
      "dropped: 0\n",
      "for: 4055\n",
      "min_ij D_ij : -5.162889996440329e-13 \n"
     ]
    }
   ],
   "source": [
    "mu_ij_01_scaling, u_i_scaling, v_j_scaling = example_mkt.forward_backward_scaling(10,1e-12, 1/4)"
   ]
  },
  {
   "cell_type": "code",
   "execution_count": 51,
   "metadata": {},
   "outputs": [
    {
     "name": "stdout",
     "output_type": "stream",
     "text": [
      "FEAS\n",
      "i: True, j:  True\n",
      "#matched: 1068 over 1100\n",
      "________________\n",
      "ε-CS\n",
      "min_ij D_ij : -5.162889996440329e-13 \n",
      "________________\n",
      "IR\n",
      "i: 0.0, j:  0.0\n"
     ]
    }
   ],
   "source": [
    "example_mkt.check_all((mu_ij_01_scaling, u_i_scaling, v_j_scaling))"
   ]
  },
  {
   "cell_type": "code",
   "execution_count": 52,
   "metadata": {},
   "outputs": [],
   "source": [
    "# u_i_scaling.sum()+ v_j_scaling.sum()"
   ]
  },
  {
   "cell_type": "code",
   "execution_count": 53,
   "metadata": {},
   "outputs": [],
   "source": [
    "n_i =  2000\n",
    "m_j  = 2200\n",
    "np.random.seed(123)\n",
    "A_ = np.random.choice([.25,.5,1,2,4], size= [n_i,m_j])\n",
    "B_ = np.random.randint(1,20, size= [ n_i,1]) * np.random.randint(1,20, size= [ 1,m_j])#np.random.choice([200, 300], size=(n_i, m_j), p=[.9,.1 ]) * 100#np.random.randint(n_i/2,n_i,size = [n_i,m_j]) # np.random.choice([0,1], size= [n_i,m_j])*10000\n",
    "example_mkt_2 = OneToOneITU(  n_i,m_j,parameters=(A_,B_))"
   ]
  },
  {
   "cell_type": "code",
   "execution_count": 54,
   "metadata": {},
   "outputs": [
    {
     "data": {
      "text/plain": [
       "361"
      ]
     },
     "execution_count": 54,
     "metadata": {},
     "output_type": "execute_result"
    }
   ],
   "source": [
    "B_.max()"
   ]
  },
  {
   "cell_type": "code",
   "execution_count": 55,
   "metadata": {},
   "outputs": [],
   "source": [
    "# mu_ij_01_noscaling2, u_i_noscaling2, v_j_noscaling2 = example_mkt_2.forward_auction(tol_ε= .1)\n",
    "# example_mkt_2.check_all((mu_ij_01_noscaling2, u_i_noscaling2, v_j_noscaling2))"
   ]
  },
  {
   "cell_type": "code",
   "execution_count": 56,
   "metadata": {},
   "outputs": [
    {
     "name": "stdout",
     "output_type": "stream",
     "text": [
      "for: 47\n",
      "dropped: 2044\n",
      "rev: 198\n",
      "dropped: 0\n",
      "for: 1\n",
      "min_ij D_ij : -13.333333333333337 \n",
      "dropped: 1623\n",
      "rev: 65\n",
      "dropped: 354\n",
      "for: 112\n",
      "min_ij D_ij : -17.777777777777782 \n",
      "dropped: 1998\n",
      "rev: 554\n",
      "dropped: 228\n",
      "for: 130\n",
      "min_ij D_ij : -5.925925925925958 \n",
      "dropped: 1932\n",
      "rev: 1642\n",
      "dropped: 0\n",
      "for: 297\n",
      "min_ij D_ij : -1.9753086419753345 \n",
      "dropped: 1703\n",
      "rev: 4325\n",
      "dropped: 0\n",
      "for: 545\n",
      "min_ij D_ij : -0.6584362139917858 \n",
      "dropped: 1545\n",
      "rev: 4024\n",
      "dropped: 0\n",
      "for: 0\n",
      "min_ij D_ij : -0.054869684499317374 \n",
      "dropped: 1413\n",
      "rev: 805\n",
      "dropped: 0\n",
      "for: 472\n",
      "min_ij D_ij : -0.07315957933242316 \n",
      "dropped: 1509\n",
      "rev: 5036\n",
      "dropped: 19\n",
      "for: 277\n",
      "min_ij D_ij : -0.024386526444141056 \n",
      "dropped: 1735\n",
      "rev: 1558\n",
      "dropped: 0\n",
      "for: 584\n",
      "min_ij D_ij : -0.008128842148062176 \n",
      "dropped: 1602\n",
      "rev: 4162\n",
      "dropped: 0\n",
      "for: 2586\n",
      "min_ij D_ij : -0.002709614049354059 \n",
      "dropped: 1706\n",
      "rev: 5327\n",
      "dropped: 0\n",
      "for: 1047\n",
      "min_ij D_ij : -0.0009032046831180196 \n",
      "dropped: 1697\n",
      "rev: 4346\n",
      "dropped: 66\n",
      "for: 533\n",
      "min_ij D_ij : -0.000301068227736323 \n",
      "dropped: 1597\n",
      "rev: 7365\n",
      "dropped: 0\n",
      "for: 0\n",
      "min_ij D_ij : -2.508901898181648e-05 \n",
      "dropped: 1380\n",
      "rev: 1109\n",
      "dropped: 0\n",
      "for: 929\n",
      "min_ij D_ij : -3.345202530908864e-05 \n",
      "dropped: 1518\n",
      "rev: 1139\n",
      "dropped: 0\n",
      "for: 0\n",
      "min_ij D_ij : -2.7876687909156317e-06 \n",
      "dropped: 1284\n",
      "rev: 557\n",
      "dropped: 0\n",
      "for: 902\n",
      "min_ij D_ij : -3.716891706062597e-06 \n",
      "dropped: 1574\n",
      "rev: 5787\n",
      "dropped: 0\n",
      "for: 0\n",
      "min_ij D_ij : -3.0974097526836885e-07 \n",
      "dropped: 1659\n",
      "rev: 226\n",
      "dropped: 0\n",
      "for: 630\n",
      "min_ij D_ij : -4.129879926040303e-07 \n",
      "dropped: 1631\n",
      "rev: 6327\n",
      "dropped: 0\n",
      "for: 0\n",
      "min_ij D_ij : -3.441566605033586e-08 \n",
      "dropped: 1509\n",
      "rev: 262\n",
      "dropped: 0\n",
      "for: 500\n",
      "min_ij D_ij : -4.5887554733781145e-08 \n",
      "dropped: 1483\n",
      "rev: 3830\n",
      "dropped: 0\n",
      "for: 0\n",
      "min_ij D_ij : -3.823970473604277e-09 \n",
      "dropped: 1400\n",
      "rev: 165\n",
      "dropped: 0\n",
      "for: 574\n",
      "min_ij D_ij : -5.098627298139036e-09 \n",
      "dropped: 1686\n",
      "rev: 9261\n",
      "dropped: 0\n",
      "for: 0\n",
      "min_ij D_ij : -4.2491592466831206e-10 \n",
      "dropped: 1273\n",
      "rev: 109\n",
      "dropped: 0\n",
      "for: 1355\n",
      "min_ij D_ij : -5.66524249734357e-10 \n",
      "dropped: 1621\n",
      "rev: 7918\n",
      "dropped: 23\n",
      "for: 798\n",
      "min_ij D_ij : -1.8885657482314855e-10 \n",
      "dropped: 1641\n",
      "rev: 6178\n",
      "dropped: 0\n",
      "for: 1226\n",
      "min_ij D_ij : -6.29484020464588e-11 \n",
      "dropped: 1484\n",
      "rev: 3969\n",
      "dropped: 72\n",
      "for: 802\n",
      "min_ij D_ij : -2.1009327610954644e-11 \n",
      "dropped: 1560\n",
      "rev: 7548\n",
      "dropped: 97\n",
      "for: 786\n",
      "min_ij D_ij : -7.0031092036515476e-12 \n"
     ]
    }
   ],
   "source": [
    "mu_ij_01_scaling, u_i_scaling, v_j_scaling = example_mkt_2.forward_backward_scaling(200,1e-11, 1/3)"
   ]
  },
  {
   "cell_type": "code",
   "execution_count": 57,
   "metadata": {},
   "outputs": [
    {
     "name": "stdout",
     "output_type": "stream",
     "text": [
      "FEAS\n",
      "i: True, j:  True\n",
      "#matched: 2000 over 2000\n",
      "________________\n",
      "ε-CS\n",
      "min_ij D_ij : -7.0031092036515476e-12 \n",
      "________________\n",
      "IR\n",
      "i: 0.0, j:  1.0187406473960436e-11\n"
     ]
    }
   ],
   "source": [
    "example_mkt_2.check_all((mu_ij_01_scaling, u_i_scaling, v_j_scaling))"
   ]
  },
  {
   "cell_type": "code",
   "execution_count": 58,
   "metadata": {},
   "outputs": [
    {
     "data": {
      "text/plain": [
       "-8.753886504564434e-12"
      ]
     },
     "execution_count": 58,
     "metadata": {},
     "output_type": "execute_result"
    }
   ],
   "source": [
    "np.min(u_i_scaling[:,None] - example_mkt_2.get_U_ij(v_j_scaling, np.arange(n_i)))"
   ]
  },
  {
   "cell_type": "code",
   "execution_count": 59,
   "metadata": {},
   "outputs": [
    {
     "data": {
      "text/plain": [
       "-3.501554601825774e-11"
      ]
     },
     "execution_count": 59,
     "metadata": {},
     "output_type": "execute_result"
    }
   ],
   "source": [
    "np.min(v_j_scaling[None,:] - example_mkt_2.get_V_ij(u_i_scaling, np.arange(m_j)))"
   ]
  },
  {
   "cell_type": "code",
   "execution_count": 60,
   "metadata": {},
   "outputs": [
    {
     "data": {
      "text/plain": [
       "True"
      ]
     },
     "execution_count": 60,
     "metadata": {},
     "output_type": "execute_result"
    }
   ],
   "source": [
    "np.all(mu_ij_01_scaling.sum(1) <=1)"
   ]
  },
  {
   "cell_type": "code",
   "execution_count": 61,
   "metadata": {},
   "outputs": [
    {
     "data": {
      "text/plain": [
       "0.0"
      ]
     },
     "execution_count": 61,
     "metadata": {},
     "output_type": "execute_result"
    }
   ],
   "source": [
    "np.sum((u_i_scaling - example_mkt_2.lb_U ) * (mu_ij_01_scaling.sum(1) - 1))"
   ]
  },
  {
   "cell_type": "code",
   "execution_count": 62,
   "metadata": {},
   "outputs": [
    {
     "data": {
      "text/plain": [
       "-1.0187406473960436e-11"
      ]
     },
     "execution_count": 62,
     "metadata": {},
     "output_type": "execute_result"
    }
   ],
   "source": [
    "np.sum((v_j_scaling - example_mkt_2.lb_V ) * (mu_ij_01_scaling.sum(0) - 1))"
   ]
  },
  {
   "cell_type": "code",
   "execution_count": 66,
   "metadata": {},
   "outputs": [
    {
     "data": {
      "text/plain": [
       "1e+20"
      ]
     },
     "execution_count": 66,
     "metadata": {},
     "output_type": "execute_result"
    }
   ],
   "source": [
    "1e20"
   ]
  },
  {
   "cell_type": "code",
   "execution_count": 73,
   "metadata": {},
   "outputs": [
    {
     "data": {
      "text/plain": [
       "1000000.0"
      ]
     },
     "execution_count": 73,
     "metadata": {},
     "output_type": "execute_result"
    }
   ],
   "source": [
    "1e6"
   ]
  },
  {
   "cell_type": "code",
   "execution_count": 74,
   "metadata": {},
   "outputs": [],
   "source": [
    "a= 0\n",
    "for i in range(int(1e8)):\n",
    "    a += 1"
   ]
  },
  {
   "cell_type": "markdown",
   "metadata": {},
   "source": [
    "To do:\n",
    "* try nasty example with B binary times a constant\n",
    "* try to scale also i forward auction\n",
    "* try convex taxes"
   ]
  },
  {
   "cell_type": "markdown",
   "metadata": {},
   "source": [
    "Next steps:\n",
    "* $ij$-specific scaling\n",
    "* max iter in the backward iteration\n",
    "* (IMPORTANT) now all you are computing V_ij for all i and j in backward"
   ]
  }
 ],
 "metadata": {
  "kernelspec": {
   "display_name": "Python 3",
   "language": "python",
   "name": "python3"
  },
  "language_info": {
   "codemirror_mode": {
    "name": "ipython",
    "version": 3
   },
   "file_extension": ".py",
   "mimetype": "text/x-python",
   "name": "python",
   "nbconvert_exporter": "python",
   "pygments_lexer": "ipython3",
   "version": "3.12.0"
  }
 },
 "nbformat": 4,
 "nbformat_minor": 2
}
