{
 "cells": [
  {
   "cell_type": "code",
   "execution_count": 85,
   "metadata": {},
   "outputs": [],
   "source": [
    "import gurobipy as grb\n",
    "from gurobipy import GRB\n",
    "import scipy.sparse as spr\n",
    "import numpy as np\n",
    "import random\n",
    "import matplotlib.pyplot as plt\n",
    "#from sympy import symbols, Rational\n",
    "from IPython.display import display, Math, Markdown\n",
    "import numpy.ma as ma\n",
    "import scipy as sp"
   ]
  },
  {
   "cell_type": "code",
   "execution_count": 86,
   "metadata": {},
   "outputs": [],
   "source": [
    "class OneToOneITU():\n",
    "    def __init__(self, n, m, parameters = (None,None) , lbs=(0, 0)):\n",
    "        self.n = n\n",
    "        self.m = m\n",
    "        self.lb_U, self.lb_V = lbs\n",
    "     \n",
    "       \n",
    "        self.A_ij = parameters[0]\n",
    "        self.B_ij = parameters[1]\n",
    "        \n",
    "        self.max_A_j = np.max(parameters[0],0)\n",
    "\n",
    "    def D_ij(self, U_i, V_j):\n",
    "        return (U_i[:, None] + self.A_ij * V_j[None, :] - self.B_ij)/(1+ self.A_ij)\n",
    "\n",
    "    def get_U_ij(self, V_j, i_idx ,j_idx = None):\n",
    "        if j_idx is None:\n",
    "            return self.B_ij[i_idx] - self.A_ij[i_idx] * V_j[None, :]\n",
    "        else:\n",
    "            return self.B_ij[i_idx,j_idx] - self.A_ij[i_idx,j_idx] * V_j[None, :]\n",
    "\n",
    "    def get_V_ij(self, U_i, j_idx ,i_idx = None):\n",
    "        if i_idx is None:\n",
    "            return (self.B_ij[:,j_idx] -  U_i[:,None])/ self.A_ij[:,j_idx]\n",
    "        else:\n",
    "            return (self.B_ij[i_idx,j_idx] -  U_i)/ self.A_ij[i_idx,j_idx]"
   ]
  },
  {
   "cell_type": "code",
   "execution_count": 87,
   "metadata": {},
   "outputs": [],
   "source": [
    "def generate_example(self, var_i, var_j, random_seed):\n",
    "    np.random.seed(random_seed)\n",
    "    k = 2\n",
    "\n",
    "    θ_true = np.array([.2,-.2, 1,2])\n",
    "\n",
    "    X_i = np.random.normal([5,var_i],[5,var_i], size = [self.n, k]).round(0)\n",
    "    Y_j = np.random.normal([5,var_j],[5,var_j], size = [self.m, k]).round(0)\n",
    "    #X_ijk = np.random.choice(10, size = (self.n_i,m_j, k))\n",
    "\n",
    "    A = np.exp( np.abs((X_i[:,None,:]- Y_j[None,:,:]))@  θ_true[:k])\n",
    "    B = np.abs((X_i[:,None,:]- Y_j[None,:,:])) @ θ_true[k:2*k] \n",
    "    print(len(np.unique(X_i)))\n",
    "    self.A_ij = A\n",
    "    self.B_ij = B\n",
    "    self.max_A_j = np.max(A, axis= 0)\n",
    "\n",
    "OneToOneITU.generate_example = generate_example"
   ]
  },
  {
   "cell_type": "code",
   "execution_count": 88,
   "metadata": {},
   "outputs": [],
   "source": [
    "# def transpose_mkt(self):\n",
    "#     n, m = self.n, self.m\n",
    "#     self.m = n\n",
    "#     self.n = m\n",
    "\n",
    "#     self.A_ij = 1 / self.A_ij.T\n",
    "#     self.B_ij = self.B_ij.T/ self.A_ij\n",
    "\n",
    "# OneToOneITU.transpose_mkt = transpose_mkt"
   ]
  },
  {
   "cell_type": "code",
   "execution_count": 89,
   "metadata": {},
   "outputs": [],
   "source": [
    "def check_primal_feas(self, mu_ij):\n",
    "    print(f\"i: { np.all(np.sum(mu_ij,axis=1) <= 1)}, j:  {np.all(np.sum(mu_ij,axis=0) <= 1) }\")\n",
    "    print(f\"#matched: {int(np.sum(mu_ij))} over {np.minimum(self.n,self.m)}\")\n",
    "\n",
    "OneToOneITU.check_primal_feas = check_primal_feas\n",
    "\n",
    "def check_IR(self,mu_ij,U_i,V_j, output = False):\n",
    "    IR_i = np.sum((U_i - self.lb_U)* (1- np.sum(mu_ij,axis=1)))\n",
    "    IR_j = np.sum((V_j - self.lb_V) * (1 - np.sum(mu_ij,axis=0))) \n",
    "    print(f\"i: { IR_i}, j:  {IR_j }\")\n",
    "    if output is True:\n",
    "        IR_i = (U_i - self.lb_U)* (np.sum(mu_ij,axis=1) - 1) >= 0 \n",
    "        IR_j = (V_j - self.lb_V) * (np.sum(mu_ij,axis=0) - 1) >= 0\n",
    "        return IR_i, IR_j\n",
    "    \n",
    "OneToOneITU.check_IR = check_IR\n",
    "\n",
    "def check_CS(self,U_i,V_j, output = None):\n",
    "    CS = np.minimum(self.D_ij(U_i,V_j),0)\n",
    "    if output:\n",
    "        return CS, np.where(CS < 0 )\n",
    "    print(f\"min_ij D_ij : {(self.D_ij(U_i,V_j)).min()} \")\n",
    "    \n",
    "OneToOneITU.check_CS = check_CS \n",
    "\n",
    "def check_all(self,eq):\n",
    "    mu_ij, U_i, V_j = eq \n",
    "    print(\"FEAS\")\n",
    "    self.check_primal_feas(mu_ij)\n",
    "    print(\"________________\")\n",
    "    print(\"ε-CS\")\n",
    "    self.check_CS(U_i, V_j )\n",
    "    print(\"________________\")\n",
    "    print(\"IR\")\n",
    "    self.check_IR(mu_ij, U_i, V_j )\n",
    "\n",
    "OneToOneITU.check_all = check_all"
   ]
  },
  {
   "cell_type": "markdown",
   "metadata": {},
   "source": [
    "# Auction algorithms"
   ]
  },
  {
   "cell_type": "markdown",
   "metadata": {},
   "source": [
    "### Forward Auction"
   ]
  },
  {
   "cell_type": "code",
   "execution_count": 90,
   "metadata": {
    "slideshow": {
     "slide_type": "notes"
    }
   },
   "outputs": [],
   "source": [
    "def forward_auction(self, data = None, tol_ε = None):\n",
    "    if data is None:\n",
    "        V_j = np.ones(self.m) * self.lb_V\n",
    "        mu_i = np.ones( self.n, dtype= int) * (self.m +1)\n",
    "    else:\n",
    "        mu_ij_01 = data[0]\n",
    "        V_j = data[1]\n",
    "        id_i, id_j = np.where(mu_ij_01 > 0)\n",
    "        mu_i = np.ones(self.n, dtype= int) * (self.m+1)\n",
    "        mu_i[id_i] = id_j\n",
    "\n",
    "    unassigned_i = np.where(mu_i == self.m + 1)[0] \n",
    "    n_unassigned_i = len(unassigned_i)\n",
    "    iter = 0\n",
    "\n",
    "    while n_unassigned_i > 0:\n",
    "        iter += 1\n",
    "        U_ij = self.get_U_ij( V_j, unassigned_i)\n",
    "        perm_unmatched = np.all(U_ij <= self.lb_U, axis = 1)\n",
    "        \n",
    "        if np.any(perm_unmatched):\n",
    "            mu_i[unassigned_i] += (self.m - mu_i[unassigned_i]) * perm_unmatched\n",
    "        \n",
    "        else:\n",
    "            ### bidding phase\n",
    "            U_ij = np.concatenate((U_ij, self.lb_U * np.ones((n_unassigned_i,1))), axis = 1)\n",
    "            j_i = np.argmax(U_ij, axis= 1)\n",
    "            masked_U_ij = np.where(j_i[:,None] == np.arange(self.m+1)[None, :], -np.inf,U_ij)\n",
    "            w_i = np.max(masked_U_ij, axis=1)\n",
    "            j_i_unique = np.unique(j_i)\n",
    "            offers = np.where(j_i[:,None] == j_i_unique[None,:], \n",
    "                              self.get_V_ij(w_i[:,None],j_i_unique[None,:],unassigned_i[:,None]), \n",
    "                              np.nan)\n",
    "       \n",
    "            ### assignment phase\n",
    "            i_j_among_unass = np.nanargmax(offers, axis = 0)\n",
    "            i_j = unassigned_i[ i_j_among_unass]\n",
    "            best_offer_j = offers[i_j_among_unass, np.arange(len(j_i_unique))]\n",
    "\n",
    "            # modify solution\n",
    "            mu_i[  np.any( mu_i[:,None] == j_i_unique , axis = 1) ] = self.m +1\n",
    "            mu_i[i_j] = j_i_unique\n",
    "            \n",
    "            V_j[j_i_unique] += best_offer_j - V_j[j_i_unique] + tol_ε/self.A_ij[i_j,j_i_unique]#np.maximum(best_offer_j - V_j[j_i_unique], tol_ε/self.A_ij[i_j,j_i_unique])\n",
    "        \n",
    "        unassigned_i = np.where(mu_i == self.m + 1)[0]\n",
    "        n_unassigned_i = len(unassigned_i)\n",
    "        \n",
    "    print(f\"for: {iter}\")\n",
    "    matched_i =  mu_i < self.m\n",
    "    U_i = np.ones(self.n) * self.lb_U\n",
    "    U_i[matched_i] = self.get_U_ij(V_j, matched_i)[np.arange(matched_i.sum()), mu_i[matched_i]]\n",
    "    mu_ij_01 = mu_i[:,None] == np.arange(self.m +1)\n",
    "\n",
    "    return mu_ij_01[:,:-1], U_i, V_j\n",
    "    \n",
    "\n",
    "OneToOneITU.forward_auction = forward_auction"
   ]
  },
  {
   "cell_type": "code",
   "execution_count": 91,
   "metadata": {},
   "outputs": [],
   "source": [
    "# mu_ij_01_noscaling, u_i_noscaling, v_j_noscaling = example_mkt.forward_auction(tol_ε= 1)\n",
    "# print(np.all( u_i_noscaling[:,None]+ 1>=  example_mkt.get_U_ij(v_j_noscaling,np.arange(example_mkt.n)), axis= 1 ))\n",
    "# np.min(u_i_noscaling[:,None] -  example_mkt.get_U_ij(v_j_noscaling,np.arange(example_mkt.n)))"
   ]
  },
  {
   "cell_type": "markdown",
   "metadata": {},
   "source": [
    "#### TU"
   ]
  },
  {
   "cell_type": "code",
   "execution_count": 92,
   "metadata": {},
   "outputs": [],
   "source": [
    "# n_TU = 25\n",
    "# m_TU = 26\n",
    "# A_TU = np.ones([n_TU,m_TU])\n",
    "# B_TU = np.random.normal(40,5,[n_TU,m_TU]).round(0)\n",
    "\n",
    "# example_TU = OneToOneITU( n_TU,m_TU, (A_TU,B_TU))\n",
    "# mu_TU, u_TU, v_TU = example_TU.reverse_auction(tol_ε= 0.001)"
   ]
  },
  {
   "cell_type": "code",
   "execution_count": 93,
   "metadata": {},
   "outputs": [],
   "source": [
    "# def solve_1to1(Φ_i_j):\n",
    "#     n, m = np.shape(Φ_i_j)\n",
    "#     M_z_a = spr.bmat([[spr.kron(spr.eye(n), np.ones((1, m)))],\n",
    "#                       [spr.kron(np.ones((1, n)), spr.eye(m))]])\n",
    "  \n",
    "#     q = np.concatenate((np.ones(n), np.ones(m)))\n",
    "\n",
    "#     model = grb.Model()\n",
    "#     mu_a = model.addMVar(n * m, vtype=grb.GRB.INTEGER)\n",
    "#     model.setObjective(Φ_i_j.flatten() @ mu_a, GRB.MAXIMIZE)\n",
    "#     model.addConstr(M_z_a @ mu_a <= q)\n",
    "    \n",
    "#     model.Params.OutputFlag = 0\n",
    "#     model.optimize()\n",
    "\n",
    "#     return np.array(model.x, dtype= bool).reshape([n,m])*1\n",
    "\n",
    "# mu_gurobi = solve_1to1(B_TU)\n",
    "# print((mu_gurobi * B_TU).sum())\n",
    "# print(u_TU.sum() +v_TU.sum())\n",
    "# example_TU.check_all( (mu_TU, u_TU, v_TU ))"
   ]
  },
  {
   "cell_type": "markdown",
   "metadata": {},
   "source": [
    "### Reverse Auction"
   ]
  },
  {
   "cell_type": "code",
   "execution_count": 94,
   "metadata": {},
   "outputs": [],
   "source": [
    "def reverse_auction(self, data = None, tol_ε = None):\n",
    "    if data is None:\n",
    "        U_i = np.ones(self.n) * self.lb_U\n",
    "        mu_j = np.ones(self.m, dtype= int) * (self.n +1)\n",
    "    else:\n",
    "        mu_j_01 = data[0]\n",
    "        U_i = data[1]\n",
    "        id_i, id_j = np.where(mu_j_01 >0)\n",
    "        mu_j = np.ones(self.m, dtype= int) * (self.n+1)\n",
    "        mu_j[id_j] = id_i\n",
    "\n",
    "    unassigned_j = np.where(mu_j == self.n + 1)[0] \n",
    "    n_unassigned_j = len(unassigned_j)\n",
    "    iter = 0\n",
    "\n",
    "    while n_unassigned_j > 0:\n",
    "        iter += 1\n",
    "        V_ij = self.get_V_ij( U_i , unassigned_j)\n",
    "        perm_unmatched = np.all(V_ij <= self.lb_V, axis = 0)\n",
    "        \n",
    "        if np.any(perm_unmatched):\n",
    "            mu_j[unassigned_j] += (self.n - mu_j[unassigned_j]) * perm_unmatched\n",
    "        \n",
    "        else:\n",
    "            ### bidding phase\n",
    "            V_ij = np.concatenate((V_ij, self.lb_V * np.ones((1,n_unassigned_j))), axis = 0)\n",
    "            i_j = np.argmax(V_ij, axis= 0)\n",
    "            masked_V_ij = np.where( np.arange(self.n+1)[:, None] == i_j[None,:] , -np.inf,V_ij)\n",
    "            β_j = np.max(masked_V_ij, axis=0)\n",
    "            i_j_unique = np.unique(i_j)\n",
    "            offers = np.where(i_j_unique[:,None] == i_j[None,:], \n",
    "                              self.get_U_ij(β_j,i_j_unique[:,None] ,unassigned_j[None,:]), \n",
    "                              np.nan)\n",
    "\n",
    "            ### assignment phase\n",
    "            j_i_among_unass = np.nanargmax(offers, axis = 1)\n",
    "            j_i = unassigned_j[j_i_among_unass]\n",
    "            best_offer_i = offers[np.arange(len(i_j_unique)),j_i_among_unass]\n",
    "            # modify solution\n",
    "            mu_j[ np.any( mu_j[:,None] == i_j_unique , axis = 1) ] = self.n +1\n",
    "            mu_j[j_i] = i_j_unique\n",
    "            U_i[i_j_unique] += best_offer_i - U_i[i_j_unique] + tol_ε * self.A_ij[i_j_unique,j_i]#np.maximum(best_offer_i - U_i[i_j_unique], tol_ε * self.A_ij[i_j_unique,j_i] )#/ self.max_A_j[j_i] )\n",
    "                                        \n",
    "        unassigned_j = np.where(mu_j == self.n + 1)[0]\n",
    "        n_unassigned_j = len(unassigned_j)\n",
    "        \n",
    "    print(f\"rev: {iter}\") \n",
    "    matched_j =  mu_j < self.n\n",
    "    V_j = np.ones(self.m) * self.lb_V\n",
    "    V_j[mu_j < self.n] = self.get_V_ij(U_i, matched_j )[mu_j[matched_j],np.arange(matched_j.sum()) ]\n",
    "    mu_j_01 = np.arange(self.n +1)[:,None] == mu_j[None,:]\n",
    "\n",
    "    return mu_j_01[:-1,:], U_i, V_j\n",
    "    \n",
    "\n",
    "OneToOneITU.reverse_auction = reverse_auction"
   ]
  },
  {
   "cell_type": "code",
   "execution_count": null,
   "metadata": {},
   "outputs": [],
   "source": []
  },
  {
   "cell_type": "code",
   "execution_count": 95,
   "metadata": {},
   "outputs": [],
   "source": [
    "# n_i = 40\n",
    "# m_j  = 30\n",
    "# example_mkt = OneToOneITU( n_i,m_j)\n",
    "# example_mkt.generate_example(2,2, random_seed = 1387)"
   ]
  },
  {
   "cell_type": "code",
   "execution_count": 96,
   "metadata": {},
   "outputs": [],
   "source": [
    "# mu_ij_01_noscaling, u_i_noscaling, v_j_noscaling = example_mkt.reverse_auction(tol_ε= 1)\n",
    "# print(np.min(v_j_noscaling[None,:] - example_mkt.get_V_ij(u_i_noscaling + 1, np.arange(example_mkt.m))))\n",
    "# example_mkt.check_all( (mu_ij_01_noscaling, u_i_noscaling, v_j_noscaling ))"
   ]
  },
  {
   "cell_type": "markdown",
   "metadata": {},
   "source": [
    "### Forward-backward auction"
   ]
  },
  {
   "cell_type": "code",
   "execution_count": 97,
   "metadata": {},
   "outputs": [],
   "source": [
    "def drop_for_scaling(self, mu_ij_01, U_i,V_j, tol_ε, side = 1):\n",
    "    if side == 1:\n",
    "        violations_j = np.any( V_j[None,:] + tol_ε <  self.get_V_ij(U_i  ,np.arange(self.m)), axis=  0)\n",
    "        #violations_j = np.any( V_j[None,:] <  self.get_V_ij(U_i + tol_ε ,np.arange(self.m)), axis=  0)\n",
    "        # print(violations_j.sum())\n",
    "        mu_ij_01[:,violations_j] = 0\n",
    "\n",
    "        print(f\"dropped: {violations_j.sum()}\")\n",
    "        # violations_i = np.any( U_i[:,None]+ tol_ε <  self.get_U_ij(V_j,np.arange(self.n)), axis=  1)\n",
    "        # print(violations_i.sum())\n",
    "        # mu_ij_01[violations_i,:] = 0\n",
    "\n",
    "      \n",
    "    else:\n",
    "        violations_i = np.any( U_i[:,None] + tol_ε <  self.get_U_ij(V_j  ,np.arange(self.n)), axis=  1)\n",
    "   \n",
    "        mu_ij_01[violations_i,:] = 0\n",
    "\n",
    "        print(f\"dropped: {violations_i.sum()}\")\n",
    "        # violations_i = np.any( U_i[:,None]+ tol_ε <  self.get_U_ij(V_j,np.arange(self.n)), axis=  1)\n",
    "        # print(violations_i.sum())\n",
    "        # mu_ij_01[violations_i,:] = 0\n",
    "\n",
    "    return mu_ij_01, U_i,V_j\n",
    "OneToOneITU.drop_for_scaling = drop_for_scaling"
   ]
  },
  {
   "cell_type": "code",
   "execution_count": 98,
   "metadata": {},
   "outputs": [],
   "source": [
    "# n_i = 34\n",
    "# m_j  = 30\n",
    "# example_mkt = OneToOneITU( n_i,m_j)\n",
    "# example_mkt.generate_example(2,2, random_seed = 19387)"
   ]
  },
  {
   "cell_type": "code",
   "execution_count": 99,
   "metadata": {},
   "outputs": [],
   "source": [
    "# tol_ε = 5\n",
    "# mu_ij_01, u_i, v_j = example_mkt.forward_auction(tol_ε= tol_ε)\n",
    "# print(np.min(u_i[:,None] -  example_mkt.get_U_ij(v_j,np.arange(example_mkt.n))))"
   ]
  },
  {
   "cell_type": "code",
   "execution_count": null,
   "metadata": {},
   "outputs": [],
   "source": []
  },
  {
   "cell_type": "code",
   "execution_count": 100,
   "metadata": {},
   "outputs": [],
   "source": [
    "# tol_ε = tol_ε /2\n",
    "# mu_ij_01, u_i, v_j  = example_mkt.drop_for_scaling(mu_ij_01, u_i, v_j ,tol_ε)\n",
    "# mu_ij_01, u_i, v_j =  example_mkt.reverse_auction((mu_ij_01, u_i),tol_ε= tol_ε)\n",
    "# print(np.min(v_j[None,:] - example_mkt.get_V_ij(u_i + tol_ε, np.arange(example_mkt.m))))"
   ]
  },
  {
   "cell_type": "code",
   "execution_count": 101,
   "metadata": {},
   "outputs": [],
   "source": [
    "# mu_ij_01, u_i, v_j = example_mkt.forward_auction((mu_ij_01, v_j),tol_ε =tol_ε)\n",
    "# print(mu_ij_01, u_i, v_j = example_mkt.forward_auction((mu_ij_01, v_j),tol_ε =tol_ε))"
   ]
  },
  {
   "cell_type": "code",
   "execution_count": 102,
   "metadata": {},
   "outputs": [],
   "source": [
    "# example_mkt.check_all((mu_ij_01, u_i, v_j))"
   ]
  },
  {
   "cell_type": "code",
   "execution_count": null,
   "metadata": {},
   "outputs": [],
   "source": []
  },
  {
   "cell_type": "code",
   "execution_count": null,
   "metadata": {},
   "outputs": [],
   "source": []
  },
  {
   "cell_type": "code",
   "execution_count": null,
   "metadata": {},
   "outputs": [],
   "source": []
  },
  {
   "cell_type": "code",
   "execution_count": null,
   "metadata": {},
   "outputs": [],
   "source": []
  },
  {
   "cell_type": "code",
   "execution_count": 103,
   "metadata": {},
   "outputs": [],
   "source": [
    "def forward_backward_scaling(self, tol_ε ,tol_ε_obj, scaling_factor):\n",
    "    mu_ij_01, u_i, v_j = self.forward_auction(tol_ε = tol_ε)\n",
    "\n",
    "    while tol_ε > tol_ε_obj:\n",
    "        tol_ε *=  scaling_factor\n",
    "        # print(\"####\")\n",
    "        # print( tol_ε)\n",
    "        mu_ij_01, u_i, v_j = self.drop_for_scaling(mu_ij_01, u_i, v_j , tol_ε)\n",
    "        mu_ij_01, u_i, v_j = self.reverse_auction((mu_ij_01, u_i), tol_ε= tol_ε)\n",
    "        # tol_ε *=  scaling_factor\n",
    "        # mu_ij_01, u_i, v_j = self.drop_for_scaling(mu_ij_01, u_i, v_j , tol_ε, side = 0)\n",
    "        mu_ij_01, u_i, v_j = self.forward_auction((mu_ij_01, v_j ), tol_ε = tol_ε)\n",
    "\n",
    "        if np.all(self.check_CS(u_i,v_j,True)[0]>= - tol_ε_obj):\n",
    "            return mu_ij_01, u_i, v_j\n",
    "\n",
    "    return mu_ij_01, u_i, v_j\n",
    "OneToOneITU.forward_backward_scaling =forward_backward_scaling  "
   ]
  },
  {
   "cell_type": "code",
   "execution_count": 118,
   "metadata": {},
   "outputs": [
    {
     "name": "stdout",
     "output_type": "stream",
     "text": [
      "31\n"
     ]
    }
   ],
   "source": [
    "n_i =  1000\n",
    "m_j  = 1010\n",
    "example_mkt = OneToOneITU( n_i,m_j)\n",
    "example_mkt.generate_example(5,5, random_seed = 13099887)"
   ]
  },
  {
   "cell_type": "code",
   "execution_count": 119,
   "metadata": {},
   "outputs": [
    {
     "data": {
      "text/plain": [
       "17.08238415841584"
      ]
     },
     "execution_count": 119,
     "metadata": {},
     "output_type": "execute_result"
    }
   ],
   "source": [
    "example_mkt.B_ij.mean()"
   ]
  },
  {
   "cell_type": "code",
   "execution_count": 120,
   "metadata": {},
   "outputs": [],
   "source": [
    "# mu_ij_01_noscaling, u_i_noscaling, v_j_noscaling = example_mkt.forward_auction(tol_ε= 1)"
   ]
  },
  {
   "cell_type": "code",
   "execution_count": 121,
   "metadata": {},
   "outputs": [
    {
     "name": "stdout",
     "output_type": "stream",
     "text": [
      "for: 271\n",
      "dropped: 876\n",
      "rev: 450\n",
      "for: 0\n",
      "dropped: 720\n",
      "rev: 173\n",
      "for: 230\n",
      "dropped: 593\n",
      "rev: 911\n",
      "for: 0\n",
      "dropped: 530\n",
      "rev: 357\n",
      "for: 419\n",
      "dropped: 497\n",
      "rev: 775\n",
      "for: 1872\n",
      "dropped: 424\n",
      "rev: 734\n",
      "for: 832\n",
      "dropped: 411\n",
      "rev: 1148\n",
      "for: 1492\n",
      "dropped: 428\n",
      "rev: 739\n",
      "for: 1618\n",
      "dropped: 431\n",
      "rev: 1892\n",
      "for: 0\n",
      "dropped: 483\n",
      "rev: 3866\n",
      "for: 3709\n",
      "dropped: 422\n",
      "rev: 2844\n",
      "for: 1694\n",
      "dropped: 434\n",
      "rev: 1426\n",
      "for: 2393\n",
      "dropped: 404\n",
      "rev: 3315\n",
      "for: 2295\n",
      "dropped: 397\n",
      "rev: 4302\n",
      "for: 1593\n",
      "dropped: 437\n",
      "rev: 643\n",
      "for: 2086\n",
      "dropped: 393\n",
      "rev: 1283\n",
      "for: 3557\n",
      "dropped: 411\n",
      "rev: 3690\n",
      "for: 0\n",
      "dropped: 506\n",
      "rev: 6264\n",
      "for: 6743\n",
      "dropped: 413\n",
      "rev: 2023\n",
      "for: 3616\n",
      "dropped: 423\n",
      "rev: 1881\n",
      "for: 3800\n",
      "dropped: 413\n",
      "rev: 4119\n",
      "for: 2304\n",
      "dropped: 425\n",
      "rev: 2593\n",
      "for: 3615\n",
      "dropped: 431\n",
      "rev: 3020\n",
      "for: 2508\n",
      "dropped: 433\n",
      "rev: 1275\n",
      "for: 3657\n",
      "dropped: 422\n",
      "rev: 2564\n",
      "for: 1974\n",
      "dropped: 425\n",
      "rev: 1955\n",
      "for: 3288\n",
      "dropped: 401\n",
      "rev: 1309\n",
      "for: 1686\n",
      "dropped: 386\n",
      "rev: 2692\n",
      "for: 3783\n",
      "dropped: 403\n",
      "rev: 2644\n",
      "for: 3884\n",
      "dropped: 378\n",
      "rev: 923\n",
      "for: 2194\n",
      "dropped: 397\n",
      "rev: 1639\n",
      "for: 3157\n",
      "dropped: 406\n",
      "rev: 956\n",
      "for: 2172\n",
      "dropped: 424\n",
      "rev: 2061\n",
      "for: 2473\n",
      "dropped: 425\n",
      "rev: 2108\n",
      "for: 4178\n",
      "dropped: 372\n",
      "rev: 1669\n",
      "for: 3876\n",
      "dropped: 418\n",
      "rev: 1588\n",
      "for: 3589\n",
      "dropped: 432\n",
      "rev: 1632\n",
      "for: 1926\n",
      "dropped: 400\n",
      "rev: 2086\n",
      "for: 1571\n",
      "dropped: 441\n",
      "rev: 1144\n",
      "for: 1934\n",
      "dropped: 428\n",
      "rev: 2082\n",
      "for: 2645\n"
     ]
    }
   ],
   "source": [
    "mu_ij_01_scaling, u_i_scaling, v_j_scaling = example_mkt.forward_backward_scaling(10,1e-11, 1/2)"
   ]
  },
  {
   "cell_type": "code",
   "execution_count": 122,
   "metadata": {},
   "outputs": [
    {
     "name": "stdout",
     "output_type": "stream",
     "text": [
      "FEAS\n",
      "i: True, j:  True\n",
      "#matched: 1000 over 1000\n",
      "________________\n",
      "ε-CS\n",
      "min_ij D_ij : -9.004435907018848e-12 \n",
      "________________\n",
      "IR\n",
      "i: 0.0, j:  0.0\n"
     ]
    }
   ],
   "source": [
    "example_mkt.check_all((mu_ij_01_scaling, u_i_scaling, v_j_scaling))"
   ]
  },
  {
   "cell_type": "code",
   "execution_count": null,
   "metadata": {},
   "outputs": [],
   "source": []
  },
  {
   "cell_type": "code",
   "execution_count": 109,
   "metadata": {},
   "outputs": [],
   "source": [
    "# n_i =  1000\n",
    "# m_j  = 1020\n",
    "\n",
    "# A_ = np.random.choice([.25,.5,1,2,4], size= [n_i,m_j])\n",
    "# B_ = np.ones([n_i,m_j])*100000# np.random.choice([0,1], size= [n_i,m_j])*10000\n",
    "# example_mkt_2 = OneToOneITU(  n_i,m_j,parameters=(A_,B_))"
   ]
  },
  {
   "cell_type": "code",
   "execution_count": null,
   "metadata": {},
   "outputs": [],
   "source": []
  },
  {
   "cell_type": "code",
   "execution_count": 110,
   "metadata": {},
   "outputs": [],
   "source": [
    "# mu_ij_01_noscaling2, u_i_noscaling2, v_j_noscaling2 = example_mkt_2.forward_auction(tol_ε= 1e-9)"
   ]
  },
  {
   "cell_type": "code",
   "execution_count": 111,
   "metadata": {},
   "outputs": [],
   "source": [
    "# mu_ij_01_scaling, u_i_scaling, v_j_scaling = example_mkt_2.forward_backward_scaling(1,1e-9, 1/2)"
   ]
  },
  {
   "cell_type": "code",
   "execution_count": 112,
   "metadata": {},
   "outputs": [],
   "source": [
    "# example_mkt_2.check_all((mu_ij_01_scaling, u_i_scaling, v_j_scaling))"
   ]
  },
  {
   "cell_type": "code",
   "execution_count": null,
   "metadata": {},
   "outputs": [],
   "source": []
  },
  {
   "cell_type": "code",
   "execution_count": null,
   "metadata": {},
   "outputs": [],
   "source": []
  },
  {
   "cell_type": "code",
   "execution_count": null,
   "metadata": {},
   "outputs": [],
   "source": []
  },
  {
   "cell_type": "code",
   "execution_count": null,
   "metadata": {},
   "outputs": [],
   "source": []
  },
  {
   "cell_type": "markdown",
   "metadata": {},
   "source": [
    "To do:\n",
    "* try nasty example with B binary times a constant\n",
    "* try to scale also i forward auction\n",
    "* try convex taxes"
   ]
  },
  {
   "cell_type": "markdown",
   "metadata": {},
   "source": [
    "Next steps:\n",
    "* $ij$-specific scaling\n",
    "* max iter in the backward iteration\n",
    "* (IMPORTANT) now all you are computing V_ij for all i and j in backward"
   ]
  }
 ],
 "metadata": {
  "kernelspec": {
   "display_name": "Python 3",
   "language": "python",
   "name": "python3"
  },
  "language_info": {
   "codemirror_mode": {
    "name": "ipython",
    "version": 3
   },
   "file_extension": ".py",
   "mimetype": "text/x-python",
   "name": "python",
   "nbconvert_exporter": "python",
   "pygments_lexer": "ipython3",
   "version": "3.12.0"
  }
 },
 "nbformat": 4,
 "nbformat_minor": 2
}
